{
  "nbformat": 4,
  "nbformat_minor": 0,
  "metadata": {
    "colab": {
      "name": "Project_DIP_HandGestures.ipynb",
      "provenance": [],
      "collapsed_sections": []
    },
    "kernelspec": {
      "name": "python3",
      "display_name": "Python 3"
    },
    "language_info": {
      "name": "python"
    }
  },
  "cells": [
    {
      "cell_type": "markdown",
      "source": [
        "# Import"
      ],
      "metadata": {
        "id": "PswuVGofSiil"
      }
    },
    {
      "cell_type": "code",
      "source": [
        "!pip install ipython-autotime\n",
        "\n",
        "%load_ext autotime"
      ],
      "metadata": {
        "colab": {
          "base_uri": "https://localhost:8080/"
        },
        "id": "_DQ8xt1c-LuW",
        "outputId": "6622ecd0-80e3-46d3-bef8-1103afd3950d"
      },
      "execution_count": 1,
      "outputs": [
        {
          "output_type": "stream",
          "name": "stdout",
          "text": [
            "Looking in indexes: https://pypi.org/simple, https://us-python.pkg.dev/colab-wheels/public/simple/\n",
            "Requirement already satisfied: ipython-autotime in /usr/local/lib/python3.7/dist-packages (0.3.1)\n",
            "Requirement already satisfied: ipython in /usr/local/lib/python3.7/dist-packages (from ipython-autotime) (5.5.0)\n",
            "Requirement already satisfied: pickleshare in /usr/local/lib/python3.7/dist-packages (from ipython->ipython-autotime) (0.7.5)\n",
            "Requirement already satisfied: pexpect in /usr/local/lib/python3.7/dist-packages (from ipython->ipython-autotime) (4.8.0)\n",
            "Requirement already satisfied: setuptools>=18.5 in /usr/local/lib/python3.7/dist-packages (from ipython->ipython-autotime) (57.4.0)\n",
            "Requirement already satisfied: pygments in /usr/local/lib/python3.7/dist-packages (from ipython->ipython-autotime) (2.6.1)\n",
            "Requirement already satisfied: traitlets>=4.2 in /usr/local/lib/python3.7/dist-packages (from ipython->ipython-autotime) (5.1.1)\n",
            "Requirement already satisfied: decorator in /usr/local/lib/python3.7/dist-packages (from ipython->ipython-autotime) (4.4.2)\n",
            "Requirement already satisfied: prompt-toolkit<2.0.0,>=1.0.4 in /usr/local/lib/python3.7/dist-packages (from ipython->ipython-autotime) (1.0.18)\n",
            "Requirement already satisfied: simplegeneric>0.8 in /usr/local/lib/python3.7/dist-packages (from ipython->ipython-autotime) (0.8.1)\n",
            "Requirement already satisfied: wcwidth in /usr/local/lib/python3.7/dist-packages (from prompt-toolkit<2.0.0,>=1.0.4->ipython->ipython-autotime) (0.2.5)\n",
            "Requirement already satisfied: six>=1.9.0 in /usr/local/lib/python3.7/dist-packages (from prompt-toolkit<2.0.0,>=1.0.4->ipython->ipython-autotime) (1.15.0)\n",
            "Requirement already satisfied: ptyprocess>=0.5 in /usr/local/lib/python3.7/dist-packages (from pexpect->ipython->ipython-autotime) (0.7.0)\n",
            "time: 2.73 ms (started: 2022-06-27 15:20:13 +00:00)\n"
          ]
        }
      ]
    },
    {
      "cell_type": "code",
      "execution_count": 2,
      "metadata": {
        "id": "VOezWCxAHRVU",
        "colab": {
          "base_uri": "https://localhost:8080/"
        },
        "outputId": "f710190f-3eb5-4d34-d49e-7f1d3dd752fe"
      },
      "outputs": [
        {
          "output_type": "stream",
          "name": "stdout",
          "text": [
            "time: 702 ms (started: 2022-06-27 15:20:13 +00:00)\n"
          ]
        }
      ],
      "source": [
        "import numpy as np\n",
        "import cv2\n",
        "import matplotlib.pyplot as plt\n",
        "from pathlib import Path\n",
        "from sklearn.model_selection import train_test_split\n",
        "import pandas as pd\n",
        "import os\n",
        "from sklearn.metrics import confusion_matrix\n",
        "from sklearn.model_selection import cross_val_score\n",
        "from sklearn import tree\n",
        "from sklearn import svm"
      ]
    },
    {
      "cell_type": "markdown",
      "source": [
        "# Assets"
      ],
      "metadata": {
        "id": "nqOlMlQMSnQu"
      }
    },
    {
      "cell_type": "code",
      "source": [
        "from google.colab import drive\n",
        "drive.mount('/content/drive')"
      ],
      "metadata": {
        "colab": {
          "base_uri": "https://localhost:8080/"
        },
        "id": "aK-sCO0URNkT",
        "outputId": "dc03c77b-c03b-4da3-de74-1b15d599cf45"
      },
      "execution_count": 3,
      "outputs": [
        {
          "output_type": "stream",
          "name": "stdout",
          "text": [
            "Drive already mounted at /content/drive; to attempt to forcibly remount, call drive.mount(\"/content/drive\", force_remount=True).\n",
            "time: 2.63 s (started: 2022-06-27 15:20:14 +00:00)\n"
          ]
        }
      ]
    },
    {
      "cell_type": "code",
      "source": [
        "cd drive/MyDrive/Project_DIP/DatasetHandGestures"
      ],
      "metadata": {
        "colab": {
          "base_uri": "https://localhost:8080/"
        },
        "id": "2niOGGNjJFZ9",
        "outputId": "fde60bab-c1d9-4913-8344-e3fd3ecf0bf0"
      },
      "execution_count": 4,
      "outputs": [
        {
          "output_type": "stream",
          "name": "stdout",
          "text": [
            "/content/drive/MyDrive/Project_DIP/DatasetHandGestures\n",
            "time: 6.48 ms (started: 2022-06-27 15:20:17 +00:00)\n"
          ]
        }
      ]
    },
    {
      "cell_type": "code",
      "source": [
        "directories = os.listdir()\n",
        "filename = []\n",
        "label = []\n",
        "\n",
        "for i in range(0, len(directories)):\n",
        "  os.chdir(directories[i])\n",
        "  files = os.listdir()\n",
        "  for j in range(0, len(files)):\n",
        "    files[j] = directories[i] + '/' + files[j]\n",
        "    label.append(directories[i])\n",
        "  filename = filename + files\n",
        "  os.chdir(\"..\")\n",
        "print(filename)\n",
        "print(label)"
      ],
      "metadata": {
        "colab": {
          "base_uri": "https://localhost:8080/"
        },
        "id": "cUWuIMrUL9kR",
        "outputId": "0f0677d4-23ef-4e8f-abc6-518ea706c0a2"
      },
      "execution_count": 5,
      "outputs": [
        {
          "output_type": "stream",
          "name": "stdout",
          "text": [
            "['fingerCircle/IMG_20220509_140146.jpg', 'fingerCircle/IMG_20220524_140238.jpg', 'fingerCircle/IMG_20220502_143126.jpg', 'fingerCircle/IMG_20220522_175642.jpg', 'fingerCircle/IMG_20220501_160145.jpg', 'fingerCircle/IMG_20220509_135208.jpg', 'fingerCircle/IMG_20220523_115141.jpg', 'fingerCircle/IMG_20220501_163424.jpg', 'fingerCircle/IMG_20220509_134730.jpg', 'fingerCircle/IMG_20220522_175651.jpg', 'fingerCircle/IMG_20220522_175636.jpg', 'fingerCircle/IMG_20220501_163426.jpg', 'fingerCircle/IMG_20220523_115100.jpg', 'fingerCircle/IMG_20220502_142521.jpg', 'fingerCircle/IMG_20220521_105729.jpg', 'fingerCircle/IMG_20220501_163349.jpg', 'fingerCircle/IMG_20220522_175632.jpg', 'fingerCircle/IMG_20220430_181207.jpg', 'fingerCircle/IMG_20220521_105740.jpg', 'fingerCircle/IMG_20220521_105744.jpg', 'fingerCircle/IMG_20220521_104356.jpg', 'fingerCircle/IMG_20220509_134218.jpg', 'fingerCircle/IMG_20220501_152356.jpg', 'fingerCircle/IMG_20220509_135154.jpg', 'fingerCircle/IMG_20220523_115046.jpg', 'fingerCircle/IMG_20220502_143136.jpg', 'fingerCircle/IMG_20220523_115137.jpg', 'fingerCircle/IMG_20220521_104439.jpg', 'fingerCircle/IMG_20220523_115109.jpg', 'fingerCircle/IMG_20220502_143131.jpg', 'fingerCircle/IMG_20220524_140245.jpg', 'fingerCircle/IMG_20220509_140140.jpg', 'fingerCircle/IMG_20220509_134739.jpg', 'fingerCircle/IMG_20220521_105746.jpg', 'fingerCircle/IMG_20220430_181224.jpg', 'fingerCircle/IMG_20220509_140138.jpg', 'fingerCircle/IMG_20220430_181217.jpg', 'fingerCircle/IMG_20220502_142530.jpg', 'fingerCircle/IMG_20220502_143223.jpg', 'fingerCircle/IMG_20220501_160136.jpg', 'fingerCircle/IMG_20220430_183735.jpg', 'fingerCircle/IMG_20220509_140118.jpg', 'fingerCircle/IMG_20220502_124907.jpg', 'fingerCircle/IMG_20220430_183730.jpg', 'fingerCircle/IMG_20220430_183643.jpg', 'fingerCircle/IMG_20220501_163346.jpg', 'fingerCircle/IMG_20220502_143221.jpg', 'fingerCircle/IMG_20220509_134210.jpg', 'fingerCircle/IMG_20220502_142608.jpg', 'fingerCircle/IMG_20220523_115135.jpg', 'fingerCircle/IMG_20220430_181334.jpg', 'fingerCircle/IMG_20220521_105735.jpg', 'fingerCircle/IMG_20220509_135230.jpg', 'fingerCircle/IMG_20220502_142606.jpg', 'fingerCircle/IMG_20220430_181135.jpg', 'fingerCircle/IMG_20220501_152400.jpg', 'fingerCircle/IMG_20220509_134750.jpg', 'fingerCircle/IMG_20220523_115114.jpg', 'fingerCircle/IMG_20220502_143233.jpg', 'fingerCircle/IMG_20220430_183637.jpg', 'fingerCircle/IMG_20220509_135210.jpg', 'fingerCircle/IMG_20220430_183717.jpg', 'fingerCircle/IMG_20220501_163422.jpg', 'fingerCircle/IMG_20220523_115129.jpg', 'fingerCircle/IMG_20220522_180718.jpg', 'fingerCircle/IMG_20220501_160155.jpg', 'fingerCircle/IMG_20220501_160130.jpg', 'fingerCircle/IMG_20220509_134223.jpg', 'fingerCircle/IMG_20220502_143118.jpg', 'fingerCircle/IMG_20220430_183640.jpg', 'fingerCircle/IMG_20220430_181234.jpg', 'fingerCircle/IMG_20220522_180719.jpg', 'fingerCircle/IMG_20220509_135224.jpg', 'fingerCircle/IMG_20220502_124838_01.jpg', 'fingerCircle/IMG_20220502_124858.jpg', 'fingerCircle/IMG_20220501_163408.jpg', 'fingerCircle/IMG_20220502_124917.jpg', 'fingerCircle/IMG_20220430_183641.jpg', 'fingerCircle/IMG_20220523_115054.jpg', 'fingerCircle/IMG_20220509_134217.jpg', 'fingerCircle/IMG_20220521_104350.jpg', 'fingerCircle/IMG_20220524_141329.jpg', 'fingerCircle/IMG_20220521_105751.jpg', 'fingerCircle/IMG_20220430_183728.jpg', 'fingerCircle/IMG_20220509_140152.jpg', 'fingerCircle/IMG_20220524_140209.jpg', 'fingerCircle/IMG_20220509_135212.jpg', 'fingerCircle/IMG_20220430_181333.jpg', 'fingerCircle/IMG_20220502_143115.jpg', 'fingerCircle/IMG_20220523_115158.jpg', 'fingerCircle/IMG_20220522_180742.jpg', 'fingerCircle/IMG_20220523_115105.jpg', 'fingerCircle/IMG_20220509_140106.jpg', 'fingerCircle/IMG_20220523_115051.jpg', 'fingerCircle/IMG_20220502_143229.jpg', 'fingerCircle/IMG_20220523_115146.jpg', 'fingerCircle/IMG_20220521_104415.jpg', 'fingerCircle/IMG_20220502_124913.jpg', 'fingerCircle/IMG_20220524_140204.jpg', 'fingerCircle/IMG_20220430_181300.jpg', 'fingerCircle/IMG_20220502_143215.jpg', 'fingerCircle/IMG_20220522_180740.jpg', 'fingerCircle/IMG_20220523_115144.jpg', 'fingerCircle/IMG_20220509_140113.jpg', 'fingerCircle/IMG_20220430_183732.jpg', 'fingerCircle/IMG_20220509_134220.jpg', 'fingerCircle/IMG_20220521_104347.jpg', 'fingerCircle/IMG_20220521_104436.jpg', 'fingerCircle/IMG_20220521_104339.jpg', 'fingerCircle/IMG_20220430_181341.jpg', 'fingerCircle/IMG_20220522_175657.jpg', 'fingerCircle/IMG_20220509_135222.jpg', 'fingerCircle/IMG_20220522_180725.jpg', 'fingerCircle/IMG_20220502_142601.jpg', 'fingerCircle/IMG_20220521_104425.jpg', 'fingerCircle/IMG_20220509_134735.jpg', 'fingerCircle/IMG_20220509_134743.jpg', 'fingerCircle/IMG_20220509_135157.jpg', 'fingerCircle/IMG_20220502_142523.jpg', 'fingerCircle/IMG_20220509_134733.jpg', 'fingerCircle/IMG_20220523_115107.jpg', 'fingerCircle/IMG_20220521_104422.jpg', 'fingerCircle/IMG_20220509_135130.jpg', 'fingerCircle/IMG_20220521_105727.jpg', 'fingerCircle/IMG_20220524_141328.jpg', 'fingerCircle/IMG_20220509_140048.jpg', 'fingerCircle/IMG_20220501_160151.jpg', 'fingerCircle/IMG_20220521_104428.jpg', 'fingerCircle/IMG_20220502_143227.jpg', 'fingerCircle/IMG_20220509_134732.jpg', 'fingerCircle/IMG_20220521_105749.jpg', 'fingerCircle/IMG_20220509_134744.jpg', 'fingerCircle/IMG_20220521_104430.jpg', 'fingerCircle/IMG_20220509_134206.jpg', 'fingerCircle/IMG_20220430_183719.jpg', 'fingerCircle/IMG_20220509_135134.jpg', 'fingerCircle/IMG_20220502_124920.jpg', 'fingerCircle/IMG_20220430_183653.jpg', 'fingerCircle/IMG_20220502_142540.jpg', 'fingerCircle/IMG_20220522_180721.jpg', 'fingerCircle/IMG_20220509_140115.jpg', 'fingerCircle/IMG_20220524_141327.jpg', 'fingerCircle/IMG_20220502_124846.jpg', 'fingerCircle/IMG_20220509_140150.jpg', 'fingerCircle/IMG_20220524_141311.jpg', 'fingerCircle/IMG_20220509_135125.jpg', 'fingerCircle/IMG_20220509_134227.jpg', 'fingerCircle/IMG_20220524_140239.jpg', 'fingerCircle/IMG_20220501_163341.jpg', 'fingerCircle/IMG_20220502_124843.jpg', 'fingerCircle/IMG_20220524_140229.jpg', 'fingerCircle/IMG_20220522_175656.jpg', 'fingerCircle/IMG_20220509_135137.jpg', 'fingerCircle/IMG_20220522_180738.jpg', 'fingerCircle/IMG_20220430_181302.jpg', 'fingerCircle/IMG_20220522_175659.jpg', 'fingerCircle/IMG_20220509_135216.jpg', 'fingerCircle/IMG_20220509_140100.jpg', 'fingerCircle/IMG_20220521_104401.jpg', 'fingerCircle/IMG_20220430_183721.jpg', 'fingerCircle/IMG_20220430_181315.jpg', 'fingerCircle/IMG_20220523_115131.jpg', 'fingerCircle/IMG_20220501_152354.jpg', 'fingerCircle/IMG_20220509_135128.jpg', 'fingerCircle/IMG_20220509_135151.jpg', 'fingerCircle/IMG_20220430_181331.jpg', 'fingerCircle/IMG_20220523_115111.jpg', 'fingerCircle/IMG_20220509_140058.jpg', 'fingerCircle/IMG_20220502_124902.jpg', 'fingerCircle/IMG_20220502_142533.jpg', 'fingerCircle/IMG_20220501_163351.jpg', 'fingerCircle/IMG_20220522_180716.jpg', 'fingerCircle/IMG_20220524_141309.jpg', 'fingerCircle/IMG_20220509_140156.jpg', 'fingerCircle/IMG_20220522_175627.jpg', 'fingerCircle/IMG_20220501_152345.jpg', 'fingerCircle/IMG_20220509_134205.jpg', 'fingerCircle/IMG_20220524_141312.jpg', 'fingerCircle/IMG_20220501_152350.jpg', 'fingerCircle/IMG_20220509_135210_01.jpg', 'fingerCircle/IMG_20220521_104353.jpg', 'fingerCircle/IMG_20220502_143139.jpg', 'fingerCircle/IMG_20220502_143231.jpg', 'fingerCircle/IMG_20220509_134215.jpg', 'fingerCircle/IMG_20220509_134203.jpg', 'fingerCircle/IMG_20220509_135220.jpg', 'fingerCircle/IMG_20220524_141331.jpg', 'fingerCircle/IMG_20220509_135141.jpg', 'fingerCircle/IMG_20220502_124849.jpg', 'fingerCircle/IMG_20220524_140242.jpg', 'fingerCircle/IMG_20220430_181327.jpg', 'fingerCircle/IMG_20220522_180741.jpg', 'fingerCircle/IMG_20220502_143142.jpg', 'fingerCircle/IMG_20220502_143141.jpg', 'fingerCircle/IMG_20220524_140241.jpg', 'fingerCircle/IMG_20220522_175634.jpg', 'fingerCircle/IMG_20220502_143122.jpg', 'fingerCircle/IMG_20220523_115153.jpg', 'fingerCircle/IMG_20220523_115150.jpg', 'fingerCircle/IMG_20220521_104419.jpg', 'fingerCircle/IMG_20220509_134745.jpg', 'fingerCircle/IMG_20220501_163412.jpg', 'fingerCircle/IMG_20220523_115142.jpg', 'fingerCircle/IMG_20220509_140116.jpg', 'fingerCircle/IMG_20220501_152354_01.jpg', 'fingerCircle/IMG_20220509_134747.jpg', 'fingerCircle/IMG_20220521_105724.jpg', 'fingerCircle/IMG_20220509_140143.jpg', 'fingerCircle/IMG_20220521_105753.jpg', 'fingerCircle/IMG_20220502_143216.jpg', 'fingerCircle/IMG_20220430_183723.jpg', 'fingerCircle/IMG_20220524_141313.jpg', 'fingerCircle/IMG_20220502_124838.jpg', 'fingerCircle/IMG_20220509_140056.jpg', 'fingerCircle/IMG_20220524_140219.jpg', 'fingerCircle/IMG_20220524_141315.jpg', 'fingerCircle/IMG_20220502_143138.jpg', 'fingerCircle/IMG_20220524_141333.jpg', 'fingerCircle/IMG_20220509_135149.jpg', 'fingerCircle/IMG_20220523_115056.jpg', 'fingerCircle/IMG_20220509_140142.jpg', 'fingerCircle/IMG_20220430_181203.jpg', 'fingerCircle/IMG_20220509_140153.jpg', 'fingerCircle/IMG_20220502_143213.jpg', 'fingerCircle/IMG_20220430_181205.jpg', 'fingerCircle/IMG_20220509_135207.jpg', 'fingerCircle/IMG_20220502_143218.jpg', 'fingerCircle/IMG_20220430_181242.jpg', 'fingerCircle/IMG_20220524_140206.jpg', 'fingerCircle/IMG_20220509_134158.jpg', 'fingerCircle/IMG_20220523_115133.jpg', 'fingerCircle/IMG_20220501_163419.jpg', 'fingerCircle/IMG_20220502_142604.jpg', 'semiOpenFist/IMG_20220521_104048.jpg', 'semiOpenFist/IMG_20220509_132858.jpg', 'semiOpenFist/IMG_20220502_135302.jpg', 'semiOpenFist/IMG_20220522_175458.jpg', 'semiOpenFist/IMG_20220430_183219.jpg', 'semiOpenFist/IMG_20220522_175418.jpg', 'semiOpenFist/IMG_20220524_141203.jpg', 'semiOpenFist/IMG_20220524_141118.jpg', 'semiOpenFist/IMG_20220522_165558.jpg', 'semiOpenFist/IMG_20220501_163154.jpg', 'semiOpenFist/IMG_20220502_140208.jpg', 'semiOpenFist/IMG_20220502_135418.jpg', 'semiOpenFist/IMG_20220521_104026.jpg', 'semiOpenFist/IMG_20220522_141728.jpg', 'semiOpenFist/IMG_20220502_141634.jpg', 'semiOpenFist/IMG_20220501_155630.jpg', 'semiOpenFist/IMG_20220521_105633.jpg', 'semiOpenFist/IMG_20220430_183029.jpg', 'semiOpenFist/IMG_20220522_164700.jpg', 'semiOpenFist/IMG_20220502_124636.jpg', 'semiOpenFist/IMG_20220430_180956.jpg', 'semiOpenFist/IMG_20220430_183156.jpg', 'semiOpenFist/IMG_20220521_105611.jpg', 'semiOpenFist/IMG_20220501_153640.jpg', 'semiOpenFist/IMG_20220502_140354.jpg', 'semiOpenFist/IMG_20220509_134617.jpg', 'semiOpenFist/IMG_20220509_130251.jpg', 'semiOpenFist/IMG_20220501_151856.jpg', 'semiOpenFist/IMG_20220509_132825.jpg', 'semiOpenFist/IMG_20220501_151850.jpg', 'semiOpenFist/IMG_20220502_135304.jpg', 'semiOpenFist/IMG_20220501_155220.jpg', 'semiOpenFist/IMG_20220430_180737.jpg', 'semiOpenFist/IMG_20220502_135321.jpg', 'semiOpenFist/IMG_20220501_155438.jpg', 'semiOpenFist/IMG_20220501_153845.jpg', 'semiOpenFist/IMG_20220522_141751.jpg', 'semiOpenFist/IMG_20220502_135414.jpg', 'semiOpenFist/IMG_20220501_153818.jpg', 'semiOpenFist/IMG_20220521_105640.jpg', 'semiOpenFist/IMG_20220502_141705.jpg', 'semiOpenFist/IMG_20220502_140250.jpg', 'semiOpenFist/IMG_20220502_132355.jpg', 'semiOpenFist/IMG_20220502_125723.jpg', 'semiOpenFist/IMG_20220522_142350.jpg', 'semiOpenFist/IMG_20220430_180941.jpg', 'semiOpenFist/IMG_20220502_135409.jpg', 'semiOpenFist/IMG_20220502_142350.jpg', 'semiOpenFist/IMG_20220522_164629.jpg', 'semiOpenFist/IMG_20220509_132856.jpg', 'semiOpenFist/IMG_20220430_183058.jpg', 'semiOpenFist/IMG_20220430_180901.jpg', 'semiOpenFist/IMG_20220522_142509.jpg', 'semiOpenFist/IMG_20220524_140005.jpg', 'semiOpenFist/IMG_20220524_141153.jpg', 'semiOpenFist/IMG_20220509_131945.jpg', 'semiOpenFist/IMG_20220501_151804.jpg', 'semiOpenFist/IMG_20220524_140045.jpg', 'semiOpenFist/IMG_20220522_165457.jpg', 'semiOpenFist/IMG_20220501_153849.jpg', 'semiOpenFist/IMG_20220501_153652.jpg', 'semiOpenFist/IMG_20220501_153813.jpg', 'semiOpenFist/IMG_20220502_142318.jpg', 'semiOpenFist/IMG_20220502_140152.jpg', 'semiOpenFist/IMG_20220430_180931.jpg', 'semiOpenFist/IMG_20220509_131051.jpg', 'semiOpenFist/IMG_20220522_175435.jpg', 'semiOpenFist/IMG_20220522_165539.jpg', 'semiOpenFist/IMG_20220509_134039.jpg', 'semiOpenFist/IMG_20220509_132810.jpg', 'semiOpenFist/IMG_20220521_105553.jpg', 'semiOpenFist/IMG_20220524_141206.jpg', 'semiOpenFist/IMG_20220502_142353.jpg', 'semiOpenFist/IMG_20220502_135411.jpg', 'semiOpenFist/IMG_20220522_141746.jpg', 'semiOpenFist/IMG_20220522_180615.jpg', 'semiOpenFist/IMG_20220501_151807.jpg', 'semiOpenFist/IMG_20220522_180522_01.jpg', 'semiOpenFist/IMG_20220521_105628.jpg', 'semiOpenFist/IMG_20220430_181013.jpg', 'semiOpenFist/IMG_20220522_142511.jpg', 'semiOpenFist/IMG_20220502_140158.jpg', 'semiOpenFist/IMG_20220509_134623.jpg', 'semiOpenFist/IMG_20220522_142519.jpg', 'semiOpenFist/IMG_20220501_155650.jpg', 'semiOpenFist/IMG_20220501_163224.jpg', 'semiOpenFist/IMG_20220521_105600.jpg', 'semiOpenFist/IMG_20220522_141737.jpg', 'semiOpenFist/IMG_20220502_125736.jpg', 'semiOpenFist/IMG_20220430_183408.jpg', 'semiOpenFist/IMG_20220522_180512.jpg', 'semiOpenFist/IMG_20220502_140216.jpg', 'semiOpenFist/IMG_20220521_105621.jpg', 'semiOpenFist/IMG_20220501_151715.jpg', 'semiOpenFist/IMG_20220521_104029.jpg', 'semiOpenFist/IMG_20220502_142416.jpg', 'semiOpenFist/IMG_20220509_130255.jpg', 'semiOpenFist/IMG_20220502_132357.jpg', 'semiOpenFist/IMG_20220522_165508.jpg', 'semiOpenFist/IMG_20220521_104045.jpg', 'semiOpenFist/IMG_20220502_125751.jpg', 'semiOpenFist/IMG_20220502_140224.jpg', 'semiOpenFist/IMG_20220502_124650.jpg', 'semiOpenFist/IMG_20220522_165542.jpg', 'semiOpenFist/IMG_20220509_134036.jpg', 'semiOpenFist/IMG_20220509_131943.jpg', 'semiOpenFist/IMG_20220522_165501.jpg', 'semiOpenFist/IMG_20220509_131023.jpg', 'semiOpenFist/IMG_20220501_155503.jpg', 'semiOpenFist/IMG_20220501_155625.jpg', 'semiOpenFist/IMG_20220501_151811.jpg', 'semiOpenFist/IMG_20220522_141741.jpg', 'semiOpenFist/IMG_20220521_105619.jpg', 'semiOpenFist/IMG_20220522_164714.jpg', 'semiOpenFist/IMG_20220522_164729.jpg', 'semiOpenFist/IMG_20220522_175510.jpg', 'semiOpenFist/IMG_20220524_141216.jpg', 'semiOpenFist/IMG_20220521_104126.jpg', 'semiOpenFist/IMG_20220502_140222.jpg', 'semiOpenFist/IMG_20220522_141726.jpg', 'semiOpenFist/IMG_20220502_141623.jpg', 'semiOpenFist/IMG_20220502_124611.jpg', 'semiOpenFist/IMG_20220501_151813.jpg', 'semiOpenFist/IMG_20220522_142353.jpg', 'semiOpenFist/IMG_20220509_132816.jpg', 'semiOpenFist/IMG_20220502_142418.jpg', 'semiOpenFist/IMG_20220502_141706.jpg', 'semiOpenFist/IMG_20220502_125734.jpg', 'semiOpenFist/IMG_20220521_104130.jpg', 'semiOpenFist/IMG_20220522_142345.jpg', 'semiOpenFist/IMG_20220509_134639.jpg', 'semiOpenFist/IMG_20220430_180814.jpg', 'semiOpenFist/IMG_20220509_134043.jpg', 'semiOpenFist/IMG_20220502_135410.jpg', 'semiOpenFist/IMG_20220502_125720.jpg', 'semiOpenFist/IMG_20220524_141214.jpg', 'semiOpenFist/IMG_20220524_141142.jpg', 'semiOpenFist/IMG_20220522_164641.jpg', 'semiOpenFist/IMG_20220509_130346.jpg', 'semiOpenFist/IMG_20220524_140018.jpg', 'semiOpenFist/IMG_20220502_141611.jpg', 'semiOpenFist/IMG_20220522_142355.jpg', 'semiOpenFist/IMG_20220509_134056.jpg', 'semiOpenFist/IMG_20220502_140358.jpg', 'semiOpenFist/IMG_20220522_141725.jpg', 'semiOpenFist/IMG_20220502_124640.jpg', 'semiOpenFist/IMG_20220522_141802.jpg', 'semiOpenFist/IMG_20220502_131736.jpg', 'semiOpenFist/IMG_20220524_140015.jpg', 'semiOpenFist/IMG_20220522_142516.jpg', 'semiOpenFist/IMG_20220501_151817.jpg', 'semiOpenFist/IMG_20220509_131911.jpg', 'semiOpenFist/IMG_20220501_151803.jpg', 'semiOpenFist/IMG_20220509_132851.jpg', 'semiOpenFist/IMG_20220509_134028.jpg', 'semiOpenFist/IMG_20220502_141703.jpg', 'semiOpenFist/IMG_20220502_142405.jpg', 'semiOpenFist/IMG_20220502_125749.jpg', 'semiOpenFist/IMG_20220502_132407.jpg', 'semiOpenFist/IMG_20220522_175450.jpg', 'semiOpenFist/IMG_20220522_180617.jpg', 'semiOpenFist/IMG_20220501_155432.jpg', 'semiOpenFist/IMG_20220430_183020.jpg', 'semiOpenFist/IMG_20220430_183406.jpg', 'semiOpenFist/IMG_20220501_163207.jpg', 'semiOpenFist/IMG_20220509_131848.jpg', 'semiOpenFist/IMG_20220430_183439.jpg', 'semiOpenFist/IMG_20220430_180954.jpg', 'semiOpenFist/IMG_20220502_131818.jpg', 'semiOpenFist/IMG_20220509_134609.jpg', 'semiOpenFist/IMG_20220509_131914.jpg', 'semiOpenFist/IMG_20220522_175431.jpg', 'semiOpenFist/IMG_20220509_130319.jpg', 'semiOpenFist/IMG_20220509_134037.jpg', 'semiOpenFist/IMG_20220501_151900.jpg', 'semiOpenFist/IMG_20220522_141755.jpg', 'semiOpenFist/IMG_20220522_180515.jpg', 'semiOpenFist/IMG_20220509_132837.jpg', 'semiOpenFist/IMG_20220502_140356.jpg', 'semiOpenFist/IMG_20220509_131020.jpg', 'semiOpenFist/IMG_20220509_131052.jpg', 'semiOpenFist/IMG_20220502_132335.jpg', 'semiOpenFist/IMG_20220509_131044.jpg', 'semiOpenFist/IMG_20220509_131050.jpg', 'semiOpenFist/IMG_20220501_163221.jpg', 'semiOpenFist/IMG_20220502_142321.jpg', 'semiOpenFist/IMG_20220502_135317.jpg', 'semiOpenFist/IMG_20220524_140048.jpg', 'semiOpenFist/IMG_20220522_164751.jpg', 'semiOpenFist/IMG_20220502_140240.jpg', 'semiOpenFist/IMG_20220509_134046.jpg', 'semiOpenFist/IMG_20220509_131854.jpg', 'semiOpenFist/IMG_20220502_125717.jpg', 'semiOpenFist/IMG_20220509_132840.jpg', 'semiOpenFist/IMG_20220521_104051.jpg', 'semiOpenFist/IMG_20220501_151725.jpg', 'semiOpenFist/IMG_20220502_124616.jpg', 'semiOpenFist/IMG_20220521_105617.jpg', 'semiOpenFist/IMG_20220509_134618.jpg', 'semiOpenFist/IMG_20220502_132404.jpg', 'semiOpenFist/IMG_20220509_130357.jpg', 'semiOpenFist/IMG_20220509_134624.jpg', 'semiOpenFist/IMG_20220522_141743.jpg', 'semiOpenFist/IMG_20220509_130331.jpg', 'semiOpenFist/IMG_20220501_163223.jpg', 'semiOpenFist/IMG_20220522_165540.jpg', 'semiOpenFist/IMG_20220502_135316.jpg', 'semiOpenFist/IMG_20220521_104012.jpg', 'semiOpenFist/IMG_20220509_134057.jpg', 'semiOpenFist/IMG_20220509_132842.jpg', 'semiOpenFist/IMG_20220521_104035.jpg', 'semiOpenFist/IMG_20220522_142454.jpg', 'semiOpenFist/IMG_20220430_180658.jpg', 'semiOpenFist/IMG_20220509_130345.jpg', 'semiOpenFist/IMG_20220521_104020.jpg', 'semiOpenFist/IMG_20220522_141804.jpg', 'semiOpenFist/IMG_20220522_165538.jpg', 'semiOpenFist/IMG_20220522_164732.jpg', 'semiOpenFist/IMG_20220501_163227.jpg', 'semiOpenFist/IMG_20220501_151712.jpg', 'semiOpenFist/IMG_20220501_163209.jpg', 'semiOpenFist/IMG_20220509_130317.jpg', 'semiOpenFist/IMG_20220522_180631.jpg', 'semiOpenFist/IMG_20220509_134636.jpg', 'semiOpenFist/IMG_20220502_140211.jpg', 'semiOpenFist/IMG_20220524_141122.jpg', 'semiOpenFist/IMG_20220502_125753.jpg', 'semiOpenFist/IMG_20220522_180556.jpg', 'semiOpenFist/IMG_20220522_141758.jpg', 'semiOpenFist/IMG_20220509_130300.jpg', 'semiOpenFist/IMG_20220502_142354.jpg', 'semiOpenFist/IMG_20220502_132339.jpg', 'semiOpenFist/IMG_20220502_140226.jpg', 'semiOpenFist/IMG_20220501_151640.jpg', 'semiOpenFist/IMG_20220502_140155.jpg', 'semiOpenFist/IMG_20220501_153723.jpg', 'semiOpenFist/IMG_20220501_151903.jpg', 'semiOpenFist/IMG_20220502_131736_01.jpg', 'semiOpenFist/IMG_20220522_175512.jpg', 'semiOpenFist/IMG_20220522_164731.jpg', 'semiOpenFist/IMG_20220509_130343.jpg', 'semiOpenFist/IMG_20220522_175513.jpg', 'semiOpenFist/IMG_20220502_124607.jpg', 'semiOpenFist/IMG_20220524_141204.jpg', 'semiOpenFist/IMG_20220509_134611.jpg', 'semiOpenFist/IMG_20220430_180945.jpg', 'semiOpenFist/IMG_20220502_142404.jpg', 'semiOpenFist/IMG_20220522_180522.jpg', 'semiOpenFist/IMG_20220430_183455.jpg', 'semiOpenFist/IMG_20220501_163157.jpg', 'semiOpenFist/IMG_20220524_140002.jpg', 'semiOpenFist/IMG_20220430_183245.jpg', 'semiOpenFist/IMG_20220502_141636.jpg', 'semiOpenFist/IMG_20220522_164634.jpg', 'semiOpenFist/IMG_20220509_132003.jpg', 'semiOpenFist/IMG_20220502_132358.jpg', 'semiOpenFist/IMG_20220502_140242.jpg', 'semiOpenFist/IMG_20220502_131749.jpg', 'semiOpenFist/IMG_20220522_175437.jpg', 'semiOpenFist/IMG_20220522_165524.jpg', 'semiOpenFist/IMG_20220522_141734.jpg', 'semiOpenFist/IMG_20220502_135308.jpg', 'semiOpenFist/IMG_20220522_180517.jpg', 'semiOpenFist/IMG_20220509_130348.jpg', 'semiOpenFist/IMG_20220521_104008.jpg', 'semiOpenFist/IMG_20220522_180618.jpg', 'semiOpenFist/IMG_20220501_153841.jpg', 'semiOpenFist/IMG_20220521_105602.jpg', 'semiOpenFist/IMG_20220521_104138.jpg', 'semiOpenFist/IMG_20220509_132849.jpg', 'semiOpenFist/IMG_20220509_130359.jpg', 'semiOpenFist/IMG_20220522_164705.jpg', 'semiOpenFist/IMG_20220509_134024.jpg', 'semiOpenFist/IMG_20220502_135314.jpg', 'semiOpenFist/IMG_20220524_140044.jpg', 'semiOpenFist/IMG_20220522_175453.jpg', 'semiOpenFist/IMG_20220524_141154.jpg', 'semiOpenFist/IMG_20220524_140055.jpg', 'semiOpenFist/IMG_20220509_134625.jpg', 'semiOpenFist/IMG_20220501_153809.jpg', 'semiOpenFist/IMG_20220501_155651.jpg', 'semiOpenFist/IMG_20220509_134615.jpg', 'semiOpenFist/IMG_20220509_132859.jpg', 'semiOpenFist/IMG_20220524_141115.jpg', 'semiOpenFist/IMG_20220522_175421.jpg', 'semiOpenFist/IMG_20220502_135324.jpg', 'semiOpenFist/IMG_20220522_141753.jpg', 'semiOpenFist/IMG_20220430_180746.jpg', 'semiOpenFist/IMG_20220509_131958.jpg', 'semiOpenFist/IMG_20220524_141213.jpg', 'semiOpenFist/IMG_20220430_180918.jpg', 'semiOpenFist/IMG_20220522_141806.jpg', 'semiOpenFist/IMG_20220509_131054.jpg', 'semiOpenFist/IMG_20220502_141632.jpg', 'semiOpenFist/IMG_20220430_180915.jpg', 'semiOpenFist/IMG_20220509_132001.jpg', 'semiOpenFist/IMG_20220430_180802.jpg', 'semiOpenFist/IMG_20220522_180630.jpg', 'semiOpenFist/IMG_20220524_140057.jpg', 'semiOpenFist/IMG_20220501_153847.jpg', 'semiOpenFist/IMG_20220521_105557.jpg', 'semiOpenFist/IMG_20220502_131732.jpg', 'semiOpenFist/IMG_20220522_142514.jpg', 'semiOpenFist/IMG_20220522_180632.jpg', 'semiOpenFist/IMG_20220509_130356.jpg', 'semiOpenFist/IMG_20220430_183014.jpg', 'semiOpenFist/IMG_20220502_141645.jpg', 'semiOpenFist/IMG_20220502_142415.jpg', 'semiOpenFist/IMG_20220430_180716.jpg', 'semiOpenFist/IMG_20220509_132848.jpg', 'semiOpenFist/IMG_20220502_142402.jpg', 'semiOpenFist/IMG_20220501_153811.jpg', 'semiOpenFist/IMG_20220502_141648.jpg', 'semiOpenFist/IMG_20220502_132348.jpg', 'semiOpenFist/IMG_20220502_124657.jpg', 'semiOpenFist/IMG_20220501_163212.jpg', 'semiOpenFist/IMG_20220522_180557.jpg', 'semiOpenFist/IMG_20220501_155224.jpg', 'semiOpenFist/IMG_20220522_165602.jpg', 'semiOpenFist/IMG_20220509_134055.jpg', 'semiOpenFist/IMG_20220501_155701.jpg', 'semiOpenFist/IMG_20220502_142326.jpg', 'semiOpenFist/IMG_20220522_180554.jpg', 'semiOpenFist/IMG_20220502_141646.jpg', 'semiOpenFist/IMG_20220430_183442.jpg', 'semiOpenFist/IMG_20220509_131042.jpg', 'semiOpenFist/IMG_20220502_124703.jpg', 'semiOpenFist/IMG_20220522_164748.jpg', 'semiOpenFist/IMG_20220509_134638.jpg', 'semiOpenFist/IMG_20220502_124654.jpg', 'semiOpenFist/IMG_20220509_131026.jpg', 'semiOpenFist/IMG_20220522_180523.jpg', 'semiOpenFist/IMG_20220509_134020.jpg', 'semiOpenFist/IMG_20220502_135322.jpg', 'semiOpenFist/IMG_20220502_140214.jpg', 'semiOpenFist/IMG_20220522_142455.jpg', 'semiOpenFist/IMG_20220502_131748.jpg', 'semiOpenFist/IMG_20220502_141618.jpg', 'semiOpenFist/IMG_20220521_105626.jpg', 'semiOpenFist/IMG_20220502_132406.jpg', 'semiOpenFist/IMG_20220522_175433.jpg', 'semiOpenFist/IMG_20220522_164752.jpg', 'semiOpenFist/IMG_20220501_151630.jpg', 'semiOpenFist/IMG_20220501_153713.jpg', 'semiOpenFist/IMG_20220502_131822.jpg', 'semiOpenFist/IMG_20220502_131821.jpg', 'semiOpenFist/IMG_20220522_165600.jpg', 'semiOpenFist/IMG_20220509_131948.jpg', 'semiOpenFist/IMG_20220502_124638.jpg', 'semiOpenFist/IMG_20220521_105555.jpg', 'semiOpenFist/IMG_20220509_134044.jpg', 'semiOpenFist/IMG_20220509_131043.jpg', 'semiOpenFist/IMG_20220502_125739.jpg', 'semiOpenFist/IMG_20220501_155633.jpg', 'semiOpenFist/IMG_20220522_165527.jpg', 'semiOpenFist/IMG_20220521_105630.jpg', 'semiOpenFist/IMG_20220430_180827.jpg', 'semiOpenFist/IMG_20220509_131909.jpg', 'semiOpenFist/IMG_20220430_183233.jpg', 'semiOpenFist/IMG_20220430_180848.jpg', 'semiOpenFist/IMG_20220522_165556.jpg', 'fingerSymbols/IMG_20220430_182347.jpg', 'fingerSymbols/IMG_20220522_141953.jpg', 'fingerSymbols/IMG_20220501_154254.jpg', 'fingerSymbols/IMG_20220502_135623.jpg', 'fingerSymbols/IMG_20220502_125306.jpg', 'fingerSymbols/IMG_20220430_181858.jpg', 'fingerSymbols/IMG_20220502_125255.jpg', 'fingerSymbols/IMG_20220502_125949.jpg', 'fingerSymbols/IMG_20220522_165926.jpg', 'fingerSymbols/IMG_20220522_165106.jpg', 'fingerSymbols/IMG_20220502_142016.jpg', 'fingerSymbols/IMG_20220524_141518.jpg', 'fingerSymbols/IMG_20220502_132051.jpg', 'fingerSymbols/IMG_20220501_152939.jpg', 'fingerSymbols/IMG_20220509_130729.jpg', 'fingerSymbols/IMG_20220522_181043.jpg', 'fingerSymbols/IMG_20220524_141445.jpg', 'fingerSymbols/IMG_20220521_104709.jpg', 'fingerSymbols/IMG_20220509_131312.jpg', 'fingerSymbols/IMG_20220522_141946.jpg', 'fingerSymbols/IMG_20220502_135814.jpg', 'fingerSymbols/IMG_20220522_142738.jpg', 'fingerSymbols/IMG_20220522_142033.jpg', 'fingerSymbols/IMG_20220502_132635.jpg', 'fingerSymbols/IMG_20220524_141548.jpg', 'fingerSymbols/IMG_20220522_175925.jpg', 'fingerSymbols/IMG_20220524_140503.jpg', 'fingerSymbols/IMG_20220522_175812.jpg', 'fingerSymbols/IMG_20220509_133251.jpg', 'fingerSymbols/IMG_20220524_140534.jpg', 'fingerSymbols/IMG_20220430_182010.jpg', 'fingerSymbols/IMG_20220502_132106.jpg', 'fingerSymbols/IMG_20220522_142752.jpg', 'fingerSymbols/IMG_20220509_133133.jpg', 'fingerSymbols/IMG_20220522_142804.jpg', 'fingerSymbols/IMG_20220430_184415.jpg', 'fingerSymbols/IMG_20220521_104653.jpg', 'fingerSymbols/IMG_20220430_182036.jpg', 'fingerSymbols/IMG_20220522_175836.jpg', 'fingerSymbols/IMG_20220502_142656.jpg', 'fingerSymbols/IMG_20220501_154243.jpg', 'fingerSymbols/IMG_20220502_140629.jpg', 'fingerSymbols/IMG_20220502_135759.jpg', 'fingerSymbols/IMG_20220501_154300.jpg', 'fingerSymbols/IMG_20220430_185038.jpg', 'fingerSymbols/IMG_20220430_185217.jpg', 'fingerSymbols/IMG_20220524_141612.jpg', 'fingerSymbols/IMG_20220521_110024.jpg', 'fingerSymbols/IMG_20220501_153115.jpg', 'fingerSymbols/IMG_20220502_135834.jpg', 'fingerSymbols/IMG_20220524_140602.jpg', 'fingerSymbols/IMG_20220522_175857.jpg', 'fingerSymbols/IMG_20220501_152950.jpg', 'fingerSymbols/IMG_20220502_142045.jpg', 'fingerSymbols/IMG_20220502_125929.jpg', 'fingerSymbols/IMG_20220521_104617.jpg', 'fingerSymbols/IMG_20220521_104641.jpg', 'fingerSymbols/IMG_20220502_125414.jpg', 'fingerSymbols/IMG_20220522_165859.jpg', 'fingerSymbols/IMG_20220501_152903.jpg', 'fingerSymbols/IMG_20220502_142646.jpg', 'fingerSymbols/IMG_20220430_181815.jpg', 'fingerSymbols/IMG_20220502_140648.jpg', 'fingerSymbols/IMG_20220522_165239.jpg', 'fingerSymbols/IMG_20220521_105942.jpg', 'fingerSymbols/IMG_20220502_132547.jpg', 'fingerSymbols/IMG_20220509_134439.jpg', 'fingerSymbols/IMG_20220430_185302.jpg', 'fingerSymbols/IMG_20220521_110030.jpg', 'fingerSymbols/IMG_20220509_134949.jpg', 'fingerSymbols/IMG_20220502_132044.jpg', 'fingerSymbols/IMG_20220501_154414.jpg', 'fingerSymbols/IMG_20220522_180129.jpg', 'fingerSymbols/IMG_20220502_142701.jpg', 'fingerSymbols/IMG_20220522_165749.jpg', 'fingerSymbols/IMG_20220524_140655.jpg', 'fingerSymbols/IMG_20220430_181941.jpg', 'fingerSymbols/IMG_20220430_185205.jpg', 'fingerSymbols/IMG_20220430_185329.jpg', 'fingerSymbols/IMG_20220521_104700.jpg', 'fingerSymbols/IMG_20220522_142100.jpg', 'fingerSymbols/IMG_20220522_142743.jpg', 'fingerSymbols/IMG_20220522_175903.jpg', 'fingerSymbols/IMG_20220502_142636.jpg', 'fingerSymbols/IMG_20220521_105153.jpg', 'fingerSymbols/IMG_20220430_182130.jpg', 'fingerSymbols/IMG_20220522_142058.jpg', 'fingerSymbols/IMG_20220524_140707.jpg', 'fingerSymbols/IMG_20220521_105112.jpg', 'fingerSymbols/IMG_20220430_181744.jpg', 'fingerSymbols/IMG_20220509_130832.jpg', 'fingerSymbols/IMG_20220521_105934.jpg', 'fingerSymbols/IMG_20220521_105130.jpg', 'fingerSymbols/IMG_20220502_125940.jpg', 'fingerSymbols/IMG_20220502_142823.jpg', 'fingerSymbols/IMG_20220502_140628.jpg', 'fingerSymbols/IMG_20220502_142005.jpg', 'fingerSymbols/IMG_20220522_142015.jpg', 'fingerSymbols/IMG_20220522_165025.jpg', 'fingerSymbols/IMG_20220522_142704.jpg', 'fingerSymbols/IMG_20220509_131314.jpg', 'fingerSymbols/IMG_20220521_110009.jpg', 'fingerSymbols/IMG_20220522_142142.jpg', 'fingerSymbols/IMG_20220522_180853.jpg', 'fingerSymbols/IMG_20220509_132321.jpg', 'fingerSymbols/IMG_20220524_141446.jpg', 'fingerSymbols/IMG_20220522_142813.jpg', 'fingerSymbols/IMG_20220522_165847.jpg', 'fingerSymbols/IMG_20220430_181755.jpg', 'fingerSymbols/IMG_20220521_104723.jpg', 'fingerSymbols/IMG_20220430_182017.jpg', 'fingerSymbols/IMG_20220502_142826.jpg', 'fingerSymbols/IMG_20220501_163513.jpg', 'fingerSymbols/IMG_20220502_135614.jpg', 'fingerSymbols/IMG_20220524_140635.jpg', 'fingerSymbols/IMG_20220509_130812.jpg', 'fingerSymbols/IMG_20220522_142710.jpg', 'fingerSymbols/IMG_20220522_181015.jpg', 'fingerSymbols/IMG_20220430_184439.jpg', 'fingerSymbols/IMG_20220522_165056.jpg', 'fingerSymbols/IMG_20220502_141838.jpg', 'fingerSymbols/IMG_20220522_180918.jpg', 'fingerSymbols/IMG_20220509_133235.jpg', 'fingerSymbols/IMG_20220501_152959.jpg', 'fingerSymbols/IMG_20220521_105919.jpg', 'fingerSymbols/IMG_20220502_142753.jpg', 'fingerSymbols/IMG_20220522_180931.jpg', 'fingerSymbols/IMG_20220501_163637.jpg', 'fingerSymbols/IMG_20220502_135821.jpg', 'fingerSymbols/IMG_20220521_105056.jpg', 'fingerSymbols/IMG_20220522_180945.jpg', 'fingerSymbols/IMG_20220501_154251.jpg', 'fingerSymbols/IMG_20220524_140455.jpg', 'fingerSymbols/IMG_20220430_185339.jpg', 'fingerSymbols/IMG_20220502_135640.jpg', 'fingerSymbols/IMG_20220430_184955.jpg', 'fingerSymbols/IMG_20220509_134445.jpg', 'fingerSymbols/IMG_20220430_184240.jpg', 'fingerSymbols/IMG_20220522_142745.jpg', 'fingerSymbols/IMG_20220522_142054.jpg', 'fingerSymbols/IMG_20220502_132546.jpg', 'fingerSymbols/IMG_20220522_165756.jpg', 'fingerSymbols/IMG_20220502_142024.jpg', 'fingerSymbols/IMG_20220430_182425.jpg', 'fingerSymbols/IMG_20220522_180008.jpg', 'fingerSymbols/IMG_20220430_181834.jpg', 'fingerSymbols/IMG_20220524_140545.jpg', 'fingerSymbols/IMG_20220522_165323.jpg', 'fingerSymbols/IMG_20220502_132041.jpg', 'fingerSymbols/IMG_20220502_141818.jpg', 'fingerSymbols/IMG_20220509_130818.jpg', 'fingerSymbols/IMG_20220502_142750.jpg', 'fingerSymbols/IMG_20220502_135634.jpg', 'fingerSymbols/IMG_20220522_142008.jpg', 'fingerSymbols/IMG_20220509_130823.jpg', 'fingerSymbols/IMG_20220521_104631.jpg', 'fingerSymbols/IMG_20220502_142652.jpg', 'fingerSymbols/IMG_20220524_140641.jpg', 'fingerSymbols/IMG_20220502_135637.jpg', 'fingerSymbols/IMG_20220430_185213.jpg', 'fingerSymbols/IMG_20220521_104648.jpg', 'fingerSymbols/IMG_20220502_140644.jpg', 'fingerSymbols/IMG_20220502_135749.jpg', 'fingerSymbols/IMG_20220522_165317.jpg', 'fingerSymbols/IMG_20220521_105141.jpg', 'fingerSymbols/IMG_20220521_105115.jpg', 'fingerSymbols/IMG_20220502_132059.jpg', 'fingerSymbols/IMG_20220430_181802.jpg', 'fingerSymbols/IMG_20220502_140635.jpg', 'fingerSymbols/IMG_20220522_142800.jpg', 'fingerSymbols/IMG_20220522_142047.jpg', 'fingerSymbols/IMG_20220509_131219.jpg', 'fingerSymbols/IMG_20220502_142833.jpg', 'fingerSymbols/IMG_20220524_141559.jpg', 'fingerSymbols/IMG_20220522_165935.jpg', 'fingerSymbols/IMG_20220524_140521.jpg', 'fingerSymbols/IMG_20220509_130751.jpg', 'fingerSymbols/IMG_20220502_125423.jpg', 'fingerSymbols/IMG_20220501_154325.jpg', 'fingerSymbols/IMG_20220501_163521.jpg', 'fingerSymbols/IMG_20220522_165813.jpg', 'fingerSymbols/IMG_20220509_135003.jpg', 'fingerSymbols/IMG_20220521_105125.jpg', 'fingerSymbols/IMG_20220502_142845.jpg', 'fingerSymbols/IMG_20220522_165804.jpg', 'fingerSymbols/IMG_20220509_133221.jpg', 'fingerSymbols/IMG_20220524_140447.jpg', 'fingerSymbols/IMG_20220522_142002.jpg', 'fingerSymbols/IMG_20220522_180025.jpg', 'fingerSymbols/IMG_20220509_134916.jpg', 'fingerSymbols/IMG_20220502_142132.jpg', 'fingerSymbols/IMG_20220522_142045.jpg', 'fingerSymbols/IMG_20220522_165306.jpg', 'fingerSymbols/IMG_20220509_134333.jpg', 'fingerSymbols/IMG_20220501_154235.jpg', 'fingerSymbols/IMG_20220524_140721.jpg', 'fingerSymbols/IMG_20220501_153123.jpg', 'fingerSymbols/IMG_20220521_105929.jpg', 'fingerSymbols/IMG_20220502_132523.jpg', 'fingerSymbols/IMG_20220522_180910.jpg', 'fingerSymbols/IMG_20220522_141949.jpg', 'fingerSymbols/IMG_20220524_140509.jpg', 'fingerSymbols/IMG_20220502_141859.jpg', 'fingerSymbols/IMG_20220522_165144.jpg', 'fingerSymbols/IMG_20220501_163459.jpg', 'fingerSymbols/IMG_20220522_142028.jpg', 'fingerSymbols/IMG_20220430_182228.jpg', 'fingerSymbols/IMG_20220509_132430.jpg', 'fingerSymbols/IMG_20220430_184329.jpg', 'fingerSymbols/IMG_20220509_133107.jpg', 'fingerSymbols/IMG_20220509_134857.jpg', 'fingerSymbols/IMG_20220522_142749.jpg', 'fingerSymbols/IMG_20220522_142708.jpg', 'fingerSymbols/IMG_20220509_132423.jpg', 'fingerSymbols/IMG_20220501_152932.jpg', 'fingerSymbols/IMG_20220502_132606.jpg', 'fingerSymbols/IMG_20220522_165235.jpg', 'fingerSymbols/IMG_20220522_142732.jpg', 'fingerSymbols/IMG_20220524_141531.jpg', 'fingerSymbols/IMG_20220509_133159.jpg', 'fingerSymbols/IMG_20220501_163554.jpg', 'fingerSymbols/IMG_20220522_141943.jpg', 'fingerSymbols/IMG_20220502_142101.jpg', 'fingerSymbols/IMG_20220522_142802.jpg', 'fingerSymbols/IMG_20220502_135632.jpg', 'fingerSymbols/IMG_20220502_140725.jpg', 'fingerSymbols/IMG_20220522_165228.jpg', 'fingerSymbols/IMG_20220509_134402.jpg', 'fingerSymbols/IMG_20220521_105048.jpg', 'fingerSymbols/IMG_20220521_105944.jpg', 'fingerSymbols/IMG_20220521_105937.jpg', 'fingerSymbols/IMG_20220501_153126.jpg', 'fingerSymbols/IMG_20220522_180934.jpg', 'fingerSymbols/IMG_20220522_142700.jpg', 'fingerSymbols/IMG_20220522_142755.jpg', 'fingerSymbols/IMG_20220430_185114.jpg', 'fingerSymbols/IMG_20220430_184653.jpg', 'fingerSymbols/IMG_20220502_140651.jpg', 'fingerSymbols/IMG_20220509_133233.jpg', 'fingerSymbols/IMG_20220524_141602.jpg', 'fingerSymbols/IMG_20220502_141904.jpg', 'fingerSymbols/IMG_20220524_140501.jpg', 'fingerSymbols/IMG_20220522_180027.jpg', 'fingerSymbols/IMG_20220522_142721.jpg', 'fingerSymbols/IMG_20220502_142727.jpg', 'fingerSymbols/IMG_20220502_142719.jpg', 'fingerSymbols/IMG_20220502_140638.jpg', 'fingerSymbols/IMG_20220509_131227.jpg', 'fingerSymbols/IMG_20220509_131329.jpg', 'fingerSymbols/IMG_20220522_165910.jpg', 'fingerSymbols/IMG_20220502_132539.jpg', 'fingerSymbols/IMG_20220502_125324.jpg', 'fingerSymbols/IMG_20220509_133137.jpg', 'fingerSymbols/IMG_20220522_180946.jpg', 'fingerSymbols/IMG_20220502_132533.jpg', 'fingerSymbols/IMG_20220522_181004.jpg', 'fingerSymbols/IMG_20220522_142707.jpg', 'fingerSymbols/IMG_20220502_125449.jpg', 'fingerSymbols/IMG_20220521_105156.jpg', 'fingerSymbols/IMG_20220509_134434.jpg', 'fingerSymbols/IMG_20220509_132438.jpg', 'fingerSymbols/IMG_20220502_140620.jpg', 'fingerSymbols/IMG_20220509_132344.jpg', 'fingerSymbols/IMG_20220502_142013.jpg', 'fingerSymbols/IMG_20220501_154316.jpg', 'fingerSymbols/IMG_20220501_154428.jpg', 'fingerSymbols/IMG_20220522_165838.jpg', 'fingerSymbols/IMG_20220521_105923.jpg', 'fingerSymbols/IMG_20220502_140641.jpg', 'fingerSymbols/IMG_20220522_175819.jpg', 'fingerSymbols/IMG_20220502_125944.jpg', 'fingerSymbols/IMG_20220430_184910.jpg', 'fingerSymbols/IMG_20220521_105940.jpg', 'fingerSymbols/IMG_20220509_131309.jpg', 'fingerSymbols/IMG_20220502_141823.jpg', 'fingerSymbols/IMG_20220509_134408.jpg', 'fingerSymbols/IMG_20220501_152927.jpg', 'fingerSymbols/IMG_20220522_142043.jpg', 'fingerSymbols/IMG_20220502_132531.jpg', 'fingerSymbols/IMG_20220522_165922.jpg', 'fingerSymbols/IMG_20220430_182038.jpg', 'fingerSymbols/IMG_20220430_185208.jpg', 'fingerSymbols/IMG_20220430_181910.jpg', 'fingerSymbols/IMG_20220509_132418.jpg', 'fingerSymbols/IMG_20220502_140716.jpg', 'fingerSymbols/IMG_20220502_132007.jpg', 'fingerSymbols/IMG_20220522_181019.jpg', 'fingerSymbols/IMG_20220502_125927.jpg', 'fingerSymbols/IMG_20220502_135642.jpg', 'fingerSymbols/IMG_20220521_110043.jpg', 'fingerSymbols/IMG_20220502_140703.jpg', 'fingerSymbols/IMG_20220501_153210.jpg', 'fingerSymbols/IMG_20220521_110020.jpg', 'fingerSymbols/IMG_20220522_180046.jpg', 'fingerSymbols/IMG_20220509_132350.jpg', 'fingerSymbols/IMG_20220522_175910.jpg', 'fingerSymbols/IMG_20220521_104626.jpg', 'fingerSymbols/IMG_20220522_141958.jpg', 'fingerSymbols/IMG_20220521_105950.jpg', 'fingerSymbols/IMG_20220502_141849.jpg', 'fingerSymbols/IMG_20220430_184858.jpg', 'fingerSymbols/IMG_20220430_181949.jpg', 'fingerSymbols/IMG_20220521_105231.jpg', 'fingerSymbols/IMG_20220430_181702.jpg', 'fingerSymbols/IMG_20220502_125345.jpg', 'fingerSymbols/IMG_20220524_141703.jpg', 'fingerSymbols/IMG_20220521_105144.jpg', 'fingerSymbols/IMG_20220502_130028.jpg', 'fingerSymbols/IMG_20220430_185228.jpg', 'fingerSymbols/IMG_20220502_141938.jpg', 'fingerSymbols/IMG_20220430_185323.jpg', 'fingerSymbols/IMG_20220522_165902.jpg', 'fingerSymbols/IMG_20220524_140621.jpg', 'fingerSymbols/IMG_20220524_141601.jpg', 'fingerSymbols/IMG_20220502_142709.jpg', 'fingerSymbols/IMG_20220521_110032.jpg', 'fingerSymbols/IMG_20220502_142638.jpg', 'fingerSymbols/IMG_20220522_165741.jpg', 'fingerSymbols/IMG_20220509_131322.jpg', 'fingerSymbols/IMG_20220522_142104.jpg', 'fingerSymbols/IMG_20220502_142031.jpg', 'fingerSymbols/IMG_20220522_180955.jpg', 'fingerSymbols/IMG_20220522_142035.jpg', 'fingerSymbols/IMG_20220502_125301.jpg', 'fingerSymbols/IMG_20220522_181046.jpg', 'fingerSymbols/IMG_20220502_132021.jpg', 'fingerSymbols/IMG_20220521_105105.jpg', 'fingerSymbols/IMG_20220522_142052.jpg', 'fingerSymbols/IMG_20220502_142050.jpg', 'fingerSymbols/IMG_20220502_142859.jpg', 'fingerSymbols/IMG_20220521_104720.jpg', 'fingerSymbols/IMG_20220522_165917.jpg', 'fingerSymbols/IMG_20220430_182105.jpg', 'fingerSymbols/IMG_20220509_130801.jpg', 'fingerSymbols/IMG_20220502_142007.jpg', 'fingerSymbols/IMG_20220502_140632.jpg', 'fingerSymbols/IMG_20220430_182118.jpg', 'fingerSymbols/IMG_20220430_182416.jpg', 'fingerSymbols/IMG_20220502_141909.jpg', 'fingerSymbols/IMG_20220430_184355.jpg', 'fingerSymbols/IMG_20220522_165154.jpg', 'fingerSymbols/IMG_20220502_142839.jpg', 'fingerSymbols/IMG_20220509_134345.jpg', 'fingerSymbols/IMG_20220521_105852.jpg', 'fingerSymbols/IMG_20220524_140649.jpg', 'fingerSymbols/IMG_20220522_180849.jpg', 'fingerSymbols/IMG_20220509_133154.jpg', 'fingerSymbols/IMG_20220430_181905.jpg', 'fingerSymbols/IMG_20220522_165842.jpg', 'fingerSymbols/IMG_20220522_142031.jpg', 'fingerSymbols/IMG_20220430_182202.jpg', 'fingerSymbols/IMG_20220521_104638.jpg', 'fingerSymbols/IMG_20220430_185054.jpg', 'fingerSymbols/IMG_20220509_133227.jpg', 'fingerSymbols/IMG_20220522_175841.jpg', 'fingerSymbols/IMG_20220509_131243.jpg', 'fingerSymbols/IMG_20220524_140528.jpg', 'fingerSymbols/IMG_20220509_133208.jpg', 'fingerSymbols/IMG_20220521_110002.jpg', 'fingerSymbols/IMG_20220524_141544.jpg', 'fingerSymbols/IMG_20220501_163503.jpg', 'fingerSymbols/IMG_20220522_142025.jpg', 'fingerSymbols/IMG_20220430_182233.jpg', 'fingerSymbols/IMG_20220522_180114.jpg', 'fingerSymbols/IMG_20220502_130000.jpg', 'fingerSymbols/IMG_20220430_185237.jpg', 'fingerSymbols/IMG_20220502_131954.jpg', 'fingerSymbols/IMG_20220522_165111.jpg', 'fingerSymbols/IMG_20220509_132412.jpg', 'fingerSymbols/IMG_20220522_180911.jpg', 'fingerSymbols/IMG_20220524_140427.jpg', 'fingerSymbols/IMG_20220521_105954.jpg', 'fingerSymbols/IMG_20220521_105045.jpg', 'fingerSymbols/IMG_20220502_142837.jpg', 'fingerSymbols/IMG_20220524_140711.jpg', 'fingerSymbols/IMG_20220522_165038.jpg', 'fingerSymbols/IMG_20220509_134344.jpg', 'fingerSymbols/IMG_20220430_185232.jpg', 'fingerSymbols/IMG_20220501_163530.jpg', 'fingerSymbols/IMG_20220522_141956.jpg', 'fingerSymbols/IMG_20220501_154410.jpg', 'fingerSymbols/IMG_20220502_132612.jpg', 'fingerSymbols/IMG_20220522_180105.jpg', 'fingerSymbols/IMG_20220501_163537.jpg', 'fingerSymbols/IMG_20220502_142706.jpg', 'fingerSymbols/IMG_20220524_140718.jpg', 'fingerSymbols/IMG_20220524_141610.jpg', 'fingerSymbols/IMG_20220430_182048.jpg', 'fingerSymbols/IMG_20220430_185151.jpg', 'fingerSymbols/IMG_20220509_131229.jpg', 'fingerSymbols/IMG_20220522_165258.jpg', 'fingerSymbols/IMG_20220502_140744.jpg', 'fingerSymbols/IMG_20220522_142735.jpg', 'fingerSymbols/IMG_20220502_140727.jpg', 'fingerSymbols/IMG_20220502_142918.jpg', 'fingerSymbols/IMG_20220524_141530.jpg', 'fingerSymbols/IMG_20220509_134903.jpg', 'fingerSymbols/IMG_20220430_181919.jpg', 'fingerSymbols/IMG_20220522_175814.jpg', 'fingerSymbols/IMG_20220430_182217.jpg', 'fingerSymbols/IMG_20220502_135721.jpg', 'fingerSymbols/IMG_20220521_105132.jpg', 'fingerSymbols/IMG_20220502_141835.jpg', 'fingerSymbols/IMG_20220524_140632.jpg', 'fingerSymbols/IMG_20220502_142109.jpg', 'fingerSymbols/IMG_20220502_142042.jpg', 'fingerSymbols/IMG_20220522_165245.jpg', 'fingerSymbols/IMG_20220501_163643.jpg', 'fingerSymbols/IMG_20220502_142844.jpg', 'fingerSymbols/IMG_20220522_175827.jpg', 'fingerSymbols/IMG_20220522_180051.jpg', 'fingerSymbols/IMG_20220524_140708.jpg', 'fingerSymbols/IMG_20220522_142810.jpg', 'fingerSymbols/IMG_20220502_125409.jpg', 'fingerSymbols/IMG_20220522_142758.jpg', 'fingerSymbols/IMG_20220522_142730.jpg', 'fingerSymbols/IMG_20220430_182149.jpg', 'fingerSymbols/IMG_20220522_165149.jpg', 'fingerSymbols/IMG_20220509_133113.jpg', 'fingerSymbols/IMG_20220502_132625.jpg', 'fingerSymbols/IMG_20220509_134936.jpg', 'fingerSymbols/IMG_20220509_130719.jpg', 'fingerSymbols/IMG_20220524_140644.jpg', 'fingerSymbols/IMG_20220522_180851.jpg', 'fingerSymbols/IMG_20220522_180013.jpg', 'fingerSymbols/IMG_20220509_134944.jpg', 'fingerSymbols/IMG_20220502_140706.jpg', 'fingerSymbols/IMG_20220522_175812_01.jpg', 'fingerSymbols/IMG_20220430_182219.jpg', 'fingerSymbols/IMG_20220502_125248.jpg', 'fingerSymbols/IMG_20220522_180857.jpg', 'fingerSymbols/IMG_20220521_104718.jpg', 'fingerSymbols/IMG_20220509_130734.jpg', 'fingerSymbols/IMG_20220502_135752.jpg', 'fingerSymbols/IMG_20220522_142702.jpg', 'fingerSymbols/IMG_20220502_142643.jpg', 'fingerSymbols/IMG_20220524_140702.jpg', 'fingerSymbols/IMG_20220522_181008.jpg', 'fingerSymbols/IMG_20220430_185046.jpg', 'fingerSymbols/IMG_20220524_141541.jpg', 'fingerSymbols/IMG_20220524_141553.jpg', 'fingerSymbols/IMG_20220502_132030.jpg', 'fingerSymbols/IMG_20220524_141524.jpg', 'fingerSymbols/IMG_20220524_141450.jpg', 'fingerSymbols/IMG_20220524_141539.jpg', 'fingerSymbols/IMG_20220430_181733.jpg', 'fingerSymbols/IMG_20220502_142904.jpg', 'fingerSymbols/IMG_20220502_140721.jpg', 'fingerSymbols/IMG_20220522_165745.jpg', 'fingerSymbols/IMG_20220509_132331.jpg', 'fingerSymbols/IMG_20220502_135644.jpg', 'fingerSymbols/IMG_20220502_135646.jpg', 'fingerSymbols/IMG_20220522_181011.jpg', 'fingerSymbols/IMG_20220521_110039.jpg', 'fingerSymbols/IMG_20220524_141501.jpg', 'fingerSymbols/IMG_20220430_181847.jpg', 'fingerSymbols/IMG_20220509_134957.jpg', 'fingerSymbols/IMG_20220502_135754.jpg', 'fingerSymbols/IMG_20220509_134922.jpg', 'fingerSymbols/IMG_20220509_131301.jpg', 'fingerSymbols/IMG_20220430_184447.jpg', 'fingerSymbols/IMG_20220502_141921.jpg', 'fingerSymbols/IMG_20220502_142911.jpg', 'fingerSymbols/IMG_20220502_140754.jpg', 'fingerSymbols/IMG_20220502_132558.jpg', 'fingerSymbols/IMG_20220430_185200.jpg', 'fingerSymbols/IMG_20220509_130738.jpg', 'fingerSymbols/IMG_20220521_105050.jpg', 'fingerSymbols/IMG_20220502_140740.jpg', 'fingerSymbols/IMG_20220509_130806.jpg', 'fingerSymbols/IMG_20220524_141455.jpg', 'fingerSymbols/IMG_20220502_131959.jpg', 'fingerSymbols/IMG_20220502_141916.jpg', 'fingerSymbols/IMG_20220522_180906.jpg', 'fingerSymbols/IMG_20220502_125937.jpg', 'fingerSymbols/IMG_20220502_135728.jpg', 'fingerSymbols/IMG_20220502_135740.jpg', 'fingerSymbols/IMG_20220509_131335.jpg', 'fingerSymbols/IMG_20220502_132526.jpg', 'fingerSymbols/IMG_20220509_134457.jpg', 'fingerSymbols/IMG_20220509_134954.jpg', 'fingerSymbols/IMG_20220502_140605.jpg', 'fingerSymbols/IMG_20220502_135742.jpg', 'fingerSymbols/IMG_20220522_142820.jpg', 'fingerSymbols/IMG_20220509_131236.jpg', 'fingerSymbols/IMG_20220502_142037.jpg', 'fingerSymbols/IMG_20220502_125956.jpg', 'fingerSymbols/IMG_20220522_180925.jpg', 'fingerSymbols/IMG_20220522_165942.jpg', 'fingerSymbols/IMG_20220522_142019.jpg', 'fingerSymbols/IMG_20220521_105122.jpg', 'fingerSymbols/IMG_20220509_134443.jpg', 'fingerSymbols/IMG_20220524_141521.jpg', 'fingerSymbols/IMG_20220502_135649.jpg', 'fingerSymbols/IMG_20220524_141513.jpg', 'fingerSymbols/IMG_20220430_182213.jpg', 'fingerSymbols/IMG_20220521_110028.jpg', 'fingerSymbols/IMG_20220509_131223.jpg', 'fingerSymbols/IMG_20220509_132401.jpg', 'fingerSymbols/IMG_20220502_130011.jpg', 'fingerSymbols/IMG_20220502_125314.jpg', 'fingerSymbols/IMG_20220502_142711.jpg', 'fingerSymbols/IMG_20220502_135608.jpg', 'fingerSymbols/IMG_20220521_105127.jpg', 'fingerSymbols/IMG_20220502_135757.jpg', 'fingerSymbols/IMG_20220521_110035.jpg', 'fingerSymbols/IMG_20220522_142716.jpg', 'fingerSymbols/IMG_20220501_152855.jpg', 'fingerSymbols/IMG_20220502_135807.jpg', 'fingerSymbols/IMG_20220521_110014.jpg', 'fingerSymbols/IMG_20220509_134355.jpg', 'fingerSymbols/IMG_20220521_110037.jpg', 'fingerSymbols/IMG_20220524_141510.jpg', 'fingerSymbols/IMG_20220522_181029.jpg', 'fingerSymbols/IMG_20220521_110046.jpg', 'fingerSymbols/IMG_20220522_180123.jpg', 'fingerSymbols/IMG_20220522_142021.jpg', 'fingerSymbols/IMG_20220502_131944.jpg', 'fingerSymbols/IMG_20220502_141931.jpg', 'fingerSymbols/IMG_20220522_165824.jpg', 'fingerSymbols/IMG_20220522_180021.jpg', 'fingerSymbols/IMG_20220502_140713.jpg', 'fingerSymbols/IMG_20220524_141700.jpg', 'fingerSymbols/IMG_20220509_134858.jpg', 'fingerSymbols/IMG_20220522_165201.jpg', 'fingerSymbols/IMG_20220522_165048.jpg', 'fingerSymbols/IMG_20220521_105051.jpg', 'fingerSymbols/IMG_20220502_135756.jpg', 'fingerSymbols/IMG_20220509_134339.jpg', 'closedFist/IMG_20220509_131743.jpg', 'closedFist/IMG_20220509_130235.jpg', 'closedFist/IMG_20220501_163111.jpg', 'closedFist/IMG_20220501_155115.jpg', 'closedFist/IMG_20220501_151606.jpg', 'closedFist/IMG_20220502_131704.jpg', 'closedFist/IMG_20220502_135236.jpg', 'closedFist/IMG_20220509_134550.jpg', 'closedFist/IMG_20220509_131831.jpg', 'closedFist/IMG_20220502_132324.jpg', 'closedFist/IMG_20220509_132729.jpg', 'closedFist/IMG_20220502_124539.jpg', 'closedFist/IMG_20220509_133942.jpg', 'closedFist/IMG_20220501_155149.jpg', 'closedFist/IMG_20220502_140131.jpg', 'closedFist/IMG_20220501_163139.jpg', 'closedFist/IMG_20220501_151546.jpg', 'closedFist/IMG_20220502_125707.jpg', 'closedFist/IMG_20220430_182912.jpg', 'closedFist/IMG_20220501_155119.jpg', 'closedFist/IMG_20220501_151540.jpg', 'closedFist/IMG_20220501_155152.jpg', 'closedFist/IMG_20220502_124551.jpg', 'closedFist/IMG_20220509_130950.jpg', 'closedFist/IMG_20220502_135242.jpg', 'closedFist/IMG_20220430_180543.jpg', 'closedFist/IMG_20220502_132305.jpg', 'closedFist/IMG_20220502_142253.jpg', 'closedFist/IMG_20220501_163147.jpg', 'closedFist/IMG_20220430_182952.jpg', 'closedFist/IMG_20220502_125651.jpg', 'closedFist/IMG_20220501_151610.jpg', 'closedFist/IMG_20220430_180538.jpg', 'closedFist/IMG_20220430_182948.jpg', 'closedFist/IMG_20220502_140139.jpg', 'closedFist/IMG_20220501_155124.jpg', 'closedFist/IMG_20220509_133953.jpg', 'closedFist/IMG_20220502_124527.jpg', 'closedFist/IMG_20220509_134544.jpg', 'closedFist/IMG_20220509_134600.jpg', 'closedFist/IMG_20220430_180630.jpg', 'closedFist/IMG_20220509_134014.jpg', 'closedFist/IMG_20220501_153523.jpg', 'closedFist/IMG_20220509_131006.jpg', 'closedFist/IMG_20220502_132319.jpg', 'closedFist/IMG_20220501_153616.jpg', 'closedFist/IMG_20220502_141513.jpg', 'closedFist/IMG_20220509_130237.jpg', 'closedFist/IMG_20220502_125710.jpg', 'closedFist/IMG_20220502_141516.jpg', 'closedFist/IMG_20220501_163104.jpg', 'closedFist/IMG_20220502_141538.jpg', 'closedFist/IMG_20220430_182944.jpg', 'closedFist/IMG_20220509_131009.jpg', 'closedFist/IMG_20220501_155201.jpg', 'closedFist/IMG_20220502_132312.jpg', 'closedFist/IMG_20220502_142307.jpg', 'closedFist/IMG_20220502_135256.jpg', 'closedFist/IMG_20220501_151543.jpg', 'closedFist/IMG_20220502_142309.jpg', 'closedFist/IMG_20220430_180553.jpg', 'closedFist/IMG_20220502_132256.jpg', 'closedFist/IMG_20220509_134009.jpg', 'closedFist/IMG_20220502_135257.jpg', 'closedFist/IMG_20220502_141536.jpg', 'closedFist/IMG_20220509_130947.jpg', 'closedFist/IMG_20220501_153437.jpg', 'closedFist/IMG_20220430_180610.jpg', 'closedFist/IMG_20220502_140146.jpg', 'closedFist/IMG_20220501_153625.jpg', 'closedFist/IMG_20220502_124531.jpg', 'closedFist/IMG_20220502_124556.jpg', 'closedFist/IMG_20220430_182951.jpg', 'closedFist/IMG_20220509_134011.jpg', 'closedFist/IMG_20220509_131813.jpg', 'closedFist/IMG_20220509_132759.jpg', 'closedFist/IMG_20220502_142251.jpg', 'closedFist/IMG_20220502_141519.jpg', 'closedFist/IMG_20220502_135254.jpg', 'closedFist/IMG_20220509_134555.jpg', 'closedFist/IMG_20220430_182941.jpg', 'closedFist/IMG_20220501_163108.jpg', 'closedFist/IMG_20220502_132254.jpg', 'closedFist/IMG_20220502_131718.jpg', 'closedFist/IMG_20220509_130208.jpg', 'closedFist/IMG_20220509_131738.jpg', 'closedFist/IMG_20220502_131714.jpg', 'closedFist/IMG_20220502_124525.jpg', 'closedFist/IMG_20220509_134542.jpg', 'closedFist/IMG_20220502_140148.jpg', 'closedFist/IMG_20220509_132756.jpg', 'closedFist/IMG_20220502_125657.jpg', 'closedFist/IMG_20220509_134539.jpg', 'closedFist/IMG_20220509_131821.jpg', 'closedFist/IMG_20220509_131758.jpg', 'closedFist/IMG_20220509_132750.jpg', 'closedFist/IMG_20220502_141524.jpg', 'closedFist/IMG_20220509_130210.jpg', 'closedFist/IMG_20220502_131650.jpg', 'closedFist/IMG_20220502_140129.jpg', 'closedFist/IMG_20220501_153629.jpg', 'closedFist/IMG_20220502_142311.jpg', 'closedFist/IMG_20220502_124537.jpg', 'closedFist/IMG_20220509_131007.jpg', 'closedFist/IMG_20220509_130956.jpg', 'closedFist/IMG_20220509_132724.jpg', 'closedFist/IMG_20220509_134603.jpg', 'closedFist/IMG_20220502_140147.jpg', 'closedFist/IMG_20220502_125649.jpg', 'closedFist/IMG_20220501_151617.jpg', 'closedFist/IMG_20220502_125705.jpg', 'closedFist/IMG_20220430_182950.jpg', 'closedFist/IMG_20220502_140132.jpg', 'closedFist/IMG_20220501_153429.jpg', 'closedFist/IMG_20220501_155134.jpg', 'closedFist/IMG_20220502_131652.jpg', 'closedFist/IMG_20220509_134003.jpg', 'closedFist/IMG_20220502_131712.jpg', 'closedFist/IMG_20220502_135250.jpg', 'closedFist/IMG_20220502_132321.jpg', 'closedFist/IMG_20220502_124553.jpg', 'closedFist/IMG_20220502_131650_01.jpg', 'closedFist/IMG_20220430_180531.jpg', 'closedFist/IMG_20220509_130239.jpg', 'closedFist/IMG_20220509_130216.jpg', 'closedFist/IMG_20220502_141556.jpg', 'closedFist/IMG_20220509_131746.jpg', 'closedFist/IMG_20220509_130949.jpg', 'closedFist/IMG_20220509_131835.jpg', 'closedFist/IMG_20220501_151554.jpg', 'closedFist/IMG_20220501_163137.jpg', 'closedFist/IMG_20220502_135239.jpg', 'closedFist/IMG_20220509_132802.jpg', 'closedFist/IMG_20220501_153514.jpg', 'closedFist/IMG_20220509_132733.jpg', 'closedFist/IMG_20220502_142248.jpg', 'closedFist/IMG_20220509_130212.jpg', 'closedFist/IMG_20220430_180617.jpg', 'closedFist/IMG_20220502_125653.jpg', 'closedFist/IMG_20220502_131654.jpg', 'closedFist/IMG_20220509_133957.jpg', 'closedFist/IMG_20220502_142258.jpg', 'closedFist/IMG_20220521_105536.jpg', 'closedFist/IMG_20220524_140957.jpg', 'closedFist/IMG_20220522_142329.jpg', 'closedFist/IMG_20220522_175347.jpg', 'closedFist/IMG_20220521_105548.jpg', 'closedFist/IMG_20220524_135920.jpg', 'closedFist/IMG_20220522_141719.jpg', 'closedFist/IMG_20220522_180442.jpg', 'closedFist/IMG_20220522_141721.jpg', 'closedFist/IMG_20220522_180436.jpg', 'closedFist/IMG_20220522_165430.jpg', 'closedFist/IMG_20220522_142339.jpg', 'closedFist/IMG_20220524_141024.jpg', 'closedFist/IMG_20220521_103938.jpg', 'closedFist/IMG_20220521_105534.jpg', 'closedFist/IMG_20220522_175338.jpg', 'closedFist/IMG_20220522_165426.jpg', 'closedFist/IMG_20220522_141711.jpg', 'closedFist/IMG_20220522_141701.jpg', 'closedFist/IMG_20220522_164537.jpg', 'closedFist/IMG_20220521_105546.jpg', 'closedFist/IMG_20220522_165452.jpg', 'closedFist/IMG_20220522_142327.jpg', 'closedFist/IMG_20220522_141706.jpg', 'closedFist/IMG_20220524_141057.jpg', 'closedFist/IMG_20220522_142332.jpg', 'closedFist/IMG_20220524_141106.jpg', 'closedFist/IMG_20220522_164612.jpg', 'closedFist/IMG_20220524_135932.jpg', 'closedFist/IMG_20220522_141704.jpg', 'closedFist/IMG_20220522_164616.jpg', 'closedFist/IMG_20220524_140954.jpg', 'closedFist/IMG_20220521_103934.jpg', 'closedFist/IMG_20220509_134606.jpg', 'closedFist/IMG_20220522_180456.jpg', 'closedFist/IMG_20220524_135922.jpg', 'closedFist/IMG_20220521_103944.jpg', 'closedFist/IMG_20220522_175341.jpg', 'closedFist/IMG_20220524_140959.jpg', 'closedFist/IMG_20220521_105550.jpg', 'closedFist/IMG_20220524_135917.jpg', 'closedFist/IMG_20220522_164542.jpg', 'closedFist/IMG_20220522_175359.jpg', 'closedFist/IMG_20220522_180453.jpg', 'closedFist/IMG_20220521_103931.jpg', 'closedFist/IMG_20220522_180507.jpg', 'closedFist/IMG_20220524_135951.jpg', 'closedFist/IMG_20220522_164546.jpg', 'closedFist/IMG_20220521_103955.jpg', 'closedFist/IMG_20220522_175334.jpg', 'closedFist/IMG_20220524_135942.jpg', 'closedFist/IMG_20220522_165433.jpg', 'closedFist/IMG_20220522_175413.jpg', 'closedFist/IMG_20220522_180444.jpg', 'closedFist/IMG_20220524_141100.jpg', 'closedFist/IMG_20220521_105542.jpg', 'closedFist/IMG_20220522_164559.jpg', 'closedFist/IMG_20220522_141708.jpg', 'closedFist/IMG_20220521_103941.jpg', 'closedFist/IMG_20220522_165440.jpg', 'closedFist/IMG_20220522_165444.jpg', 'closedFist/IMG_20220522_164621.jpg', 'closedFist/IMG_20220522_142336.jpg', 'closedFist/IMG_20220522_175411.jpg', 'closedFist/IMG_20220522_142325.jpg', 'closedFist/IMG_20220522_142341.jpg', 'closedFist/IMG_20220524_135940.jpg', 'closedFist/IMG_20220522_141714.jpg', 'closedFist/IMG_20220521_105539.jpg', 'closedFist/IMG_20220521_103928.jpg', 'openPalm/IMG_20220521_103843.jpg', 'openPalm/IMG_20220524_140840.jpg', 'openPalm/IMG_20220501_163046.jpg', 'openPalm/IMG_20220524_140823.jpg', 'openPalm/IMG_20220501_153314.jpg', 'openPalm/IMG_20220509_132656.jpg', 'openPalm/IMG_20220502_132233.jpg', 'openPalm/IMG_20220522_141631.jpg', 'openPalm/IMG_20220522_142232.jpg', 'openPalm/IMG_20220502_140013.jpg', 'openPalm/IMG_20220509_134512.jpg', 'openPalm/IMG_20220502_142239.jpg', 'openPalm/IMG_20220430_180458.jpg', 'openPalm/IMG_20220522_164525.jpg', 'openPalm/IMG_20220521_103824.jpg', 'openPalm/IMG_20220502_125619.jpg', 'openPalm/IMG_20220430_180339.jpg', 'openPalm/IMG_20220502_142202.jpg', 'openPalm/IMG_20220522_180342.jpg', 'openPalm/IMG_20220509_132616.jpg', 'openPalm/IMG_20220501_163042.jpg', 'openPalm/IMG_20220509_133901.jpg', 'openPalm/IMG_20220509_130041.jpg', 'openPalm/IMG_20220521_103832.jpg', 'openPalm/IMG_20220502_125627.jpg', 'openPalm/IMG_20220509_131541.jpg', 'openPalm/IMG_20220502_135950.jpg', 'openPalm/IMG_20220430_182803.jpg', 'openPalm/IMG_20220501_151405.jpg', 'openPalm/IMG_20220522_164501.jpg', 'openPalm/IMG_20220502_142229.jpg', 'openPalm/IMG_20220502_135149.jpg', 'openPalm/IMG_20220430_182900.jpg', 'openPalm/IMG_20220521_105515.jpg', 'openPalm/IMG_20220502_142234.jpg', 'openPalm/IMG_20220522_142306.jpg', 'openPalm/IMG_20220522_164506.jpg', 'openPalm/IMG_20220501_154925.jpg', 'openPalm/IMG_20220501_151356.jpg', 'openPalm/IMG_20220521_105504.jpg', 'openPalm/IMG_20220524_135843.jpg', 'openPalm/IMG_20220522_165400.jpg', 'openPalm/IMG_20220522_175147.jpg', 'openPalm/IMG_20220521_105520.jpg', 'openPalm/IMG_20220501_154917.jpg', 'openPalm/IMG_20220502_135958.jpg', 'openPalm/IMG_20220509_132622.jpg', 'openPalm/IMG_20220509_134510.jpg', 'openPalm/IMG_20220522_165407.jpg', 'openPalm/IMG_20220501_153305.jpg', 'openPalm/IMG_20220509_130938.jpg', 'openPalm/IMG_20220501_153329.jpg', 'openPalm/IMG_20220509_131709.jpg', 'openPalm/IMG_20220502_131617.jpg', 'openPalm/IMG_20220502_135102.jpg', 'openPalm/IMG_20220502_124438.jpg', 'openPalm/IMG_20220522_142314.jpg', 'openPalm/IMG_20220502_135119.jpg', 'openPalm/IMG_20220430_185343.jpg', 'openPalm/IMG_20220501_151445.jpg', 'openPalm/IMG_20220524_135832.jpg', 'openPalm/IMG_20220522_142259.jpg', 'openPalm/IMG_20220502_141431.jpg', 'openPalm/IMG_20220502_132240.jpg', 'openPalm/IMG_20220521_103758.jpg', 'openPalm/IMG_20220430_182824.jpg', 'openPalm/IMG_20220509_134519.jpg', 'openPalm/IMG_20220502_124452.jpg', 'openPalm/IMG_20220522_141646.jpg', 'openPalm/IMG_20220522_180339.jpg', 'openPalm/IMG_20220524_135823.jpg', 'openPalm/IMG_20220524_140845.jpg', 'openPalm/IMG_20220501_154931.jpg', 'openPalm/IMG_20220430_180307.jpg', 'openPalm/IMG_20220524_135901.jpg', 'openPalm/IMG_20220509_133914.jpg', 'openPalm/IMG_20220509_130048.jpg', 'openPalm/IMG_20220502_135220.jpg', 'openPalm/IMG_20220524_135902.jpg', 'openPalm/IMG_20220522_165419.jpg', 'openPalm/IMG_20220521_103911.jpg', 'openPalm/IMG_20220501_153256.jpg', 'openPalm/IMG_20220502_142213.jpg', 'openPalm/IMG_20220521_105513.jpg', 'openPalm/IMG_20220524_135856.jpg', 'openPalm/IMG_20220502_132231.jpg', 'openPalm/IMG_20220522_175200.jpg', 'openPalm/IMG_20220502_132216.jpg', 'openPalm/IMG_20220502_135215.jpg', 'openPalm/IMG_20220509_133909.jpg', 'openPalm/IMG_20220509_132546.jpg', 'openPalm/IMG_20220522_180419.jpg', 'openPalm/IMG_20220502_135946.jpg', 'openPalm/IMG_20220509_132531.jpg', 'openPalm/IMG_20220509_130123.jpg', 'openPalm/IMG_20220522_141652.jpg', 'openPalm/IMG_20220509_130055.jpg', 'openPalm/IMG_20220509_130128.jpg', 'openPalm/IMG_20220509_130916.jpg', 'openPalm/IMG_20220502_141416.jpg', 'openPalm/IMG_20220509_134516.jpg', 'openPalm/IMG_20220501_154911.jpg', 'openPalm/IMG_20220501_151312.jpg', 'openPalm/IMG_20220501_153306.jpg', 'openPalm/IMG_20220502_142226.jpg', 'openPalm/IMG_20220522_164455.jpg', 'openPalm/IMG_20220502_131612.jpg', 'openPalm/IMG_20220502_125631.jpg', 'openPalm/IMG_20220502_135134.jpg', 'openPalm/IMG_20220502_131620.jpg', 'openPalm/IMG_20220501_163029.jpg', 'openPalm/IMG_20220430_182831.jpg', 'openPalm/IMG_20220430_182837.jpg', 'openPalm/IMG_20220522_141636.jpg', 'openPalm/IMG_20220502_124417.jpg', 'openPalm/IMG_20220502_125615.jpg', 'openPalm/IMG_20220501_151409.jpg', 'openPalm/IMG_20220502_124430.jpg', 'openPalm/IMG_20220522_165356.jpg', 'openPalm/IMG_20220521_105527.jpg', 'openPalm/IMG_20220502_131631.jpg', 'openPalm/IMG_20220509_130920.jpg', 'openPalm/IMG_20220522_165412.jpg', 'openPalm/IMG_20220522_141650.jpg', 'openPalm/IMG_20220509_130923.jpg', 'openPalm/IMG_20220509_134525.jpg', 'openPalm/IMG_20220509_131521.jpg', 'openPalm/IMG_20220524_140835.jpg', 'openPalm/IMG_20220430_180428.jpg', 'openPalm/IMG_20220521_105523.jpg', 'openPalm/IMG_20220502_141256.jpg', 'openPalm/IMG_20220509_134528.jpg', 'openPalm/IMG_20220524_140818.jpg', 'openPalm/IMG_20220509_133848.jpg', 'openPalm/IMG_20220509_131608.jpg', 'openPalm/IMG_20220430_182817.jpg', 'openPalm/IMG_20220502_141356.jpg', 'openPalm/IMG_20220522_180252.jpg', 'openPalm/IMG_20220430_182841.jpg', 'openPalm/IMG_20220509_131707.jpg', 'openPalm/IMG_20220522_180412.jpg', 'openPalm/IMG_20220522_175226.jpg', 'openPalm/IMG_20220502_132224.jpg', 'openPalm/IMG_20220501_163033.jpg', 'openPalm/IMG_20220430_180512.jpg', 'openPalm/IMG_20220522_175143.jpg', 'openPalm/IMG_20220524_140832.jpg', 'openPalm/IMG_20220502_141412.jpg', 'openPalm/IMG_20220509_133852.jpg', 'openPalm/IMG_20220501_153255.jpg', 'openPalm/IMG_20220502_131607.jpg', 'openPalm/IMG_20220509_130101.jpg', 'openPalm/IMG_20220509_133857.jpg', 'openPalm/IMG_20220522_142312.jpg', 'openPalm/IMG_20220522_164521.jpg', 'openPalm/IMG_20220502_141436.jpg', 'openPalm/IMG_20220502_124404.jpg', 'openPalm/IMG_20220522_180400.jpg', 'openPalm/IMG_20220501_153324.jpg', 'openPalm/IMG_20220509_132646.jpg', 'openPalm/IMG_20220509_134137.jpg', 'openPalm/IMG_20220502_125609.jpg', 'openPalm/IMG_20220502_135944.jpg', 'openPalm/IMG_20220522_175155.jpg', 'openPalm/IMG_20220430_180442.jpg', 'openPalm/IMG_20220522_165345.jpg', 'openPalm/IMG_20220502_124456.jpg', 'openPalm/IMG_20220502_135954.jpg', 'openPalm/IMG_20220522_164512.jpg', 'openPalm/IMG_20220501_151427.jpg', 'openPalm/IMG_20220501_154951.jpg', 'openPalm/IMG_20220521_103906.jpg', 'openPalm/IMG_20220522_141643.jpg', 'openPalm/IMG_20220522_142309.jpg', 'openPalm/IMG_20220521_103856.jpg', 'openPalm/IMG_20220501_151401.jpg', 'openPalm/IMG_20220502_140003.jpg', 'openPalm/IMG_20220522_175217.jpg', 'openPalm/IMG_20220502_125604.jpg', 'openPalm/IMG_20220524_135846.jpg', 'openPalm/IMG_20220509_130932.jpg', 'openPalm/IMG_20220521_105509.jpg', 'openPalm/IMG_20220509_131615.jpg', 'openPalm/IMG_20220509_131701.jpg', 'semiOpenPalm/IMG_20220430_181058.jpg', 'semiOpenPalm/IMG_20220430_181042.jpg', 'semiOpenPalm/IMG_20220430_183510.jpg', 'semiOpenPalm/IMG_20220430_181051.jpg', 'semiOpenPalm/IMG_20220430_181059.jpg', 'semiOpenPalm/IMG_20220430_181037.jpg', 'semiOpenPalm/IMG_20220430_183514.jpg', 'semiOpenPalm/IMG_20220430_183508.jpg', 'semiOpenPalm/IMG_20220430_181035.jpg', 'semiOpenPalm/IMG_20220430_181050.jpg', 'semiOpenPalm/IMG_20220430_181047.jpg', 'semiOpenPalm/IMG_20220430_181056.jpg', 'semiOpenPalm/IMG_20220430_181034.jpg', 'semiOpenPalm/IMG_20220430_183506.jpg', 'semiOpenPalm/IMG_20220430_183515.jpg', 'semiOpenPalm/IMG_20220430_181054.jpg', 'semiOpenPalm/IMG_20220430_183511.jpg', 'semiOpenPalm/IMG_20220430_181033.jpg', 'semiOpenPalm/IMG_20220509_134124.jpg', 'semiOpenPalm/IMG_20220521_105720.jpg', 'semiOpenPalm/IMG_20220502_135404.jpg', 'semiOpenPalm/IMG_20220502_140413.jpg', 'semiOpenPalm/IMG_20220522_165633.jpg', 'semiOpenPalm/IMG_20220502_132414.jpg', 'semiOpenPalm/IMG_20220501_163300.jpg', 'semiOpenPalm/IMG_20220509_130458.jpg', 'semiOpenPalm/IMG_20220524_141242.jpg', 'semiOpenPalm/IMG_20220524_140114.jpg', 'semiOpenPalm/IMG_20220501_163240.jpg', 'semiOpenPalm/IMG_20220502_124800.jpg', 'semiOpenPalm/IMG_20220502_124753.jpg', 'semiOpenPalm/IMG_20220522_142546.jpg', 'semiOpenPalm/IMG_20220502_141730.jpg', 'semiOpenPalm/IMG_20220502_142456.jpg', 'semiOpenPalm/IMG_20220501_160055.jpg', 'semiOpenPalm/IMG_20220509_134720.jpg', 'semiOpenPalm/IMG_20220522_165630.jpg', 'semiOpenPalm/IMG_20220522_175553.jpg', 'semiOpenPalm/IMG_20220501_152045.jpg', 'semiOpenPalm/IMG_20220501_154020.jpg', 'semiOpenPalm/IMG_20220509_131127.jpg', 'semiOpenPalm/IMG_20220502_131835.jpg', 'semiOpenPalm/IMG_20220509_134656.jpg', 'semiOpenPalm/IMG_20220502_141725.jpg', 'semiOpenPalm/IMG_20220522_165649.jpg', 'semiOpenPalm/IMG_20220524_140109.jpg', 'semiOpenPalm/IMG_20220502_131845.jpg', 'semiOpenPalm/IMG_20220502_132427.jpg', 'semiOpenPalm/IMG_20220509_131115.jpg', 'semiOpenPalm/IMG_20220521_104120.jpg', 'semiOpenPalm/IMG_20220521_105719.jpg', 'semiOpenPalm/IMG_20220522_142542.jpg', 'semiOpenPalm/IMG_20220509_132936.jpg', 'semiOpenPalm/IMG_20220522_164853.jpg', 'semiOpenPalm/IMG_20220524_141222.jpg', 'semiOpenPalm/IMG_20220521_104202.jpg', 'semiOpenPalm/IMG_20220502_125809.jpg', 'semiOpenPalm/IMG_20220521_105708.jpg', 'semiOpenPalm/IMG_20220522_180644.jpg', 'semiOpenPalm/IMG_20220501_154008.jpg', 'semiOpenPalm/IMG_20220501_160105.jpg', 'semiOpenPalm/IMG_20220502_142434.jpg', 'semiOpenPalm/IMG_20220509_130506.jpg', 'semiOpenPalm/IMG_20220509_131107.jpg', 'semiOpenPalm/IMG_20220502_142504.jpg', 'semiOpenPalm/IMG_20220502_131832.jpg', 'semiOpenPalm/IMG_20220502_141737.jpg', 'semiOpenPalm/IMG_20220524_141241.jpg', 'semiOpenPalm/IMG_20220509_134654.jpg', 'semiOpenPalm/IMG_20220501_163256.jpg', 'semiOpenPalm/IMG_20220524_141234.jpg', 'semiOpenPalm/IMG_20220522_165629.jpg', 'semiOpenPalm/IMG_20220501_152015.jpg', 'semiOpenPalm/IMG_20220509_134125.jpg', 'semiOpenPalm/IMG_20220522_141814.jpg', 'semiOpenPalm/IMG_20220509_134703.jpg', 'semiOpenPalm/IMG_20220522_180657.jpg', 'semiOpenPalm/IMG_20220501_154033.jpg', 'semiOpenPalm/IMG_20220522_141821.jpg', 'semiOpenPalm/IMG_20220509_134645.jpg', 'semiOpenPalm/IMG_20220502_131836.jpg', 'semiOpenPalm/IMG_20220509_130455.jpg', 'semiOpenPalm/IMG_20220524_140149.jpg', 'semiOpenPalm/IMG_20220502_125805.jpg', 'semiOpenPalm/IMG_20220522_165656.jpg', 'semiOpenPalm/IMG_20220501_154015.jpg', 'semiOpenPalm/IMG_20220522_164838.jpg', 'semiOpenPalm/IMG_20220522_142526.jpg', 'semiOpenPalm/IMG_20220502_124756.jpg', 'semiOpenPalm/IMG_20220521_104109.jpg', 'semiOpenPalm/IMG_20220501_152013.jpg', 'semiOpenPalm/IMG_20220501_152026.jpg', 'semiOpenPalm/IMG_20220522_175541.jpg', 'semiOpenPalm/IMG_20220522_180710.jpg', 'semiOpenPalm/IMG_20220430_183605.jpg', 'semiOpenPalm/IMG_20220509_134107.jpg', 'semiOpenPalm/IMG_20220509_134126.jpg', 'semiOpenPalm/IMG_20220509_130503.jpg', 'semiOpenPalm/IMG_20220501_152037.jpg', 'semiOpenPalm/IMG_20220522_175539.jpg', 'semiOpenPalm/IMG_20220501_154031.jpg', 'semiOpenPalm/IMG_20220521_105646.jpg', 'semiOpenPalm/IMG_20220522_180700.jpg', 'semiOpenPalm/IMG_20220522_164857.jpg', 'semiOpenPalm/IMG_20220524_140145.jpg', 'semiOpenPalm/IMG_20220509_132116.jpg', 'semiOpenPalm/IMG_20220501_163254.jpg', 'semiOpenPalm/IMG_20220521_104106.jpg', 'semiOpenPalm/IMG_20220502_135406.jpg', 'semiOpenPalm/IMG_20220501_160027.jpg', 'semiOpenPalm/IMG_20220522_142538.jpg', 'semiOpenPalm/IMG_20220509_132104.jpg', 'semiOpenPalm/IMG_20220522_165643.jpg', 'semiOpenPalm/IMG_20220502_131833.jpg', 'semiOpenPalm/IMG_20220501_154017.jpg', 'semiOpenPalm/IMG_20220502_131843.jpg', 'semiOpenPalm/IMG_20220522_141827.jpg', 'semiOpenPalm/IMG_20220430_183551.jpg', 'semiOpenPalm/IMG_20220522_175619.jpg', 'semiOpenPalm/IMG_20220509_134134.jpg', 'semiOpenPalm/IMG_20220502_140348.jpg', 'semiOpenPalm/IMG_20220502_135403.jpg', 'semiOpenPalm/IMG_20220509_132927.jpg', 'semiOpenPalm/IMG_20220502_140344.jpg', 'semiOpenPalm/IMG_20220524_140111.jpg', 'semiOpenPalm/IMG_20220522_180706.jpg', 'semiOpenPalm/IMG_20220509_132939.jpg', 'semiOpenPalm/IMG_20220501_152040.jpg', 'semiOpenPalm/IMG_20220522_142528.jpg', 'semiOpenPalm/IMG_20220522_175548.jpg', 'semiOpenPalm/IMG_20220502_135346.jpg', 'semiOpenPalm/IMG_20220502_132424.jpg', 'semiOpenPalm/IMG_20220509_132914.jpg', 'semiOpenPalm/IMG_20220522_180658.jpg', 'semiOpenPalm/IMG_20220509_131114.jpg', 'semiOpenPalm/IMG_20220501_152246.jpg', 'semiOpenPalm/IMG_20220509_132118.jpg', 'semiOpenPalm/IMG_20220502_135343.jpg', 'semiOpenPalm/IMG_20220502_125824.jpg', 'semiOpenPalm/IMG_20220509_132955.jpg', 'semiOpenPalm/IMG_20220509_134127.jpg', 'semiOpenPalm/IMG_20220509_130451.jpg', 'semiOpenPalm/IMG_20220502_132425.jpg', 'semiOpenPalm/IMG_20220521_105648.jpg', 'semiOpenPalm/IMG_20220502_135339.jpg', 'semiOpenPalm/IMG_20220502_135347.jpg', 'semiOpenPalm/IMG_20220509_132026.jpg', 'semiOpenPalm/IMG_20220502_142442.jpg', 'semiOpenPalm/IMG_20220502_131846.jpg', 'semiOpenPalm/IMG_20220509_134711.jpg', 'semiOpenPalm/IMG_20220522_164839.jpg', 'semiOpenPalm/IMG_20220522_165645.jpg', 'semiOpenPalm/IMG_20220502_131841.jpg', 'semiOpenPalm/IMG_20220509_130457.jpg', 'semiOpenPalm/IMG_20220509_130449.jpg', 'semiOpenPalm/IMG_20220502_142506.jpg', 'semiOpenPalm/IMG_20220502_142501.jpg', 'semiOpenPalm/IMG_20220522_165658.jpg', 'semiOpenPalm/IMG_20220502_132413.jpg', 'semiOpenPalm/IMG_20220522_175536.jpg', 'semiOpenPalm/IMG_20220502_140409.jpg', 'semiOpenPalm/IMG_20220502_125803.jpg', 'semiOpenPalm/IMG_20220524_141223.jpg', 'semiOpenPalm/IMG_20220509_131113.jpg', 'semiOpenPalm/IMG_20220502_125825.jpg', 'semiOpenPalm/IMG_20220501_160029.jpg', 'semiOpenPalm/IMG_20220502_142445.jpg', 'semiOpenPalm/IMG_20220502_142454.jpg', 'semiOpenPalm/IMG_20220522_164900.jpg', 'semiOpenPalm/IMG_20220522_141833.jpg', 'semiOpenPalm/IMG_20220509_132916.jpg', 'semiOpenPalm/IMG_20220524_140137.jpg', 'semiOpenPalm/IMG_20220509_134712.jpg', 'semiOpenPalm/IMG_20220509_132024.jpg', 'semiOpenPalm/IMG_20220522_141817.jpg', 'semiOpenPalm/IMG_20220524_140125.jpg', 'semiOpenPalm/IMG_20220501_160059.jpg', 'semiOpenPalm/IMG_20220509_134655.jpg', 'semiOpenPalm/IMG_20220502_132426.jpg', 'semiOpenPalm/IMG_20220522_164833.jpg', 'semiOpenPalm/IMG_20220509_132022.jpg', 'semiOpenPalm/IMG_20220522_142535.jpg', 'semiOpenPalm/IMG_20220522_165700.jpg', 'semiOpenPalm/IMG_20220502_135407.jpg', 'semiOpenPalm/IMG_20220509_130447.jpg', 'semiOpenPalm/IMG_20220501_152248.jpg', 'semiOpenPalm/IMG_20220521_105705.jpg', 'semiOpenPalm/IMG_20220524_141243.jpg', 'semiOpenPalm/IMG_20220502_132417.jpg', 'semiOpenPalm/IMG_20220509_132913.jpg', 'semiOpenPalm/IMG_20220524_141226.jpg', 'semiOpenPalm/IMG_20220502_140415.jpg', 'semiOpenPalm/IMG_20220502_142430.jpg', 'semiOpenPalm/IMG_20220522_142556.jpg', 'semiOpenPalm/IMG_20220509_134644.jpg', 'semiOpenPalm/IMG_20220522_141808.jpg', 'semiOpenPalm/IMG_20220509_131103.jpg', 'semiOpenPalm/IMG_20220522_141829.jpg', 'semiOpenPalm/IMG_20220522_141812.jpg', 'semiOpenPalm/IMG_20220502_135336.jpg', 'semiOpenPalm/IMG_20220521_104117.jpg', 'semiOpenPalm/IMG_20220501_160024.jpg', 'semiOpenPalm/IMG_20220522_142605.jpg', 'semiOpenPalm/IMG_20220509_130459.jpg', 'semiOpenPalm/IMG_20220509_131112.jpg', 'semiOpenPalm/IMG_20220502_124802.jpg', 'semiOpenPalm/IMG_20220522_142544.jpg', 'semiOpenPalm/IMG_20220522_142523.jpg', 'semiOpenPalm/IMG_20220502_125807.jpg', 'semiOpenPalm/IMG_20220502_142435.jpg', 'semiOpenPalm/IMG_20220502_135338.jpg', 'semiOpenPalm/IMG_20220522_175552.jpg', 'semiOpenPalm/IMG_20220502_140346.jpg', 'semiOpenPalm/IMG_20220502_142453.jpg', 'semiOpenPalm/IMG_20220509_134704_01.jpg', 'semiOpenPalm/IMG_20220509_134705.jpg', 'semiOpenPalm/IMG_20220522_175550.jpg', 'semiOpenPalm/IMG_20220522_180709.jpg', 'semiOpenPalm/IMG_20220521_104156.jpg', 'semiOpenPalm/IMG_20220501_163306.jpg', 'semiOpenPalm/IMG_20220522_175620.jpg', 'semiOpenPalm/IMG_20220522_164823.jpg', 'semiOpenPalm/IMG_20220509_132951.jpg', 'semiOpenPalm/IMG_20220509_132101.jpg', 'semiOpenPalm/IMG_20220522_165718.jpg', 'semiOpenPalm/IMG_20220501_152034.jpg', 'semiOpenPalm/IMG_20220502_142502.jpg', 'semiOpenPalm/IMG_20220522_142550.jpg', 'semiOpenPalm/IMG_20220521_105710.jpg', 'semiOpenPalm/IMG_20220509_132028.jpg', 'semiOpenPalm/IMG_20220509_131129.jpg', 'semiOpenPalm/IMG_20220502_140418.jpg', 'semiOpenPalm/IMG_20220524_140126.jpg', 'semiOpenPalm/IMG_20220502_140330.jpg', 'semiOpenPalm/IMG_20220502_125813.jpg', 'semiOpenPalm/IMG_20220522_164826.jpg', 'semiOpenPalm/IMG_20220521_105703.jpg', 'semiOpenPalm/IMG_20220509_132114.jpg', 'semiOpenPalm/IMG_20220509_134108.jpg', 'semiOpenPalm/IMG_20220502_140352.jpg', 'semiOpenPalm/IMG_20220522_165627.jpg', 'semiOpenPalm/IMG_20220502_141740.jpg', 'semiOpenPalm/IMG_20220522_141823.jpg', 'semiOpenPalm/IMG_20220502_124805.jpg', 'semiOpenPalm/IMG_20220522_165701.jpg', 'semiOpenPalm/IMG_20220522_180646.jpg', 'semiOpenPalm/IMG_20220522_141831.jpg', 'semiOpenPalm/IMG_20220524_141232.jpg', 'semiOpenPalm/IMG_20220502_142443.jpg', 'semiOpenPalm/IMG_20220502_142432.jpg', 'semiOpenPalm/IMG_20220522_180647.jpg', 'semiOpenPalm/IMG_20220509_132953.jpg', 'semiOpenPalm/IMG_20220502_140325.jpg', 'semiOpenPalm/IMG_20220522_175534.jpg', 'semiOpenPalm/IMG_20220524_141239.jpg', 'semiOpenPalm/IMG_20220430_183601.jpg', 'semiOpenPalm/IMG_20220509_132113.jpg', 'semiOpenPalm/IMG_20220502_140332.jpg', 'semiOpenPalm/IMG_20220521_104059.jpg', 'semiOpenPalm/IMG_20220509_130507.jpg', 'semiOpenPalm/IMG_20220521_104102.jpg', 'semiOpenPalm/IMG_20220522_164835.jpg', 'semiOpenPalm/IMG_20220509_131105.jpg', 'semiOpenPalm/IMG_20220522_142533.jpg', 'semiOpenPalm/IMG_20220501_163310.jpg', 'semiOpenPalm/IMG_20220509_131128.jpg', 'semiOpenPalm/IMG_20220509_134135.jpg', 'semiOpenPalm/IMG_20220509_134109.jpg', 'semiOpenPalm/IMG_20220524_141224.jpg', 'semiOpenPalm/IMG_20220522_180707.jpg', 'semiOpenPalm/IMG_20220509_132911.jpg', 'semiOpenPalm/IMG_20220522_180655.jpg', 'semiOpenPalm/IMG_20220509_132056.jpg', 'semiOpenPalm/IMG_20220501_152253.jpg', 'semiOpenPalm/IMG_20220509_134653.jpg', 'semiOpenPalm/IMG_20220521_105716.jpg', 'semiOpenPalm/IMG_20220524_141231.jpg', 'semiOpenPalm/IMG_20220430_183559.jpg', 'semiOpenPalm/IMG_20220524_140148.jpg', 'semiOpenPalm/IMG_20220501_160031.jpg', 'semiOpenPalm/IMG_20220509_134110.jpg', 'semiOpenPalm/IMG_20220502_132415.jpg', 'semiOpenPalm/IMG_20220501_152012.jpg', 'semiOpenPalm/IMG_20220501_152017.jpg', 'semiOpenPalm/IMG_20220501_160057.jpg', 'semiOpenPalm/IMG_20220522_180643.jpg', 'semiOpenPalm/IMG_20220430_183603.jpg', 'semiOpenPalm/IMG_20220521_104123.jpg', 'semiOpenPalm/IMG_20220509_132910.jpg', 'semiOpenPalm/IMG_20220509_131106.jpg', 'semiOpenPalm/IMG_20220521_105657.jpg', 'semiOpenPalm/IMG_20220501_163242.jpg', 'semiOpenPalm/IMG_20220522_164859.jpg', 'semiOpenPalm/IMG_20220509_134710.jpg', 'semiOpenPalm/IMG_20220522_142540.jpg', 'semiOpenPalm/IMG_20220509_134704.jpg', 'semiOpenPalm/IMG_20220521_104154.jpg', 'semiOpenPalm/IMG_20220501_152250.jpg', 'semiOpenPalm/IMG_20220509_130505.jpg', 'semiOpenPalm/IMG_20220509_130450.jpg', 'semiOpenPalm/IMG_20220522_175617.jpg', 'semiOpenPalm/IMG_20220502_141744.jpg', 'semiOpenPalm/IMG_20220502_124755.jpg', 'semiOpenPalm/IMG_20220501_163308.jpg', 'semiOpenPalm/IMG_20220501_154028.jpg', 'semiOpenPalm/IMG_20220502_125822.jpg', 'semiOpenPalm/IMG_20220502_142451.jpg', 'semiOpenPalm/IMG_20220502_132429.jpg', 'semiOpenPalm/IMG_20220509_131122.jpg', 'semiOpenPalm/IMG_20220522_175621.jpg', 'semiOpenPalm/IMG_20220522_165646.jpg', 'semiOpenPalm/IMG_20220521_105714.jpg', 'semiOpenPalm/IMG_20220502_135345.jpg', 'semiOpenPalm/IMG_20220522_141810.jpg', 'semiOpenPalm/IMG_20220502_141728.jpg', 'semiOpenPalm/IMG_20220522_141819.jpg', 'semiOpenPalm/IMG_20220524_140112.jpg', 'semiOpenPalm/IMG_20220509_132956.jpg', 'semiOpenPalm/IMG_20220509_132055.jpg', 'semiOpenPalm/IMG_20220502_141727.jpg', 'semiOpenPalm/IMG_20220501_154010.jpg', 'semiOpenPalm/IMG_20220521_104159.jpg', 'semiOpenPalm/IMG_20220524_140135.jpg', 'semiOpenPalm/IMG_20220430_183549.jpg', 'semiOpenPalm/IMG_20220522_142554.jpg', 'semiOpenPalm/IMG_20220521_104115.jpg', 'semiOpenPalm/IMG_20220509_134136.jpg', 'semiOpenPalm/IMG_20220502_124751.jpg', 'semiOpenPalm/IMG_20220502_140327.jpg', 'semiOpenPalm/IMG_20220524_140146.jpg', 'semiOpenPalm/IMG_20220522_142552.jpg', 'semiOpenPalm/IMG_20220502_124804.jpg', 'semiOpenPalm/IMG_20220521_105700.jpg', 'semiOpenPalm/IMG_20220522_164819.jpg', 'semiOpenPalm/IMG_20220522_142530.jpg', 'semiOpenPalm/IMG_20220502_141742.jpg', 'semiOpenPalm/IMG_20220524_141230.jpg', 'semiOpenPalm/IMG_20220509_131130.jpg', 'semiOpenPalm/IMG_20220522_164814.jpg', 'semiOpenPalm/IMG_20220502_135341.jpg', 'multiFingerBend/IMG_20220502_135540.jpg', 'multiFingerBend/IMG_20220502_135544.jpg', 'multiFingerBend/IMG_20220509_134852.jpg', 'multiFingerBend/IMG_20220521_104540.jpg', 'multiFingerBend/IMG_20220430_181603.jpg', 'multiFingerBend/IMG_20220430_181608.jpg', 'multiFingerBend/IMG_20220502_132503.jpg', 'multiFingerBend/IMG_20220509_133305.jpg', 'multiFingerBend/IMG_20220522_165005.jpg', 'multiFingerBend/IMG_20220522_180834.jpg', 'multiFingerBend/IMG_20220509_135010.jpg', 'multiFingerBend/IMG_20220524_141432.jpg', 'multiFingerBend/IMG_20220522_141931.jpg', 'multiFingerBend/IMG_20220522_175753.jpg', 'multiFingerBend/IMG_20220430_181535.jpg', 'multiFingerBend/IMG_20220522_165009.jpg', 'multiFingerBend/IMG_20220502_140530.jpg', 'multiFingerBend/IMG_20220522_165725.jpg', 'multiFingerBend/IMG_20220522_175802.jpg', 'multiFingerBend/IMG_20220522_165736.jpg', 'multiFingerBend/IMG_20220522_142650.jpg', 'multiFingerBend/IMG_20220430_181533.jpg', 'multiFingerBend/IMG_20220502_140539.jpg', 'multiFingerBend/IMG_20220522_175758.jpg', 'multiFingerBend/IMG_20220509_130627.jpg', 'multiFingerBend/IMG_20220430_181546.jpg', 'multiFingerBend/IMG_20220509_134813.jpg', 'multiFingerBend/IMG_20220521_105902.jpg', 'multiFingerBend/IMG_20220430_181611.jpg', 'multiFingerBend/IMG_20220522_180837.jpg', 'multiFingerBend/IMG_20220501_152510.jpg', 'multiFingerBend/IMG_20220509_133310.jpg', 'multiFingerBend/IMG_20220430_184031.jpg', 'multiFingerBend/IMG_20220524_140407.jpg', 'multiFingerBend/IMG_20220430_184027.jpg', 'multiFingerBend/IMG_20220522_165000.jpg', 'multiFingerBend/IMG_20220524_141436.jpg', 'multiFingerBend/IMG_20220509_130630.jpg', 'multiFingerBend/IMG_20220430_184144.jpg', 'multiFingerBend/IMG_20220430_181536.jpg', 'multiFingerBend/IMG_20220430_181538.jpg', 'multiFingerBend/IMG_20220522_180841.jpg', 'multiFingerBend/IMG_20220522_165728.jpg', 'multiFingerBend/IMG_20220522_142655.jpg', 'multiFingerBend/IMG_20220524_141440.jpg', 'multiFingerBend/IMG_20220509_133052.jpg', 'multiFingerBend/IMG_20220522_141939.jpg', 'multiFingerBend/IMG_20220502_135535.jpg', 'multiFingerBend/IMG_20220522_141935.jpg', 'multiFingerBend/IMG_20220522_142646.jpg', 'multiFingerBend/IMG_20220430_181557.jpg', 'multiFingerBend/IMG_20220501_160210.jpg', 'multiFingerBend/IMG_20220521_104547.jpg', 'multiFingerBend/IMG_20220502_125219.jpg', 'multiFingerBend/IMG_20220524_140403.jpg', 'multiFingerBend/IMG_20220502_140524.jpg', 'multiFingerBend/IMG_20220509_130622.jpg', 'multiFingerBend/IMG_20220524_140416.jpg', 'multiFingerBend/IMG_20220521_105909.jpg', 'multiFingerBend/IMG_20220509_135013.jpg', 'multiFingerBend/IMG_20220430_181529.jpg', 'multiFingerBend/IMG_20220430_184134.jpg', 'multiFingerBend/IMG_20220430_184044.jpg', 'multiFingerBend/IMG_20220502_132508.jpg', 'multiFingerBend/IMG_20220501_154216.jpg', 'multiFingerBend/IMG_20220521_105854.jpg', 'multiFingerBend/IMG_20220509_133046.jpg', 'multiFingerBend/IMG_20220430_184153.jpg', 'multiFingerBend/IMG_20220430_181613.jpg', 'singleFingerBend/IMG_20220502_140445.jpg', 'singleFingerBend/IMG_20220522_180818.jpg', 'singleFingerBend/IMG_20220509_134305.jpg', 'singleFingerBend/IMG_20220522_141915.jpg', 'singleFingerBend/IMG_20220521_104515.jpg', 'singleFingerBend/IMG_20220502_125151.jpg', 'singleFingerBend/IMG_20220524_140330.jpg', 'singleFingerBend/IMG_20220509_134257.jpg', 'singleFingerBend/IMG_20220502_131936.jpg', 'singleFingerBend/IMG_20220502_142629.jpg', 'singleFingerBend/IMG_20220502_125906.jpg', 'singleFingerBend/IMG_20220509_131204.jpg', 'singleFingerBend/IMG_20220502_135435.jpg', 'singleFingerBend/IMG_20220502_140457.jpg', 'singleFingerBend/IMG_20220524_140357.jpg', 'singleFingerBend/IMG_20220524_141413.jpg', 'singleFingerBend/IMG_20220509_133036.jpg', 'singleFingerBend/IMG_20220524_140356.jpg', 'singleFingerBend/IMG_20220524_141410.jpg', 'singleFingerBend/IMG_20220522_180754.jpg', 'singleFingerBend/IMG_20220509_131149.jpg', 'singleFingerBend/IMG_20220509_131156.jpg', 'singleFingerBend/IMG_20220430_183942.jpg', 'singleFingerBend/IMG_20220509_132235.jpg', 'singleFingerBend/IMG_20220430_183811.jpg', 'singleFingerBend/IMG_20220522_164949.jpg', 'singleFingerBend/IMG_20220502_135507.jpg', 'singleFingerBend/IMG_20220502_135459.jpg', 'singleFingerBend/IMG_20220522_175720.jpg', 'singleFingerBend/IMG_20220502_140448.jpg', 'singleFingerBend/IMG_20220522_142640.jpg', 'singleFingerBend/IMG_20220509_134848.jpg', 'singleFingerBend/IMG_20220502_135443.jpg', 'singleFingerBend/IMG_20220509_133016.jpg', 'singleFingerBend/IMG_20220502_135437.jpg', 'singleFingerBend/IMG_20220522_180824.jpg', 'singleFingerBend/IMG_20220502_125914.jpg', 'singleFingerBend/IMG_20220430_181504.jpg', 'singleFingerBend/IMG_20220509_130612.jpg', 'singleFingerBend/IMG_20220521_104518.jpg', 'singleFingerBend/IMG_20220502_140511.jpg', 'singleFingerBend/IMG_20220502_135445.jpg', 'singleFingerBend/IMG_20220521_105840.jpg', 'singleFingerBend/IMG_20220524_140320.jpg', 'singleFingerBend/IMG_20220509_134318.jpg', 'singleFingerBend/IMG_20220509_134316.jpg', 'singleFingerBend/IMG_20220521_104509.jpg', 'singleFingerBend/IMG_20220522_180749.jpg', 'singleFingerBend/IMG_20220522_175728.jpg', 'singleFingerBend/IMG_20220524_140322.jpg', 'singleFingerBend/IMG_20220522_141918.jpg', 'singleFingerBend/IMG_20220509_134833.jpg', 'singleFingerBend/IMG_20220502_135457.jpg', 'singleFingerBend/IMG_20220522_180756.jpg', 'singleFingerBend/IMG_20220502_135513.jpg', 'singleFingerBend/IMG_20220430_181416.jpg', 'singleFingerBend/IMG_20220522_142621.jpg', 'singleFingerBend/IMG_20220509_134845.jpg', 'singleFingerBend/IMG_20220509_134320.jpg', 'singleFingerBend/IMG_20220509_130604.jpg', 'singleFingerBend/IMG_20220509_132254.jpg', 'singleFingerBend/IMG_20220509_130600.jpg', 'singleFingerBend/IMG_20220522_141844.jpg', 'singleFingerBend/IMG_20220509_134323.jpg', 'singleFingerBend/IMG_20220509_130539.jpg', 'singleFingerBend/IMG_20220509_134309.jpg', 'singleFingerBend/IMG_20220509_132242.jpg', 'singleFingerBend/IMG_20220430_181503.jpg', 'singleFingerBend/IMG_20220502_140434.jpg', 'singleFingerBend/IMG_20220509_133021.jpg', 'singleFingerBend/IMG_20220521_105847.jpg', 'singleFingerBend/IMG_20220509_134252.jpg', 'singleFingerBend/IMG_20220522_142635.jpg', 'singleFingerBend/IMG_20220502_135514.jpg', 'singleFingerBend/IMG_20220430_181422.jpg', 'singleFingerBend/IMG_20220430_181508.jpg', 'singleFingerBend/IMG_20220509_132249.jpg', 'singleFingerBend/IMG_20220524_141424.jpg', 'singleFingerBend/IMG_20220521_104527.jpg', 'singleFingerBend/IMG_20220509_132251.jpg', 'singleFingerBend/IMG_20220522_141924.jpg', 'singleFingerBend/IMG_20220522_141904.jpg', 'singleFingerBend/IMG_20220509_134837.jpg', 'singleFingerBend/IMG_20220524_141351.jpg', 'singleFingerBend/IMG_20220502_125212.jpg', 'singleFingerBend/IMG_20220522_142620.jpg', 'singleFingerBend/IMG_20220430_181441.jpg', 'singleFingerBend/IMG_20220502_135440.jpg', 'singleFingerBend/IMG_20220430_181517.jpg', 'singleFingerBend/IMG_20220522_142610.jpg', 'singleFingerBend/IMG_20220522_141855.jpg', 'singleFingerBend/IMG_20220509_134307.jpg', 'singleFingerBend/IMG_20220522_142626.jpg', 'singleFingerBend/IMG_20220522_142623.jpg', 'singleFingerBend/IMG_20220509_134831.jpg', 'singleFingerBend/IMG_20220522_180815.jpg', 'singleFingerBend/IMG_20220521_104502.jpg', 'singleFingerBend/IMG_20220509_134258.jpg', 'singleFingerBend/IMG_20220430_181458.jpg', 'singleFingerBend/IMG_20220509_134836.jpg', 'singleFingerBend/IMG_20220524_140354.jpg', 'singleFingerBend/IMG_20220502_125107.jpg', 'singleFingerBend/IMG_20220522_164928.jpg', 'singleFingerBend/IMG_20220509_132214.jpg', 'singleFingerBend/IMG_20220502_135529.jpg', 'singleFingerBend/IMG_20220502_125908.jpg', 'singleFingerBend/IMG_20220502_140437.jpg', 'singleFingerBend/IMG_20220522_141900.jpg', 'singleFingerBend/IMG_20220509_134844.jpg', 'singleFingerBend/IMG_20220509_131210.jpg', 'singleFingerBend/IMG_20220502_135502.jpg', 'singleFingerBend/IMG_20220522_141916.jpg', 'singleFingerBend/IMG_20220430_183915.jpg', 'singleFingerBend/IMG_20220522_164921.jpg', 'singleFingerBend/IMG_20220521_105832.jpg', 'singleFingerBend/IMG_20220521_105823.jpg', 'singleFingerBend/IMG_20220521_104457.jpg', 'singleFingerBend/IMG_20220522_180810.jpg', 'singleFingerBend/IMG_20220509_133034.jpg', 'singleFingerBend/IMG_20220524_141406.jpg', 'singleFingerBend/IMG_20220502_135516.jpg', 'singleFingerBend/IMG_20220524_141408.jpg', 'singleFingerBend/IMG_20220522_141906.jpg', 'singleFingerBend/IMG_20220502_132447.jpg', 'singleFingerBend/IMG_20220509_132255.jpg', 'singleFingerBend/IMG_20220509_134321.jpg', 'singleFingerBend/IMG_20220509_134303.jpg', 'singleFingerBend/IMG_20220524_141420.jpg', 'singleFingerBend/IMG_20220430_183814.jpg', 'singleFingerBend/IMG_20220524_141354.jpg', 'singleFingerBend/IMG_20220430_183757.jpg', 'singleFingerBend/IMG_20220522_175736.jpg', 'singleFingerBend/IMG_20220522_142631.jpg', 'singleFingerBend/IMG_20220522_175724.jpg', 'singleFingerBend/IMG_20220502_140452.jpg', 'singleFingerBend/IMG_20220430_181428.jpg', 'singleFingerBend/IMG_20220522_141846.jpg', 'singleFingerBend/IMG_20220521_105829.jpg', 'singleFingerBend/IMG_20220502_131911.jpg', 'singleFingerBend/IMG_20220524_140338.jpg', 'singleFingerBend/IMG_20220502_135500.jpg', 'singleFingerBend/IMG_20220521_104454.jpg', 'singleFingerBend/IMG_20220502_125856.jpg', 'singleFingerBend/IMG_20220509_134311.jpg', 'singleFingerBend/IMG_20220524_141347.jpg', 'singleFingerBend/IMG_20220522_175707.jpg', 'singleFingerBend/IMG_20220509_134846.jpg', 'singleFingerBend/IMG_20220502_125115.jpg', 'singleFingerBend/IMG_20220430_181418.jpg', 'singleFingerBend/IMG_20220509_130615.jpg', 'singleFingerBend/IMG_20220521_105825.jpg', 'singleFingerBend/IMG_20220522_142607.jpg', 'singleFingerBend/IMG_20220521_105842.jpg', 'singleFingerBend/IMG_20220521_105810.jpg', 'singleFingerBend/IMG_20220509_134247.jpg', 'singleFingerBend/IMG_20220509_134254.jpg', 'singleFingerBend/IMG_20220509_132239.jpg', 'singleFingerBend/IMG_20220502_140455.jpg', 'singleFingerBend/IMG_20220509_132228.jpg', 'singleFingerBend/IMG_20220522_180827.jpg', 'singleFingerBend/IMG_20220524_141425.jpg', 'singleFingerBend/IMG_20220524_141422.jpg', 'singleFingerBend/IMG_20220521_105808.jpg', 'singleFingerBend/IMG_20220509_131147.jpg', 'singleFingerBend/IMG_20220502_132455.jpg', 'singleFingerBend/IMG_20220521_105819.jpg', 'singleFingerBend/IMG_20220524_141426.jpg', 'singleFingerBend/IMG_20220430_183940.jpg', 'singleFingerBend/IMG_20220509_133030.jpg', 'singleFingerBend/IMG_20220522_180829.jpg', 'singleFingerBend/IMG_20220509_132244.jpg', 'singleFingerBend/IMG_20220522_180826.jpg', 'singleFingerBend/IMG_20220522_142609.jpg', 'singleFingerBend/IMG_20220502_140454.jpg', 'singleFingerBend/IMG_20220502_140503.jpg', 'singleFingerBend/IMG_20220521_105806.jpg', 'singleFingerBend/IMG_20220509_133013.jpg', 'singleFingerBend/IMG_20220521_105827.jpg', 'singleFingerBend/IMG_20220430_183908.jpg', 'singleFingerBend/IMG_20220502_125127.jpg', 'singleFingerBend/IMG_20220524_141358.jpg', 'singleFingerBend/IMG_20220521_104522.jpg', 'singleFingerBend/IMG_20220522_180828.jpg', 'singleFingerBend/IMG_20220502_135454.jpg', 'singleFingerBend/IMG_20220502_140439.jpg', 'singleFingerBend/IMG_20220522_180751.jpg', 'singleFingerBend/IMG_20220502_125903.jpg', 'singleFingerBend/IMG_20220522_180813.jpg', 'singleFingerBend/IMG_20220522_142612.jpg', 'singleFingerBend/IMG_20220509_132221.jpg', 'singleFingerBend/IMG_20220521_104524.jpg', 'singleFingerBend/IMG_20220522_142624.jpg', 'singleFingerBend/IMG_20220509_130532.jpg', 'singleFingerBend/IMG_20220522_141848.jpg', 'singleFingerBend/IMG_20220502_140516.jpg', 'singleFingerBend/IMG_20220509_133019.jpg', 'singleFingerBend/IMG_20220430_183944.jpg', 'singleFingerBend/IMG_20220521_105844.jpg', 'singleFingerBend/IMG_20220522_175738.jpg', 'singleFingerBend/IMG_20220502_140459.jpg', 'singleFingerBend/IMG_20220502_135511.jpg', 'singleFingerBend/IMG_20220502_125858.jpg', 'singleFingerBend/IMG_20220522_142633.jpg', 'singleFingerBend/IMG_20220509_132225.jpg', 'singleFingerBend/IMG_20220524_141345.jpg', 'singleFingerBend/IMG_20220522_141850.jpg', 'singleFingerBend/IMG_20220502_131859.jpg', 'singleFingerBend/IMG_20220522_141908.jpg', 'singleFingerBend/IMG_20220502_135449.jpg', 'singleFingerBend/IMG_20220430_181500.jpg', 'singleFingerBend/IMG_20220502_140515.jpg', 'singleFingerBend/IMG_20220509_134843.jpg', 'singleFingerBend/IMG_20220522_141913.jpg', 'singleFingerBend/IMG_20220502_131933.jpg', 'singleFingerBend/IMG_20220521_104500.jpg', 'singleFingerBend/IMG_20220502_135509.jpg', 'singleFingerBend/IMG_20220430_184008.jpg', 'singleFingerBend/IMG_20220522_175741.jpg', 'singleFingerBend/IMG_20220522_142637.jpg', 'singleFingerBend/IMG_20220522_175744.jpg', 'singleFingerBend/IMG_20220521_105800.jpg', 'singleFingerBend/IMG_20220509_131203.jpg', 'singleFingerBend/IMG_20220524_140336.jpg', 'singleFingerBend/IMG_20220522_180817.jpg', 'singleFingerBend/IMG_20220430_181420.jpg', 'singleFingerBend/IMG_20220521_105838.jpg', 'singleFingerBend/IMG_20220522_141902.jpg', 'singleFingerBend/IMG_20220524_140306.jpg', 'singleFingerBend/IMG_20220522_175734.jpg', 'singleFingerBend/IMG_20220524_141411.jpg', 'singleFingerBend/IMG_20220509_134250.jpg', 'singleFingerBend/IMG_20220509_134839.jpg', 'singleFingerBend/IMG_20220524_141353.jpg', 'singleFingerBend/IMG_20220502_125204.jpg', 'singleFingerBend/IMG_20220502_125854.jpg', 'singleFingerBend/IMG_20220430_183912.jpg', 'singleFingerBend/IMG_20220502_140514.jpg', 'singleFingerBend/IMG_20220509_133032.jpg', 'singleFingerBend/IMG_20220502_140512.jpg']\n",
            "['fingerCircle', 'fingerCircle', 'fingerCircle', 'fingerCircle', 'fingerCircle', 'fingerCircle', 'fingerCircle', 'fingerCircle', 'fingerCircle', 'fingerCircle', 'fingerCircle', 'fingerCircle', 'fingerCircle', 'fingerCircle', 'fingerCircle', 'fingerCircle', 'fingerCircle', 'fingerCircle', 'fingerCircle', 'fingerCircle', 'fingerCircle', 'fingerCircle', 'fingerCircle', 'fingerCircle', 'fingerCircle', 'fingerCircle', 'fingerCircle', 'fingerCircle', 'fingerCircle', 'fingerCircle', 'fingerCircle', 'fingerCircle', 'fingerCircle', 'fingerCircle', 'fingerCircle', 'fingerCircle', 'fingerCircle', 'fingerCircle', 'fingerCircle', 'fingerCircle', 'fingerCircle', 'fingerCircle', 'fingerCircle', 'fingerCircle', 'fingerCircle', 'fingerCircle', 'fingerCircle', 'fingerCircle', 'fingerCircle', 'fingerCircle', 'fingerCircle', 'fingerCircle', 'fingerCircle', 'fingerCircle', 'fingerCircle', 'fingerCircle', 'fingerCircle', 'fingerCircle', 'fingerCircle', 'fingerCircle', 'fingerCircle', 'fingerCircle', 'fingerCircle', 'fingerCircle', 'fingerCircle', 'fingerCircle', 'fingerCircle', 'fingerCircle', 'fingerCircle', 'fingerCircle', 'fingerCircle', 'fingerCircle', 'fingerCircle', 'fingerCircle', 'fingerCircle', 'fingerCircle', 'fingerCircle', 'fingerCircle', 'fingerCircle', 'fingerCircle', 'fingerCircle', 'fingerCircle', 'fingerCircle', 'fingerCircle', 'fingerCircle', 'fingerCircle', 'fingerCircle', 'fingerCircle', 'fingerCircle', 'fingerCircle', 'fingerCircle', 'fingerCircle', 'fingerCircle', 'fingerCircle', 'fingerCircle', 'fingerCircle', 'fingerCircle', 'fingerCircle', 'fingerCircle', 'fingerCircle', 'fingerCircle', 'fingerCircle', 'fingerCircle', 'fingerCircle', 'fingerCircle', 'fingerCircle', 'fingerCircle', 'fingerCircle', 'fingerCircle', 'fingerCircle', 'fingerCircle', 'fingerCircle', 'fingerCircle', 'fingerCircle', 'fingerCircle', 'fingerCircle', 'fingerCircle', 'fingerCircle', 'fingerCircle', 'fingerCircle', 'fingerCircle', 'fingerCircle', 'fingerCircle', 'fingerCircle', 'fingerCircle', 'fingerCircle', 'fingerCircle', 'fingerCircle', 'fingerCircle', 'fingerCircle', 'fingerCircle', 'fingerCircle', 'fingerCircle', 'fingerCircle', 'fingerCircle', 'fingerCircle', 'fingerCircle', 'fingerCircle', 'fingerCircle', 'fingerCircle', 'fingerCircle', 'fingerCircle', 'fingerCircle', 'fingerCircle', 'fingerCircle', 'fingerCircle', 'fingerCircle', 'fingerCircle', 'fingerCircle', 'fingerCircle', 'fingerCircle', 'fingerCircle', 'fingerCircle', 'fingerCircle', 'fingerCircle', 'fingerCircle', 'fingerCircle', 'fingerCircle', 'fingerCircle', 'fingerCircle', 'fingerCircle', 'fingerCircle', 'fingerCircle', 'fingerCircle', 'fingerCircle', 'fingerCircle', 'fingerCircle', 'fingerCircle', 'fingerCircle', 'fingerCircle', 'fingerCircle', 'fingerCircle', 'fingerCircle', 'fingerCircle', 'fingerCircle', 'fingerCircle', 'fingerCircle', 'fingerCircle', 'fingerCircle', 'fingerCircle', 'fingerCircle', 'fingerCircle', 'fingerCircle', 'fingerCircle', 'fingerCircle', 'fingerCircle', 'fingerCircle', 'fingerCircle', 'fingerCircle', 'fingerCircle', 'fingerCircle', 'fingerCircle', 'fingerCircle', 'fingerCircle', 'fingerCircle', 'fingerCircle', 'fingerCircle', 'fingerCircle', 'fingerCircle', 'fingerCircle', 'fingerCircle', 'fingerCircle', 'fingerCircle', 'fingerCircle', 'fingerCircle', 'fingerCircle', 'fingerCircle', 'fingerCircle', 'fingerCircle', 'fingerCircle', 'fingerCircle', 'fingerCircle', 'fingerCircle', 'fingerCircle', 'fingerCircle', 'fingerCircle', 'fingerCircle', 'fingerCircle', 'fingerCircle', 'fingerCircle', 'fingerCircle', 'fingerCircle', 'fingerCircle', 'fingerCircle', 'fingerCircle', 'fingerCircle', 'fingerCircle', 'fingerCircle', 'fingerCircle', 'fingerCircle', 'fingerCircle', 'fingerCircle', 'fingerCircle', 'semiOpenFist', 'semiOpenFist', 'semiOpenFist', 'semiOpenFist', 'semiOpenFist', 'semiOpenFist', 'semiOpenFist', 'semiOpenFist', 'semiOpenFist', 'semiOpenFist', 'semiOpenFist', 'semiOpenFist', 'semiOpenFist', 'semiOpenFist', 'semiOpenFist', 'semiOpenFist', 'semiOpenFist', 'semiOpenFist', 'semiOpenFist', 'semiOpenFist', 'semiOpenFist', 'semiOpenFist', 'semiOpenFist', 'semiOpenFist', 'semiOpenFist', 'semiOpenFist', 'semiOpenFist', 'semiOpenFist', 'semiOpenFist', 'semiOpenFist', 'semiOpenFist', 'semiOpenFist', 'semiOpenFist', 'semiOpenFist', 'semiOpenFist', 'semiOpenFist', 'semiOpenFist', 'semiOpenFist', 'semiOpenFist', 'semiOpenFist', 'semiOpenFist', 'semiOpenFist', 'semiOpenFist', 'semiOpenFist', 'semiOpenFist', 'semiOpenFist', 'semiOpenFist', 'semiOpenFist', 'semiOpenFist', 'semiOpenFist', 'semiOpenFist', 'semiOpenFist', 'semiOpenFist', 'semiOpenFist', 'semiOpenFist', 'semiOpenFist', 'semiOpenFist', 'semiOpenFist', 'semiOpenFist', 'semiOpenFist', 'semiOpenFist', 'semiOpenFist', 'semiOpenFist', 'semiOpenFist', 'semiOpenFist', 'semiOpenFist', 'semiOpenFist', 'semiOpenFist', 'semiOpenFist', 'semiOpenFist', 'semiOpenFist', 'semiOpenFist', 'semiOpenFist', 'semiOpenFist', 'semiOpenFist', 'semiOpenFist', 'semiOpenFist', 'semiOpenFist', 'semiOpenFist', 'semiOpenFist', 'semiOpenFist', 'semiOpenFist', 'semiOpenFist', 'semiOpenFist', 'semiOpenFist', 'semiOpenFist', 'semiOpenFist', 'semiOpenFist', 'semiOpenFist', 'semiOpenFist', 'semiOpenFist', 'semiOpenFist', 'semiOpenFist', 'semiOpenFist', 'semiOpenFist', 'semiOpenFist', 'semiOpenFist', 'semiOpenFist', 'semiOpenFist', 'semiOpenFist', 'semiOpenFist', 'semiOpenFist', 'semiOpenFist', 'semiOpenFist', 'semiOpenFist', 'semiOpenFist', 'semiOpenFist', 'semiOpenFist', 'semiOpenFist', 'semiOpenFist', 'semiOpenFist', 'semiOpenFist', 'semiOpenFist', 'semiOpenFist', 'semiOpenFist', 'semiOpenFist', 'semiOpenFist', 'semiOpenFist', 'semiOpenFist', 'semiOpenFist', 'semiOpenFist', 'semiOpenFist', 'semiOpenFist', 'semiOpenFist', 'semiOpenFist', 'semiOpenFist', 'semiOpenFist', 'semiOpenFist', 'semiOpenFist', 'semiOpenFist', 'semiOpenFist', 'semiOpenFist', 'semiOpenFist', 'semiOpenFist', 'semiOpenFist', 'semiOpenFist', 'semiOpenFist', 'semiOpenFist', 'semiOpenFist', 'semiOpenFist', 'semiOpenFist', 'semiOpenFist', 'semiOpenFist', 'semiOpenFist', 'semiOpenFist', 'semiOpenFist', 'semiOpenFist', 'semiOpenFist', 'semiOpenFist', 'semiOpenFist', 'semiOpenFist', 'semiOpenFist', 'semiOpenFist', 'semiOpenFist', 'semiOpenFist', 'semiOpenFist', 'semiOpenFist', 'semiOpenFist', 'semiOpenFist', 'semiOpenFist', 'semiOpenFist', 'semiOpenFist', 'semiOpenFist', 'semiOpenFist', 'semiOpenFist', 'semiOpenFist', 'semiOpenFist', 'semiOpenFist', 'semiOpenFist', 'semiOpenFist', 'semiOpenFist', 'semiOpenFist', 'semiOpenFist', 'semiOpenFist', 'semiOpenFist', 'semiOpenFist', 'semiOpenFist', 'semiOpenFist', 'semiOpenFist', 'semiOpenFist', 'semiOpenFist', 'semiOpenFist', 'semiOpenFist', 'semiOpenFist', 'semiOpenFist', 'semiOpenFist', 'semiOpenFist', 'semiOpenFist', 'semiOpenFist', 'semiOpenFist', 'semiOpenFist', 'semiOpenFist', 'semiOpenFist', 'semiOpenFist', 'semiOpenFist', 'semiOpenFist', 'semiOpenFist', 'semiOpenFist', 'semiOpenFist', 'semiOpenFist', 'semiOpenFist', 'semiOpenFist', 'semiOpenFist', 'semiOpenFist', 'semiOpenFist', 'semiOpenFist', 'semiOpenFist', 'semiOpenFist', 'semiOpenFist', 'semiOpenFist', 'semiOpenFist', 'semiOpenFist', 'semiOpenFist', 'semiOpenFist', 'semiOpenFist', 'semiOpenFist', 'semiOpenFist', 'semiOpenFist', 'semiOpenFist', 'semiOpenFist', 'semiOpenFist', 'semiOpenFist', 'semiOpenFist', 'semiOpenFist', 'semiOpenFist', 'semiOpenFist', 'semiOpenFist', 'semiOpenFist', 'semiOpenFist', 'semiOpenFist', 'semiOpenFist', 'semiOpenFist', 'semiOpenFist', 'semiOpenFist', 'semiOpenFist', 'semiOpenFist', 'semiOpenFist', 'semiOpenFist', 'semiOpenFist', 'semiOpenFist', 'semiOpenFist', 'semiOpenFist', 'semiOpenFist', 'semiOpenFist', 'semiOpenFist', 'semiOpenFist', 'semiOpenFist', 'semiOpenFist', 'semiOpenFist', 'semiOpenFist', 'semiOpenFist', 'semiOpenFist', 'semiOpenFist', 'semiOpenFist', 'semiOpenFist', 'semiOpenFist', 'semiOpenFist', 'semiOpenFist', 'semiOpenFist', 'semiOpenFist', 'semiOpenFist', 'semiOpenFist', 'semiOpenFist', 'semiOpenFist', 'semiOpenFist', 'semiOpenFist', 'semiOpenFist', 'semiOpenFist', 'semiOpenFist', 'semiOpenFist', 'semiOpenFist', 'semiOpenFist', 'semiOpenFist', 'semiOpenFist', 'semiOpenFist', 'semiOpenFist', 'semiOpenFist', 'semiOpenFist', 'semiOpenFist', 'semiOpenFist', 'semiOpenFist', 'semiOpenFist', 'semiOpenFist', 'semiOpenFist', 'semiOpenFist', 'semiOpenFist', 'semiOpenFist', 'semiOpenFist', 'semiOpenFist', 'semiOpenFist', 'semiOpenFist', 'semiOpenFist', 'semiOpenFist', 'semiOpenFist', 'semiOpenFist', 'semiOpenFist', 'semiOpenFist', 'semiOpenFist', 'semiOpenFist', 'semiOpenFist', 'semiOpenFist', 'semiOpenFist', 'semiOpenFist', 'semiOpenFist', 'semiOpenFist', 'semiOpenFist', 'semiOpenFist', 'semiOpenFist', 'semiOpenFist', 'semiOpenFist', 'semiOpenFist', 'semiOpenFist', 'semiOpenFist', 'semiOpenFist', 'semiOpenFist', 'semiOpenFist', 'semiOpenFist', 'semiOpenFist', 'semiOpenFist', 'semiOpenFist', 'semiOpenFist', 'semiOpenFist', 'semiOpenFist', 'semiOpenFist', 'semiOpenFist', 'semiOpenFist', 'semiOpenFist', 'semiOpenFist', 'semiOpenFist', 'semiOpenFist', 'semiOpenFist', 'semiOpenFist', 'semiOpenFist', 'semiOpenFist', 'semiOpenFist', 'semiOpenFist', 'semiOpenFist', 'semiOpenFist', 'semiOpenFist', 'semiOpenFist', 'semiOpenFist', 'semiOpenFist', 'semiOpenFist', 'semiOpenFist', 'semiOpenFist', 'semiOpenFist', 'semiOpenFist', 'semiOpenFist', 'semiOpenFist', 'semiOpenFist', 'semiOpenFist', 'semiOpenFist', 'semiOpenFist', 'semiOpenFist', 'semiOpenFist', 'semiOpenFist', 'semiOpenFist', 'semiOpenFist', 'semiOpenFist', 'semiOpenFist', 'semiOpenFist', 'fingerSymbols', 'fingerSymbols', 'fingerSymbols', 'fingerSymbols', 'fingerSymbols', 'fingerSymbols', 'fingerSymbols', 'fingerSymbols', 'fingerSymbols', 'fingerSymbols', 'fingerSymbols', 'fingerSymbols', 'fingerSymbols', 'fingerSymbols', 'fingerSymbols', 'fingerSymbols', 'fingerSymbols', 'fingerSymbols', 'fingerSymbols', 'fingerSymbols', 'fingerSymbols', 'fingerSymbols', 'fingerSymbols', 'fingerSymbols', 'fingerSymbols', 'fingerSymbols', 'fingerSymbols', 'fingerSymbols', 'fingerSymbols', 'fingerSymbols', 'fingerSymbols', 'fingerSymbols', 'fingerSymbols', 'fingerSymbols', 'fingerSymbols', 'fingerSymbols', 'fingerSymbols', 'fingerSymbols', 'fingerSymbols', 'fingerSymbols', 'fingerSymbols', 'fingerSymbols', 'fingerSymbols', 'fingerSymbols', 'fingerSymbols', 'fingerSymbols', 'fingerSymbols', 'fingerSymbols', 'fingerSymbols', 'fingerSymbols', 'fingerSymbols', 'fingerSymbols', 'fingerSymbols', 'fingerSymbols', 'fingerSymbols', 'fingerSymbols', 'fingerSymbols', 'fingerSymbols', 'fingerSymbols', 'fingerSymbols', 'fingerSymbols', 'fingerSymbols', 'fingerSymbols', 'fingerSymbols', 'fingerSymbols', 'fingerSymbols', 'fingerSymbols', 'fingerSymbols', 'fingerSymbols', 'fingerSymbols', 'fingerSymbols', 'fingerSymbols', 'fingerSymbols', 'fingerSymbols', 'fingerSymbols', 'fingerSymbols', 'fingerSymbols', 'fingerSymbols', 'fingerSymbols', 'fingerSymbols', 'fingerSymbols', 'fingerSymbols', 'fingerSymbols', 'fingerSymbols', 'fingerSymbols', 'fingerSymbols', 'fingerSymbols', 'fingerSymbols', 'fingerSymbols', 'fingerSymbols', 'fingerSymbols', 'fingerSymbols', 'fingerSymbols', 'fingerSymbols', 'fingerSymbols', 'fingerSymbols', 'fingerSymbols', 'fingerSymbols', 'fingerSymbols', 'fingerSymbols', 'fingerSymbols', 'fingerSymbols', 'fingerSymbols', 'fingerSymbols', 'fingerSymbols', 'fingerSymbols', 'fingerSymbols', 'fingerSymbols', 'fingerSymbols', 'fingerSymbols', 'fingerSymbols', 'fingerSymbols', 'fingerSymbols', 'fingerSymbols', 'fingerSymbols', 'fingerSymbols', 'fingerSymbols', 'fingerSymbols', 'fingerSymbols', 'fingerSymbols', 'fingerSymbols', 'fingerSymbols', 'fingerSymbols', 'fingerSymbols', 'fingerSymbols', 'fingerSymbols', 'fingerSymbols', 'fingerSymbols', 'fingerSymbols', 'fingerSymbols', 'fingerSymbols', 'fingerSymbols', 'fingerSymbols', 'fingerSymbols', 'fingerSymbols', 'fingerSymbols', 'fingerSymbols', 'fingerSymbols', 'fingerSymbols', 'fingerSymbols', 'fingerSymbols', 'fingerSymbols', 'fingerSymbols', 'fingerSymbols', 'fingerSymbols', 'fingerSymbols', 'fingerSymbols', 'fingerSymbols', 'fingerSymbols', 'fingerSymbols', 'fingerSymbols', 'fingerSymbols', 'fingerSymbols', 'fingerSymbols', 'fingerSymbols', 'fingerSymbols', 'fingerSymbols', 'fingerSymbols', 'fingerSymbols', 'fingerSymbols', 'fingerSymbols', 'fingerSymbols', 'fingerSymbols', 'fingerSymbols', 'fingerSymbols', 'fingerSymbols', 'fingerSymbols', 'fingerSymbols', 'fingerSymbols', 'fingerSymbols', 'fingerSymbols', 'fingerSymbols', 'fingerSymbols', 'fingerSymbols', 'fingerSymbols', 'fingerSymbols', 'fingerSymbols', 'fingerSymbols', 'fingerSymbols', 'fingerSymbols', 'fingerSymbols', 'fingerSymbols', 'fingerSymbols', 'fingerSymbols', 'fingerSymbols', 'fingerSymbols', 'fingerSymbols', 'fingerSymbols', 'fingerSymbols', 'fingerSymbols', 'fingerSymbols', 'fingerSymbols', 'fingerSymbols', 'fingerSymbols', 'fingerSymbols', 'fingerSymbols', 'fingerSymbols', 'fingerSymbols', 'fingerSymbols', 'fingerSymbols', 'fingerSymbols', 'fingerSymbols', 'fingerSymbols', 'fingerSymbols', 'fingerSymbols', 'fingerSymbols', 'fingerSymbols', 'fingerSymbols', 'fingerSymbols', 'fingerSymbols', 'fingerSymbols', 'fingerSymbols', 'fingerSymbols', 'fingerSymbols', 'fingerSymbols', 'fingerSymbols', 'fingerSymbols', 'fingerSymbols', 'fingerSymbols', 'fingerSymbols', 'fingerSymbols', 'fingerSymbols', 'fingerSymbols', 'fingerSymbols', 'fingerSymbols', 'fingerSymbols', 'fingerSymbols', 'fingerSymbols', 'fingerSymbols', 'fingerSymbols', 'fingerSymbols', 'fingerSymbols', 'fingerSymbols', 'fingerSymbols', 'fingerSymbols', 'fingerSymbols', 'fingerSymbols', 'fingerSymbols', 'fingerSymbols', 'fingerSymbols', 'fingerSymbols', 'fingerSymbols', 'fingerSymbols', 'fingerSymbols', 'fingerSymbols', 'fingerSymbols', 'fingerSymbols', 'fingerSymbols', 'fingerSymbols', 'fingerSymbols', 'fingerSymbols', 'fingerSymbols', 'fingerSymbols', 'fingerSymbols', 'fingerSymbols', 'fingerSymbols', 'fingerSymbols', 'fingerSymbols', 'fingerSymbols', 'fingerSymbols', 'fingerSymbols', 'fingerSymbols', 'fingerSymbols', 'fingerSymbols', 'fingerSymbols', 'fingerSymbols', 'fingerSymbols', 'fingerSymbols', 'fingerSymbols', 'fingerSymbols', 'fingerSymbols', 'fingerSymbols', 'fingerSymbols', 'fingerSymbols', 'fingerSymbols', 'fingerSymbols', 'fingerSymbols', 'fingerSymbols', 'fingerSymbols', 'fingerSymbols', 'fingerSymbols', 'fingerSymbols', 'fingerSymbols', 'fingerSymbols', 'fingerSymbols', 'fingerSymbols', 'fingerSymbols', 'fingerSymbols', 'fingerSymbols', 'fingerSymbols', 'fingerSymbols', 'fingerSymbols', 'fingerSymbols', 'fingerSymbols', 'fingerSymbols', 'fingerSymbols', 'fingerSymbols', 'fingerSymbols', 'fingerSymbols', 'fingerSymbols', 'fingerSymbols', 'fingerSymbols', 'fingerSymbols', 'fingerSymbols', 'fingerSymbols', 'fingerSymbols', 'fingerSymbols', 'fingerSymbols', 'fingerSymbols', 'fingerSymbols', 'fingerSymbols', 'fingerSymbols', 'fingerSymbols', 'fingerSymbols', 'fingerSymbols', 'fingerSymbols', 'fingerSymbols', 'fingerSymbols', 'fingerSymbols', 'fingerSymbols', 'fingerSymbols', 'fingerSymbols', 'fingerSymbols', 'fingerSymbols', 'fingerSymbols', 'fingerSymbols', 'fingerSymbols', 'fingerSymbols', 'fingerSymbols', 'fingerSymbols', 'fingerSymbols', 'fingerSymbols', 'fingerSymbols', 'fingerSymbols', 'fingerSymbols', 'fingerSymbols', 'fingerSymbols', 'fingerSymbols', 'fingerSymbols', 'fingerSymbols', 'fingerSymbols', 'fingerSymbols', 'fingerSymbols', 'fingerSymbols', 'fingerSymbols', 'fingerSymbols', 'fingerSymbols', 'fingerSymbols', 'fingerSymbols', 'fingerSymbols', 'fingerSymbols', 'fingerSymbols', 'fingerSymbols', 'fingerSymbols', 'fingerSymbols', 'fingerSymbols', 'fingerSymbols', 'fingerSymbols', 'fingerSymbols', 'fingerSymbols', 'fingerSymbols', 'fingerSymbols', 'fingerSymbols', 'fingerSymbols', 'fingerSymbols', 'fingerSymbols', 'fingerSymbols', 'fingerSymbols', 'fingerSymbols', 'fingerSymbols', 'fingerSymbols', 'fingerSymbols', 'fingerSymbols', 'fingerSymbols', 'fingerSymbols', 'fingerSymbols', 'fingerSymbols', 'fingerSymbols', 'fingerSymbols', 'fingerSymbols', 'fingerSymbols', 'fingerSymbols', 'fingerSymbols', 'fingerSymbols', 'fingerSymbols', 'fingerSymbols', 'fingerSymbols', 'fingerSymbols', 'fingerSymbols', 'fingerSymbols', 'fingerSymbols', 'fingerSymbols', 'fingerSymbols', 'fingerSymbols', 'fingerSymbols', 'fingerSymbols', 'fingerSymbols', 'fingerSymbols', 'fingerSymbols', 'fingerSymbols', 'fingerSymbols', 'fingerSymbols', 'fingerSymbols', 'fingerSymbols', 'fingerSymbols', 'fingerSymbols', 'fingerSymbols', 'fingerSymbols', 'fingerSymbols', 'fingerSymbols', 'fingerSymbols', 'fingerSymbols', 'fingerSymbols', 'fingerSymbols', 'fingerSymbols', 'fingerSymbols', 'fingerSymbols', 'fingerSymbols', 'fingerSymbols', 'fingerSymbols', 'fingerSymbols', 'fingerSymbols', 'fingerSymbols', 'fingerSymbols', 'fingerSymbols', 'fingerSymbols', 'fingerSymbols', 'fingerSymbols', 'fingerSymbols', 'fingerSymbols', 'fingerSymbols', 'fingerSymbols', 'fingerSymbols', 'fingerSymbols', 'fingerSymbols', 'fingerSymbols', 'fingerSymbols', 'fingerSymbols', 'fingerSymbols', 'fingerSymbols', 'fingerSymbols', 'fingerSymbols', 'fingerSymbols', 'fingerSymbols', 'fingerSymbols', 'fingerSymbols', 'fingerSymbols', 'fingerSymbols', 'fingerSymbols', 'fingerSymbols', 'fingerSymbols', 'fingerSymbols', 'fingerSymbols', 'fingerSymbols', 'fingerSymbols', 'fingerSymbols', 'fingerSymbols', 'fingerSymbols', 'fingerSymbols', 'fingerSymbols', 'fingerSymbols', 'fingerSymbols', 'fingerSymbols', 'fingerSymbols', 'fingerSymbols', 'fingerSymbols', 'fingerSymbols', 'fingerSymbols', 'fingerSymbols', 'fingerSymbols', 'fingerSymbols', 'fingerSymbols', 'fingerSymbols', 'fingerSymbols', 'fingerSymbols', 'fingerSymbols', 'fingerSymbols', 'fingerSymbols', 'fingerSymbols', 'fingerSymbols', 'fingerSymbols', 'fingerSymbols', 'fingerSymbols', 'fingerSymbols', 'fingerSymbols', 'fingerSymbols', 'fingerSymbols', 'fingerSymbols', 'fingerSymbols', 'fingerSymbols', 'fingerSymbols', 'fingerSymbols', 'fingerSymbols', 'fingerSymbols', 'fingerSymbols', 'fingerSymbols', 'fingerSymbols', 'fingerSymbols', 'fingerSymbols', 'fingerSymbols', 'fingerSymbols', 'fingerSymbols', 'fingerSymbols', 'fingerSymbols', 'fingerSymbols', 'fingerSymbols', 'fingerSymbols', 'fingerSymbols', 'fingerSymbols', 'fingerSymbols', 'fingerSymbols', 'fingerSymbols', 'fingerSymbols', 'fingerSymbols', 'fingerSymbols', 'fingerSymbols', 'fingerSymbols', 'fingerSymbols', 'fingerSymbols', 'fingerSymbols', 'fingerSymbols', 'fingerSymbols', 'fingerSymbols', 'fingerSymbols', 'fingerSymbols', 'fingerSymbols', 'fingerSymbols', 'fingerSymbols', 'fingerSymbols', 'closedFist', 'closedFist', 'closedFist', 'closedFist', 'closedFist', 'closedFist', 'closedFist', 'closedFist', 'closedFist', 'closedFist', 'closedFist', 'closedFist', 'closedFist', 'closedFist', 'closedFist', 'closedFist', 'closedFist', 'closedFist', 'closedFist', 'closedFist', 'closedFist', 'closedFist', 'closedFist', 'closedFist', 'closedFist', 'closedFist', 'closedFist', 'closedFist', 'closedFist', 'closedFist', 'closedFist', 'closedFist', 'closedFist', 'closedFist', 'closedFist', 'closedFist', 'closedFist', 'closedFist', 'closedFist', 'closedFist', 'closedFist', 'closedFist', 'closedFist', 'closedFist', 'closedFist', 'closedFist', 'closedFist', 'closedFist', 'closedFist', 'closedFist', 'closedFist', 'closedFist', 'closedFist', 'closedFist', 'closedFist', 'closedFist', 'closedFist', 'closedFist', 'closedFist', 'closedFist', 'closedFist', 'closedFist', 'closedFist', 'closedFist', 'closedFist', 'closedFist', 'closedFist', 'closedFist', 'closedFist', 'closedFist', 'closedFist', 'closedFist', 'closedFist', 'closedFist', 'closedFist', 'closedFist', 'closedFist', 'closedFist', 'closedFist', 'closedFist', 'closedFist', 'closedFist', 'closedFist', 'closedFist', 'closedFist', 'closedFist', 'closedFist', 'closedFist', 'closedFist', 'closedFist', 'closedFist', 'closedFist', 'closedFist', 'closedFist', 'closedFist', 'closedFist', 'closedFist', 'closedFist', 'closedFist', 'closedFist', 'closedFist', 'closedFist', 'closedFist', 'closedFist', 'closedFist', 'closedFist', 'closedFist', 'closedFist', 'closedFist', 'closedFist', 'closedFist', 'closedFist', 'closedFist', 'closedFist', 'closedFist', 'closedFist', 'closedFist', 'closedFist', 'closedFist', 'closedFist', 'closedFist', 'closedFist', 'closedFist', 'closedFist', 'closedFist', 'closedFist', 'closedFist', 'closedFist', 'closedFist', 'closedFist', 'closedFist', 'closedFist', 'closedFist', 'closedFist', 'closedFist', 'closedFist', 'closedFist', 'closedFist', 'closedFist', 'closedFist', 'closedFist', 'closedFist', 'closedFist', 'closedFist', 'closedFist', 'closedFist', 'closedFist', 'closedFist', 'closedFist', 'closedFist', 'closedFist', 'closedFist', 'closedFist', 'closedFist', 'closedFist', 'closedFist', 'closedFist', 'closedFist', 'closedFist', 'closedFist', 'closedFist', 'closedFist', 'closedFist', 'closedFist', 'closedFist', 'closedFist', 'closedFist', 'closedFist', 'closedFist', 'closedFist', 'closedFist', 'closedFist', 'closedFist', 'closedFist', 'closedFist', 'closedFist', 'closedFist', 'closedFist', 'closedFist', 'closedFist', 'closedFist', 'closedFist', 'closedFist', 'closedFist', 'closedFist', 'closedFist', 'closedFist', 'closedFist', 'closedFist', 'closedFist', 'closedFist', 'closedFist', 'closedFist', 'closedFist', 'closedFist', 'closedFist', 'closedFist', 'closedFist', 'closedFist', 'closedFist', 'closedFist', 'closedFist', 'closedFist', 'closedFist', 'closedFist', 'closedFist', 'closedFist', 'closedFist', 'closedFist', 'closedFist', 'closedFist', 'closedFist', 'openPalm', 'openPalm', 'openPalm', 'openPalm', 'openPalm', 'openPalm', 'openPalm', 'openPalm', 'openPalm', 'openPalm', 'openPalm', 'openPalm', 'openPalm', 'openPalm', 'openPalm', 'openPalm', 'openPalm', 'openPalm', 'openPalm', 'openPalm', 'openPalm', 'openPalm', 'openPalm', 'openPalm', 'openPalm', 'openPalm', 'openPalm', 'openPalm', 'openPalm', 'openPalm', 'openPalm', 'openPalm', 'openPalm', 'openPalm', 'openPalm', 'openPalm', 'openPalm', 'openPalm', 'openPalm', 'openPalm', 'openPalm', 'openPalm', 'openPalm', 'openPalm', 'openPalm', 'openPalm', 'openPalm', 'openPalm', 'openPalm', 'openPalm', 'openPalm', 'openPalm', 'openPalm', 'openPalm', 'openPalm', 'openPalm', 'openPalm', 'openPalm', 'openPalm', 'openPalm', 'openPalm', 'openPalm', 'openPalm', 'openPalm', 'openPalm', 'openPalm', 'openPalm', 'openPalm', 'openPalm', 'openPalm', 'openPalm', 'openPalm', 'openPalm', 'openPalm', 'openPalm', 'openPalm', 'openPalm', 'openPalm', 'openPalm', 'openPalm', 'openPalm', 'openPalm', 'openPalm', 'openPalm', 'openPalm', 'openPalm', 'openPalm', 'openPalm', 'openPalm', 'openPalm', 'openPalm', 'openPalm', 'openPalm', 'openPalm', 'openPalm', 'openPalm', 'openPalm', 'openPalm', 'openPalm', 'openPalm', 'openPalm', 'openPalm', 'openPalm', 'openPalm', 'openPalm', 'openPalm', 'openPalm', 'openPalm', 'openPalm', 'openPalm', 'openPalm', 'openPalm', 'openPalm', 'openPalm', 'openPalm', 'openPalm', 'openPalm', 'openPalm', 'openPalm', 'openPalm', 'openPalm', 'openPalm', 'openPalm', 'openPalm', 'openPalm', 'openPalm', 'openPalm', 'openPalm', 'openPalm', 'openPalm', 'openPalm', 'openPalm', 'openPalm', 'openPalm', 'openPalm', 'openPalm', 'openPalm', 'openPalm', 'openPalm', 'openPalm', 'openPalm', 'openPalm', 'openPalm', 'openPalm', 'openPalm', 'openPalm', 'openPalm', 'openPalm', 'openPalm', 'openPalm', 'openPalm', 'openPalm', 'openPalm', 'openPalm', 'openPalm', 'openPalm', 'openPalm', 'openPalm', 'openPalm', 'openPalm', 'openPalm', 'openPalm', 'openPalm', 'openPalm', 'openPalm', 'openPalm', 'openPalm', 'openPalm', 'openPalm', 'openPalm', 'openPalm', 'openPalm', 'openPalm', 'openPalm', 'openPalm', 'openPalm', 'openPalm', 'openPalm', 'openPalm', 'openPalm', 'openPalm', 'openPalm', 'openPalm', 'openPalm', 'semiOpenPalm', 'semiOpenPalm', 'semiOpenPalm', 'semiOpenPalm', 'semiOpenPalm', 'semiOpenPalm', 'semiOpenPalm', 'semiOpenPalm', 'semiOpenPalm', 'semiOpenPalm', 'semiOpenPalm', 'semiOpenPalm', 'semiOpenPalm', 'semiOpenPalm', 'semiOpenPalm', 'semiOpenPalm', 'semiOpenPalm', 'semiOpenPalm', 'semiOpenPalm', 'semiOpenPalm', 'semiOpenPalm', 'semiOpenPalm', 'semiOpenPalm', 'semiOpenPalm', 'semiOpenPalm', 'semiOpenPalm', 'semiOpenPalm', 'semiOpenPalm', 'semiOpenPalm', 'semiOpenPalm', 'semiOpenPalm', 'semiOpenPalm', 'semiOpenPalm', 'semiOpenPalm', 'semiOpenPalm', 'semiOpenPalm', 'semiOpenPalm', 'semiOpenPalm', 'semiOpenPalm', 'semiOpenPalm', 'semiOpenPalm', 'semiOpenPalm', 'semiOpenPalm', 'semiOpenPalm', 'semiOpenPalm', 'semiOpenPalm', 'semiOpenPalm', 'semiOpenPalm', 'semiOpenPalm', 'semiOpenPalm', 'semiOpenPalm', 'semiOpenPalm', 'semiOpenPalm', 'semiOpenPalm', 'semiOpenPalm', 'semiOpenPalm', 'semiOpenPalm', 'semiOpenPalm', 'semiOpenPalm', 'semiOpenPalm', 'semiOpenPalm', 'semiOpenPalm', 'semiOpenPalm', 'semiOpenPalm', 'semiOpenPalm', 'semiOpenPalm', 'semiOpenPalm', 'semiOpenPalm', 'semiOpenPalm', 'semiOpenPalm', 'semiOpenPalm', 'semiOpenPalm', 'semiOpenPalm', 'semiOpenPalm', 'semiOpenPalm', 'semiOpenPalm', 'semiOpenPalm', 'semiOpenPalm', 'semiOpenPalm', 'semiOpenPalm', 'semiOpenPalm', 'semiOpenPalm', 'semiOpenPalm', 'semiOpenPalm', 'semiOpenPalm', 'semiOpenPalm', 'semiOpenPalm', 'semiOpenPalm', 'semiOpenPalm', 'semiOpenPalm', 'semiOpenPalm', 'semiOpenPalm', 'semiOpenPalm', 'semiOpenPalm', 'semiOpenPalm', 'semiOpenPalm', 'semiOpenPalm', 'semiOpenPalm', 'semiOpenPalm', 'semiOpenPalm', 'semiOpenPalm', 'semiOpenPalm', 'semiOpenPalm', 'semiOpenPalm', 'semiOpenPalm', 'semiOpenPalm', 'semiOpenPalm', 'semiOpenPalm', 'semiOpenPalm', 'semiOpenPalm', 'semiOpenPalm', 'semiOpenPalm', 'semiOpenPalm', 'semiOpenPalm', 'semiOpenPalm', 'semiOpenPalm', 'semiOpenPalm', 'semiOpenPalm', 'semiOpenPalm', 'semiOpenPalm', 'semiOpenPalm', 'semiOpenPalm', 'semiOpenPalm', 'semiOpenPalm', 'semiOpenPalm', 'semiOpenPalm', 'semiOpenPalm', 'semiOpenPalm', 'semiOpenPalm', 'semiOpenPalm', 'semiOpenPalm', 'semiOpenPalm', 'semiOpenPalm', 'semiOpenPalm', 'semiOpenPalm', 'semiOpenPalm', 'semiOpenPalm', 'semiOpenPalm', 'semiOpenPalm', 'semiOpenPalm', 'semiOpenPalm', 'semiOpenPalm', 'semiOpenPalm', 'semiOpenPalm', 'semiOpenPalm', 'semiOpenPalm', 'semiOpenPalm', 'semiOpenPalm', 'semiOpenPalm', 'semiOpenPalm', 'semiOpenPalm', 'semiOpenPalm', 'semiOpenPalm', 'semiOpenPalm', 'semiOpenPalm', 'semiOpenPalm', 'semiOpenPalm', 'semiOpenPalm', 'semiOpenPalm', 'semiOpenPalm', 'semiOpenPalm', 'semiOpenPalm', 'semiOpenPalm', 'semiOpenPalm', 'semiOpenPalm', 'semiOpenPalm', 'semiOpenPalm', 'semiOpenPalm', 'semiOpenPalm', 'semiOpenPalm', 'semiOpenPalm', 'semiOpenPalm', 'semiOpenPalm', 'semiOpenPalm', 'semiOpenPalm', 'semiOpenPalm', 'semiOpenPalm', 'semiOpenPalm', 'semiOpenPalm', 'semiOpenPalm', 'semiOpenPalm', 'semiOpenPalm', 'semiOpenPalm', 'semiOpenPalm', 'semiOpenPalm', 'semiOpenPalm', 'semiOpenPalm', 'semiOpenPalm', 'semiOpenPalm', 'semiOpenPalm', 'semiOpenPalm', 'semiOpenPalm', 'semiOpenPalm', 'semiOpenPalm', 'semiOpenPalm', 'semiOpenPalm', 'semiOpenPalm', 'semiOpenPalm', 'semiOpenPalm', 'semiOpenPalm', 'semiOpenPalm', 'semiOpenPalm', 'semiOpenPalm', 'semiOpenPalm', 'semiOpenPalm', 'semiOpenPalm', 'semiOpenPalm', 'semiOpenPalm', 'semiOpenPalm', 'semiOpenPalm', 'semiOpenPalm', 'semiOpenPalm', 'semiOpenPalm', 'semiOpenPalm', 'semiOpenPalm', 'semiOpenPalm', 'semiOpenPalm', 'semiOpenPalm', 'semiOpenPalm', 'semiOpenPalm', 'semiOpenPalm', 'semiOpenPalm', 'semiOpenPalm', 'semiOpenPalm', 'semiOpenPalm', 'semiOpenPalm', 'semiOpenPalm', 'semiOpenPalm', 'semiOpenPalm', 'semiOpenPalm', 'semiOpenPalm', 'semiOpenPalm', 'semiOpenPalm', 'semiOpenPalm', 'semiOpenPalm', 'semiOpenPalm', 'semiOpenPalm', 'semiOpenPalm', 'semiOpenPalm', 'semiOpenPalm', 'semiOpenPalm', 'semiOpenPalm', 'semiOpenPalm', 'semiOpenPalm', 'semiOpenPalm', 'semiOpenPalm', 'semiOpenPalm', 'semiOpenPalm', 'semiOpenPalm', 'semiOpenPalm', 'semiOpenPalm', 'semiOpenPalm', 'semiOpenPalm', 'semiOpenPalm', 'semiOpenPalm', 'semiOpenPalm', 'semiOpenPalm', 'semiOpenPalm', 'semiOpenPalm', 'semiOpenPalm', 'semiOpenPalm', 'semiOpenPalm', 'semiOpenPalm', 'semiOpenPalm', 'semiOpenPalm', 'semiOpenPalm', 'semiOpenPalm', 'semiOpenPalm', 'semiOpenPalm', 'semiOpenPalm', 'semiOpenPalm', 'semiOpenPalm', 'semiOpenPalm', 'semiOpenPalm', 'semiOpenPalm', 'semiOpenPalm', 'semiOpenPalm', 'semiOpenPalm', 'semiOpenPalm', 'semiOpenPalm', 'semiOpenPalm', 'semiOpenPalm', 'semiOpenPalm', 'semiOpenPalm', 'semiOpenPalm', 'semiOpenPalm', 'semiOpenPalm', 'semiOpenPalm', 'semiOpenPalm', 'semiOpenPalm', 'semiOpenPalm', 'semiOpenPalm', 'semiOpenPalm', 'semiOpenPalm', 'semiOpenPalm', 'semiOpenPalm', 'semiOpenPalm', 'semiOpenPalm', 'semiOpenPalm', 'semiOpenPalm', 'semiOpenPalm', 'semiOpenPalm', 'semiOpenPalm', 'semiOpenPalm', 'semiOpenPalm', 'semiOpenPalm', 'semiOpenPalm', 'semiOpenPalm', 'semiOpenPalm', 'semiOpenPalm', 'semiOpenPalm', 'semiOpenPalm', 'semiOpenPalm', 'semiOpenPalm', 'semiOpenPalm', 'semiOpenPalm', 'semiOpenPalm', 'semiOpenPalm', 'semiOpenPalm', 'semiOpenPalm', 'semiOpenPalm', 'semiOpenPalm', 'semiOpenPalm', 'semiOpenPalm', 'semiOpenPalm', 'semiOpenPalm', 'semiOpenPalm', 'semiOpenPalm', 'semiOpenPalm', 'semiOpenPalm', 'semiOpenPalm', 'semiOpenPalm', 'semiOpenPalm', 'semiOpenPalm', 'semiOpenPalm', 'semiOpenPalm', 'semiOpenPalm', 'semiOpenPalm', 'semiOpenPalm', 'semiOpenPalm', 'multiFingerBend', 'multiFingerBend', 'multiFingerBend', 'multiFingerBend', 'multiFingerBend', 'multiFingerBend', 'multiFingerBend', 'multiFingerBend', 'multiFingerBend', 'multiFingerBend', 'multiFingerBend', 'multiFingerBend', 'multiFingerBend', 'multiFingerBend', 'multiFingerBend', 'multiFingerBend', 'multiFingerBend', 'multiFingerBend', 'multiFingerBend', 'multiFingerBend', 'multiFingerBend', 'multiFingerBend', 'multiFingerBend', 'multiFingerBend', 'multiFingerBend', 'multiFingerBend', 'multiFingerBend', 'multiFingerBend', 'multiFingerBend', 'multiFingerBend', 'multiFingerBend', 'multiFingerBend', 'multiFingerBend', 'multiFingerBend', 'multiFingerBend', 'multiFingerBend', 'multiFingerBend', 'multiFingerBend', 'multiFingerBend', 'multiFingerBend', 'multiFingerBend', 'multiFingerBend', 'multiFingerBend', 'multiFingerBend', 'multiFingerBend', 'multiFingerBend', 'multiFingerBend', 'multiFingerBend', 'multiFingerBend', 'multiFingerBend', 'multiFingerBend', 'multiFingerBend', 'multiFingerBend', 'multiFingerBend', 'multiFingerBend', 'multiFingerBend', 'multiFingerBend', 'multiFingerBend', 'multiFingerBend', 'multiFingerBend', 'multiFingerBend', 'multiFingerBend', 'multiFingerBend', 'multiFingerBend', 'multiFingerBend', 'multiFingerBend', 'multiFingerBend', 'multiFingerBend', 'multiFingerBend', 'singleFingerBend', 'singleFingerBend', 'singleFingerBend', 'singleFingerBend', 'singleFingerBend', 'singleFingerBend', 'singleFingerBend', 'singleFingerBend', 'singleFingerBend', 'singleFingerBend', 'singleFingerBend', 'singleFingerBend', 'singleFingerBend', 'singleFingerBend', 'singleFingerBend', 'singleFingerBend', 'singleFingerBend', 'singleFingerBend', 'singleFingerBend', 'singleFingerBend', 'singleFingerBend', 'singleFingerBend', 'singleFingerBend', 'singleFingerBend', 'singleFingerBend', 'singleFingerBend', 'singleFingerBend', 'singleFingerBend', 'singleFingerBend', 'singleFingerBend', 'singleFingerBend', 'singleFingerBend', 'singleFingerBend', 'singleFingerBend', 'singleFingerBend', 'singleFingerBend', 'singleFingerBend', 'singleFingerBend', 'singleFingerBend', 'singleFingerBend', 'singleFingerBend', 'singleFingerBend', 'singleFingerBend', 'singleFingerBend', 'singleFingerBend', 'singleFingerBend', 'singleFingerBend', 'singleFingerBend', 'singleFingerBend', 'singleFingerBend', 'singleFingerBend', 'singleFingerBend', 'singleFingerBend', 'singleFingerBend', 'singleFingerBend', 'singleFingerBend', 'singleFingerBend', 'singleFingerBend', 'singleFingerBend', 'singleFingerBend', 'singleFingerBend', 'singleFingerBend', 'singleFingerBend', 'singleFingerBend', 'singleFingerBend', 'singleFingerBend', 'singleFingerBend', 'singleFingerBend', 'singleFingerBend', 'singleFingerBend', 'singleFingerBend', 'singleFingerBend', 'singleFingerBend', 'singleFingerBend', 'singleFingerBend', 'singleFingerBend', 'singleFingerBend', 'singleFingerBend', 'singleFingerBend', 'singleFingerBend', 'singleFingerBend', 'singleFingerBend', 'singleFingerBend', 'singleFingerBend', 'singleFingerBend', 'singleFingerBend', 'singleFingerBend', 'singleFingerBend', 'singleFingerBend', 'singleFingerBend', 'singleFingerBend', 'singleFingerBend', 'singleFingerBend', 'singleFingerBend', 'singleFingerBend', 'singleFingerBend', 'singleFingerBend', 'singleFingerBend', 'singleFingerBend', 'singleFingerBend', 'singleFingerBend', 'singleFingerBend', 'singleFingerBend', 'singleFingerBend', 'singleFingerBend', 'singleFingerBend', 'singleFingerBend', 'singleFingerBend', 'singleFingerBend', 'singleFingerBend', 'singleFingerBend', 'singleFingerBend', 'singleFingerBend', 'singleFingerBend', 'singleFingerBend', 'singleFingerBend', 'singleFingerBend', 'singleFingerBend', 'singleFingerBend', 'singleFingerBend', 'singleFingerBend', 'singleFingerBend', 'singleFingerBend', 'singleFingerBend', 'singleFingerBend', 'singleFingerBend', 'singleFingerBend', 'singleFingerBend', 'singleFingerBend', 'singleFingerBend', 'singleFingerBend', 'singleFingerBend', 'singleFingerBend', 'singleFingerBend', 'singleFingerBend', 'singleFingerBend', 'singleFingerBend', 'singleFingerBend', 'singleFingerBend', 'singleFingerBend', 'singleFingerBend', 'singleFingerBend', 'singleFingerBend', 'singleFingerBend', 'singleFingerBend', 'singleFingerBend', 'singleFingerBend', 'singleFingerBend', 'singleFingerBend', 'singleFingerBend', 'singleFingerBend', 'singleFingerBend', 'singleFingerBend', 'singleFingerBend', 'singleFingerBend', 'singleFingerBend', 'singleFingerBend', 'singleFingerBend', 'singleFingerBend', 'singleFingerBend', 'singleFingerBend', 'singleFingerBend', 'singleFingerBend', 'singleFingerBend', 'singleFingerBend', 'singleFingerBend', 'singleFingerBend', 'singleFingerBend', 'singleFingerBend', 'singleFingerBend', 'singleFingerBend', 'singleFingerBend', 'singleFingerBend', 'singleFingerBend', 'singleFingerBend', 'singleFingerBend', 'singleFingerBend', 'singleFingerBend', 'singleFingerBend', 'singleFingerBend', 'singleFingerBend', 'singleFingerBend', 'singleFingerBend', 'singleFingerBend', 'singleFingerBend', 'singleFingerBend', 'singleFingerBend', 'singleFingerBend', 'singleFingerBend', 'singleFingerBend', 'singleFingerBend', 'singleFingerBend', 'singleFingerBend', 'singleFingerBend', 'singleFingerBend', 'singleFingerBend', 'singleFingerBend', 'singleFingerBend', 'singleFingerBend', 'singleFingerBend', 'singleFingerBend', 'singleFingerBend', 'singleFingerBend', 'singleFingerBend', 'singleFingerBend', 'singleFingerBend', 'singleFingerBend', 'singleFingerBend', 'singleFingerBend', 'singleFingerBend', 'singleFingerBend', 'singleFingerBend', 'singleFingerBend', 'singleFingerBend', 'singleFingerBend', 'singleFingerBend', 'singleFingerBend', 'singleFingerBend', 'singleFingerBend', 'singleFingerBend', 'singleFingerBend', 'singleFingerBend', 'singleFingerBend', 'singleFingerBend', 'singleFingerBend', 'singleFingerBend', 'singleFingerBend', 'singleFingerBend', 'singleFingerBend', 'singleFingerBend', 'singleFingerBend', 'singleFingerBend', 'singleFingerBend', 'singleFingerBend', 'singleFingerBend', 'singleFingerBend', 'singleFingerBend', 'singleFingerBend', 'singleFingerBend']\n",
            "time: 61.6 ms (started: 2022-06-27 15:20:17 +00:00)\n"
          ]
        }
      ]
    },
    {
      "cell_type": "code",
      "source": [
        "data = {\"filename\" : filename, \n",
        "        \"label\": label \n",
        "        }\n",
        "df = pd.DataFrame(data=data)\n",
        "\n",
        "df_shuffled = df.sample(frac=1)\n",
        "dataset = df_shuffled\n",
        "dataset"
      ],
      "metadata": {
        "colab": {
          "base_uri": "https://localhost:8080/",
          "height": 442
        },
        "id": "fHTo5yzPL_Xt",
        "outputId": "a3d7dde9-8247-451a-fa27-9837e1d8c2e3"
      },
      "execution_count": 6,
      "outputs": [
        {
          "output_type": "execute_result",
          "data": {
            "text/plain": [
              "                                      filename             label\n",
              "1929  singleFingerBend/IMG_20220522_180818.jpg  singleFingerBend\n",
              "229       fingerCircle/IMG_20220509_134158.jpg      fingerCircle\n",
              "1294        closedFist/IMG_20220522_141704.jpg        closedFist\n",
              "1461          openPalm/IMG_20220509_131521.jpg          openPalm\n",
              "1565      semiOpenPalm/IMG_20220502_131845.jpg      semiOpenPalm\n",
              "...                                        ...               ...\n",
              "901      fingerSymbols/IMG_20220502_130028.jpg     fingerSymbols\n",
              "1309        closedFist/IMG_20220521_103931.jpg        closedFist\n",
              "1571      semiOpenPalm/IMG_20220509_132936.jpg      semiOpenPalm\n",
              "1159        closedFist/IMG_20220509_133953.jpg        closedFist\n",
              "1285        closedFist/IMG_20220521_105546.jpg        closedFist\n",
              "\n",
              "[2167 rows x 2 columns]"
            ],
            "text/html": [
              "\n",
              "  <div id=\"df-02d7a2b4-ccd7-410c-ae64-dbfc853d3ac7\">\n",
              "    <div class=\"colab-df-container\">\n",
              "      <div>\n",
              "<style scoped>\n",
              "    .dataframe tbody tr th:only-of-type {\n",
              "        vertical-align: middle;\n",
              "    }\n",
              "\n",
              "    .dataframe tbody tr th {\n",
              "        vertical-align: top;\n",
              "    }\n",
              "\n",
              "    .dataframe thead th {\n",
              "        text-align: right;\n",
              "    }\n",
              "</style>\n",
              "<table border=\"1\" class=\"dataframe\">\n",
              "  <thead>\n",
              "    <tr style=\"text-align: right;\">\n",
              "      <th></th>\n",
              "      <th>filename</th>\n",
              "      <th>label</th>\n",
              "    </tr>\n",
              "  </thead>\n",
              "  <tbody>\n",
              "    <tr>\n",
              "      <th>1929</th>\n",
              "      <td>singleFingerBend/IMG_20220522_180818.jpg</td>\n",
              "      <td>singleFingerBend</td>\n",
              "    </tr>\n",
              "    <tr>\n",
              "      <th>229</th>\n",
              "      <td>fingerCircle/IMG_20220509_134158.jpg</td>\n",
              "      <td>fingerCircle</td>\n",
              "    </tr>\n",
              "    <tr>\n",
              "      <th>1294</th>\n",
              "      <td>closedFist/IMG_20220522_141704.jpg</td>\n",
              "      <td>closedFist</td>\n",
              "    </tr>\n",
              "    <tr>\n",
              "      <th>1461</th>\n",
              "      <td>openPalm/IMG_20220509_131521.jpg</td>\n",
              "      <td>openPalm</td>\n",
              "    </tr>\n",
              "    <tr>\n",
              "      <th>1565</th>\n",
              "      <td>semiOpenPalm/IMG_20220502_131845.jpg</td>\n",
              "      <td>semiOpenPalm</td>\n",
              "    </tr>\n",
              "    <tr>\n",
              "      <th>...</th>\n",
              "      <td>...</td>\n",
              "      <td>...</td>\n",
              "    </tr>\n",
              "    <tr>\n",
              "      <th>901</th>\n",
              "      <td>fingerSymbols/IMG_20220502_130028.jpg</td>\n",
              "      <td>fingerSymbols</td>\n",
              "    </tr>\n",
              "    <tr>\n",
              "      <th>1309</th>\n",
              "      <td>closedFist/IMG_20220521_103931.jpg</td>\n",
              "      <td>closedFist</td>\n",
              "    </tr>\n",
              "    <tr>\n",
              "      <th>1571</th>\n",
              "      <td>semiOpenPalm/IMG_20220509_132936.jpg</td>\n",
              "      <td>semiOpenPalm</td>\n",
              "    </tr>\n",
              "    <tr>\n",
              "      <th>1159</th>\n",
              "      <td>closedFist/IMG_20220509_133953.jpg</td>\n",
              "      <td>closedFist</td>\n",
              "    </tr>\n",
              "    <tr>\n",
              "      <th>1285</th>\n",
              "      <td>closedFist/IMG_20220521_105546.jpg</td>\n",
              "      <td>closedFist</td>\n",
              "    </tr>\n",
              "  </tbody>\n",
              "</table>\n",
              "<p>2167 rows × 2 columns</p>\n",
              "</div>\n",
              "      <button class=\"colab-df-convert\" onclick=\"convertToInteractive('df-02d7a2b4-ccd7-410c-ae64-dbfc853d3ac7')\"\n",
              "              title=\"Convert this dataframe to an interactive table.\"\n",
              "              style=\"display:none;\">\n",
              "        \n",
              "  <svg xmlns=\"http://www.w3.org/2000/svg\" height=\"24px\"viewBox=\"0 0 24 24\"\n",
              "       width=\"24px\">\n",
              "    <path d=\"M0 0h24v24H0V0z\" fill=\"none\"/>\n",
              "    <path d=\"M18.56 5.44l.94 2.06.94-2.06 2.06-.94-2.06-.94-.94-2.06-.94 2.06-2.06.94zm-11 1L8.5 8.5l.94-2.06 2.06-.94-2.06-.94L8.5 2.5l-.94 2.06-2.06.94zm10 10l.94 2.06.94-2.06 2.06-.94-2.06-.94-.94-2.06-.94 2.06-2.06.94z\"/><path d=\"M17.41 7.96l-1.37-1.37c-.4-.4-.92-.59-1.43-.59-.52 0-1.04.2-1.43.59L10.3 9.45l-7.72 7.72c-.78.78-.78 2.05 0 2.83L4 21.41c.39.39.9.59 1.41.59.51 0 1.02-.2 1.41-.59l7.78-7.78 2.81-2.81c.8-.78.8-2.07 0-2.86zM5.41 20L4 18.59l7.72-7.72 1.47 1.35L5.41 20z\"/>\n",
              "  </svg>\n",
              "      </button>\n",
              "      \n",
              "  <style>\n",
              "    .colab-df-container {\n",
              "      display:flex;\n",
              "      flex-wrap:wrap;\n",
              "      gap: 12px;\n",
              "    }\n",
              "\n",
              "    .colab-df-convert {\n",
              "      background-color: #E8F0FE;\n",
              "      border: none;\n",
              "      border-radius: 50%;\n",
              "      cursor: pointer;\n",
              "      display: none;\n",
              "      fill: #1967D2;\n",
              "      height: 32px;\n",
              "      padding: 0 0 0 0;\n",
              "      width: 32px;\n",
              "    }\n",
              "\n",
              "    .colab-df-convert:hover {\n",
              "      background-color: #E2EBFA;\n",
              "      box-shadow: 0px 1px 2px rgba(60, 64, 67, 0.3), 0px 1px 3px 1px rgba(60, 64, 67, 0.15);\n",
              "      fill: #174EA6;\n",
              "    }\n",
              "\n",
              "    [theme=dark] .colab-df-convert {\n",
              "      background-color: #3B4455;\n",
              "      fill: #D2E3FC;\n",
              "    }\n",
              "\n",
              "    [theme=dark] .colab-df-convert:hover {\n",
              "      background-color: #434B5C;\n",
              "      box-shadow: 0px 1px 3px 1px rgba(0, 0, 0, 0.15);\n",
              "      filter: drop-shadow(0px 1px 2px rgba(0, 0, 0, 0.3));\n",
              "      fill: #FFFFFF;\n",
              "    }\n",
              "  </style>\n",
              "\n",
              "      <script>\n",
              "        const buttonEl =\n",
              "          document.querySelector('#df-02d7a2b4-ccd7-410c-ae64-dbfc853d3ac7 button.colab-df-convert');\n",
              "        buttonEl.style.display =\n",
              "          google.colab.kernel.accessAllowed ? 'block' : 'none';\n",
              "\n",
              "        async function convertToInteractive(key) {\n",
              "          const element = document.querySelector('#df-02d7a2b4-ccd7-410c-ae64-dbfc853d3ac7');\n",
              "          const dataTable =\n",
              "            await google.colab.kernel.invokeFunction('convertToInteractive',\n",
              "                                                     [key], {});\n",
              "          if (!dataTable) return;\n",
              "\n",
              "          const docLinkHtml = 'Like what you see? Visit the ' +\n",
              "            '<a target=\"_blank\" href=https://colab.research.google.com/notebooks/data_table.ipynb>data table notebook</a>'\n",
              "            + ' to learn more about interactive tables.';\n",
              "          element.innerHTML = '';\n",
              "          dataTable['output_type'] = 'display_data';\n",
              "          await google.colab.output.renderOutput(dataTable, element);\n",
              "          const docLink = document.createElement('div');\n",
              "          docLink.innerHTML = docLinkHtml;\n",
              "          element.appendChild(docLink);\n",
              "        }\n",
              "      </script>\n",
              "    </div>\n",
              "  </div>\n",
              "  "
            ]
          },
          "metadata": {},
          "execution_count": 6
        },
        {
          "output_type": "stream",
          "name": "stdout",
          "text": [
            "time: 31.6 ms (started: 2022-06-27 15:20:17 +00:00)\n"
          ]
        }
      ]
    },
    {
      "cell_type": "markdown",
      "source": [
        "#Image Preprocessing"
      ],
      "metadata": {
        "id": "Eblhm1cbQ7cw"
      }
    },
    {
      "cell_type": "code",
      "source": [
        "# baca data dengan opencv (ditampilkan gambar)\n",
        "\n",
        "def load_images_files(train_data):\n",
        "  # definisikan 2 list kosong\n",
        "  images = []\n",
        "  Y = []\n",
        "\n",
        "  for obj in train_data.values:\n",
        "    # index 0 ([0]) adalah kolom filename, (tidak menggunakan label karena untuk cv2 baca lewat lokasi nya)\n",
        "    img = cv2.imread(obj[0])\n",
        "    # smoothing\n",
        "    img_pred = cv2.GaussianBlur(img, (5, 5), 0)\n",
        "    # sharpening\n",
        "    kernel = np.array([[-1,-1,-1], \n",
        "                       [-1,9,-1], \n",
        "                       [-1,-1,-1]])\n",
        "    img_pred = cv2.filter2D(img_pred, -1, kernel)\n",
        "    # resize\n",
        "    img_pred = cv2.resize(img, (128, 128), interpolation = cv2.INTER_AREA)\n",
        "    # ubah rentang pixel yang awalnya 0 - 255 menjadi 0 - 1\n",
        "    img_pred = img_pred / 255\n",
        "    # algoritma nearest neighbour bekerja pada 1 dimensi\n",
        "    # ada 3 perkalian karena gambar berwarna, punya 3 channel rgb\n",
        "    img_pred = img_pred.reshape(img_pred.shape[0] * img_pred.shape[1] * img_pred.shape[2])\n",
        "    \n",
        "    # masukkan ke list images\n",
        "    images.append(img_pred)\n",
        "    # tiap row yang ada di Y merepresentasikan label yang ada di images\n",
        "    Y.append(obj[1])\n",
        "    \n",
        "  X = np.array(images)\n",
        "  Y = np.array(Y)\n",
        "  \n",
        "  return X, Y"
      ],
      "metadata": {
        "id": "rSOnJA2PRBZe",
        "colab": {
          "base_uri": "https://localhost:8080/"
        },
        "outputId": "49ee5957-37ff-4c64-d6e7-b426e3d79c6e"
      },
      "execution_count": 7,
      "outputs": [
        {
          "output_type": "stream",
          "name": "stdout",
          "text": [
            "time: 20.9 ms (started: 2022-06-27 15:20:17 +00:00)\n"
          ]
        }
      ]
    },
    {
      "cell_type": "code",
      "source": [
        "# Split into training and testing data\n",
        "X, y = load_images_files(dataset)\n",
        "\n",
        "X_train, X_test, y_train, y_test = train_test_split(X, y, random_state = 21, test_size = 0.3) #test size = 30% untuk testing, 70% untuk training\n",
        "\n",
        "print(\"Data shape: \", X.shape)\n",
        "print(y.shape)\n",
        "print(\"X_train: \", X_train.shape) #70% dari data shape\n",
        "print(\"y_train: \", y_train.shape)\n",
        "print(\"X_test: \", X_test.shape) #30% dari data shape\n",
        "print(\"y_test: \", y_test.shape)"
      ],
      "metadata": {
        "colab": {
          "base_uri": "https://localhost:8080/"
        },
        "id": "Y4rzb6HIYx93",
        "outputId": "fce02e17-605b-45dc-af1c-895f03bd3aab"
      },
      "execution_count": 8,
      "outputs": [
        {
          "output_type": "stream",
          "name": "stdout",
          "text": [
            "Data shape:  (2167, 49152)\n",
            "(2167,)\n",
            "X_train:  (1516, 49152)\n",
            "y_train:  (1516,)\n",
            "X_test:  (651, 49152)\n",
            "y_test:  (651,)\n",
            "time: 23.9 s (started: 2022-06-27 15:20:17 +00:00)\n"
          ]
        }
      ]
    },
    {
      "cell_type": "markdown",
      "source": [
        "# Method"
      ],
      "metadata": {
        "id": "7OvaMqIkf9el"
      }
    },
    {
      "cell_type": "markdown",
      "source": [
        "## Gaussian Naive Bayes"
      ],
      "metadata": {
        "id": "4m7LKeAHgCkV"
      }
    },
    {
      "cell_type": "code",
      "source": [
        "# training the model on training set\n",
        "from sklearn.naive_bayes import GaussianNB\n",
        "gnb = GaussianNB()\n",
        "gnb.fit(X_train, y_train)\n",
        "\n",
        "# making predictions on the testing set\n",
        "y_pred = gnb.predict(X_test)\n",
        "\n",
        "# comparing actual response values (y_test) with predicted response values (y_pred)\n",
        "from sklearn import metrics\n",
        "GNBVal = metrics.accuracy_score(y_test, y_pred)*100\n",
        "print(\"Gaussian Naive Bayes model accuracy(in %):\", GNBVal)\n",
        "print(\"\")\n",
        "\n",
        "CM = confusion_matrix(y_pred, y_test)\n",
        "print(\"Confusion Matrix\")\n",
        "print(CM)\n",
        "print(\"\")"
      ],
      "metadata": {
        "colab": {
          "base_uri": "https://localhost:8080/"
        },
        "id": "BL5FO52kfw-u",
        "outputId": "179de26d-33d7-4673-fc32-84521d2518c8"
      },
      "execution_count": 9,
      "outputs": [
        {
          "output_type": "stream",
          "name": "stdout",
          "text": [
            "Gaussian Naive Bayes model accuracy(in %): 19.508448540706606\n",
            "\n",
            "Confusion Matrix\n",
            "[[17  4  5  2  5  9 12  3]\n",
            " [ 8 27 12  2  7 20 10 22]\n",
            " [ 1  2 12  3  1  4 11  3]\n",
            " [10 10 70  9 11 22 29 23]\n",
            " [ 7  2 36  0 15  6  1  6]\n",
            " [ 6 10  2  3  1 14  9  4]\n",
            " [ 9  9 44  0  6 24 28 11]\n",
            " [ 0  0  3  0  1  0  3  5]]\n",
            "\n",
            "time: 5.12 s (started: 2022-06-27 15:20:41 +00:00)\n"
          ]
        }
      ]
    },
    {
      "cell_type": "code",
      "source": [
        "FP = CM[0][1] \n",
        "FN = CM[1][0]\n",
        "TP = CM[1][1]\n",
        "TN = CM[0][0]\n",
        "# Overall accuracy\n",
        "ACC = (TP+TN)/(TP+FP+FN+TN)\n",
        "# Precision\n",
        "PR = (TP)/(TP+FP)\n",
        "# Recall\n",
        "RE = (TP)/(TP+FN)\n",
        "# F1 Score\n",
        "F1 = (PR*RE)/(PR+RE)\n",
        "\n",
        "print(\"Jumlah False Positive = \" + str(FP))\n",
        "print(\"Jumlah False Negative = \" + str(FN))\n",
        "print(\"Jumlah True Positive = \" + str(TP))\n",
        "print(\"Jumlah True Negative = \" + str(TN))\n",
        "print(\"\")\n",
        "print(\"Accuracy : \" + str(round(ACC,2)))\n",
        "print(\"Precision : \" + str(round(PR,2)))\n",
        "print(\"Recall : \" + str(round(RE,2)))\n",
        "print(\"F1 Score : \" + str(round(F1,2)))\n",
        "print(\"\")"
      ],
      "metadata": {
        "colab": {
          "base_uri": "https://localhost:8080/"
        },
        "id": "gs92SOcQIGM_",
        "outputId": "66165bf2-6fe5-4461-ebe6-c5a474429b87"
      },
      "execution_count": 10,
      "outputs": [
        {
          "output_type": "stream",
          "name": "stdout",
          "text": [
            "Jumlah False Positive = 4\n",
            "Jumlah False Negative = 8\n",
            "Jumlah True Positive = 27\n",
            "Jumlah True Negative = 17\n",
            "\n",
            "Accuracy : 0.79\n",
            "Precision : 0.87\n",
            "Recall : 0.77\n",
            "F1 Score : 0.41\n",
            "\n",
            "time: 60.6 ms (started: 2022-06-27 15:20:46 +00:00)\n"
          ]
        }
      ]
    },
    {
      "cell_type": "markdown",
      "source": [
        "##Random Forest"
      ],
      "metadata": {
        "id": "kLQlDAnPoL8X"
      }
    },
    {
      "cell_type": "code",
      "source": [
        "from sklearn import ensemble\n",
        "from sklearn.metrics import accuracy_score\n",
        "\n",
        "rf = ensemble.RandomForestClassifier(n_estimators=500)\n",
        "\n",
        "# Train the model on training data\n",
        "rf.fit(X_train, y_train)\n",
        "# Use the forest's predict method on the test data\n",
        "y_pred = rf.predict(X_test)\n",
        "RFVal = accuracy_score(y_test, y_pred)*100\n",
        "print(\"Random Forest model accuracy(in %):\", RFVal)\n",
        "print(\"\")\n",
        "\n",
        "CM = confusion_matrix(y_pred, y_test)\n",
        "print(\"Confusion Matrix\")\n",
        "print(CM)\n",
        "print(\"\")"
      ],
      "metadata": {
        "colab": {
          "base_uri": "https://localhost:8080/"
        },
        "id": "3hSMse8xhUaS",
        "outputId": "c5feed25-578d-466c-81bc-d2765ebb3f2c"
      },
      "execution_count": 11,
      "outputs": [
        {
          "output_type": "stream",
          "name": "stdout",
          "text": [
            "Random Forest model accuracy(in %): 54.99231950844854\n",
            "\n",
            "Confusion Matrix\n",
            "[[ 36   3   3   1   3   4   1   0]\n",
            " [  4  39   5   1   3   7   3   1]\n",
            " [  3   7 137   8  20  20  30  24]\n",
            " [  0   0   0   1   0   0   0   0]\n",
            " [  2   1   7   1   2   1   0   0]\n",
            " [ 10  12  13   3  10  54  10  11]\n",
            " [  1   2  16   3   5   9  56   8]\n",
            " [  2   0   3   1   4   4   3  33]]\n",
            "\n",
            "time: 1min 47s (started: 2022-06-27 15:20:46 +00:00)\n"
          ]
        }
      ]
    },
    {
      "cell_type": "code",
      "source": [
        "FP = CM[0][1] \n",
        "FN = CM[1][0]\n",
        "TP = CM[1][1]\n",
        "TN = CM[0][0]\n",
        "# Overall accuracy\n",
        "ACC = (TP+TN)/(TP+FP+FN+TN)\n",
        "# Precision\n",
        "PR = (TP)/(TP+FP)\n",
        "# Recall\n",
        "RE = (TP)/(TP+FN)\n",
        "# F1 Score\n",
        "F1 = (PR*RE)/(PR+RE)\n",
        "\n",
        "print(\"Jumlah False Positive = \" + str(FP))\n",
        "print(\"Jumlah False Negative = \" + str(FN))\n",
        "print(\"Jumlah True Positive = \" + str(TP))\n",
        "print(\"Jumlah True Negative = \" + str(TN))\n",
        "print(\"\")\n",
        "print(\"Accuracy : \" + str(round(ACC,2)))\n",
        "print(\"Precision : \" + str(round(PR,2)))\n",
        "print(\"Recall : \" + str(round(RE,2)))\n",
        "print(\"F1 Score : \" + str(round(F1,2)))\n",
        "print(\"\")"
      ],
      "metadata": {
        "colab": {
          "base_uri": "https://localhost:8080/"
        },
        "id": "GiuiJ-MOIFZb",
        "outputId": "41fc46fc-d20c-42e8-a3f5-9f8fa54c94b0"
      },
      "execution_count": 12,
      "outputs": [
        {
          "output_type": "stream",
          "name": "stdout",
          "text": [
            "Jumlah False Positive = 3\n",
            "Jumlah False Negative = 4\n",
            "Jumlah True Positive = 39\n",
            "Jumlah True Negative = 36\n",
            "\n",
            "Accuracy : 0.91\n",
            "Precision : 0.93\n",
            "Recall : 0.91\n",
            "F1 Score : 0.46\n",
            "\n",
            "time: 26.7 ms (started: 2022-06-27 15:22:33 +00:00)\n"
          ]
        }
      ]
    },
    {
      "cell_type": "markdown",
      "source": [
        "##Decision Tree"
      ],
      "metadata": {
        "id": "hc_gjRTHqMuY"
      }
    },
    {
      "cell_type": "code",
      "source": [
        "# Importing the required packages\n",
        "import numpy as np\n",
        "import pandas as pd\n",
        "from sklearn.metrics import confusion_matrix\n",
        "from sklearn.model_selection import train_test_split\n",
        "from sklearn.tree import DecisionTreeClassifier\n",
        "from sklearn.metrics import accuracy_score\n",
        "from sklearn.metrics import classification_report\n",
        "\n",
        "# Function to perform training with giniIndex.\n",
        "def train_using_gini(X_train, X_test, y_train):\n",
        "  \n",
        "    # Creating the classifier object\n",
        "    clf_gini = DecisionTreeClassifier(\n",
        "        criterion = \"gini\", random_state = 100, \n",
        "        max_depth = 3, min_samples_leaf = 5)\n",
        "  \n",
        "    # Performing training\n",
        "    clf_gini.fit(X_train, y_train)\n",
        "    return clf_gini\n",
        "      \n",
        "# Function to perform training with entropy.\n",
        "def tarin_using_entropy(X_train, X_test, y_train):\n",
        "  \n",
        "    # Decision tree with entropy\n",
        "    clf_entropy = DecisionTreeClassifier(\n",
        "        criterion = \"entropy\", random_state = 100,\n",
        "        max_depth = 3, min_samples_leaf = 5)\n",
        "  \n",
        "    # Performing training\n",
        "    clf_entropy.fit(X_train, y_train)\n",
        "    return clf_entropy\n",
        "  \n",
        "# Function to make predictions\n",
        "def DTprediction(X_test, clf_object):\n",
        "  \n",
        "    # Predicton on test with giniIndex\n",
        "    y_pred = clf_object.predict(X_test)\n",
        "    #print(\"Predicted values:\")\n",
        "    #print(y_pred)\n",
        "    return y_pred\n",
        "      \n",
        "# Building Phase\n",
        "clf_gini = train_using_gini(X_train, X_test, y_train)\n",
        "clf_entropy = tarin_using_entropy(X_train, X_test, y_train)\n",
        "  \n",
        "# Prediction using gini\n",
        "y_pred_gini = DTprediction(X_test, clf_gini)\n",
        "DTVal =accuracy_score(y_test,y_pred)*100\n",
        "print(\"Decision Tree model accuracy(in %):\",DTVal)\n",
        "print(\"\")\n",
        "\n",
        "CM = confusion_matrix(y_pred, y_test)\n",
        "print(\"Confusion Matrix\")\n",
        "print(CM)\n",
        "print(\"\")"
      ],
      "metadata": {
        "colab": {
          "base_uri": "https://localhost:8080/"
        },
        "id": "r0OBgrVDqkw2",
        "outputId": "295ac585-748f-487b-8083-2f290f26f719"
      },
      "execution_count": 13,
      "outputs": [
        {
          "output_type": "stream",
          "name": "stdout",
          "text": [
            "Decision Tree model accuracy(in %): 54.99231950844854\n",
            "\n",
            "Confusion Matrix\n",
            "[[ 36   3   3   1   3   4   1   0]\n",
            " [  4  39   5   1   3   7   3   1]\n",
            " [  3   7 137   8  20  20  30  24]\n",
            " [  0   0   0   1   0   0   0   0]\n",
            " [  2   1   7   1   2   1   0   0]\n",
            " [ 10  12  13   3  10  54  10  11]\n",
            " [  1   2  16   3   5   9  56   8]\n",
            " [  2   0   3   1   4   4   3  33]]\n",
            "\n",
            "time: 48.7 s (started: 2022-06-27 15:22:33 +00:00)\n"
          ]
        }
      ]
    },
    {
      "cell_type": "code",
      "source": [
        "FP = CM[0][1] \n",
        "FN = CM[1][0]\n",
        "TP = CM[1][1]\n",
        "TN = CM[0][0]\n",
        "# Overall accuracy\n",
        "ACC = (TP+TN)/(TP+FP+FN+TN)\n",
        "# Precision\n",
        "PR = (TP)/(TP+FP)\n",
        "# Recall\n",
        "RE = (TP)/(TP+FN)\n",
        "# F1 Score\n",
        "F1 = (PR*RE)/(PR+RE)\n",
        "\n",
        "print(\"Jumlah False Positive = \" + str(FP))\n",
        "print(\"Jumlah False Negative = \" + str(FN))\n",
        "print(\"Jumlah True Positive = \" + str(TP))\n",
        "print(\"Jumlah True Negative = \" + str(TN))\n",
        "print(\"\")\n",
        "print(\"Accuracy : \" + str(round(ACC,2)))\n",
        "print(\"Precision : \" + str(round(PR,2)))\n",
        "print(\"Recall : \" + str(round(RE,2)))\n",
        "print(\"F1 Score : \" + str(round(F1,2)))\n",
        "print(\"\")"
      ],
      "metadata": {
        "colab": {
          "base_uri": "https://localhost:8080/"
        },
        "id": "uREuZXecIETO",
        "outputId": "67edecaa-7d42-4477-8585-a8234f85e446"
      },
      "execution_count": 14,
      "outputs": [
        {
          "output_type": "stream",
          "name": "stdout",
          "text": [
            "Jumlah False Positive = 3\n",
            "Jumlah False Negative = 4\n",
            "Jumlah True Positive = 39\n",
            "Jumlah True Negative = 36\n",
            "\n",
            "Accuracy : 0.91\n",
            "Precision : 0.93\n",
            "Recall : 0.91\n",
            "F1 Score : 0.46\n",
            "\n",
            "time: 24.2 ms (started: 2022-06-27 15:23:22 +00:00)\n"
          ]
        }
      ]
    },
    {
      "cell_type": "markdown",
      "source": [
        "##K-Nearest Neighbors"
      ],
      "metadata": {
        "id": "kCno7Ybmp2QO"
      }
    },
    {
      "cell_type": "code",
      "source": [
        "from sklearn.neighbors import KNeighborsClassifier\n",
        "from sklearn.metrics import confusion_matrix, accuracy_score\n",
        "\n",
        "KNNVal = 0\n",
        "\n",
        "for i in range(1, 16):\n",
        "  knn = KNeighborsClassifier(n_neighbors=i, metric='manhattan')\n",
        "  knn.fit(X_train, y_train)\n",
        "  y_pred = knn.predict(X_test)\n",
        "  KNNVal = accuracy_score(y_test, y_pred)*100\n",
        "  print('K=', i, 'Accuracy Score(in %):', KNNVal)\n",
        "\n",
        "print(\"\")\n",
        "\n",
        "knn = KNeighborsClassifier(n_neighbors=1, metric='manhattan')\n",
        "knn.fit(X_train, y_train)\n",
        "y_pred = knn.predict(X_test)\n",
        "\n",
        "CM = confusion_matrix(y_pred, y_test)\n",
        "print(\"Confusion Matrix\")\n",
        "print(CM)\n",
        "print(\"\")"
      ],
      "metadata": {
        "colab": {
          "base_uri": "https://localhost:8080/"
        },
        "id": "XgGmRjFHs-D3",
        "outputId": "63dcef83-584b-4b0e-a285-db5955534dfc"
      },
      "execution_count": 15,
      "outputs": [
        {
          "output_type": "stream",
          "name": "stdout",
          "text": [
            "K= 1 Accuracy Score(in %): 61.136712749615974\n",
            "K= 2 Accuracy Score(in %): 51.92012288786483\n",
            "K= 3 Accuracy Score(in %): 49.615975422427034\n",
            "K= 4 Accuracy Score(in %): 49.0015360983103\n",
            "K= 5 Accuracy Score(in %): 47.004608294930875\n",
            "K= 6 Accuracy Score(in %): 45.314900153609834\n",
            "K= 7 Accuracy Score(in %): 45.00768049155146\n",
            "K= 8 Accuracy Score(in %): 43.16436251920123\n",
            "K= 9 Accuracy Score(in %): 43.31797235023041\n",
            "K= 10 Accuracy Score(in %): 43.31797235023041\n",
            "K= 11 Accuracy Score(in %): 42.08909370199693\n",
            "K= 12 Accuracy Score(in %): 41.474654377880185\n",
            "K= 13 Accuracy Score(in %): 41.474654377880185\n",
            "K= 14 Accuracy Score(in %): 41.013824884792626\n",
            "K= 15 Accuracy Score(in %): 40.39938556067588\n",
            "\n",
            "Confusion Matrix\n",
            "[[ 35   1   8   1   6  12   4   2]\n",
            " [  2  52   2   2   0   1   1   1]\n",
            " [  0   3 105   1  10   7   9   9]\n",
            " [  0   1   6   2   0   2   3   3]\n",
            " [  3   0   8   0  17   4   1   2]\n",
            " [ 15   3  15   3   5  60   7   3]\n",
            " [  2   2  28   2   4   8  75   5]\n",
            " [  1   2  12   8   5   5   3  52]]\n",
            "\n",
            "time: 13min 44s (started: 2022-06-27 15:23:22 +00:00)\n"
          ]
        }
      ]
    },
    {
      "cell_type": "code",
      "source": [
        "FP = CM[0][1] \n",
        "FN = CM[1][0]\n",
        "TP = CM[1][1]\n",
        "TN = CM[0][0]\n",
        "# Overall accuracy\n",
        "ACC = (TP+TN)/(TP+FP+FN+TN)\n",
        "# Precision\n",
        "PR = (TP)/(TP+FP)\n",
        "# Recall\n",
        "RE = (TP)/(TP+FN)\n",
        "# F1 Score\n",
        "F1 = (PR*RE)/(PR+RE)\n",
        "\n",
        "print(\"Jumlah False Positive = \" + str(FP))\n",
        "print(\"Jumlah False Negative = \" + str(FN))\n",
        "print(\"Jumlah True Positive = \" + str(TP))\n",
        "print(\"Jumlah True Negative = \" + str(TN))\n",
        "print(\"\")\n",
        "print(\"Accuracy : \" + str(round(ACC,2)))\n",
        "print(\"Precision : \" + str(round(PR,2)))\n",
        "print(\"Recall : \" + str(round(RE,2)))\n",
        "print(\"F1 Score : \" + str(round(F1,2)))\n",
        "print(\"\")"
      ],
      "metadata": {
        "colab": {
          "base_uri": "https://localhost:8080/"
        },
        "id": "kEZoGUUqIDSY",
        "outputId": "12f3e93e-612c-4302-843f-3981a6e605a3"
      },
      "execution_count": 16,
      "outputs": [
        {
          "output_type": "stream",
          "name": "stdout",
          "text": [
            "Jumlah False Positive = 1\n",
            "Jumlah False Negative = 2\n",
            "Jumlah True Positive = 52\n",
            "Jumlah True Negative = 35\n",
            "\n",
            "Accuracy : 0.97\n",
            "Precision : 0.98\n",
            "Recall : 0.96\n",
            "F1 Score : 0.49\n",
            "\n",
            "time: 15.3 ms (started: 2022-06-27 15:37:07 +00:00)\n"
          ]
        }
      ]
    },
    {
      "cell_type": "markdown",
      "source": [
        "##SVM"
      ],
      "metadata": {
        "id": "VpgoBfykuMRW"
      }
    },
    {
      "cell_type": "code",
      "source": [
        "#Classify the image using SVM Classifier\n",
        "from sklearn import svm\n",
        "#Createasvm Classifier\n",
        "clf=svm.SVC(kernel='poly')#Linear Kernel\n",
        "#Train the model using the training sets\n",
        "clf.fit(X_train,y_train)\n",
        "#Predict the response for test dataset\n",
        "y_pred=clf.predict(X_test)\n",
        "\n",
        "SVMVal = accuracy_score(y_test,y_pred)*100\n",
        "print(\"Accuracy Score (in %):\", SVMVal)\n",
        "print(\"\")\n",
        "\n",
        "CM = confusion_matrix(y_pred, y_test)\n",
        "print(\"Confusion Matrix\")\n",
        "print(CM)\n",
        "print(\"\")"
      ],
      "metadata": {
        "colab": {
          "base_uri": "https://localhost:8080/"
        },
        "id": "CVeVx-KsuTMU",
        "outputId": "f081e24a-7902-4170-a186-c9ff0ed0bc2c"
      },
      "execution_count": 17,
      "outputs": [
        {
          "output_type": "stream",
          "name": "stdout",
          "text": [
            "Accuracy Score (in %): 44.70046082949309\n",
            "\n",
            "Confusion Matrix\n",
            "[[ 35  10   8   3   3  17   5   4]\n",
            " [  4  37   9   4   5  12   6   7]\n",
            " [  3   7 100   1  11  15  26  15]\n",
            " [  0   0   4   1   1   2   0   1]\n",
            " [  2   1  12   3  14   9   3   8]\n",
            " [  6   6  19   2   7  33  10  11]\n",
            " [  4   3  19   3   0   8  46   6]\n",
            " [  4   0  13   2   6   3   7  25]]\n",
            "\n",
            "time: 2min 40s (started: 2022-06-27 15:37:07 +00:00)\n"
          ]
        }
      ]
    },
    {
      "cell_type": "code",
      "source": [
        "FP = CM[0][1] \n",
        "FN = CM[1][0]\n",
        "TP = CM[1][1]\n",
        "TN = CM[0][0]\n",
        "# Overall accuracy\n",
        "ACC = (TP+TN)/(TP+FP+FN+TN)\n",
        "# Precision\n",
        "PR = (TP)/(TP+FP)\n",
        "# Recall\n",
        "RE = (TP)/(TP+FN)\n",
        "# F1 Score\n",
        "F1 = (PR*RE)/(PR+RE)\n",
        "\n",
        "print(\"Jumlah False Positive = \" + str(FP))\n",
        "print(\"Jumlah False Negative = \" + str(FN))\n",
        "print(\"Jumlah True Positive = \" + str(TP))\n",
        "print(\"Jumlah True Negative = \" + str(TN))\n",
        "print(\"\")\n",
        "print(\"Accuracy : \" + str(round(ACC,2)))\n",
        "print(\"Precision : \" + str(round(PR,2)))\n",
        "print(\"Recall : \" + str(round(RE,2)))\n",
        "print(\"F1 Score : \" + str(round(F1,2)))\n",
        "print(\"\")"
      ],
      "metadata": {
        "colab": {
          "base_uri": "https://localhost:8080/"
        },
        "id": "qBYcpfKEIAzZ",
        "outputId": "90e6376d-3972-496e-a602-4c94a138b211"
      },
      "execution_count": 18,
      "outputs": [
        {
          "output_type": "stream",
          "name": "stdout",
          "text": [
            "Jumlah False Positive = 10\n",
            "Jumlah False Negative = 4\n",
            "Jumlah True Positive = 37\n",
            "Jumlah True Negative = 35\n",
            "\n",
            "Accuracy : 0.84\n",
            "Precision : 0.79\n",
            "Recall : 0.9\n",
            "F1 Score : 0.42\n",
            "\n",
            "time: 26 ms (started: 2022-06-27 15:39:47 +00:00)\n"
          ]
        }
      ]
    },
    {
      "cell_type": "markdown",
      "source": [
        "##K-Fold Cross Validation\n"
      ],
      "metadata": {
        "id": "nPMqn1hyw5bb"
      }
    },
    {
      "cell_type": "markdown",
      "source": [
        "#### Gaussian Naive Bayes"
      ],
      "metadata": {
        "id": "xTctgIGJ3UtY"
      }
    },
    {
      "cell_type": "code",
      "source": [
        "gnb = GaussianNB()\n",
        "gnb_cvs=cross_val_score(gnb, X, y, cv=5).mean()\n",
        "print(gnb_cvs)\n",
        "print(\"\")"
      ],
      "metadata": {
        "colab": {
          "base_uri": "https://localhost:8080/"
        },
        "id": "bA7ACNB83XJi",
        "outputId": "736ceebf-fb9d-412f-bc6b-b8a4a61ce6c5"
      },
      "execution_count": 19,
      "outputs": [
        {
          "output_type": "stream",
          "name": "stdout",
          "text": [
            "0.196591138876768\n",
            "\n",
            "time: 12.1 s (started: 2022-06-27 15:39:47 +00:00)\n"
          ]
        }
      ]
    },
    {
      "cell_type": "markdown",
      "source": [
        "#### Random Forest"
      ],
      "metadata": {
        "id": "Qroi-Fn-3XdY"
      }
    },
    {
      "cell_type": "code",
      "source": [
        "rf=ensemble.RandomForestClassifier(n_estimators=500)\n",
        "rf_cvs=cross_val_score(rf, X, y, cv=5).mean()\n",
        "print(rf_cvs)\n",
        "print(\"\")"
      ],
      "metadata": {
        "colab": {
          "base_uri": "https://localhost:8080/"
        },
        "id": "srJvq-CN3b9S",
        "outputId": "3b61916c-a846-4481-bfcd-1215c9d557b7"
      },
      "execution_count": 20,
      "outputs": [
        {
          "output_type": "stream",
          "name": "stdout",
          "text": [
            "0.5597588361128553\n",
            "\n",
            "time: 9min 58s (started: 2022-06-27 15:40:00 +00:00)\n"
          ]
        }
      ]
    },
    {
      "cell_type": "markdown",
      "source": [
        "#### Decision Tree"
      ],
      "metadata": {
        "id": "jfxPKsge3cTp"
      }
    },
    {
      "cell_type": "code",
      "source": [
        "dt = tree.DecisionTreeClassifier(max_depth=3)\n",
        "dt_cvs = cross_val_score(dt, X, y, cv=5).mean()\n",
        "print(dt_cvs)\n",
        "print(\"\")"
      ],
      "metadata": {
        "colab": {
          "base_uri": "https://localhost:8080/"
        },
        "id": "5iRNb45U3eEJ",
        "outputId": "4933a8dc-bc16-472e-b241-3007eab5c6d0"
      },
      "execution_count": 21,
      "outputs": [
        {
          "output_type": "stream",
          "name": "stdout",
          "text": [
            "0.26395100094720153\n",
            "\n",
            "time: 1min 34s (started: 2022-06-27 15:49:58 +00:00)\n"
          ]
        }
      ]
    },
    {
      "cell_type": "markdown",
      "source": [
        "#### K-Nearest Neighbors"
      ],
      "metadata": {
        "id": "_QMWHYBq3epr"
      }
    },
    {
      "cell_type": "code",
      "source": [
        "#knn = KNeighborsClassifier(n_neighbors=1,metric='euclidean') # 0.5902065750683795\n",
        "knn = KNeighborsClassifier(n_neighbors=1, metric='manhattan') # 0.6155873181426337\n",
        "#knn = KNeighborsClassifier(n_neighbors=1, metric='minkowski') # 0.5902065750683795\n",
        "#knn = KNeighborsClassifier(n_neighbors=1, metric='chebyshev') # 0.2381126211938996\n",
        "knn_cvs = cross_val_score(knn, X, y, cv=5).mean()\n",
        "print(knn_cvs)\n",
        "print(\"\")"
      ],
      "metadata": {
        "colab": {
          "base_uri": "https://localhost:8080/"
        },
        "id": "LGm3dRmw3hTT",
        "outputId": "2dbea350-46fc-45f2-d8e2-1cda24277c6f"
      },
      "execution_count": 22,
      "outputs": [
        {
          "output_type": "stream",
          "name": "stdout",
          "text": [
            "0.6155905109566736\n",
            "\n",
            "time: 3min 11s (started: 2022-06-27 15:51:33 +00:00)\n"
          ]
        }
      ]
    },
    {
      "cell_type": "markdown",
      "source": [
        "#### SVM"
      ],
      "metadata": {
        "id": "4Li0b6qO3hrP"
      }
    },
    {
      "cell_type": "code",
      "source": [
        "svm_val = svm.SVC(kernel='poly') # 0.465162141739658\n",
        "#svm_val = svm.SVC(kernel='linear') # 0.4125647875182256\n",
        "#svm_val = svm.SVC(kernel='sigmoid') # 0.24411724013154396\n",
        "#svm_val = svm.SVC(kernel='rbf') # 0.4564010600142613\n",
        "svm_cvs=cross_val_score(svm_val, X, y, cv=5).mean()\n",
        "print(svm_cvs)\n",
        "print(\"\")"
      ],
      "metadata": {
        "colab": {
          "base_uri": "https://localhost:8080/"
        },
        "id": "0HoQgzNi3mC8",
        "outputId": "c8d9b35d-26b7-4433-a380-c058f2da438e"
      },
      "execution_count": 23,
      "outputs": [
        {
          "output_type": "stream",
          "name": "stdout",
          "text": [
            "0.45962367365183426\n",
            "\n",
            "time: 16min 1s (started: 2022-06-27 15:54:44 +00:00)\n"
          ]
        }
      ]
    },
    {
      "cell_type": "markdown",
      "source": [
        "### Graph"
      ],
      "metadata": {
        "id": "SJufN9Dt698N"
      }
    },
    {
      "cell_type": "code",
      "source": [
        "import matplotlib.pyplot as plt\n",
        "\n",
        "# labels for bars\n",
        "x = ['GNB', 'RF', 'DT', 'KNN', 'SVM']\n",
        "\n",
        "# heights of bars\n",
        "y = [round(gnb_cvs, 3), round(rf_cvs, 3), round(dt_cvs, 3), round(knn_cvs, 3), round(svm_cvs, 3)]\n",
        " \n",
        "# plotting a bar chart\n",
        "plt.bar(x, y)\n",
        "\n",
        "# add value labels\n",
        "for i in range(len(x)):\n",
        "  plt.text(i, y[i], y[i], ha=\"center\", va=\"bottom\")\n",
        "\n",
        "# plot title\n",
        "# plt.title('Perbandingan Cross Validation Score untuk tiap jenis Classifier', fontsize=14)\n",
        "# naming the x-axis\n",
        "plt.xlabel('Jenis Classifier', fontsize=14)\n",
        "# naming the y-axis\n",
        "plt.ylabel('Cross Validation Score', fontsize=14)\n",
        "\n",
        "plt.ylim(0,1)\n",
        "\n",
        "plt.grid(True)\n",
        "# function to show the plot\n",
        "plt.show()"
      ],
      "metadata": {
        "colab": {
          "base_uri": "https://localhost:8080/",
          "height": 305
        },
        "id": "FdqwtNLhw_-m",
        "outputId": "e437a8db-2e9a-4a6f-b93f-71d73acc5ebb"
      },
      "execution_count": 24,
      "outputs": [
        {
          "output_type": "display_data",
          "data": {
            "text/plain": [
              "<Figure size 432x288 with 1 Axes>"
            ],
            "image/png": "[encoded data removed]"
          },
          "metadata": {
            "needs_background": "light"
          }
        },
        {
          "output_type": "stream",
          "name": "stdout",
          "text": [
            "time: 228 ms (started: 2022-06-27 16:10:45 +00:00)\n"
          ]
        }
      ]
    },
    {
      "cell_type": "markdown",
      "source": [
        "#Testing"
      ],
      "metadata": {
        "id": "auNOiBWZpzEC"
      }
    },
    {
      "cell_type": "code",
      "source": [
        "def load_single_image_files(path):\n",
        "    images = []\n",
        "    img = cv2.imread(path)\n",
        "    # smoothing\n",
        "    img_pred = cv2.GaussianBlur(img, (5, 5), 0)\n",
        "    # sharpening\n",
        "    kernel = np.array([[-1,-1,-1], \n",
        "                       [-1,9,-1], \n",
        "                       [-1,-1,-1]])\n",
        "    img_pred = cv2.filter2D(img_pred, -1, kernel)\n",
        "    # resize\n",
        "    img_pred = cv2.resize(img, (128, 128), interpolation = cv2.INTER_AREA)\n",
        "    # ubah rentang pixel yang awalnya 0 - 255 menjadi 0 - 1\n",
        "    img_pred = img_pred / 255\n",
        "    # algoritma nearest neighbour bekerja pada 1 dimensi\n",
        "    # ada 3 perkalian karena gambar berwarna, punya 3 channel rgb\n",
        "    img_pred = img_pred.reshape(img_pred.shape[0] * img_pred.shape[1] * img_pred.shape[2])\n",
        "    \n",
        "    # masukkan ke list images\n",
        "    images.append(img_pred)\n",
        "    \n",
        "    X = np.array(images)\n",
        "    return X"
      ],
      "metadata": {
        "id": "2PryUghWvt4G",
        "colab": {
          "base_uri": "https://localhost:8080/"
        },
        "outputId": "f1495c48-b8c5-48fc-8afa-76d6c7233e06"
      },
      "execution_count": 25,
      "outputs": [
        {
          "output_type": "stream",
          "name": "stdout",
          "text": [
            "time: 24 ms (started: 2022-06-27 16:10:45 +00:00)\n"
          ]
        }
      ]
    },
    {
      "cell_type": "code",
      "source": [
        "from matplotlib import image\n",
        "from google.colab import files\n",
        "uploaded = files.upload()\n",
        "\n",
        "for fn in uploaded.keys():\n",
        "  #Predicting images\n",
        "  path = fn\n",
        "\n",
        "  X_single = load_single_image_files(path)\n",
        "\n",
        "  img =  cv2.imread(path)\n",
        "  imgshow = cv2.cvtColor(img, cv2.COLOR_BGR2RGB)\n",
        "  imgplot = plt.imshow(imgshow)\n",
        "\n",
        "  print(\"\")\n",
        "\n",
        "  gnb.fit(X_train, y_train)\n",
        "  nb_pred_single = gnb.predict(X_single)\n",
        "  print(\"Prediksi menggunakan Gaussian Naive Bayes\")\n",
        "  print(nb_pred_single)\n",
        "\n",
        "  print(\"\")\n",
        "\n",
        "  rf.fit(X_train, y_train)\n",
        "  rf_pred_single = rf.predict(X_single)\n",
        "  print(\"Prediksi menggunakan Random Forest\")\n",
        "  print(rf_pred_single)\n",
        "\n",
        "  print(\"\")\n",
        "  \n",
        "  dt_pred_single = DTprediction(X_single, clf_gini)\n",
        "  print(\"Prediksi menggunakan DT (Decission Tree) Classifier\")\n",
        "  print(dt_pred_single)\n",
        "\n",
        "  print(\"\")\n",
        "\n",
        "  knn.fit(X_train, y_train)\n",
        "  knn_pred_single = knn.predict(X_single)\n",
        "  print(\"Prediksi menggunakan K-Nearest Neighbor\")\n",
        "  print(knn_pred_single)\n",
        "\n",
        "  print(\"\")\n",
        "\n",
        "  svm_pred_single = clf.predict(X_single)\n",
        "  print(\"Prediksi menggunakan SVM (Support Vector Machine) Classifier\")\n",
        "  print(svm_pred_single)\n",
        "\n",
        "  print(\"\")"
      ],
      "metadata": {
        "colab": {
          "resources": {
            "http://localhost:8080/nbextensions/google.colab/files.js": {
              "data": "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",
              "ok": true,
              "headers": [
                [
                  "content-type",
                  "application/javascript"
                ]
              ],
              "status": 200,
              "status_text": ""
            }
          },
          "base_uri": "https://localhost:8080/",
          "height": 636
        },
        "id": "jkKWlEtxprsS",
        "outputId": "d5f5314a-bb03-4793-b666-0f0aa4c6e053"
      },
      "execution_count": 28,
      "outputs": [
        {
          "output_type": "display_data",
          "data": {
            "text/plain": [
              "<IPython.core.display.HTML object>"
            ],
            "text/html": [
              "\n",
              "     <input type=\"file\" id=\"files-886271fe-740b-4b7c-9d33-6c643d4013b7\" name=\"files[]\" multiple disabled\n",
              "        style=\"border:none\" />\n",
              "     <output id=\"result-886271fe-740b-4b7c-9d33-6c643d4013b7\">\n",
              "      Upload widget is only available when the cell has been executed in the\n",
              "      current browser session. Please rerun this cell to enable.\n",
              "      </output>\n",
              "      <script src=\"/nbextensions/google.colab/files.js\"></script> "
            ]
          },
          "metadata": {}
        },
        {
          "output_type": "stream",
          "name": "stdout",
          "text": [
            "Saving IMG_20220430_183637.jpg to IMG_20220430_183637.jpg\n",
            "\n",
            "Prediksi menggunakan Gaussian Naive Bayes\n",
            "['semiOpenPalm']\n",
            "\n",
            "Prediksi menggunakan Random Forest\n",
            "['fingerCircle']\n",
            "\n",
            "Prediksi menggunakan DT (Decission Tree) Classifier\n",
            "['singleFingerBend']\n",
            "\n",
            "Prediksi menggunakan K-Nearest Neighbor\n",
            "['fingerCircle']\n",
            "\n",
            "Prediksi menggunakan SVM (Support Vector Machine) Classifier\n",
            "['fingerCircle']\n",
            "\n"
          ]
        },
        {
          "output_type": "display_data",
          "data": {
            "text/plain": [
              "<Figure size 432x288 with 1 Axes>"
            ],
            "image/png": "[encoded data removed]"
          },
          "metadata": {
            "needs_background": "light"
          }
        },
        {
          "output_type": "stream",
          "name": "stdout",
          "text": [
            "time: 1min 47s (started: 2022-06-27 16:16:49 +00:00)\n"
          ]
        }
      ]
    }
  ]
}