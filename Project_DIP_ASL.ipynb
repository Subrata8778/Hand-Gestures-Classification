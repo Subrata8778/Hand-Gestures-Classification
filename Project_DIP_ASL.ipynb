{
  "nbformat": 4,
  "nbformat_minor": 0,
  "metadata": {
    "colab": {
      "name": "Project_DIP.ipynb",
      "provenance": [],
      "collapsed_sections": []
    },
    "kernelspec": {
      "name": "python3",
      "display_name": "Python 3"
    },
    "language_info": {
      "name": "python"
    }
  },
  "cells": [
    {
      "cell_type": "code",
      "source": [
        "!pip install ipython-autotime\n",
        "\n",
        "%load_ext autotime"
      ],
      "metadata": {
        "colab": {
          "base_uri": "https://localhost:8080/"
        },
        "id": "_DQ8xt1c-LuW",
        "outputId": "edf85747-fdb3-4b2f-f957-bd3d8dc60551"
      },
      "execution_count": 1,
      "outputs": [
        {
          "output_type": "stream",
          "name": "stdout",
          "text": [
            "Looking in indexes: https://pypi.org/simple, https://us-python.pkg.dev/colab-wheels/public/simple/\n",
            "Collecting ipython-autotime\n",
            "  Downloading ipython_autotime-0.3.1-py2.py3-none-any.whl (6.8 kB)\n",
            "Requirement already satisfied: ipython in /usr/local/lib/python3.7/dist-packages (from ipython-autotime) (5.5.0)\n",
            "Requirement already satisfied: pickleshare in /usr/local/lib/python3.7/dist-packages (from ipython->ipython-autotime) (0.7.5)\n",
            "Requirement already satisfied: traitlets>=4.2 in /usr/local/lib/python3.7/dist-packages (from ipython->ipython-autotime) (5.1.1)\n",
            "Requirement already satisfied: simplegeneric>0.8 in /usr/local/lib/python3.7/dist-packages (from ipython->ipython-autotime) (0.8.1)\n",
            "Requirement already satisfied: decorator in /usr/local/lib/python3.7/dist-packages (from ipython->ipython-autotime) (4.4.2)\n",
            "Requirement already satisfied: pexpect in /usr/local/lib/python3.7/dist-packages (from ipython->ipython-autotime) (4.8.0)\n",
            "Requirement already satisfied: prompt-toolkit<2.0.0,>=1.0.4 in /usr/local/lib/python3.7/dist-packages (from ipython->ipython-autotime) (1.0.18)\n",
            "Requirement already satisfied: setuptools>=18.5 in /usr/local/lib/python3.7/dist-packages (from ipython->ipython-autotime) (57.4.0)\n",
            "Requirement already satisfied: pygments in /usr/local/lib/python3.7/dist-packages (from ipython->ipython-autotime) (2.6.1)\n",
            "Requirement already satisfied: six>=1.9.0 in /usr/local/lib/python3.7/dist-packages (from prompt-toolkit<2.0.0,>=1.0.4->ipython->ipython-autotime) (1.15.0)\n",
            "Requirement already satisfied: wcwidth in /usr/local/lib/python3.7/dist-packages (from prompt-toolkit<2.0.0,>=1.0.4->ipython->ipython-autotime) (0.2.5)\n",
            "Requirement already satisfied: ptyprocess>=0.5 in /usr/local/lib/python3.7/dist-packages (from pexpect->ipython->ipython-autotime) (0.7.0)\n",
            "Installing collected packages: ipython-autotime\n",
            "Successfully installed ipython-autotime-0.3.1\n",
            "time: 1.77 ms (started: 2022-06-27 05:21:35 +00:00)\n"
          ]
        }
      ]
    },
    {
      "cell_type": "code",
      "execution_count": 2,
      "metadata": {
        "id": "VOezWCxAHRVU",
        "colab": {
          "base_uri": "https://localhost:8080/"
        },
        "outputId": "bfd40c37-8540-4825-af65-eaee1e74f58a"
      },
      "outputs": [
        {
          "output_type": "stream",
          "name": "stdout",
          "text": [
            "time: 981 ms (started: 2022-06-27 05:21:35 +00:00)\n"
          ]
        }
      ],
      "source": [
        "import numpy as np\n",
        "import cv2\n",
        "import matplotlib.pyplot as plt\n",
        "from pathlib import Path\n",
        "from sklearn.model_selection import train_test_split\n",
        "import pandas as pd\n",
        "import os\n",
        "from sklearn.metrics import confusion_matrix, accuracy_score"
      ]
    },
    {
      "cell_type": "code",
      "source": [
        "from google.colab import drive\n",
        "drive.mount('/content/drive')"
      ],
      "metadata": {
        "colab": {
          "base_uri": "https://localhost:8080/"
        },
        "id": "aK-sCO0URNkT",
        "outputId": "4aa9daeb-c02e-49ad-be5e-3ce514cfc3e1"
      },
      "execution_count": 3,
      "outputs": [
        {
          "output_type": "stream",
          "name": "stdout",
          "text": [
            "Drive already mounted at /content/drive; to attempt to forcibly remount, call drive.mount(\"/content/drive\", force_remount=True).\n",
            "time: 2.8 s (started: 2022-06-27 05:21:36 +00:00)\n"
          ]
        }
      ]
    },
    {
      "cell_type": "code",
      "source": [
        "cd drive/MyDrive/Project_DIP/Dataset_ASL"
      ],
      "metadata": {
        "colab": {
          "base_uri": "https://localhost:8080/"
        },
        "id": "2niOGGNjJFZ9",
        "outputId": "61480b7a-93ad-4d47-f258-48b22cc1f7fa"
      },
      "execution_count": 4,
      "outputs": [
        {
          "output_type": "stream",
          "name": "stdout",
          "text": [
            "/content/drive/MyDrive/Project_DIP/Dataset_ASL\n",
            "time: 5.29 ms (started: 2022-06-27 05:21:39 +00:00)\n"
          ]
        }
      ]
    },
    {
      "cell_type": "code",
      "source": [
        "directories = os.listdir()\n",
        "filename = []\n",
        "label = []\n",
        "\n",
        "for i in range(0, len(directories)):\n",
        "  os.chdir(directories[i])\n",
        "  files = os.listdir()\n",
        "  for j in range(0, len(files)):\n",
        "    files[j] = directories[i] + '/' + files[j]\n",
        "    label.append(directories[i])\n",
        "  filename = filename + files\n",
        "  os.chdir(\"..\")\n",
        "print(filename)\n",
        "print(label)"
      ],
      "metadata": {
        "colab": {
          "base_uri": "https://localhost:8080/"
        },
        "id": "cUWuIMrUL9kR",
        "outputId": "b9c644df-f561-4760-ec48-f6a822f730ec"
      },
      "execution_count": 5,
      "outputs": [
        {
          "output_type": "stream",
          "name": "stdout",
          "text": [
            "['2/hand2_2_dif_seg_2_cropped.jpeg', '2/hand4_2_bot_seg_3_cropped.jpeg', '2/hand1_2_bot_seg_4_cropped.jpeg', '2/hand1_2_right_seg_5_cropped.jpeg', '2/hand1_2_left_seg_2_cropped.jpeg', '2/hand2_2_top_seg_4_cropped.jpeg', '2/hand4_2_bot_seg_2_cropped.jpeg', '2/hand2_2_top_seg_5_cropped.jpeg', '2/hand5_2_dif_seg_3_cropped.jpeg', '2/hand2_2_dif_seg_1_cropped.jpeg', '2/hand1_2_right_seg_2_cropped.jpeg', '2/hand4_2_bot_seg_4_cropped.jpeg', '2/hand2_2_left_seg_2_cropped.jpeg', '2/hand2_2_top_seg_1_cropped.jpeg', '2/hand5_2_bot_seg_5_cropped.jpeg', '2/hand3_2_dif_seg_2_cropped.jpeg', '2/hand5_2_bot_seg_2_cropped.jpeg', '2/hand2_2_bot_seg_4_cropped.jpeg', '2/hand3_2_dif_seg_3_cropped.jpeg', '2/hand5_2_bot_seg_1_cropped.jpeg', '2/hand1_2_right_seg_4_cropped.jpeg', '2/hand3_2_dif_seg_4_cropped.jpeg', '2/hand2_2_top_seg_3_cropped.jpeg', '2/hand2_2_right_seg_4_cropped.jpeg', '2/hand2_2_right_seg_5_cropped.jpeg', '2/hand2_2_top_seg_2_cropped.jpeg', '2/hand1_2_bot_seg_3_cropped.jpeg', '2/hand1_2_left_seg_1_cropped.jpeg', '2/hand2_2_left_seg_3_cropped.jpeg', '2/hand1_2_right_seg_3_cropped.jpeg', '2/hand1_2_top_seg_2_cropped.jpeg', '2/hand1_2_left_seg_4_cropped.jpeg', '2/hand1_2_bot_seg_5_cropped.jpeg', '2/hand1_2_left_seg_3_cropped.jpeg', '2/hand1_2_right_seg_1_cropped.jpeg', '2/hand2_2_right_seg_1_cropped.jpeg', '2/hand1_2_bot_seg_2_cropped.jpeg', '2/hand2_2_bot_seg_3_cropped.jpeg', '2/hand1_2_bot_seg_1_cropped.jpeg', '2/hand5_2_dif_seg_4_cropped.jpeg', '2/hand2_2_left_seg_4_cropped.jpeg', '2/hand4_2_bot_seg_5_cropped.jpeg', '2/hand2_2_left_seg_5_cropped.jpeg', '2/hand2_2_bot_seg_1_cropped.jpeg', '2/hand2_2_dif_seg_5_cropped.jpeg', '2/hand5_2_dif_seg_1_cropped.jpeg', '2/hand1_2_top_seg_5_cropped.jpeg', '2/hand1_2_left_seg_5_cropped.jpeg', '2/hand1_2_dif_seg_3_cropped.jpeg', '2/hand2_2_dif_seg_3_cropped.jpeg', '2/hand4_2_bot_seg_1_cropped.jpeg', '2/hand2_2_dif_seg_4_cropped.jpeg', '2/hand2_2_bot_seg_2_cropped.jpeg', '2/hand3_2_dif_seg_5_cropped.jpeg', '2/hand1_2_dif_seg_2_cropped.jpeg', '2/hand5_2_bot_seg_3_cropped.jpeg', '2/hand1_2_top_seg_1_cropped.jpeg', '2/hand5_2_dif_seg_5_cropped.jpeg', '2/hand2_2_right_seg_2_cropped.jpeg', '2/hand1_2_top_seg_4_cropped.jpeg', '2/hand5_2_dif_seg_2_cropped.jpeg', '2/hand2_2_bot_seg_5_cropped.jpeg', '2/hand1_2_top_seg_3_cropped.jpeg', '2/hand1_2_dif_seg_5_cropped.jpeg', '2/hand5_2_bot_seg_4_cropped.jpeg', '2/hand3_2_dif_seg_1_cropped.jpeg', '2/hand1_2_dif_seg_4_cropped.jpeg', '2/hand2_2_left_seg_1_cropped.jpeg', '2/hand1_2_dif_seg_1_cropped.jpeg', '2/hand2_2_right_seg_3_cropped.jpeg', '0/hand1_0_bot_seg_2_cropped.jpeg', '0/hand1_0_bot_seg_1_cropped.jpeg', '0/hand1_0_bot_seg_3_cropped.jpeg', '0/hand1_0_bot_seg_4_cropped.jpeg', '0/hand1_0_bot_seg_5_cropped.jpeg', '0/hand1_0_dif_seg_1_cropped.jpeg', '0/hand1_0_dif_seg_2_cropped.jpeg', '0/hand1_0_dif_seg_3_cropped.jpeg', '0/hand1_0_dif_seg_4_cropped.jpeg', '0/hand1_0_dif_seg_5_cropped.jpeg', '0/hand1_0_left_seg_1_cropped.jpeg', '0/hand1_0_left_seg_2_cropped.jpeg', '0/hand1_0_left_seg_3_cropped.jpeg', '0/hand1_0_left_seg_4_cropped.jpeg', '0/hand1_0_left_seg_5_cropped.jpeg', '0/hand1_0_right_seg_1_cropped.jpeg', '0/hand1_0_right_seg_3_cropped.jpeg', '0/hand1_0_right_seg_2_cropped.jpeg', '0/hand1_0_right_seg_4_cropped.jpeg', '0/hand1_0_right_seg_5_cropped.jpeg', '0/hand1_0_top_seg_1_cropped.jpeg', '0/hand1_0_top_seg_2_cropped.jpeg', '0/hand1_0_top_seg_4_cropped.jpeg', '0/hand1_0_top_seg_3_cropped.jpeg', '0/hand2_0_bot_seg_1_cropped.jpeg', '0/hand1_0_top_seg_5_cropped.jpeg', '0/hand2_0_bot_seg_4_cropped.jpeg', '0/hand2_0_bot_seg_2_cropped.jpeg', '0/hand2_0_bot_seg_3_cropped.jpeg', '0/hand2_0_dif_seg_1_cropped.jpeg', '0/hand2_0_dif_seg_2_cropped.jpeg', '0/hand2_0_bot_seg_5_cropped.jpeg', '0/hand2_0_dif_seg_4_cropped.jpeg', '0/hand2_0_dif_seg_5_cropped.jpeg', '0/hand2_0_left_seg_1_cropped.jpeg', '0/hand2_0_dif_seg_3_cropped.jpeg', '0/hand2_0_left_seg_2_cropped.jpeg', '0/hand2_0_left_seg_4_cropped.jpeg', '0/hand2_0_left_seg_3_cropped.jpeg', '0/hand2_0_right_seg_2_cropped.jpeg', '0/hand2_0_right_seg_1_cropped.jpeg', '0/hand2_0_left_seg_5_cropped.jpeg', '0/hand2_0_right_seg_3_cropped.jpeg', '0/hand2_0_right_seg_4_cropped.jpeg', '0/hand2_0_right_seg_5_cropped.jpeg', '0/hand2_0_top_seg_1_cropped.jpeg', '0/hand2_0_top_seg_2_cropped.jpeg', '0/hand2_0_top_seg_5_cropped.jpeg', '0/hand2_0_top_seg_4_cropped.jpeg', '0/hand2_0_top_seg_3_cropped.jpeg', '0/hand3_0_dif_seg_2_cropped.jpeg', '0/hand3_0_dif_seg_3_cropped.jpeg', '0/hand3_0_dif_seg_1_cropped.jpeg', '0/hand3_0_dif_seg_4_cropped.jpeg', '0/hand4_0_bot_seg_1_cropped.jpeg', '0/hand3_0_dif_seg_5_cropped.jpeg', '0/hand4_0_bot_seg_3_cropped.jpeg', '0/hand4_0_bot_seg_2_cropped.jpeg', '0/hand4_0_bot_seg_4_cropped.jpeg', '0/hand4_0_bot_seg_5_cropped.jpeg', '0/hand5_0_bot_seg_1_cropped.jpeg', '0/hand5_0_bot_seg_4_cropped.jpeg', '0/hand5_0_bot_seg_3_cropped.jpeg', '0/hand5_0_bot_seg_2_cropped.jpeg', '0/hand5_0_bot_seg_5_cropped.jpeg', '0/hand5_0_dif_seg_1_cropped.jpeg', '0/hand5_0_dif_seg_5_cropped.jpeg', '0/hand5_0_dif_seg_2_cropped.jpeg', '0/hand5_0_dif_seg_3_cropped.jpeg', '0/hand5_0_dif_seg_4_cropped.jpeg', '5/hand1_5_left_seg_5_cropped.jpeg', '5/hand3_5_dif_seg_3_cropped.jpeg', '5/hand1_5_bot_seg_2_cropped.jpeg', '5/hand1_5_right_seg_2_cropped.jpeg', '5/hand4_5_bot_seg_4_cropped.jpeg', '5/hand1_5_right_seg_5_cropped.jpeg', '5/hand2_5_right_seg_2_cropped.jpeg', '5/hand2_5_left_seg_1_cropped.jpeg', '5/hand2_5_right_seg_5_cropped.jpeg', '5/hand1_5_dif_seg_3_cropped.jpeg', '5/hand2_5_left_seg_4_cropped.jpeg', '5/hand2_5_top_seg_3_cropped.jpeg', '5/hand2_5_bot_seg_4_cropped.jpeg', '5/hand1_5_right_seg_3_cropped.jpeg', '5/hand5_5_dif_seg_2_cropped.jpeg', '5/hand1_5_left_seg_4_cropped.jpeg', '5/hand3_5_dif_seg_5_cropped.jpeg', '5/hand2_5_top_seg_2_cropped.jpeg', '5/hand2_5_bot_seg_1_cropped.jpeg', '5/hand1_5_dif_seg_5_cropped.jpeg', '5/hand1_5_top_seg_4_cropped.jpeg', '5/hand2_5_dif_seg_2_cropped.jpeg', '5/hand2_5_right_seg_1_cropped.jpeg', '5/hand4_5_bot_seg_3_cropped.jpeg', '5/hand1_5_left_seg_2_cropped.jpeg', '5/hand2_5_right_seg_3_cropped.jpeg', '5/hand2_5_left_seg_2_cropped.jpeg', '5/hand1_5_right_seg_4_cropped.jpeg', '5/hand2_5_dif_seg_5_cropped.jpeg', '5/hand5_5_dif_seg_5_cropped.jpeg', '5/hand2_5_dif_seg_1_cropped.jpeg', '5/hand2_5_dif_seg_3_cropped.jpeg', '5/hand2_5_left_seg_3_cropped.jpeg', '5/hand4_5_bot_seg_5_cropped.jpeg', '5/hand2_5_bot_seg_3_cropped.jpeg', '5/hand5_5_bot_seg_2_cropped.jpeg', '5/hand5_5_dif_seg_1_cropped.jpeg', '5/hand5_5_bot_seg_3_cropped.jpeg', '5/hand5_5_dif_seg_3_cropped.jpeg', '5/hand4_5_bot_seg_1_cropped.jpeg', '5/hand1_5_dif_seg_2_cropped.jpeg', '5/hand5_5_bot_seg_4_cropped.jpeg', '5/hand2_5_top_seg_1_cropped.jpeg', '5/hand2_5_left_seg_5_cropped.jpeg', '5/hand3_5_dif_seg_2_cropped.jpeg', '5/hand1_5_dif_seg_4_cropped.jpeg', '5/hand4_5_bot_seg_2_cropped.jpeg', '5/hand2_5_bot_seg_5_cropped.jpeg', '5/hand2_5_top_seg_4_cropped.jpeg', '5/hand1_5_top_seg_2_cropped.jpeg', '5/hand2_5_dif_seg_4_cropped.jpeg', '5/hand2_5_top_seg_5_cropped.jpeg', '5/hand1_5_right_seg_1_cropped.jpeg', '5/hand5_5_dif_seg_4_cropped.jpeg', '5/hand1_5_top_seg_5_cropped.jpeg', '5/hand2_5_bot_seg_2_cropped.jpeg', '5/hand1_5_left_seg_1_cropped.jpeg', '5/hand1_5_top_seg_3_cropped.jpeg', '5/hand1_5_bot_seg_1_cropped.jpeg', '5/hand1_5_bot_seg_3_cropped.jpeg', '5/hand3_5_dif_seg_1_cropped.jpeg', '5/hand1_5_dif_seg_1_cropped.jpeg', '5/hand1_5_bot_seg_5_cropped.jpeg', '5/hand1_5_left_seg_3_cropped.jpeg', '5/hand3_5_dif_seg_4_cropped.jpeg', '5/hand1_5_top_seg_1_cropped.jpeg', '5/hand2_5_right_seg_4_cropped.jpeg', '5/hand5_5_bot_seg_1_cropped.jpeg', '5/hand5_5_bot_seg_5_cropped.jpeg', '5/hand1_5_bot_seg_4_cropped.jpeg', '4/hand1_4_dif_seg_2_cropped.jpeg', '4/hand2_4_dif_seg_2_cropped.jpeg', '4/hand4_4_bot_seg_3_cropped.jpeg', '4/hand1_4_dif_seg_1_cropped.jpeg', '4/hand1_4_right_seg_4_cropped.jpeg', '4/hand1_4_bot_seg_4_cropped.jpeg', '4/hand1_4_top_seg_1_cropped.jpeg', '4/hand2_4_right_seg_1_cropped.jpeg', '4/hand2_4_top_seg_5_cropped.jpeg', '4/hand5_4_bot_seg_5_cropped.jpeg', '4/hand1_4_left_seg_2_cropped.jpeg', '4/hand2_4_right_seg_5_cropped.jpeg', '4/hand1_4_left_seg_1_cropped.jpeg', '4/hand1_4_left_seg_3_cropped.jpeg', '4/hand2_4_left_seg_5_cropped.jpeg', '4/hand3_4_dif_seg_2_cropped.jpeg', '4/hand2_4_left_seg_2_cropped.jpeg', '4/hand2_4_dif_seg_4_cropped.jpeg', '4/hand3_4_dif_seg_5_cropped.jpeg', '4/hand1_4_left_seg_4_cropped.jpeg', '4/hand1_4_right_seg_1_cropped.jpeg', '4/hand2_4_dif_seg_5_cropped.jpeg', '4/hand3_4_dif_seg_1_cropped.jpeg', '4/hand5_4_dif_seg_4_cropped.jpeg', '4/hand5_4_bot_seg_1_cropped.jpeg', '4/hand4_4_bot_seg_2_cropped.jpeg', '4/hand2_4_bot_seg_5_cropped.jpeg', '4/hand1_4_right_seg_3_cropped.jpeg', '4/hand4_4_bot_seg_5_cropped.jpeg', '4/hand2_4_bot_seg_2_cropped.jpeg', '4/hand1_4_top_seg_5_cropped.jpeg', '4/hand2_4_left_seg_4_cropped.jpeg', '4/hand5_4_dif_seg_2_cropped.jpeg', '4/hand5_4_bot_seg_2_cropped.jpeg', '4/hand1_4_bot_seg_5_cropped.jpeg', '4/hand2_4_right_seg_2_cropped.jpeg', '4/hand5_4_dif_seg_3_cropped.jpeg', '4/hand5_4_dif_seg_5_cropped.jpeg', '4/hand5_4_bot_seg_4_cropped.jpeg', '4/hand1_4_dif_seg_5_cropped.jpeg', '4/hand4_4_bot_seg_4_cropped.jpeg', '4/hand1_4_left_seg_5_cropped.jpeg', '4/hand1_4_right_seg_5_cropped.jpeg', '4/hand1_4_top_seg_2_cropped.jpeg', '4/hand2_4_dif_seg_3_cropped.jpeg', '4/hand2_4_right_seg_4_cropped.jpeg', '4/hand2_4_top_seg_4_cropped.jpeg', '4/hand3_4_dif_seg_4_cropped.jpeg', '4/hand1_4_bot_seg_2_cropped.jpeg', '4/hand2_4_left_seg_3_cropped.jpeg', '4/hand2_4_dif_seg_1_cropped.jpeg', '4/hand2_4_left_seg_1_cropped.jpeg', '4/hand4_4_bot_seg_1_cropped.jpeg', '4/hand2_4_bot_seg_4_cropped.jpeg', '4/hand2_4_bot_seg_1_cropped.jpeg', '4/hand2_4_top_seg_1_cropped.jpeg', '4/hand1_4_right_seg_2_cropped.jpeg', '4/hand2_4_bot_seg_3_cropped.jpeg', '4/hand5_4_bot_seg_3_cropped.jpeg', '4/hand1_4_dif_seg_4_cropped.jpeg', '4/hand1_4_bot_seg_3_cropped.jpeg', '4/hand2_4_top_seg_2_cropped.jpeg', '4/hand2_4_right_seg_3_cropped.jpeg', '4/hand3_4_dif_seg_3_cropped.jpeg', '4/hand1_4_top_seg_4_cropped.jpeg', '4/hand2_4_top_seg_3_cropped.jpeg', '4/hand5_4_dif_seg_1_cropped.jpeg', '4/hand1_4_bot_seg_1_cropped.jpeg', '4/hand1_4_top_seg_3_cropped.jpeg', '4/hand1_4_dif_seg_3_cropped.jpeg', '7/hand2_7_left_seg_2_cropped.jpeg', '7/hand1_7_top_seg_4_cropped.jpeg', '7/hand1_7_right_seg_1_cropped.jpeg', '7/hand2_7_bot_seg_4_cropped.jpeg', '7/hand5_7_bot_seg_5_cropped.jpeg', '7/hand2_7_dif_seg_1_cropped.jpeg', '7/hand1_7_left_seg_2_cropped.jpeg', '7/hand2_7_bot_seg_1_cropped.jpeg', '7/hand1_7_dif_seg_1_cropped.jpeg', '7/hand2_7_bot_seg_5_cropped.jpeg', '7/hand5_7_bot_seg_4_cropped.jpeg', '7/hand2_7_right_seg_3_cropped.jpeg', '7/hand2_7_right_seg_1_cropped.jpeg', '7/hand2_7_left_seg_1_cropped.jpeg', '7/hand1_7_bot_seg_4_cropped.jpeg', '7/hand2_7_top_seg_4_cropped.jpeg', '7/hand3_7_dif_seg_3_cropped.jpeg', '7/hand1_7_right_seg_4_cropped.jpeg', '7/hand2_7_top_seg_5_cropped.jpeg', '7/hand1_7_dif_seg_2_cropped.jpeg', '7/hand2_7_dif_seg_3_cropped.jpeg', '7/hand2_7_dif_seg_5_cropped.jpeg', '7/hand3_7_dif_seg_1_cropped.jpeg', '7/hand3_7_dif_seg_2_cropped.jpeg', '7/hand3_7_dif_seg_4_cropped.jpeg', '7/hand1_7_right_seg_2_cropped.jpeg', '7/hand5_7_dif_seg_2_cropped.jpeg', '7/hand2_7_top_seg_2_cropped.jpeg', '7/hand2_7_right_seg_5_cropped.jpeg', '7/hand5_7_bot_seg_3_cropped.jpeg', '7/hand2_7_left_seg_5_cropped.jpeg', '7/hand2_7_dif_seg_4_cropped.jpeg', '7/hand1_7_bot_seg_5_cropped.jpeg', '7/hand1_7_dif_seg_3_cropped.jpeg', '7/hand2_7_right_seg_4_cropped.jpeg', '7/hand3_7_dif_seg_5_cropped.jpeg', '7/hand1_7_right_seg_3_cropped.jpeg', '7/hand5_7_dif_seg_5_cropped.jpeg', '7/hand2_7_top_seg_1_cropped.jpeg', '7/hand1_7_top_seg_5_cropped.jpeg', '7/hand1_7_top_seg_2_cropped.jpeg', '7/hand1_7_left_seg_5_cropped.jpeg', '7/hand1_7_bot_seg_2_cropped.jpeg', '7/hand4_7_bot_seg_2_cropped.jpeg', '7/hand5_7_dif_seg_4_cropped.jpeg', '7/hand2_7_left_seg_4_cropped.jpeg', '7/hand2_7_dif_seg_2_cropped.jpeg', '7/hand2_7_top_seg_3_cropped.jpeg', '7/hand1_7_dif_seg_4_cropped.jpeg', '7/hand5_7_dif_seg_1_cropped.jpeg', '7/hand5_7_bot_seg_1_cropped.jpeg', '7/hand4_7_bot_seg_3_cropped.jpeg', '7/hand2_7_bot_seg_3_cropped.jpeg', '7/hand1_7_top_seg_1_cropped.jpeg', '7/hand1_7_left_seg_1_cropped.jpeg', '7/hand2_7_bot_seg_2_cropped.jpeg', '7/hand1_7_right_seg_5_cropped.jpeg', '7/hand4_7_bot_seg_1_cropped.jpeg', '7/hand4_7_bot_seg_4_cropped.jpeg', '7/hand2_7_right_seg_2_cropped.jpeg', '7/hand2_7_left_seg_3_cropped.jpeg', '7/hand1_7_dif_seg_5_cropped.jpeg', '7/hand1_7_bot_seg_3_cropped.jpeg', '7/hand5_7_bot_seg_2_cropped.jpeg', '7/hand5_7_dif_seg_3_cropped.jpeg', '7/hand1_7_left_seg_4_cropped.jpeg', '7/hand4_7_bot_seg_5_cropped.jpeg', '7/hand1_7_left_seg_3_cropped.jpeg', '7/hand1_7_top_seg_3_cropped.jpeg', '7/hand1_7_bot_seg_1_cropped.jpeg', '6/hand4_6_bot_seg_4_cropped.jpeg', '6/hand2_6_top_seg_5_cropped.jpeg', '6/hand3_6_dif_seg_3_cropped.jpeg', '6/hand3_6_dif_seg_2_cropped.jpeg', '6/hand2_6_bot_seg_4_cropped.jpeg', '6/hand1_6_dif_seg_2_cropped.jpeg', '6/hand1_6_bot_seg_1_cropped.jpeg', '6/hand2_6_left_seg_5_cropped.jpeg', '6/hand1_6_left_seg_2_cropped.jpeg', '6/hand2_6_left_seg_3_cropped.jpeg', '6/hand2_6_right_seg_5_cropped.jpeg', '6/hand1_6_right_seg_3_cropped.jpeg', '6/hand5_6_bot_seg_2_cropped.jpeg', '6/hand1_6_right_seg_5_cropped.jpeg', '6/hand4_6_bot_seg_2_cropped.jpeg', '6/hand1_6_bot_seg_4_cropped.jpeg', '6/hand2_6_right_seg_4_cropped.jpeg', '6/hand1_6_right_seg_1_cropped.jpeg', '6/hand2_6_dif_seg_5_cropped.jpeg', '6/hand3_6_dif_seg_4_cropped.jpeg', '6/hand5_6_bot_seg_1_cropped.jpeg', '6/hand5_6_dif_seg_1_cropped.jpeg', '6/hand1_6_dif_seg_5_cropped.jpeg', '6/hand5_6_bot_seg_5_cropped.jpeg', '6/hand2_6_left_seg_4_cropped.jpeg', '6/hand1_6_top_seg_3_cropped.jpeg', '6/hand2_6_left_seg_1_cropped.jpeg', '6/hand1_6_top_seg_2_cropped.jpeg', '6/hand2_6_right_seg_2_cropped.jpeg', '6/hand2_6_dif_seg_1_cropped.jpeg', '6/hand1_6_bot_seg_3_cropped.jpeg', '6/hand1_6_dif_seg_1_cropped.jpeg', '6/hand5_6_dif_seg_3_cropped.jpeg', '6/hand3_6_dif_seg_5_cropped.jpeg', '6/hand2_6_top_seg_4_cropped.jpeg', '6/hand1_6_top_seg_4_cropped.jpeg', '6/hand5_6_bot_seg_4_cropped.jpeg', '6/hand1_6_left_seg_3_cropped.jpeg', '6/hand4_6_bot_seg_1_cropped.jpeg', '6/hand5_6_dif_seg_4_cropped.jpeg', '6/hand1_6_right_seg_4_cropped.jpeg', '6/hand2_6_bot_seg_5_cropped.jpeg', '6/hand5_6_dif_seg_2_cropped.jpeg', '6/hand2_6_dif_seg_3_cropped.jpeg', '6/hand2_6_bot_seg_3_cropped.jpeg', '6/hand1_6_bot_seg_2_cropped.jpeg', '6/hand1_6_bot_seg_5_cropped.jpeg', '6/hand1_6_left_seg_5_cropped.jpeg', '6/hand4_6_bot_seg_3_cropped.jpeg', '6/hand2_6_right_seg_1_cropped.jpeg', '6/hand4_6_bot_seg_5_cropped.jpeg', '6/hand5_6_bot_seg_3_cropped.jpeg', '6/hand1_6_right_seg_2_cropped.jpeg', '6/hand5_6_dif_seg_5_cropped.jpeg', '6/hand2_6_bot_seg_2_cropped.jpeg', '6/hand2_6_dif_seg_4_cropped.jpeg', '6/hand2_6_left_seg_2_cropped.jpeg', '6/hand1_6_dif_seg_3_cropped.jpeg', '6/hand2_6_dif_seg_2_cropped.jpeg', '6/hand1_6_dif_seg_4_cropped.jpeg', '6/hand1_6_left_seg_1_cropped.jpeg', '6/hand2_6_top_seg_1_cropped.jpeg', '6/hand2_6_top_seg_3_cropped.jpeg', '6/hand1_6_top_seg_1_cropped.jpeg', '6/hand2_6_top_seg_2_cropped.jpeg', '6/hand3_6_dif_seg_1_cropped.jpeg', '6/hand2_6_right_seg_3_cropped.jpeg', '6/hand1_6_left_seg_4_cropped.jpeg', '6/hand2_6_bot_seg_1_cropped.jpeg', '6/hand1_6_top_seg_5_cropped.jpeg', '9/hand1_9_dif_seg_1_cropped.jpeg', '9/hand2_9_top_seg_1_cropped.jpeg', '9/hand5_9_dif_seg_5_cropped.jpeg', '9/hand2_9_dif_seg_4_cropped.jpeg', '9/hand1_9_right_seg_2_cropped.jpeg', '9/hand2_9_top_seg_3_cropped.jpeg', '9/hand3_9_dif_seg_3_cropped.jpeg', '9/hand2_9_dif_seg_3_cropped.jpeg', '9/hand4_9_bot_seg_1_cropped.jpeg', '9/hand5_9_bot_seg_4_cropped.jpeg', '9/hand2_9_left_seg_1_cropped.jpeg', '9/hand1_9_bot_seg_1_cropped.jpeg', '9/hand1_9_top_seg_2_cropped.jpeg', '9/hand1_9_bot_seg_5_cropped.jpeg', '9/hand2_9_left_seg_5_cropped.jpeg', '9/hand4_9_bot_seg_2_cropped.jpeg', '9/hand2_9_dif_seg_5_cropped.jpeg', '9/hand5_9_bot_seg_2_cropped.jpeg', '9/hand1_9_right_seg_5_cropped.jpeg', '9/hand2_9_right_seg_4_cropped.jpeg', '9/hand3_9_dif_seg_4_cropped.jpeg', '9/hand4_9_bot_seg_5_cropped.jpeg', '9/hand5_9_dif_seg_2_cropped.jpeg', '9/hand2_9_top_seg_5_cropped.jpeg', '9/hand3_9_dif_seg_5_cropped.jpeg', '9/hand1_9_top_seg_5_cropped.jpeg', '9/hand1_9_right_seg_1_cropped.jpeg', '9/hand2_9_top_seg_2_cropped.jpeg', '9/hand2_9_right_seg_3_cropped.jpeg', '9/hand1_9_bot_seg_2_cropped.jpeg', '9/hand1_9_dif_seg_2_cropped.jpeg', '9/hand1_9_dif_seg_4_cropped.jpeg', '9/hand2_9_right_seg_1_cropped.jpeg', '9/hand4_9_bot_seg_4_cropped.jpeg', '9/hand1_9_left_seg_5_cropped.jpeg', '9/hand2_9_bot_seg_1_cropped.jpeg', '9/hand1_9_top_seg_4_cropped.jpeg', '9/hand2_9_left_seg_2_cropped.jpeg', '9/hand2_9_bot_seg_2_cropped.jpeg', '9/hand1_9_right_seg_4_cropped.jpeg', '9/hand5_9_bot_seg_5_cropped.jpeg', '9/hand1_9_left_seg_3_cropped.jpeg', '9/hand2_9_top_seg_4_cropped.jpeg', '9/hand1_9_left_seg_2_cropped.jpeg', '9/hand3_9_dif_seg_1_cropped.jpeg', '9/hand1_9_right_seg_3_cropped.jpeg', '9/hand5_9_dif_seg_3_cropped.jpeg', '9/hand1_9_bot_seg_4_cropped.jpeg', '9/hand2_9_right_seg_5_cropped.jpeg', '9/hand1_9_bot_seg_3_cropped.jpeg', '9/hand5_9_dif_seg_4_cropped.jpeg', '9/hand1_9_top_seg_1_cropped.jpeg', '9/hand3_9_dif_seg_2_cropped.jpeg', '9/hand2_9_dif_seg_1_cropped.jpeg', '9/hand1_9_dif_seg_3_cropped.jpeg', '9/hand2_9_bot_seg_3_cropped.jpeg', '9/hand2_9_bot_seg_5_cropped.jpeg', '9/hand2_9_bot_seg_4_cropped.jpeg', '9/hand1_9_dif_seg_5_cropped.jpeg', '9/hand5_9_bot_seg_3_cropped.jpeg', '9/hand2_9_dif_seg_2_cropped.jpeg', '9/hand2_9_right_seg_2_cropped.jpeg', '9/hand5_9_bot_seg_1_cropped.jpeg', '9/hand2_9_left_seg_3_cropped.jpeg', '9/hand1_9_left_seg_4_cropped.jpeg', '9/hand1_9_top_seg_3_cropped.jpeg', '9/hand1_9_left_seg_1_cropped.jpeg', '9/hand4_9_bot_seg_3_cropped.jpeg', '9/hand2_9_left_seg_4_cropped.jpeg', '9/hand5_9_dif_seg_1_cropped.jpeg', '8/hand5_8_bot_seg_2_cropped.jpeg', '8/hand2_8_bot_seg_1_cropped.jpeg', '8/hand1_8_top_seg_3_cropped.jpeg', '8/hand1_8_top_seg_2_cropped.jpeg', '8/hand2_8_top_seg_5_cropped.jpeg', '8/hand1_8_left_seg_5_cropped.jpeg', '8/hand2_8_dif_seg_5_cropped.jpeg', '8/hand2_8_top_seg_1_cropped.jpeg', '8/hand1_8_dif_seg_3_cropped.jpeg', '8/hand2_8_top_seg_4_cropped.jpeg', '8/hand1_8_right_seg_4_cropped.jpeg', '8/hand5_8_dif_seg_4_cropped.jpeg', '8/hand2_8_bot_seg_4_cropped.jpeg', '8/hand4_8_bot_seg_3_cropped.jpeg', '8/hand2_8_right_seg_3_cropped.jpeg', '8/hand5_8_bot_seg_3_cropped.jpeg', '8/hand2_8_top_seg_3_cropped.jpeg', '8/hand1_8_left_seg_4_cropped.jpeg', '8/hand1_8_bot_seg_3_cropped.jpeg', '8/hand2_8_dif_seg_2_cropped.jpeg', '8/hand3_8_dif_seg_2_cropped.jpeg', '8/hand2_8_right_seg_1_cropped.jpeg', '8/hand2_8_bot_seg_3_cropped.jpeg', '8/hand2_8_bot_seg_5_cropped.jpeg', '8/hand5_8_bot_seg_5_cropped.jpeg', '8/hand5_8_dif_seg_3_cropped.jpeg', '8/hand3_8_dif_seg_4_cropped.jpeg', '8/hand1_8_left_seg_3_cropped.jpeg', '8/hand2_8_right_seg_5_cropped.jpeg', '8/hand1_8_dif_seg_2_cropped.jpeg', '8/hand1_8_right_seg_1_cropped.jpeg', '8/hand2_8_left_seg_3_cropped.jpeg', '8/hand4_8_bot_seg_4_cropped.jpeg', '8/hand5_8_bot_seg_1_cropped.jpeg', '8/hand1_8_left_seg_2_cropped.jpeg', '8/hand2_8_dif_seg_4_cropped.jpeg', '8/hand2_8_left_seg_5_cropped.jpeg', '8/hand1_8_bot_seg_1_cropped.jpeg', '8/hand5_8_dif_seg_2_cropped.jpeg', '8/hand1_8_dif_seg_5_cropped.jpeg', '8/hand2_8_left_seg_2_cropped.jpeg', '8/hand1_8_bot_seg_4_cropped.jpeg', '8/hand4_8_bot_seg_1_cropped.jpeg', '8/hand1_8_right_seg_2_cropped.jpeg', '8/hand1_8_top_seg_4_cropped.jpeg', '8/hand1_8_dif_seg_1_cropped.jpeg', '8/hand5_8_dif_seg_5_cropped.jpeg', '8/hand5_8_dif_seg_1_cropped.jpeg', '8/hand1_8_left_seg_1_cropped.jpeg', '8/hand5_8_bot_seg_4_cropped.jpeg', '8/hand1_8_bot_seg_2_cropped.jpeg', '8/hand1_8_top_seg_1_cropped.jpeg', '8/hand2_8_dif_seg_1_cropped.jpeg', '8/hand2_8_right_seg_4_cropped.jpeg', '8/hand4_8_bot_seg_2_cropped.jpeg', '8/hand2_8_top_seg_2_cropped.jpeg', '8/hand1_8_right_seg_5_cropped.jpeg', '8/hand1_8_dif_seg_4_cropped.jpeg', '8/hand2_8_left_seg_1_cropped.jpeg', '8/hand1_8_bot_seg_5_cropped.jpeg', '8/hand3_8_dif_seg_1_cropped.jpeg', '8/hand4_8_bot_seg_5_cropped.jpeg', '8/hand3_8_dif_seg_3_cropped.jpeg', '8/hand3_8_dif_seg_5_cropped.jpeg', '8/hand1_8_right_seg_3_cropped.jpeg', '8/hand2_8_left_seg_4_cropped.jpeg', '8/hand2_8_right_seg_2_cropped.jpeg', '8/hand2_8_dif_seg_3_cropped.jpeg', '8/hand2_8_bot_seg_2_cropped.jpeg', '8/hand1_8_top_seg_5_cropped.jpeg', '3/hand1_3_dif_seg_2_cropped.jpeg', '3/hand1_3_dif_seg_3_cropped.jpeg', '3/hand2_3_bot_seg_4_cropped.jpeg', '3/hand1_3_right_seg_5_cropped.jpeg', '3/hand1_3_top_seg_4_cropped.jpeg', '3/hand1_3_left_seg_1_cropped.jpeg', '3/hand1_3_bot_seg_3_cropped.jpeg', '3/hand1_3_right_seg_1_cropped.jpeg', '3/hand1_3_left_seg_3_cropped.jpeg', '3/hand2_3_dif_seg_1_cropped.jpeg', '3/hand1_3_top_seg_2_cropped.jpeg', '3/hand2_3_bot_seg_5_cropped.jpeg', '3/hand2_3_dif_seg_2_cropped.jpeg', '3/hand1_3_top_seg_3_cropped.jpeg', '3/hand1_3_left_seg_5_cropped.jpeg', '3/hand2_3_dif_seg_5_cropped.jpeg', '3/hand1_3_bot_seg_4_cropped.jpeg', '3/hand1_3_bot_seg_5_cropped.jpeg', '3/hand1_3_left_seg_4_cropped.jpeg', '3/hand1_3_dif_seg_4_cropped.jpeg', '3/hand1_3_right_seg_3_cropped.jpeg', '3/hand1_3_dif_seg_5_cropped.jpeg', '3/hand1_3_right_seg_4_cropped.jpeg', '3/hand2_3_bot_seg_3_cropped.jpeg', '3/hand1_3_top_seg_5_cropped.jpeg', '3/hand2_3_bot_seg_2_cropped.jpeg', '3/hand1_3_top_seg_1_cropped.jpeg', '3/hand1_3_dif_seg_1_cropped.jpeg', '3/hand1_3_left_seg_2_cropped.jpeg', '3/hand1_3_right_seg_2_cropped.jpeg', '3/hand1_3_bot_seg_2_cropped.jpeg', '3/hand2_3_left_seg_1_cropped.jpeg', '3/hand1_3_bot_seg_1_cropped.jpeg', '3/hand2_3_dif_seg_4_cropped.jpeg', '3/hand2_3_dif_seg_3_cropped.jpeg', '3/hand2_3_bot_seg_1_cropped.jpeg', '3/hand5_3_dif_seg_1_cropped.jpeg', '3/hand5_3_bot_seg_1_cropped.jpeg', '3/hand2_3_left_seg_4_cropped.jpeg', '3/hand3_3_dif_seg_5_cropped.jpeg', '3/hand2_3_right_seg_3_cropped.jpeg', '3/hand2_3_right_seg_5_cropped.jpeg', '3/hand3_3_dif_seg_2_cropped.jpeg', '3/hand4_3_bot_seg_3_cropped.jpeg', '3/hand3_3_dif_seg_1_cropped.jpeg', '3/hand2_3_right_seg_4_cropped.jpeg', '3/hand2_3_right_seg_1_cropped.jpeg', '3/hand4_3_bot_seg_4_cropped.jpeg', '3/hand5_3_dif_seg_3_cropped.jpeg', '3/hand5_3_bot_seg_4_cropped.jpeg', '3/hand3_3_dif_seg_4_cropped.jpeg', '3/hand4_3_bot_seg_2_cropped.jpeg', '3/hand2_3_top_seg_4_cropped.jpeg', '3/hand2_3_top_seg_5_cropped.jpeg', '3/hand2_3_left_seg_2_cropped.jpeg', '3/hand5_3_bot_seg_2_cropped.jpeg', '3/hand4_3_bot_seg_1_cropped.jpeg', '3/hand3_3_dif_seg_3_cropped.jpeg', '3/hand2_3_right_seg_2_cropped.jpeg', '3/hand2_3_top_seg_3_cropped.jpeg', '3/hand5_3_dif_seg_4_cropped.jpeg', '3/hand4_3_bot_seg_5_cropped.jpeg', '3/hand5_3_bot_seg_3_cropped.jpeg', '3/hand2_3_top_seg_2_cropped.jpeg', '3/hand5_3_dif_seg_5_cropped.jpeg', '3/hand2_3_left_seg_3_cropped.jpeg', '3/hand5_3_dif_seg_2_cropped.jpeg', '3/hand2_3_left_seg_5_cropped.jpeg', '3/hand2_3_top_seg_1_cropped.jpeg', '3/hand5_3_bot_seg_5_cropped.jpeg', '1/hand1_1_bot_seg_3_cropped.jpeg', '1/hand1_1_bot_seg_1_cropped.jpeg', '1/hand1_1_bot_seg_2_cropped.jpeg', '1/hand1_1_dif_seg_4_cropped.jpeg', '1/hand1_1_dif_seg_1_cropped.jpeg', '1/hand1_1_dif_seg_5_cropped.jpeg', '1/hand1_1_dif_seg_2_cropped.jpeg', '1/hand1_1_bot_seg_5_cropped.jpeg', '1/hand1_1_bot_seg_4_cropped.jpeg', '1/hand1_1_dif_seg_3_cropped.jpeg', '1/hand1_1_right_seg_1_cropped.jpeg', '1/hand1_1_left_seg_1_cropped.jpeg', '1/hand1_1_left_seg_3_cropped.jpeg', '1/hand1_1_left_seg_5_cropped.jpeg', '1/hand1_1_left_seg_2_cropped.jpeg', '1/hand1_1_left_seg_4_cropped.jpeg', '1/hand1_1_top_seg_2_cropped.jpeg', '1/hand1_1_right_seg_5_cropped.jpeg', '1/hand1_1_right_seg_4_cropped.jpeg', '1/hand1_1_right_seg_3_cropped.jpeg', '1/hand1_1_top_seg_1_cropped.jpeg', '1/hand1_1_right_seg_2_cropped.jpeg', '1/hand2_1_bot_seg_1_cropped.jpeg', '1/hand1_1_top_seg_4_cropped.jpeg', '1/hand1_1_top_seg_5_cropped.jpeg', '1/hand1_1_top_seg_3_cropped.jpeg', '1/hand2_1_bot_seg_2_cropped.jpeg', '1/hand2_1_bot_seg_3_cropped.jpeg', '1/hand2_1_bot_seg_4_cropped.jpeg', '1/hand2_1_left_seg_3_cropped.jpeg', '1/hand2_1_top_seg_3_cropped.jpeg', '1/hand2_1_left_seg_5_cropped.jpeg', '1/hand3_1_dif_seg_2_cropped.jpeg', '1/hand2_1_top_seg_2_cropped.jpeg', '1/hand2_1_right_seg_1_cropped.jpeg', '1/hand2_1_right_seg_5_cropped.jpeg', '1/hand2_1_top_seg_4_cropped.jpeg', '1/hand2_1_left_seg_2_cropped.jpeg', '1/hand2_1_dif_seg_3_cropped.jpeg', '1/hand2_1_dif_seg_1_cropped.jpeg', '1/hand2_1_top_seg_1_cropped.jpeg', '1/hand2_1_left_seg_4_cropped.jpeg', '1/hand2_1_right_seg_2_cropped.jpeg', '1/hand2_1_right_seg_4_cropped.jpeg', '1/hand2_1_dif_seg_4_cropped.jpeg', '1/hand2_1_top_seg_5_cropped.jpeg', '1/hand2_1_dif_seg_5_cropped.jpeg', '1/hand2_1_right_seg_3_cropped.jpeg', '1/hand2_1_dif_seg_2_cropped.jpeg', '1/hand2_1_bot_seg_5_cropped.jpeg', '1/hand2_1_left_seg_1_cropped.jpeg', '1/hand3_1_dif_seg_1_cropped.jpeg', '1/hand3_1_dif_seg_4_cropped.jpeg', '1/hand3_1_dif_seg_5_cropped.jpeg', '1/hand4_1_bot_seg_1_cropped.jpeg', '1/hand3_1_dif_seg_3_cropped.jpeg', '1/hand4_1_bot_seg_2_cropped.jpeg', '1/hand4_1_bot_seg_3_cropped.jpeg', '1/hand5_1_bot_seg_3_cropped.jpeg', '1/hand5_1_bot_seg_2_cropped.jpeg', '1/hand5_1_bot_seg_1_cropped.jpeg', '1/hand5_1_bot_seg_5_cropped.jpeg', '1/hand4_1_bot_seg_5_cropped.jpeg', '1/hand5_1_bot_seg_4_cropped.jpeg', '1/hand4_1_bot_seg_4_cropped.jpeg', '1/hand5_1_dif_seg_5_cropped.jpeg', '1/hand5_1_dif_seg_4_cropped.jpeg', '1/hand5_1_dif_seg_1_cropped.jpeg', '1/hand5_1_dif_seg_2_cropped.jpeg', '1/hand5_1_dif_seg_3_cropped.jpeg', 'b/hand2_b_top_seg_4_cropped.jpeg', 'b/hand2_b_dif_seg_3_cropped.jpeg', 'b/hand2_b_dif_seg_1_cropped.jpeg', 'b/hand2_b_left_seg_2_cropped.jpeg', 'b/hand2_b_bot_seg_5_cropped.jpeg', 'b/hand1_b_dif_seg_3_cropped.jpeg', 'b/hand1_b_bot_seg_2_cropped.jpeg', 'b/hand1_b_dif_seg_4_cropped.jpeg', 'b/hand2_b_top_seg_1_cropped.jpeg', 'b/hand1_b_right_seg_5_cropped.jpeg', 'b/hand3_b_dif_seg_5_cropped.jpeg', 'b/hand1_b_left_seg_3_cropped.jpeg', 'b/hand3_b_dif_seg_1_cropped.jpeg', 'b/hand1_b_right_seg_4_cropped.jpeg', 'b/hand1_b_left_seg_2_cropped.jpeg', 'b/hand2_b_right_seg_4_cropped.jpeg', 'b/hand2_b_right_seg_1_cropped.jpeg', 'b/hand5_b_dif_seg_1_cropped.jpeg', 'b/hand2_b_left_seg_5_cropped.jpeg', 'b/hand5_b_bot_seg_2_cropped.jpeg', 'b/hand1_b_top_seg_2_cropped.jpeg', 'b/hand5_b_bot_seg_5_cropped.jpeg', 'b/hand1_b_dif_seg_1_cropped.jpeg', 'b/hand2_b_dif_seg_4_cropped.jpeg', 'b/hand3_b_dif_seg_3_cropped.jpeg', 'b/hand2_b_right_seg_5_cropped.jpeg', 'b/hand5_b_dif_seg_2_cropped.jpeg', 'b/hand1_b_top_seg_5_cropped.jpeg', 'b/hand2_b_left_seg_1_cropped.jpeg', 'b/hand1_b_right_seg_3_cropped.jpeg', 'b/hand4_b_bot_seg_4_cropped.jpeg', 'b/hand1_b_top_seg_3_cropped.jpeg', 'b/hand5_b_bot_seg_4_cropped.jpeg', 'b/hand1_b_right_seg_1_cropped.jpeg', 'b/hand2_b_bot_seg_1_cropped.jpeg', 'b/hand1_b_top_seg_1_cropped.jpeg', 'b/hand5_b_bot_seg_1_cropped.jpeg', 'b/hand2_b_dif_seg_2_cropped.jpeg', 'b/hand1_b_left_seg_4_cropped.jpeg', 'b/hand2_b_bot_seg_2_cropped.jpeg', 'b/hand1_b_bot_seg_1_cropped.jpeg', 'b/hand3_b_dif_seg_2_cropped.jpeg', 'b/hand1_b_bot_seg_3_cropped.jpeg', 'b/hand2_b_top_seg_3_cropped.jpeg', 'b/hand4_b_bot_seg_3_cropped.jpeg', 'b/hand2_b_bot_seg_3_cropped.jpeg', 'b/hand5_b_dif_seg_5_cropped.jpeg', 'b/hand1_b_right_seg_2_cropped.jpeg', 'b/hand1_b_left_seg_5_cropped.jpeg', 'b/hand2_b_left_seg_4_cropped.jpeg', 'b/hand5_b_bot_seg_3_cropped.jpeg', 'b/hand2_b_top_seg_5_cropped.jpeg', 'b/hand4_b_bot_seg_1_cropped.jpeg', 'b/hand2_b_right_seg_2_cropped.jpeg', 'b/hand5_b_dif_seg_3_cropped.jpeg', 'b/hand5_b_dif_seg_4_cropped.jpeg', 'b/hand1_b_top_seg_4_cropped.jpeg', 'b/hand2_b_left_seg_3_cropped.jpeg', 'b/hand4_b_bot_seg_2_cropped.jpeg', 'b/hand1_b_left_seg_1_cropped.jpeg', 'b/hand2_b_bot_seg_4_cropped.jpeg', 'b/hand1_b_dif_seg_5_cropped.jpeg', 'b/hand2_b_dif_seg_5_cropped.jpeg', 'b/hand4_b_bot_seg_5_cropped.jpeg', 'b/hand2_b_right_seg_3_cropped.jpeg', 'b/hand2_b_top_seg_2_cropped.jpeg', 'b/hand1_b_bot_seg_5_cropped.jpeg', 'b/hand3_b_dif_seg_4_cropped.jpeg', 'b/hand1_b_bot_seg_4_cropped.jpeg', 'b/hand1_b_dif_seg_2_cropped.jpeg', 'd/hand1_d_right_seg_2_cropped.jpeg', 'd/hand1_d_bot_seg_1_cropped.jpeg', 'd/hand2_d_bot_seg_1_cropped.jpeg', 'd/hand1_d_right_seg_5_cropped.jpeg', 'd/hand5_d_dif_seg_4_cropped.jpeg', 'd/hand2_d_dif_seg_4_cropped.jpeg', 'd/hand2_d_left_seg_1_cropped.jpeg', 'd/hand5_d_bot_seg_3_cropped.jpeg', 'd/hand1_d_left_seg_2_cropped.jpeg', 'd/hand2_d_right_seg_3_cropped.jpeg', 'd/hand2_d_top_seg_3_cropped.jpeg', 'd/hand2_d_dif_seg_1_cropped.jpeg', 'd/hand5_d_bot_seg_1_cropped.jpeg', 'd/hand2_d_bot_seg_2_cropped.jpeg', 'd/hand2_d_left_seg_4_cropped.jpeg', 'd/hand1_d_right_seg_4_cropped.jpeg', 'd/hand1_d_top_seg_4_cropped.jpeg', 'd/hand5_d_bot_seg_4_cropped.jpeg', 'd/hand4_d_bot_seg_1_cropped.jpeg', 'd/hand5_d_dif_seg_2_cropped.jpeg', 'd/hand1_d_left_seg_5_cropped.jpeg', 'd/hand1_d_bot_seg_3_cropped.jpeg', 'd/hand2_d_dif_seg_2_cropped.jpeg', 'd/hand3_d_dif_seg_2_cropped.jpeg', 'd/hand1_d_top_seg_2_cropped.jpeg', 'd/hand4_d_bot_seg_3_cropped.jpeg', 'd/hand2_d_left_seg_5_cropped.jpeg', 'd/hand2_d_top_seg_5_cropped.jpeg', 'd/hand1_d_top_seg_5_cropped.jpeg', 'd/hand1_d_top_seg_3_cropped.jpeg', 'd/hand1_d_left_seg_3_cropped.jpeg', 'd/hand1_d_top_seg_1_cropped.jpeg', 'd/hand1_d_bot_seg_2_cropped.jpeg', 'd/hand3_d_dif_seg_5_cropped.jpeg', 'd/hand1_d_dif_seg_4_cropped.jpeg', 'd/hand2_d_dif_seg_5_cropped.jpeg', 'd/hand2_d_right_seg_1_cropped.jpeg', 'd/hand5_d_dif_seg_5_cropped.jpeg', 'd/hand1_d_right_seg_1_cropped.jpeg', 'd/hand3_d_dif_seg_4_cropped.jpeg', 'd/hand2_d_right_seg_4_cropped.jpeg', 'd/hand2_d_right_seg_2_cropped.jpeg', 'd/hand3_d_dif_seg_1_cropped.jpeg', 'd/hand2_d_bot_seg_4_cropped.jpeg', 'd/hand2_d_top_seg_1_cropped.jpeg', 'd/hand2_d_left_seg_2_cropped.jpeg', 'd/hand1_d_dif_seg_2_cropped.jpeg', 'd/hand2_d_dif_seg_3_cropped.jpeg', 'd/hand1_d_dif_seg_3_cropped.jpeg', 'd/hand2_d_left_seg_3_cropped.jpeg', 'd/hand2_d_bot_seg_5_cropped.jpeg', 'd/hand4_d_bot_seg_5_cropped.jpeg', 'd/hand2_d_top_seg_4_cropped.jpeg', 'd/hand1_d_left_seg_1_cropped.jpeg', 'd/hand5_d_dif_seg_3_cropped.jpeg', 'd/hand1_d_left_seg_4_cropped.jpeg', 'd/hand1_d_right_seg_3_cropped.jpeg', 'd/hand5_d_bot_seg_5_cropped.jpeg', 'd/hand1_d_bot_seg_4_cropped.jpeg', 'd/hand5_d_bot_seg_2_cropped.jpeg', 'd/hand2_d_bot_seg_3_cropped.jpeg', 'd/hand4_d_bot_seg_2_cropped.jpeg', 'd/hand2_d_top_seg_2_cropped.jpeg', 'd/hand1_d_dif_seg_5_cropped.jpeg', 'd/hand2_d_right_seg_5_cropped.jpeg', 'd/hand5_d_dif_seg_1_cropped.jpeg', 'd/hand1_d_bot_seg_5_cropped.jpeg', 'd/hand4_d_bot_seg_4_cropped.jpeg', 'd/hand3_d_dif_seg_3_cropped.jpeg', 'd/hand1_d_dif_seg_1_cropped.jpeg', 'f/hand1_f_dif_seg_4_cropped.jpeg', 'f/hand1_f_bot_seg_3_cropped.jpeg', 'f/hand3_f_dif_seg_1_cropped.jpeg', 'f/hand1_f_top_seg_3_cropped.jpeg', 'f/hand2_f_bot_seg_4_cropped.jpeg', 'f/hand4_f_bot_seg_5_cropped.jpeg', 'f/hand2_f_right_seg_2_cropped.jpeg', 'f/hand1_f_dif_seg_1_cropped.jpeg', 'f/hand5_f_dif_seg_2_cropped.jpeg', 'f/hand5_f_dif_seg_4_cropped.jpeg', 'f/hand2_f_right_seg_3_cropped.jpeg', 'f/hand2_f_dif_seg_4_cropped.jpeg', 'f/hand2_f_top_seg_5_cropped.jpeg', 'f/hand1_f_left_seg_3_cropped.jpeg', 'f/hand1_f_right_seg_3_cropped.jpeg', 'f/hand1_f_right_seg_4_cropped.jpeg', 'f/hand3_f_dif_seg_3_cropped.jpeg', 'f/hand2_f_top_seg_3_cropped.jpeg', 'f/hand1_f_top_seg_5_cropped.jpeg', 'f/hand1_f_dif_seg_2_cropped.jpeg', 'f/hand2_f_left_seg_5_cropped.jpeg', 'f/hand2_f_right_seg_5_cropped.jpeg', 'f/hand2_f_dif_seg_3_cropped.jpeg', 'f/hand1_f_dif_seg_3_cropped.jpeg', 'f/hand2_f_left_seg_1_cropped.jpeg', 'f/hand2_f_bot_seg_2_cropped.jpeg', 'f/hand1_f_bot_seg_1_cropped.jpeg', 'f/hand2_f_left_seg_3_cropped.jpeg', 'f/hand2_f_bot_seg_3_cropped.jpeg', 'f/hand1_f_top_seg_1_cropped.jpeg', 'f/hand5_f_dif_seg_1_cropped.jpeg', 'f/hand1_f_bot_seg_5_cropped.jpeg', 'f/hand2_f_bot_seg_5_cropped.jpeg', 'f/hand1_f_left_seg_5_cropped.jpeg', 'f/hand5_f_bot_seg_1_cropped.jpeg', 'f/hand5_f_dif_seg_5_cropped.jpeg', 'f/hand4_f_bot_seg_2_cropped.jpeg', 'f/hand1_f_left_seg_2_cropped.jpeg', 'f/hand2_f_left_seg_4_cropped.jpeg', 'f/hand5_f_bot_seg_3_cropped.jpeg', 'f/hand1_f_right_seg_5_cropped.jpeg', 'f/hand2_f_dif_seg_2_cropped.jpeg', 'f/hand3_f_dif_seg_4_cropped.jpeg', 'f/hand2_f_top_seg_4_cropped.jpeg', 'f/hand5_f_dif_seg_3_cropped.jpeg', 'f/hand4_f_bot_seg_3_cropped.jpeg', 'f/hand2_f_left_seg_2_cropped.jpeg', 'f/hand2_f_right_seg_1_cropped.jpeg', 'f/hand2_f_dif_seg_1_cropped.jpeg', 'f/hand5_f_bot_seg_2_cropped.jpeg', 'f/hand1_f_right_seg_2_cropped.jpeg', 'f/hand1_f_left_seg_1_cropped.jpeg', 'f/hand2_f_right_seg_4_cropped.jpeg', 'f/hand4_f_bot_seg_1_cropped.jpeg', 'f/hand1_f_left_seg_4_cropped.jpeg', 'f/hand3_f_dif_seg_2_cropped.jpeg', 'f/hand5_f_bot_seg_4_cropped.jpeg', 'f/hand1_f_bot_seg_4_cropped.jpeg', 'f/hand2_f_bot_seg_1_cropped.jpeg', 'f/hand2_f_top_seg_1_cropped.jpeg', 'f/hand1_f_bot_seg_2_cropped.jpeg', 'f/hand5_f_bot_seg_5_cropped.jpeg', 'f/hand4_f_bot_seg_4_cropped.jpeg', 'f/hand2_f_dif_seg_5_cropped.jpeg', 'f/hand1_f_top_seg_2_cropped.jpeg', 'f/hand1_f_right_seg_1_cropped.jpeg', 'f/hand2_f_top_seg_2_cropped.jpeg', 'f/hand1_f_top_seg_4_cropped.jpeg', 'f/hand1_f_dif_seg_5_cropped.jpeg', 'f/hand3_f_dif_seg_5_cropped.jpeg', 'j/hand2_j_dif_seg_5_cropped.jpeg', 'j/hand5_j_bot_seg_2_cropped.jpeg', 'j/hand2_j_right_seg_5_cropped.jpeg', 'j/hand1_j_right_seg_4_cropped.jpeg', 'j/hand2_j_top_seg_2_cropped.jpeg', 'j/hand1_j_bot_seg_5_cropped.jpeg', 'j/hand1_j_dif_seg_4_cropped.jpeg', 'j/hand5_j_dif_seg_3_cropped.jpeg', 'j/hand1_j_left_seg_3_cropped.jpeg', 'j/hand1_j_right_seg_2_cropped.jpeg', 'j/hand1_j_bot_seg_1_cropped.jpeg', 'j/hand5_j_dif_seg_4_cropped.jpeg', 'j/hand2_j_bot_seg_4_cropped.jpeg', 'j/hand1_j_bot_seg_2_cropped.jpeg', 'j/hand1_j_left_seg_4_cropped.jpeg', 'j/hand2_j_bot_seg_3_cropped.jpeg', 'j/hand1_j_left_seg_1_cropped.jpeg', 'j/hand2_j_top_seg_4_cropped.jpeg', 'j/hand1_j_bot_seg_3_cropped.jpeg', 'j/hand3_j_dif_seg_3_cropped.jpeg', 'j/hand5_j_dif_seg_5_cropped.jpeg', 'j/hand2_j_bot_seg_2_cropped.jpeg', 'j/hand2_j_left_seg_5_cropped.jpeg', 'j/hand2_j_bot_seg_1_cropped.jpeg', 'j/hand1_j_left_seg_5_cropped.jpeg', 'j/hand5_j_bot_seg_3_cropped.jpeg', 'j/hand2_j_left_seg_1_cropped.jpeg', 'j/hand2_j_dif_seg_3_cropped.jpeg', 'j/hand1_j_bot_seg_4_cropped.jpeg', 'j/hand1_j_right_seg_3_cropped.jpeg', 'j/hand1_j_dif_seg_2_cropped.jpeg', 'j/hand5_j_dif_seg_1_cropped.jpeg', 'j/hand1_j_dif_seg_1_cropped.jpeg', 'j/hand2_j_top_seg_5_cropped.jpeg', 'j/hand4_j_bot_seg_4_cropped.jpeg', 'j/hand3_j_dif_seg_4_cropped.jpeg', 'j/hand4_j_bot_seg_3_cropped.jpeg', 'j/hand2_j_dif_seg_2_cropped.jpeg', 'j/hand2_j_right_seg_4_cropped.jpeg', 'j/hand3_j_dif_seg_2_cropped.jpeg', 'j/hand2_j_right_seg_3_cropped.jpeg', 'j/hand5_j_dif_seg_2_cropped.jpeg', 'j/hand1_j_dif_seg_5_cropped.jpeg', 'j/hand2_j_bot_seg_5_cropped.jpeg', 'j/hand5_j_bot_seg_1_cropped.jpeg', 'j/hand3_j_dif_seg_1_cropped.jpeg', 'j/hand4_j_bot_seg_1_cropped.jpeg', 'j/hand1_j_top_seg_3_cropped.jpeg', 'j/hand5_j_bot_seg_5_cropped.jpeg', 'j/hand1_j_top_seg_2_cropped.jpeg', 'j/hand2_j_left_seg_3_cropped.jpeg', 'j/hand1_j_top_seg_4_cropped.jpeg', 'j/hand2_j_dif_seg_4_cropped.jpeg', 'j/hand2_j_top_seg_3_cropped.jpeg', 'j/hand2_j_dif_seg_1_cropped.jpeg', 'j/hand1_j_top_seg_1_cropped.jpeg', 'j/hand2_j_left_seg_2_cropped.jpeg', 'j/hand2_j_right_seg_1_cropped.jpeg', 'j/hand1_j_dif_seg_3_cropped.jpeg', 'j/hand1_j_left_seg_2_cropped.jpeg', 'j/hand3_j_dif_seg_5_cropped.jpeg', 'j/hand5_j_bot_seg_4_cropped.jpeg', 'j/hand1_j_top_seg_5_cropped.jpeg', 'j/hand4_j_bot_seg_2_cropped.jpeg', 'j/hand1_j_right_seg_1_cropped.jpeg', 'j/hand1_j_right_seg_5_cropped.jpeg', 'j/hand2_j_left_seg_4_cropped.jpeg', 'j/hand2_j_right_seg_2_cropped.jpeg', 'j/hand2_j_top_seg_1_cropped.jpeg', 'j/hand4_j_bot_seg_5_cropped.jpeg', 'i/hand4_i_bot_seg_4_cropped.jpeg', 'i/hand2_i_dif_seg_1_cropped.jpeg', 'i/hand2_i_right_seg_5_cropped.jpeg', 'i/hand2_i_left_seg_3_cropped.jpeg', 'i/hand5_i_bot_seg_4_cropped.jpeg', 'i/hand4_i_bot_seg_5_cropped.jpeg', 'i/hand1_i_bot_seg_1_cropped.jpeg', 'i/hand1_i_left_seg_5_cropped.jpeg', 'i/hand3_i_dif_seg_2_cropped.jpeg', 'i/hand2_i_left_seg_1_cropped.jpeg', 'i/hand1_i_dif_seg_3_cropped.jpeg', 'i/hand1_i_right_seg_1_cropped.jpeg', 'i/hand2_i_top_seg_4_cropped.jpeg', 'i/hand2_i_right_seg_1_cropped.jpeg', 'i/hand4_i_bot_seg_2_cropped.jpeg', 'i/hand2_i_bot_seg_4_cropped.jpeg', 'i/hand1_i_bot_seg_2_cropped.jpeg', 'i/hand5_i_dif_seg_2_cropped.jpeg', 'i/hand2_i_dif_seg_2_cropped.jpeg', 'i/hand1_i_right_seg_2_cropped.jpeg', 'i/hand2_i_dif_seg_4_cropped.jpeg', 'i/hand3_i_dif_seg_5_cropped.jpeg', 'i/hand1_i_left_seg_3_cropped.jpeg', 'i/hand2_i_dif_seg_5_cropped.jpeg', 'i/hand1_i_bot_seg_5_cropped.jpeg', 'i/hand2_i_top_seg_5_cropped.jpeg', 'i/hand2_i_left_seg_4_cropped.jpeg', 'i/hand5_i_bot_seg_3_cropped.jpeg', 'i/hand2_i_left_seg_2_cropped.jpeg', 'i/hand3_i_dif_seg_3_cropped.jpeg', 'i/hand1_i_dif_seg_1_cropped.jpeg', 'i/hand2_i_right_seg_2_cropped.jpeg', 'i/hand3_i_dif_seg_1_cropped.jpeg', 'i/hand4_i_bot_seg_1_cropped.jpeg', 'i/hand1_i_left_seg_2_cropped.jpeg', 'i/hand4_i_bot_seg_3_cropped.jpeg', 'i/hand1_i_left_seg_4_cropped.jpeg', 'i/hand1_i_top_seg_4_cropped.jpeg', 'i/hand5_i_bot_seg_1_cropped.jpeg', 'i/hand2_i_bot_seg_2_cropped.jpeg', 'i/hand2_i_bot_seg_5_cropped.jpeg', 'i/hand5_i_dif_seg_3_cropped.jpeg', 'i/hand1_i_bot_seg_4_cropped.jpeg', 'i/hand2_i_top_seg_1_cropped.jpeg', 'i/hand2_i_right_seg_4_cropped.jpeg', 'i/hand1_i_right_seg_3_cropped.jpeg', 'i/hand5_i_dif_seg_5_cropped.jpeg', 'i/hand5_i_bot_seg_2_cropped.jpeg', 'i/hand1_i_left_seg_1_cropped.jpeg', 'i/hand1_i_dif_seg_5_cropped.jpeg', 'i/hand5_i_dif_seg_4_cropped.jpeg', 'i/hand5_i_dif_seg_1_cropped.jpeg', 'i/hand1_i_bot_seg_3_cropped.jpeg', 'i/hand2_i_left_seg_5_cropped.jpeg', 'i/hand5_i_bot_seg_5_cropped.jpeg', 'i/hand1_i_top_seg_1_cropped.jpeg', 'i/hand2_i_top_seg_3_cropped.jpeg', 'i/hand1_i_top_seg_5_cropped.jpeg', 'i/hand3_i_dif_seg_4_cropped.jpeg', 'i/hand1_i_right_seg_5_cropped.jpeg', 'i/hand1_i_dif_seg_4_cropped.jpeg', 'i/hand2_i_dif_seg_3_cropped.jpeg', 'i/hand2_i_top_seg_2_cropped.jpeg', 'i/hand2_i_right_seg_3_cropped.jpeg', 'i/hand2_i_bot_seg_1_cropped.jpeg', 'i/hand1_i_right_seg_4_cropped.jpeg', 'i/hand1_i_top_seg_2_cropped.jpeg', 'i/hand2_i_bot_seg_3_cropped.jpeg', 'i/hand1_i_dif_seg_2_cropped.jpeg', 'i/hand1_i_top_seg_3_cropped.jpeg', 'h/hand4_h_bot_seg_1_cropped.jpeg', 'h/hand2_h_top_seg_5_cropped.jpeg', 'h/hand4_h_bot_seg_4_cropped.jpeg', 'h/hand3_h_dif_seg_4_cropped.jpeg', 'h/hand1_h_dif_seg_5_cropped.jpeg', 'h/hand2_h_bot_seg_3_cropped.jpeg', 'h/hand3_h_dif_seg_5_cropped.jpeg', 'h/hand2_h_bot_seg_1_cropped.jpeg', 'h/hand2_h_bot_seg_4_cropped.jpeg', 'h/hand1_h_left_seg_5_cropped.jpeg', 'h/hand1_h_right_seg_2_cropped.jpeg', 'h/hand5_h_dif_seg_2_cropped.jpeg', 'h/hand1_h_top_seg_1_cropped.jpeg', 'h/hand2_h_left_seg_1_cropped.jpeg', 'h/hand1_h_top_seg_2_cropped.jpeg', 'h/hand1_h_right_seg_4_cropped.jpeg', 'h/hand1_h_left_seg_4_cropped.jpeg', 'h/hand1_h_right_seg_5_cropped.jpeg', 'h/hand2_h_dif_seg_4_cropped.jpeg', 'h/hand4_h_bot_seg_5_cropped.jpeg', 'h/hand2_h_top_seg_3_cropped.jpeg', 'h/hand1_h_bot_seg_4_cropped.jpeg', 'h/hand3_h_dif_seg_2_cropped.jpeg', 'h/hand3_h_dif_seg_3_cropped.jpeg', 'h/hand1_h_bot_seg_1_cropped.jpeg', 'h/hand1_h_bot_seg_5_cropped.jpeg', 'h/hand1_h_dif_seg_4_cropped.jpeg', 'h/hand2_h_top_seg_4_cropped.jpeg', 'h/hand1_h_dif_seg_1_cropped.jpeg', 'h/hand1_h_left_seg_1_cropped.jpeg', 'h/hand2_h_top_seg_1_cropped.jpeg', 'h/hand1_h_top_seg_4_cropped.jpeg', 'h/hand5_h_dif_seg_3_cropped.jpeg', 'h/hand4_h_bot_seg_3_cropped.jpeg', 'h/hand1_h_top_seg_5_cropped.jpeg', 'h/hand1_h_left_seg_3_cropped.jpeg', 'h/hand2_h_left_seg_4_cropped.jpeg', 'h/hand1_h_top_seg_3_cropped.jpeg', 'h/hand2_h_dif_seg_5_cropped.jpeg', 'h/hand2_h_right_seg_2_cropped.jpeg', 'h/hand1_h_left_seg_2_cropped.jpeg', 'h/hand2_h_left_seg_3_cropped.jpeg', 'h/hand1_h_bot_seg_2_cropped.jpeg', 'h/hand5_h_bot_seg_2_cropped.jpeg', 'h/hand1_h_bot_seg_3_cropped.jpeg', 'h/hand5_h_bot_seg_1_cropped.jpeg', 'h/hand2_h_right_seg_3_cropped.jpeg', 'h/hand1_h_right_seg_3_cropped.jpeg', 'h/hand2_h_left_seg_5_cropped.jpeg', 'h/hand5_h_dif_seg_4_cropped.jpeg', 'h/hand2_h_dif_seg_3_cropped.jpeg', 'h/hand5_h_bot_seg_5_cropped.jpeg', 'h/hand2_h_dif_seg_2_cropped.jpeg', 'h/hand5_h_dif_seg_1_cropped.jpeg', 'h/hand2_h_bot_seg_5_cropped.jpeg', 'h/hand2_h_right_seg_5_cropped.jpeg', 'h/hand1_h_right_seg_1_cropped.jpeg', 'h/hand1_h_dif_seg_2_cropped.jpeg', 'h/hand3_h_dif_seg_1_cropped.jpeg', 'h/hand5_h_dif_seg_5_cropped.jpeg', 'h/hand2_h_bot_seg_2_cropped.jpeg', 'h/hand1_h_dif_seg_3_cropped.jpeg', 'h/hand2_h_left_seg_2_cropped.jpeg', 'h/hand2_h_top_seg_2_cropped.jpeg', 'h/hand5_h_bot_seg_4_cropped.jpeg', 'h/hand2_h_dif_seg_1_cropped.jpeg', 'h/hand2_h_right_seg_4_cropped.jpeg', 'h/hand5_h_bot_seg_3_cropped.jpeg', 'h/hand2_h_right_seg_1_cropped.jpeg', 'h/hand4_h_bot_seg_2_cropped.jpeg', 'a/hand1_a_bot_seg_3_cropped.jpeg', 'a/hand2_a_right_seg_1_cropped.jpeg', 'a/hand2_a_left_seg_5_cropped.jpeg', 'a/hand1_a_top_seg_3_cropped.jpeg', 'a/hand5_a_bot_seg_4_cropped.jpeg', 'a/hand3_a_dif_seg_1_cropped.jpeg', 'a/hand1_a_left_seg_2_cropped.jpeg', 'a/hand2_a_left_seg_2_cropped.jpeg', 'a/hand2_a_dif_seg_2_cropped.jpeg', 'a/hand5_a_dif_seg_4_cropped.jpeg', 'a/hand1_a_dif_seg_3_cropped.jpeg', 'a/hand5_a_bot_seg_1_cropped.jpeg', 'a/hand5_a_bot_seg_3_cropped.jpeg', 'a/hand3_a_dif_seg_3_cropped.jpeg', 'a/hand1_a_right_seg_2_cropped.jpeg', 'a/hand1_a_left_seg_1_cropped.jpeg', 'a/hand2_a_bot_seg_4_cropped.jpeg', 'a/hand1_a_left_seg_3_cropped.jpeg', 'a/hand2_a_top_seg_2_cropped.jpeg', 'a/hand2_a_top_seg_4_cropped.jpeg', 'a/hand1_a_right_seg_3_cropped.jpeg', 'a/hand2_a_right_seg_3_cropped.jpeg', 'a/hand2_a_bot_seg_3_cropped.jpeg', 'a/hand2_a_top_seg_1_cropped.jpeg', 'a/hand1_a_top_seg_2_cropped.jpeg', 'a/hand4_a_bot_seg_2_cropped.jpeg', 'a/hand2_a_left_seg_3_cropped.jpeg', 'a/hand2_a_bot_seg_5_cropped.jpeg', 'a/hand2_a_right_seg_2_cropped.jpeg', 'a/hand2_a_dif_seg_3_cropped.jpeg', 'a/hand1_a_right_seg_4_cropped.jpeg', 'a/hand4_a_bot_seg_4_cropped.jpeg', 'a/hand5_a_dif_seg_3_cropped.jpeg', 'a/hand1_a_top_seg_5_cropped.jpeg', 'a/hand2_a_right_seg_5_cropped.jpeg', 'a/hand2_a_left_seg_1_cropped.jpeg', 'a/hand5_a_bot_seg_2_cropped.jpeg', 'a/hand3_a_dif_seg_2_cropped.jpeg', 'a/hand1_a_dif_seg_5_cropped.jpeg', 'a/hand5_a_dif_seg_5_cropped.jpeg', 'a/hand2_a_top_seg_5_cropped.jpeg', 'a/hand2_a_top_seg_3_cropped.jpeg', 'a/hand2_a_dif_seg_1_cropped.jpeg', 'a/hand5_a_dif_seg_2_cropped.jpeg', 'a/hand4_a_bot_seg_5_cropped.jpeg', 'a/hand1_a_left_seg_4_cropped.jpeg', 'a/hand1_a_top_seg_1_cropped.jpeg', 'a/hand5_a_bot_seg_5_cropped.jpeg', 'a/hand1_a_bot_seg_2_cropped.jpeg', 'a/hand2_a_bot_seg_2_cropped.jpeg', 'a/hand2_a_dif_seg_4_cropped.jpeg', 'a/hand1_a_dif_seg_2_cropped.jpeg', 'a/hand2_a_dif_seg_5_cropped.jpeg', 'a/hand1_a_dif_seg_1_cropped.jpeg', 'a/hand1_a_left_seg_5_cropped.jpeg', 'a/hand3_a_dif_seg_4_cropped.jpeg', 'a/hand2_a_right_seg_4_cropped.jpeg', 'a/hand1_a_bot_seg_5_cropped.jpeg', 'a/hand2_a_left_seg_4_cropped.jpeg', 'a/hand2_a_bot_seg_1_cropped.jpeg', 'a/hand4_a_bot_seg_1_cropped.jpeg', 'a/hand3_a_dif_seg_5_cropped.jpeg', 'a/hand4_a_bot_seg_3_cropped.jpeg', 'a/hand1_a_top_seg_4_cropped.jpeg', 'a/hand1_a_bot_seg_1_cropped.jpeg', 'a/hand1_a_right_seg_5_cropped.jpeg', 'a/hand5_a_dif_seg_1_cropped.jpeg', 'a/hand1_a_dif_seg_4_cropped.jpeg', 'a/hand1_a_right_seg_1_cropped.jpeg', 'a/hand1_a_bot_seg_4_cropped.jpeg', 'e/hand1_e_top_seg_1_cropped.jpeg', 'e/hand3_e_dif_seg_4_cropped.jpeg', 'e/hand2_e_left_seg_4_cropped.jpeg', 'e/hand1_e_bot_seg_1_cropped.jpeg', 'e/hand3_e_dif_seg_5_cropped.jpeg', 'e/hand4_e_bot_seg_4_cropped.jpeg', 'e/hand1_e_top_seg_2_cropped.jpeg', 'e/hand1_e_right_seg_2_cropped.jpeg', 'e/hand5_e_dif_seg_4_cropped.jpeg', 'e/hand2_e_bot_seg_4_cropped.jpeg', 'e/hand2_e_top_seg_5_cropped.jpeg', 'e/hand1_e_left_seg_3_cropped.jpeg', 'e/hand1_e_top_seg_4_cropped.jpeg', 'e/hand2_e_bot_seg_3_cropped.jpeg', 'e/hand1_e_right_seg_1_cropped.jpeg', 'e/hand2_e_right_seg_5_cropped.jpeg', 'e/hand2_e_left_seg_1_cropped.jpeg', 'e/hand2_e_top_seg_4_cropped.jpeg', 'e/hand3_e_dif_seg_2_cropped.jpeg', 'e/hand1_e_dif_seg_3_cropped.jpeg', 'e/hand1_e_right_seg_4_cropped.jpeg', 'e/hand1_e_left_seg_2_cropped.jpeg', 'e/hand1_e_bot_seg_4_cropped.jpeg', 'e/hand2_e_right_seg_4_cropped.jpeg', 'e/hand1_e_dif_seg_2_cropped.jpeg', 'e/hand2_e_top_seg_3_cropped.jpeg', 'e/hand5_e_dif_seg_3_cropped.jpeg', 'e/hand2_e_top_seg_2_cropped.jpeg', 'e/hand3_e_dif_seg_1_cropped.jpeg', 'e/hand5_e_bot_seg_5_cropped.jpeg', 'e/hand2_e_bot_seg_5_cropped.jpeg', 'e/hand2_e_bot_seg_2_cropped.jpeg', 'e/hand1_e_bot_seg_3_cropped.jpeg', 'e/hand2_e_dif_seg_2_cropped.jpeg', 'e/hand1_e_left_seg_4_cropped.jpeg', 'e/hand1_e_bot_seg_2_cropped.jpeg', 'e/hand5_e_bot_seg_4_cropped.jpeg', 'e/hand1_e_left_seg_5_cropped.jpeg', 'e/hand1_e_left_seg_1_cropped.jpeg', 'e/hand1_e_right_seg_3_cropped.jpeg', 'e/hand3_e_dif_seg_3_cropped.jpeg', 'e/hand1_e_bot_seg_5_cropped.jpeg', 'e/hand2_e_left_seg_2_cropped.jpeg', 'e/hand5_e_bot_seg_1_cropped.jpeg', 'e/hand1_e_right_seg_5_cropped.jpeg', 'e/hand5_e_dif_seg_2_cropped.jpeg', 'e/hand2_e_left_seg_5_cropped.jpeg', 'e/hand2_e_right_seg_1_cropped.jpeg', 'e/hand5_e_dif_seg_5_cropped.jpeg', 'e/hand2_e_dif_seg_1_cropped.jpeg', 'e/hand4_e_bot_seg_1_cropped.jpeg', 'e/hand2_e_right_seg_2_cropped.jpeg', 'e/hand2_e_dif_seg_3_cropped.jpeg', 'e/hand1_e_top_seg_3_cropped.jpeg', 'e/hand2_e_bot_seg_1_cropped.jpeg', 'e/hand5_e_dif_seg_1_cropped.jpeg', 'e/hand1_e_dif_seg_4_cropped.jpeg', 'e/hand5_e_bot_seg_2_cropped.jpeg', 'e/hand4_e_bot_seg_2_cropped.jpeg', 'e/hand2_e_right_seg_3_cropped.jpeg', 'e/hand2_e_top_seg_1_cropped.jpeg', 'e/hand1_e_dif_seg_1_cropped.jpeg', 'e/hand5_e_bot_seg_3_cropped.jpeg', 'e/hand4_e_bot_seg_3_cropped.jpeg', 'e/hand4_e_bot_seg_5_cropped.jpeg', 'e/hand2_e_dif_seg_4_cropped.jpeg', 'e/hand1_e_dif_seg_5_cropped.jpeg', 'e/hand2_e_dif_seg_5_cropped.jpeg', 'e/hand1_e_top_seg_5_cropped.jpeg', 'e/hand2_e_left_seg_3_cropped.jpeg', 'g/hand1_g_bot_seg_1_cropped.jpeg', 'g/hand3_g_dif_seg_5_cropped.jpeg', 'g/hand2_g_dif_seg_3_cropped.jpeg', 'g/hand1_g_dif_seg_5_cropped.jpeg', 'g/hand1_g_dif_seg_1_cropped.jpeg', 'g/hand3_g_dif_seg_3_cropped.jpeg', 'g/hand5_g_dif_seg_3_cropped.jpeg', 'g/hand1_g_top_seg_2_cropped.jpeg', 'g/hand5_g_dif_seg_2_cropped.jpeg', 'g/hand2_g_right_seg_3_cropped.jpeg', 'g/hand1_g_bot_seg_2_cropped.jpeg', 'g/hand2_g_dif_seg_4_cropped.jpeg', 'g/hand2_g_dif_seg_2_cropped.jpeg', 'g/hand1_g_top_seg_5_cropped.jpeg', 'g/hand5_g_dif_seg_5_cropped.jpeg', 'g/hand4_g_bot_seg_3_cropped.jpeg', 'g/hand2_g_bot_seg_3_cropped.jpeg', 'g/hand1_g_top_seg_4_cropped.jpeg', 'g/hand1_g_right_seg_3_cropped.jpeg', 'g/hand2_g_left_seg_1_cropped.jpeg', 'g/hand1_g_top_seg_3_cropped.jpeg', 'g/hand5_g_bot_seg_3_cropped.jpeg', 'g/hand2_g_right_seg_1_cropped.jpeg', 'g/hand1_g_left_seg_4_cropped.jpeg', 'g/hand1_g_right_seg_2_cropped.jpeg', 'g/hand2_g_right_seg_5_cropped.jpeg', 'g/hand4_g_bot_seg_5_cropped.jpeg', 'g/hand1_g_right_seg_1_cropped.jpeg', 'g/hand2_g_bot_seg_2_cropped.jpeg', 'g/hand2_g_bot_seg_1_cropped.jpeg', 'g/hand2_g_dif_seg_5_cropped.jpeg', 'g/hand3_g_dif_seg_4_cropped.jpeg', 'g/hand2_g_left_seg_5_cropped.jpeg', 'g/hand1_g_bot_seg_5_cropped.jpeg', 'g/hand2_g_left_seg_3_cropped.jpeg', 'g/hand3_g_dif_seg_1_cropped.jpeg', 'g/hand1_g_dif_seg_2_cropped.jpeg', 'g/hand2_g_top_seg_1_cropped.jpeg', 'g/hand2_g_dif_seg_1_cropped.jpeg', 'g/hand1_g_left_seg_2_cropped.jpeg', 'g/hand2_g_top_seg_2_cropped.jpeg', 'g/hand4_g_bot_seg_2_cropped.jpeg', 'g/hand1_g_dif_seg_4_cropped.jpeg', 'g/hand1_g_bot_seg_4_cropped.jpeg', 'g/hand4_g_bot_seg_4_cropped.jpeg', 'g/hand1_g_left_seg_5_cropped.jpeg', 'g/hand2_g_top_seg_4_cropped.jpeg', 'g/hand1_g_top_seg_1_cropped.jpeg', 'g/hand5_g_bot_seg_4_cropped.jpeg', 'g/hand1_g_right_seg_5_cropped.jpeg', 'g/hand1_g_bot_seg_3_cropped.jpeg', 'g/hand2_g_left_seg_4_cropped.jpeg', 'g/hand1_g_left_seg_3_cropped.jpeg', 'g/hand5_g_bot_seg_1_cropped.jpeg', 'g/hand2_g_right_seg_2_cropped.jpeg', 'g/hand2_g_top_seg_5_cropped.jpeg', 'g/hand2_g_bot_seg_5_cropped.jpeg', 'g/hand1_g_right_seg_4_cropped.jpeg', 'g/hand1_g_dif_seg_3_cropped.jpeg', 'g/hand5_g_bot_seg_2_cropped.jpeg', 'g/hand2_g_bot_seg_4_cropped.jpeg', 'g/hand1_g_left_seg_1_cropped.jpeg', 'g/hand2_g_right_seg_4_cropped.jpeg', 'g/hand3_g_dif_seg_2_cropped.jpeg', 'g/hand4_g_bot_seg_1_cropped.jpeg', 'g/hand2_g_left_seg_2_cropped.jpeg', 'g/hand5_g_dif_seg_1_cropped.jpeg', 'g/hand2_g_top_seg_3_cropped.jpeg', 'g/hand5_g_bot_seg_5_cropped.jpeg', 'g/hand5_g_dif_seg_4_cropped.jpeg', 'c/hand2_c_dif_seg_4_cropped.jpeg', 'c/hand4_c_bot_seg_4_cropped.jpeg', 'c/hand2_c_left_seg_1_cropped.jpeg', 'c/hand1_c_left_seg_4_cropped.jpeg', 'c/hand2_c_right_seg_1_cropped.jpeg', 'c/hand1_c_right_seg_5_cropped.jpeg', 'c/hand1_c_dif_seg_5_cropped.jpeg', 'c/hand5_c_dif_seg_1_cropped.jpeg', 'c/hand3_c_dif_seg_1_cropped.jpeg', 'c/hand1_c_bot_seg_2_cropped.jpeg', 'c/hand5_c_bot_seg_4_cropped.jpeg', 'c/hand2_c_top_seg_1_cropped.jpeg', 'c/hand2_c_left_seg_2_cropped.jpeg', 'c/hand2_c_right_seg_3_cropped.jpeg', 'c/hand2_c_left_seg_4_cropped.jpeg', 'c/hand4_c_bot_seg_5_cropped.jpeg', 'c/hand2_c_dif_seg_2_cropped.jpeg', 'c/hand5_c_bot_seg_3_cropped.jpeg', 'c/hand1_c_bot_seg_1_cropped.jpeg', 'c/hand5_c_bot_seg_2_cropped.jpeg', 'c/hand1_c_left_seg_2_cropped.jpeg', 'c/hand2_c_top_seg_3_cropped.jpeg', 'c/hand1_c_dif_seg_4_cropped.jpeg', 'c/hand5_c_dif_seg_4_cropped.jpeg', 'c/hand1_c_dif_seg_1_cropped.jpeg', 'c/hand1_c_right_seg_2_cropped.jpeg', 'c/hand1_c_top_seg_5_cropped.jpeg', 'c/hand1_c_right_seg_1_cropped.jpeg', 'c/hand2_c_right_seg_2_cropped.jpeg', 'c/hand1_c_left_seg_5_cropped.jpeg', 'c/hand2_c_left_seg_3_cropped.jpeg', 'c/hand5_c_bot_seg_1_cropped.jpeg', 'c/hand2_c_dif_seg_5_cropped.jpeg', 'c/hand5_c_dif_seg_3_cropped.jpeg', 'c/hand4_c_bot_seg_1_cropped.jpeg', 'c/hand1_c_right_seg_4_cropped.jpeg', 'c/hand2_c_right_seg_5_cropped.jpeg', 'c/hand4_c_bot_seg_2_cropped.jpeg', 'c/hand5_c_bot_seg_5_cropped.jpeg', 'c/hand1_c_dif_seg_3_cropped.jpeg', 'c/hand3_c_dif_seg_3_cropped.jpeg', 'c/hand5_c_dif_seg_2_cropped.jpeg', 'c/hand1_c_bot_seg_3_cropped.jpeg', 'c/hand1_c_right_seg_3_cropped.jpeg', 'c/hand2_c_dif_seg_3_cropped.jpeg', 'c/hand3_c_dif_seg_4_cropped.jpeg', 'c/hand2_c_left_seg_5_cropped.jpeg', 'c/hand1_c_dif_seg_2_cropped.jpeg', 'c/hand5_c_dif_seg_5_cropped.jpeg', 'c/hand3_c_dif_seg_5_cropped.jpeg', 'c/hand1_c_left_seg_3_cropped.jpeg', 'c/hand1_c_top_seg_4_cropped.jpeg', 'c/hand1_c_bot_seg_5_cropped.jpeg', 'c/hand2_c_top_seg_2_cropped.jpeg', 'c/hand1_c_top_seg_1_cropped.jpeg', 'c/hand1_c_top_seg_2_cropped.jpeg', 'c/hand1_c_left_seg_1_cropped.jpeg', 'c/hand2_c_bot_seg_4_cropped.jpeg', 'c/hand2_c_top_seg_5_cropped.jpeg', 'c/hand1_c_top_seg_3_cropped.jpeg', 'c/hand2_c_top_seg_4_cropped.jpeg', 'c/hand1_c_bot_seg_4_cropped.jpeg', 'c/hand2_c_bot_seg_2_cropped.jpeg', 'c/hand2_c_dif_seg_1_cropped.jpeg', 'c/hand2_c_bot_seg_1_cropped.jpeg', 'c/hand2_c_bot_seg_5_cropped.jpeg', 'c/hand2_c_bot_seg_3_cropped.jpeg', 'c/hand2_c_right_seg_4_cropped.jpeg', 'c/hand3_c_dif_seg_2_cropped.jpeg', 'c/hand4_c_bot_seg_3_cropped.jpeg', 'm/hand3_m_dif_seg_1_cropped.jpeg', 'm/hand2_m_bot_seg_3_cropped.jpeg', 'm/hand1_m_dif_seg_1_cropped.jpeg', 'm/hand3_m_dif_seg_2_cropped.jpeg', 'm/hand5_m_dif_seg_3_cropped.jpeg', 'm/hand1_m_left_seg_3_cropped.jpeg', 'm/hand1_m_top_seg_4_cropped.jpeg', 'm/hand2_m_right_seg_4_cropped.jpeg', 'm/hand1_m_top_seg_1_cropped.jpeg', 'm/hand4_m_bot_seg_5_cropped.jpeg', 'm/hand1_m_dif_seg_3_cropped.jpeg', 'm/hand5_m_bot_seg_1_cropped.jpeg', 'm/hand1_m_top_seg_2_cropped.jpeg', 'm/hand2_m_top_seg_3_cropped.jpeg', 'm/hand2_m_bot_seg_2_cropped.jpeg', 'm/hand1_m_left_seg_5_cropped.jpeg', 'm/hand2_m_bot_seg_4_cropped.jpeg', 'm/hand2_m_dif_seg_2_cropped.jpeg', 'm/hand1_m_right_seg_5_cropped.jpeg', 'm/hand5_m_bot_seg_3_cropped.jpeg', 'm/hand2_m_left_seg_4_cropped.jpeg', 'm/hand1_m_bot_seg_4_cropped.jpeg', 'm/hand2_m_dif_seg_1_cropped.jpeg', 'm/hand1_m_left_seg_4_cropped.jpeg', 'm/hand3_m_dif_seg_5_cropped.jpeg', 'm/hand2_m_top_seg_5_cropped.jpeg', 'm/hand5_m_dif_seg_2_cropped.jpeg', 'm/hand2_m_left_seg_3_cropped.jpeg', 'm/hand4_m_bot_seg_3_cropped.jpeg', 'm/hand2_m_dif_seg_3_cropped.jpeg', 'm/hand2_m_right_seg_5_cropped.jpeg', 'm/hand3_m_dif_seg_4_cropped.jpeg', 'm/hand2_m_bot_seg_5_cropped.jpeg', 'm/hand4_m_bot_seg_4_cropped.jpeg', 'm/hand1_m_left_seg_1_cropped.jpeg', 'm/hand1_m_top_seg_5_cropped.jpeg', 'm/hand2_m_right_seg_2_cropped.jpeg', 'm/hand5_m_dif_seg_5_cropped.jpeg', 'm/hand2_m_left_seg_2_cropped.jpeg', 'm/hand1_m_right_seg_1_cropped.jpeg', 'm/hand2_m_right_seg_1_cropped.jpeg', 'm/hand1_m_left_seg_2_cropped.jpeg', 'm/hand2_m_top_seg_2_cropped.jpeg', 'm/hand1_m_bot_seg_5_cropped.jpeg', 'm/hand4_m_bot_seg_2_cropped.jpeg', 'm/hand5_m_dif_seg_4_cropped.jpeg', 'm/hand2_m_top_seg_1_cropped.jpeg', 'm/hand5_m_bot_seg_5_cropped.jpeg', 'm/hand2_m_dif_seg_4_cropped.jpeg', 'm/hand2_m_dif_seg_5_cropped.jpeg', 'm/hand1_m_bot_seg_2_cropped.jpeg', 'm/hand2_m_top_seg_4_cropped.jpeg', 'm/hand5_m_bot_seg_2_cropped.jpeg', 'm/hand4_m_bot_seg_1_cropped.jpeg', 'm/hand3_m_dif_seg_3_cropped.jpeg', 'm/hand2_m_left_seg_1_cropped.jpeg', 'm/hand5_m_bot_seg_4_cropped.jpeg', 'm/hand1_m_dif_seg_5_cropped.jpeg', 'm/hand1_m_bot_seg_1_cropped.jpeg', 'm/hand5_m_dif_seg_1_cropped.jpeg', 'm/hand1_m_bot_seg_3_cropped.jpeg', 'm/hand2_m_left_seg_5_cropped.jpeg', 'm/hand1_m_dif_seg_4_cropped.jpeg', 'm/hand1_m_top_seg_3_cropped.jpeg', 'm/hand1_m_dif_seg_2_cropped.jpeg', 'm/hand1_m_right_seg_2_cropped.jpeg', 'm/hand2_m_bot_seg_1_cropped.jpeg', 'm/hand2_m_right_seg_3_cropped.jpeg', 'm/hand1_m_right_seg_3_cropped.jpeg', 'm/hand1_m_right_seg_4_cropped.jpeg', 'r/hand1_r_bot_seg_1_cropped.jpeg', 'r/hand2_r_bot_seg_2_cropped.jpeg', 'r/hand2_r_bot_seg_3_cropped.jpeg', 'r/hand5_r_bot_seg_3_cropped.jpeg', 'r/hand1_r_bot_seg_3_cropped.jpeg', 'r/hand3_r_dif_seg_4_cropped.jpeg', 'r/hand2_r_right_seg_3_cropped.jpeg', 'r/hand4_r_bot_seg_1_cropped.jpeg', 'r/hand2_r_right_seg_2_cropped.jpeg', 'r/hand2_r_left_seg_1_cropped.jpeg', 'r/hand5_r_dif_seg_4_cropped.jpeg', 'r/hand1_r_top_seg_2_cropped.jpeg', 'r/hand1_r_left_seg_3_cropped.jpeg', 'r/hand1_r_bot_seg_2_cropped.jpeg', 'r/hand1_r_right_seg_3_cropped.jpeg', 'r/hand1_r_right_seg_5_cropped.jpeg', 'r/hand3_r_dif_seg_2_cropped.jpeg', 'r/hand2_r_top_seg_3_cropped.jpeg', 'r/hand2_r_top_seg_5_cropped.jpeg', 'r/hand2_r_bot_seg_1_cropped.jpeg', 'r/hand4_r_bot_seg_4_cropped.jpeg', 'r/hand1_r_left_seg_2_cropped.jpeg', 'r/hand1_r_left_seg_5_cropped.jpeg', 'r/hand1_r_right_seg_1_cropped.jpeg', 'r/hand1_r_right_seg_2_cropped.jpeg', 'r/hand2_r_bot_seg_4_cropped.jpeg', 'r/hand1_r_dif_seg_2_cropped.jpeg', 'r/hand2_r_right_seg_5_cropped.jpeg', 'r/hand1_r_top_seg_3_cropped.jpeg', 'r/hand1_r_top_seg_5_cropped.jpeg', 'r/hand1_r_top_seg_4_cropped.jpeg', 'r/hand1_r_right_seg_4_cropped.jpeg', 'r/hand1_r_top_seg_1_cropped.jpeg', 'r/hand1_r_dif_seg_3_cropped.jpeg', 'r/hand2_r_dif_seg_4_cropped.jpeg', 'r/hand5_r_dif_seg_3_cropped.jpeg', 'r/hand2_r_top_seg_2_cropped.jpeg', 'r/hand3_r_dif_seg_1_cropped.jpeg', 'r/hand5_r_bot_seg_2_cropped.jpeg', 'r/hand2_r_right_seg_4_cropped.jpeg', 'r/hand1_r_bot_seg_4_cropped.jpeg', 'r/hand3_r_dif_seg_3_cropped.jpeg', 'r/hand2_r_dif_seg_2_cropped.jpeg', 'r/hand1_r_left_seg_1_cropped.jpeg', 'r/hand5_r_dif_seg_1_cropped.jpeg', 'r/hand4_r_bot_seg_3_cropped.jpeg', 'r/hand4_r_bot_seg_2_cropped.jpeg', 'r/hand2_r_dif_seg_1_cropped.jpeg', 'r/hand2_r_left_seg_3_cropped.jpeg', 'r/hand1_r_dif_seg_4_cropped.jpeg', 'r/hand2_r_left_seg_2_cropped.jpeg', 'r/hand2_r_top_seg_4_cropped.jpeg', 'r/hand2_r_right_seg_1_cropped.jpeg', 'r/hand2_r_top_seg_1_cropped.jpeg', 'r/hand2_r_bot_seg_5_cropped.jpeg', 'r/hand3_r_dif_seg_5_cropped.jpeg', 'r/hand2_r_left_seg_4_cropped.jpeg', 'r/hand5_r_dif_seg_2_cropped.jpeg', 'r/hand5_r_bot_seg_1_cropped.jpeg', 'r/hand2_r_left_seg_5_cropped.jpeg', 'r/hand2_r_dif_seg_3_cropped.jpeg', 'r/hand1_r_bot_seg_5_cropped.jpeg', 'r/hand5_r_bot_seg_5_cropped.jpeg', 'r/hand1_r_dif_seg_5_cropped.jpeg', 'r/hand5_r_dif_seg_5_cropped.jpeg', 'r/hand5_r_bot_seg_4_cropped.jpeg', 'r/hand1_r_dif_seg_1_cropped.jpeg', 'r/hand4_r_bot_seg_5_cropped.jpeg', 'r/hand2_r_dif_seg_5_cropped.jpeg', 'r/hand1_r_left_seg_4_cropped.jpeg', 'p/hand1_p_left_seg_1_cropped.jpeg', 'p/hand1_p_bot_seg_5_cropped.jpeg', 'p/hand2_p_top_seg_3_cropped.jpeg', 'p/hand3_p_dif_seg_1_cropped.jpeg', 'p/hand1_p_top_seg_1_cropped.jpeg', 'p/hand4_p_bot_seg_5_cropped.jpeg', 'p/hand2_p_right_seg_5_cropped.jpeg', 'p/hand1_p_dif_seg_2_cropped.jpeg', 'p/hand4_p_bot_seg_1_cropped.jpeg', 'p/hand2_p_bot_seg_1_cropped.jpeg', 'p/hand1_p_bot_seg_1_cropped.jpeg', 'p/hand5_p_bot_seg_3_cropped.jpeg', 'p/hand2_p_bot_seg_5_cropped.jpeg', 'p/hand2_p_dif_seg_4_cropped.jpeg', 'p/hand1_p_bot_seg_3_cropped.jpeg', 'p/hand3_p_dif_seg_5_cropped.jpeg', 'p/hand2_p_top_seg_5_cropped.jpeg', 'p/hand5_p_dif_seg_2_cropped.jpeg', 'p/hand2_p_right_seg_2_cropped.jpeg', 'p/hand2_p_left_seg_2_cropped.jpeg', 'p/hand2_p_right_seg_3_cropped.jpeg', 'p/hand1_p_right_seg_4_cropped.jpeg', 'p/hand1_p_right_seg_5_cropped.jpeg', 'p/hand2_p_dif_seg_5_cropped.jpeg', 'p/hand5_p_bot_seg_5_cropped.jpeg', 'p/hand1_p_dif_seg_5_cropped.jpeg', 'p/hand1_p_top_seg_4_cropped.jpeg', 'p/hand1_p_left_seg_4_cropped.jpeg', 'p/hand2_p_bot_seg_4_cropped.jpeg', 'p/hand2_p_dif_seg_1_cropped.jpeg', 'p/hand2_p_right_seg_4_cropped.jpeg', 'p/hand1_p_bot_seg_2_cropped.jpeg', 'p/hand2_p_left_seg_1_cropped.jpeg', 'p/hand3_p_dif_seg_2_cropped.jpeg', 'p/hand4_p_bot_seg_4_cropped.jpeg', 'p/hand2_p_dif_seg_3_cropped.jpeg', 'p/hand1_p_dif_seg_1_cropped.jpeg', 'p/hand2_p_bot_seg_3_cropped.jpeg', 'p/hand5_p_bot_seg_4_cropped.jpeg', 'p/hand1_p_right_seg_1_cropped.jpeg', 'p/hand5_p_dif_seg_3_cropped.jpeg', 'p/hand1_p_top_seg_3_cropped.jpeg', 'p/hand2_p_dif_seg_2_cropped.jpeg', 'p/hand5_p_dif_seg_5_cropped.jpeg', 'p/hand1_p_left_seg_2_cropped.jpeg', 'p/hand5_p_bot_seg_1_cropped.jpeg', 'p/hand1_p_right_seg_3_cropped.jpeg', 'p/hand5_p_bot_seg_2_cropped.jpeg', 'p/hand2_p_left_seg_3_cropped.jpeg', 'p/hand1_p_top_seg_2_cropped.jpeg', 'p/hand1_p_top_seg_5_cropped.jpeg', 'p/hand3_p_dif_seg_4_cropped.jpeg', 'p/hand1_p_dif_seg_4_cropped.jpeg', 'p/hand3_p_dif_seg_3_cropped.jpeg', 'p/hand2_p_bot_seg_2_cropped.jpeg', 'p/hand5_p_dif_seg_1_cropped.jpeg', 'p/hand1_p_dif_seg_3_cropped.jpeg', 'p/hand1_p_bot_seg_4_cropped.jpeg', 'p/hand5_p_dif_seg_4_cropped.jpeg', 'p/hand1_p_left_seg_5_cropped.jpeg', 'p/hand4_p_bot_seg_3_cropped.jpeg', 'p/hand2_p_left_seg_4_cropped.jpeg', 'p/hand1_p_left_seg_3_cropped.jpeg', 'p/hand2_p_top_seg_1_cropped.jpeg', 'p/hand2_p_right_seg_1_cropped.jpeg', 'p/hand4_p_bot_seg_2_cropped.jpeg', 'p/hand2_p_top_seg_2_cropped.jpeg', 'p/hand2_p_top_seg_4_cropped.jpeg', 'p/hand1_p_right_seg_2_cropped.jpeg', 'p/hand2_p_left_seg_5_cropped.jpeg', 'o/hand1_o_bot_seg_3_cropped.jpeg', 'o/hand1_o_dif_seg_1_cropped.jpeg', 'o/hand2_o_bot_seg_4_cropped.jpeg', 'o/hand5_o_bot_seg_1_cropped.jpeg', 'o/hand1_o_dif_seg_5_cropped.jpeg', 'o/hand2_o_dif_seg_1_cropped.jpeg', 'o/hand2_o_right_seg_1_cropped.jpeg', 'o/hand1_o_right_seg_2_cropped.jpeg', 'o/hand2_o_right_seg_3_cropped.jpeg', 'o/hand2_o_dif_seg_3_cropped.jpeg', 'o/hand2_o_top_seg_4_cropped.jpeg', 'o/hand1_o_top_seg_1_cropped.jpeg', 'o/hand4_o_bot_seg_3_cropped.jpeg', 'o/hand5_o_bot_seg_4_cropped.jpeg', 'o/hand5_o_dif_seg_4_cropped.jpeg', 'o/hand2_o_top_seg_5_cropped.jpeg', 'o/hand5_o_bot_seg_2_cropped.jpeg', 'o/hand2_o_top_seg_1_cropped.jpeg', 'o/hand1_o_top_seg_2_cropped.jpeg', 'o/hand4_o_bot_seg_4_cropped.jpeg', 'o/hand1_o_right_seg_4_cropped.jpeg', 'o/hand2_o_bot_seg_5_cropped.jpeg', 'o/hand5_o_bot_seg_3_cropped.jpeg', 'o/hand2_o_right_seg_4_cropped.jpeg', 'o/hand2_o_dif_seg_2_cropped.jpeg', 'o/hand1_o_bot_seg_4_cropped.jpeg', 'o/hand2_o_left_seg_1_cropped.jpeg', 'o/hand1_o_top_seg_3_cropped.jpeg', 'o/hand1_o_right_seg_3_cropped.jpeg', 'o/hand2_o_top_seg_3_cropped.jpeg', 'o/hand2_o_dif_seg_4_cropped.jpeg', 'o/hand3_o_dif_seg_5_cropped.jpeg', 'o/hand1_o_top_seg_4_cropped.jpeg', 'o/hand1_o_left_seg_1_cropped.jpeg', 'o/hand3_o_dif_seg_3_cropped.jpeg', 'o/hand1_o_bot_seg_1_cropped.jpeg', 'o/hand1_o_top_seg_5_cropped.jpeg', 'o/hand1_o_right_seg_5_cropped.jpeg', 'o/hand1_o_dif_seg_3_cropped.jpeg', 'o/hand5_o_dif_seg_2_cropped.jpeg', 'o/hand2_o_top_seg_2_cropped.jpeg', 'o/hand2_o_right_seg_2_cropped.jpeg', 'o/hand2_o_bot_seg_3_cropped.jpeg', 'o/hand2_o_left_seg_2_cropped.jpeg', 'o/hand5_o_bot_seg_5_cropped.jpeg', 'o/hand2_o_dif_seg_5_cropped.jpeg', 'o/hand2_o_right_seg_5_cropped.jpeg', 'o/hand5_o_dif_seg_1_cropped.jpeg', 'o/hand1_o_left_seg_4_cropped.jpeg', 'o/hand4_o_bot_seg_5_cropped.jpeg', 'o/hand1_o_left_seg_5_cropped.jpeg', 'o/hand1_o_bot_seg_5_cropped.jpeg', 'o/hand4_o_bot_seg_1_cropped.jpeg', 'o/hand2_o_bot_seg_1_cropped.jpeg', 'o/hand3_o_dif_seg_2_cropped.jpeg', 'o/hand2_o_bot_seg_2_cropped.jpeg', 'o/hand1_o_left_seg_3_cropped.jpeg', 'o/hand2_o_left_seg_4_cropped.jpeg', 'o/hand2_o_left_seg_5_cropped.jpeg', 'o/hand1_o_left_seg_2_cropped.jpeg', 'o/hand1_o_dif_seg_2_cropped.jpeg', 'o/hand1_o_dif_seg_4_cropped.jpeg', 'o/hand5_o_dif_seg_5_cropped.jpeg', 'o/hand5_o_dif_seg_3_cropped.jpeg', 'o/hand2_o_left_seg_3_cropped.jpeg', 'o/hand1_o_right_seg_1_cropped.jpeg', 'o/hand4_o_bot_seg_2_cropped.jpeg', 'o/hand3_o_dif_seg_4_cropped.jpeg', 'o/hand1_o_bot_seg_2_cropped.jpeg', 'o/hand3_o_dif_seg_1_cropped.jpeg', 'n/hand2_n_dif_seg_4_cropped.jpeg', 'n/hand2_n_bot_seg_5_cropped.jpeg', 'n/hand2_n_dif_seg_5_cropped.jpeg', 'n/hand1_n_dif_seg_4_cropped.jpeg', 'n/hand1_n_dif_seg_2_cropped.jpeg', 'n/hand1_n_right_seg_2_cropped.jpeg', 'n/hand2_n_right_seg_5_cropped.jpeg', 'n/hand2_n_right_seg_3_cropped.jpeg', 'n/hand1_n_top_seg_4_cropped.jpeg', 'n/hand3_n_dif_seg_2_cropped.jpeg', 'n/hand2_n_left_seg_1_cropped.jpeg', 'n/hand2_n_top_seg_3_cropped.jpeg', 'n/hand3_n_dif_seg_5_cropped.jpeg', 'n/hand1_n_left_seg_5_cropped.jpeg', 'n/hand4_n_bot_seg_1_cropped.jpeg', 'n/hand2_n_right_seg_4_cropped.jpeg', 'n/hand4_n_bot_seg_5_cropped.jpeg', 'n/hand4_n_bot_seg_3_cropped.jpeg', 'n/hand1_n_right_seg_4_cropped.jpeg', 'n/hand5_n_bot_seg_4_cropped.jpeg', 'n/hand1_n_right_seg_5_cropped.jpeg', 'n/hand5_n_dif_seg_3_cropped.jpeg', 'n/hand5_n_bot_seg_1_cropped.jpeg', 'n/hand2_n_left_seg_3_cropped.jpeg', 'n/hand2_n_top_seg_5_cropped.jpeg', 'n/hand1_n_bot_seg_2_cropped.jpeg', 'n/hand5_n_dif_seg_4_cropped.jpeg', 'n/hand2_n_dif_seg_3_cropped.jpeg', 'n/hand1_n_right_seg_1_cropped.jpeg', 'n/hand1_n_bot_seg_3_cropped.jpeg', 'n/hand2_n_bot_seg_3_cropped.jpeg', 'n/hand5_n_dif_seg_5_cropped.jpeg', 'n/hand5_n_bot_seg_2_cropped.jpeg', 'n/hand1_n_bot_seg_4_cropped.jpeg', 'n/hand2_n_bot_seg_1_cropped.jpeg', 'n/hand1_n_left_seg_2_cropped.jpeg', 'n/hand5_n_bot_seg_5_cropped.jpeg', 'n/hand3_n_dif_seg_3_cropped.jpeg', 'n/hand2_n_right_seg_1_cropped.jpeg', 'n/hand1_n_dif_seg_3_cropped.jpeg', 'n/hand2_n_top_seg_4_cropped.jpeg', 'n/hand2_n_dif_seg_1_cropped.jpeg', 'n/hand1_n_left_seg_1_cropped.jpeg', 'n/hand1_n_left_seg_4_cropped.jpeg', 'n/hand1_n_top_seg_2_cropped.jpeg', 'n/hand1_n_left_seg_3_cropped.jpeg', 'n/hand5_n_bot_seg_3_cropped.jpeg', 'n/hand1_n_top_seg_1_cropped.jpeg', 'n/hand2_n_top_seg_2_cropped.jpeg', 'n/hand4_n_bot_seg_4_cropped.jpeg', 'n/hand2_n_left_seg_4_cropped.jpeg', 'n/hand3_n_dif_seg_4_cropped.jpeg', 'n/hand2_n_top_seg_1_cropped.jpeg', 'n/hand2_n_left_seg_5_cropped.jpeg', 'n/hand1_n_top_seg_3_cropped.jpeg', 'n/hand1_n_right_seg_3_cropped.jpeg', 'n/hand2_n_left_seg_2_cropped.jpeg', 'n/hand5_n_dif_seg_1_cropped.jpeg', 'n/hand5_n_dif_seg_2_cropped.jpeg', 'n/hand2_n_bot_seg_4_cropped.jpeg', 'n/hand1_n_top_seg_5_cropped.jpeg', 'n/hand2_n_right_seg_2_cropped.jpeg', 'n/hand1_n_dif_seg_5_cropped.jpeg', 'n/hand1_n_dif_seg_1_cropped.jpeg', 'n/hand1_n_bot_seg_5_cropped.jpeg', 'n/hand4_n_bot_seg_2_cropped.jpeg', 'n/hand1_n_bot_seg_1_cropped.jpeg', 'n/hand2_n_dif_seg_2_cropped.jpeg', 'n/hand2_n_bot_seg_2_cropped.jpeg', 'n/hand3_n_dif_seg_1_cropped.jpeg', 'l/hand1_l_bot_seg_4_cropped.jpeg', 'l/hand1_l_dif_seg_2_cropped.jpeg', 'l/hand1_l_dif_seg_3_cropped.jpeg', 'l/hand1_l_dif_seg_4_cropped.jpeg', 'l/hand1_l_dif_seg_1_cropped.jpeg', 'l/hand1_l_left_seg_3_cropped.jpeg', 'l/hand1_l_bot_seg_5_cropped.jpeg', 'l/hand1_l_left_seg_4_cropped.jpeg', 'l/hand1_l_bot_seg_2_cropped.jpeg', 'l/hand1_l_left_seg_5_cropped.jpeg', 'l/hand1_l_dif_seg_5_cropped.jpeg', 'l/hand1_l_left_seg_1_cropped.jpeg', 'l/hand1_l_bot_seg_1_cropped.jpeg', 'l/hand1_l_bot_seg_3_cropped.jpeg', 'l/hand1_l_left_seg_2_cropped.jpeg', 'l/hand3_l_dif_seg_1_cropped.jpeg', 'l/hand3_l_dif_seg_5_cropped.jpeg', 'l/hand2_l_left_seg_2_cropped.jpeg', 'l/hand1_l_top_seg_2_cropped.jpeg', 'l/hand2_l_dif_seg_1_cropped.jpeg', 'l/hand2_l_top_seg_5_cropped.jpeg', 'l/hand2_l_right_seg_4_cropped.jpeg', 'l/hand2_l_bot_seg_5_cropped.jpeg', 'l/hand5_l_dif_seg_5_cropped.jpeg', 'l/hand3_l_dif_seg_3_cropped.jpeg', 'l/hand1_l_top_seg_4_cropped.jpeg', 'l/hand1_l_right_seg_4_cropped.jpeg', 'l/hand2_l_top_seg_3_cropped.jpeg', 'l/hand4_l_bot_seg_4_cropped.jpeg', 'l/hand5_l_bot_seg_4_cropped.jpeg', 'l/hand2_l_left_seg_4_cropped.jpeg', 'l/hand2_l_right_seg_5_cropped.jpeg', 'l/hand3_l_dif_seg_4_cropped.jpeg', 'l/hand1_l_right_seg_3_cropped.jpeg', 'l/hand2_l_bot_seg_3_cropped.jpeg', 'l/hand5_l_bot_seg_3_cropped.jpeg', 'l/hand2_l_dif_seg_4_cropped.jpeg', 'l/hand2_l_top_seg_1_cropped.jpeg', 'l/hand5_l_bot_seg_2_cropped.jpeg', 'l/hand2_l_dif_seg_3_cropped.jpeg', 'l/hand2_l_right_seg_1_cropped.jpeg', 'l/hand1_l_top_seg_3_cropped.jpeg', 'l/hand1_l_top_seg_5_cropped.jpeg', 'l/hand5_l_dif_seg_4_cropped.jpeg', 'l/hand5_l_dif_seg_2_cropped.jpeg', 'l/hand4_l_bot_seg_3_cropped.jpeg', 'l/hand5_l_dif_seg_1_cropped.jpeg', 'l/hand1_l_top_seg_1_cropped.jpeg', 'l/hand1_l_right_seg_5_cropped.jpeg', 'l/hand2_l_bot_seg_1_cropped.jpeg', 'l/hand4_l_bot_seg_5_cropped.jpeg', 'l/hand2_l_dif_seg_5_cropped.jpeg', 'l/hand2_l_right_seg_3_cropped.jpeg', 'l/hand4_l_bot_seg_2_cropped.jpeg', 'l/hand1_l_right_seg_2_cropped.jpeg', 'l/hand5_l_bot_seg_1_cropped.jpeg', 'l/hand3_l_dif_seg_2_cropped.jpeg', 'l/hand2_l_top_seg_2_cropped.jpeg', 'l/hand5_l_bot_seg_5_cropped.jpeg', 'l/hand2_l_bot_seg_2_cropped.jpeg', 'l/hand5_l_dif_seg_3_cropped.jpeg', 'l/hand2_l_bot_seg_4_cropped.jpeg', 'l/hand2_l_top_seg_4_cropped.jpeg', 'l/hand1_l_right_seg_1_cropped.jpeg', 'l/hand2_l_left_seg_3_cropped.jpeg', 'l/hand4_l_bot_seg_1_cropped.jpeg', 'l/hand2_l_dif_seg_2_cropped.jpeg', 'l/hand2_l_left_seg_5_cropped.jpeg', 'l/hand2_l_right_seg_2_cropped.jpeg', 'l/hand2_l_left_seg_1_cropped.jpeg', 't/hand1_t_top_seg_2_cropped.jpeg', 't/hand2_t_bot_seg_2_cropped.jpeg', 't/hand2_t_top_seg_4_cropped.jpeg', 't/hand2_t_bot_seg_4_cropped.jpeg', 't/hand2_t_top_seg_5_cropped.jpeg', 't/hand1_t_dif_seg_3_cropped.jpeg', 't/hand1_t_left_seg_2_cropped.jpeg', 't/hand1_t_right_seg_4_cropped.jpeg', 't/hand5_t_dif_seg_3_cropped.jpeg', 't/hand3_t_dif_seg_3_cropped.jpeg', 't/hand4_t_bot_seg_5_cropped.jpeg', 't/hand1_t_dif_seg_5_cropped.jpeg', 't/hand4_t_bot_seg_4_cropped.jpeg', 't/hand1_t_bot_seg_2_cropped.jpeg', 't/hand2_t_bot_seg_1_cropped.jpeg', 't/hand1_t_bot_seg_5_cropped.jpeg', 't/hand2_t_right_seg_2_cropped.jpeg', 't/hand2_t_top_seg_1_cropped.jpeg', 't/hand2_t_left_seg_5_cropped.jpeg', 't/hand1_t_right_seg_3_cropped.jpeg', 't/hand5_t_dif_seg_5_cropped.jpeg', 't/hand3_t_dif_seg_4_cropped.jpeg', 't/hand2_t_left_seg_4_cropped.jpeg', 't/hand1_t_left_seg_5_cropped.jpeg', 't/hand4_t_bot_seg_2_cropped.jpeg', 't/hand1_t_right_seg_5_cropped.jpeg', 't/hand2_t_right_seg_1_cropped.jpeg', 't/hand5_t_bot_seg_5_cropped.jpeg', 't/hand2_t_top_seg_2_cropped.jpeg', 't/hand5_t_dif_seg_4_cropped.jpeg', 't/hand2_t_bot_seg_3_cropped.jpeg', 't/hand5_t_dif_seg_1_cropped.jpeg', 't/hand2_t_right_seg_3_cropped.jpeg', 't/hand2_t_top_seg_3_cropped.jpeg', 't/hand1_t_top_seg_4_cropped.jpeg', 't/hand5_t_bot_seg_2_cropped.jpeg', 't/hand2_t_left_seg_2_cropped.jpeg', 't/hand1_t_right_seg_2_cropped.jpeg', 't/hand2_t_left_seg_3_cropped.jpeg', 't/hand2_t_right_seg_4_cropped.jpeg', 't/hand3_t_dif_seg_1_cropped.jpeg', 't/hand1_t_right_seg_1_cropped.jpeg', 't/hand1_t_bot_seg_4_cropped.jpeg', 't/hand4_t_bot_seg_1_cropped.jpeg', 't/hand5_t_bot_seg_1_cropped.jpeg', 't/hand1_t_bot_seg_1_cropped.jpeg', 't/hand1_t_top_seg_3_cropped.jpeg', 't/hand1_t_top_seg_1_cropped.jpeg', 't/hand5_t_bot_seg_4_cropped.jpeg', 't/hand1_t_left_seg_4_cropped.jpeg', 't/hand2_t_left_seg_1_cropped.jpeg', 't/hand2_t_right_seg_5_cropped.jpeg', 't/hand3_t_dif_seg_2_cropped.jpeg', 't/hand5_t_dif_seg_2_cropped.jpeg', 't/hand1_t_left_seg_1_cropped.jpeg', 't/hand1_t_dif_seg_1_cropped.jpeg', 't/hand1_t_bot_seg_3_cropped.jpeg', 't/hand5_t_bot_seg_3_cropped.jpeg', 't/hand1_t_dif_seg_2_cropped.jpeg', 't/hand4_t_bot_seg_3_cropped.jpeg', 't/hand1_t_dif_seg_4_cropped.jpeg', 't/hand2_t_bot_seg_5_cropped.jpeg', 't/hand1_t_top_seg_5_cropped.jpeg', 't/hand1_t_left_seg_3_cropped.jpeg', 't/hand3_t_dif_seg_5_cropped.jpeg', 'q/hand5_q_dif_seg_4_cropped.jpeg', 'q/hand2_q_left_seg_3_cropped.jpeg', 'q/hand1_q_bot_seg_5_cropped.jpeg', 'q/hand1_q_right_seg_3_cropped.jpeg', 'q/hand1_q_top_seg_4_cropped.jpeg', 'q/hand2_q_dif_seg_2_cropped.jpeg', 'q/hand2_q_right_seg_2_cropped.jpeg', 'q/hand1_q_dif_seg_3_cropped.jpeg', 'q/hand1_q_dif_seg_5_cropped.jpeg', 'q/hand2_q_right_seg_1_cropped.jpeg', 'q/hand4_q_bot_seg_1_cropped.jpeg', 'q/hand2_q_top_seg_3_cropped.jpeg', 'q/hand5_q_bot_seg_2_cropped.jpeg', 'q/hand1_q_right_seg_1_cropped.jpeg', 'q/hand2_q_left_seg_2_cropped.jpeg', 'q/hand2_q_left_seg_4_cropped.jpeg', 'q/hand2_q_right_seg_4_cropped.jpeg', 'q/hand1_q_right_seg_5_cropped.jpeg', 'q/hand5_q_bot_seg_4_cropped.jpeg', 'q/hand2_q_top_seg_2_cropped.jpeg', 'q/hand2_q_right_seg_3_cropped.jpeg', 'q/hand3_q_dif_seg_3_cropped.jpeg', 'q/hand1_q_top_seg_5_cropped.jpeg', 'q/hand1_q_left_seg_1_cropped.jpeg', 'q/hand2_q_dif_seg_3_cropped.jpeg', 'q/hand1_q_dif_seg_2_cropped.jpeg', 'q/hand3_q_dif_seg_2_cropped.jpeg', 'q/hand1_q_right_seg_2_cropped.jpeg', 'q/hand5_q_dif_seg_3_cropped.jpeg', 'q/hand4_q_bot_seg_4_cropped.jpeg', 'q/hand5_q_dif_seg_2_cropped.jpeg', 'q/hand5_q_bot_seg_3_cropped.jpeg', 'q/hand1_q_top_seg_2_cropped.jpeg', 'q/hand1_q_left_seg_5_cropped.jpeg', 'q/hand5_q_bot_seg_1_cropped.jpeg', 'q/hand1_q_bot_seg_1_cropped.jpeg', 'q/hand1_q_left_seg_2_cropped.jpeg', 'q/hand2_q_bot_seg_3_cropped.jpeg', 'q/hand3_q_dif_seg_4_cropped.jpeg', 'q/hand1_q_top_seg_3_cropped.jpeg', 'q/hand1_q_left_seg_3_cropped.jpeg', 'q/hand2_q_bot_seg_1_cropped.jpeg', 'q/hand4_q_bot_seg_5_cropped.jpeg', 'q/hand2_q_top_seg_4_cropped.jpeg', 'q/hand1_q_dif_seg_4_cropped.jpeg', 'q/hand5_q_dif_seg_5_cropped.jpeg', 'q/hand1_q_top_seg_1_cropped.jpeg', 'q/hand1_q_bot_seg_3_cropped.jpeg', 'q/hand2_q_left_seg_1_cropped.jpeg', 'q/hand2_q_right_seg_5_cropped.jpeg', 'q/hand4_q_bot_seg_2_cropped.jpeg', 'q/hand4_q_bot_seg_3_cropped.jpeg', 'q/hand2_q_left_seg_5_cropped.jpeg', 'q/hand2_q_dif_seg_4_cropped.jpeg', 'q/hand5_q_dif_seg_1_cropped.jpeg', 'q/hand1_q_bot_seg_4_cropped.jpeg', 'q/hand1_q_left_seg_4_cropped.jpeg', 'q/hand2_q_dif_seg_5_cropped.jpeg', 'q/hand3_q_dif_seg_1_cropped.jpeg', 'q/hand5_q_bot_seg_5_cropped.jpeg', 'q/hand1_q_bot_seg_2_cropped.jpeg', 'q/hand2_q_top_seg_1_cropped.jpeg', 'q/hand1_q_right_seg_4_cropped.jpeg', 'q/hand3_q_dif_seg_5_cropped.jpeg', 'q/hand2_q_bot_seg_4_cropped.jpeg', 'q/hand1_q_dif_seg_1_cropped.jpeg', 'q/hand2_q_bot_seg_2_cropped.jpeg', 'q/hand2_q_dif_seg_1_cropped.jpeg', 'q/hand2_q_bot_seg_5_cropped.jpeg', 'q/hand2_q_top_seg_5_cropped.jpeg', 'k/hand3_k_dif_seg_3_cropped.jpeg', 'k/hand2_k_left_seg_3_cropped.jpeg', 'k/hand1_k_top_seg_4_cropped.jpeg', 'k/hand1_k_top_seg_5_cropped.jpeg', 'k/hand2_k_top_seg_5_cropped.jpeg', 'k/hand1_k_top_seg_1_cropped.jpeg', 'k/hand2_k_dif_seg_4_cropped.jpeg', 'k/hand4_k_bot_seg_3_cropped.jpeg', 'k/hand2_k_dif_seg_1_cropped.jpeg', 'k/hand1_k_left_seg_1_cropped.jpeg', 'k/hand1_k_right_seg_2_cropped.jpeg', 'k/hand5_k_dif_seg_2_cropped.jpeg', 'k/hand4_k_bot_seg_1_cropped.jpeg', 'k/hand5_k_bot_seg_4_cropped.jpeg', 'k/hand3_k_dif_seg_2_cropped.jpeg', 'k/hand2_k_right_seg_3_cropped.jpeg', 'k/hand2_k_dif_seg_3_cropped.jpeg', 'k/hand1_k_dif_seg_3_cropped.jpeg', 'k/hand2_k_left_seg_1_cropped.jpeg', 'k/hand2_k_top_seg_1_cropped.jpeg', 'k/hand1_k_right_seg_5_cropped.jpeg', 'k/hand1_k_bot_seg_2_cropped.jpeg', 'k/hand2_k_right_seg_4_cropped.jpeg', 'k/hand1_k_top_seg_2_cropped.jpeg', 'k/hand2_k_bot_seg_1_cropped.jpeg', 'k/hand3_k_dif_seg_4_cropped.jpeg', 'k/hand2_k_bot_seg_2_cropped.jpeg', 'k/hand1_k_dif_seg_1_cropped.jpeg', 'k/hand5_k_dif_seg_5_cropped.jpeg', 'k/hand1_k_bot_seg_5_cropped.jpeg', 'k/hand5_k_dif_seg_1_cropped.jpeg', 'k/hand1_k_right_seg_1_cropped.jpeg', 'k/hand4_k_bot_seg_2_cropped.jpeg', 'k/hand1_k_left_seg_3_cropped.jpeg', 'k/hand4_k_bot_seg_4_cropped.jpeg', 'k/hand1_k_bot_seg_3_cropped.jpeg', 'k/hand2_k_right_seg_5_cropped.jpeg', 'k/hand2_k_top_seg_2_cropped.jpeg', 'k/hand2_k_left_seg_2_cropped.jpeg', 'k/hand2_k_bot_seg_5_cropped.jpeg', 'k/hand3_k_dif_seg_1_cropped.jpeg', 'k/hand5_k_bot_seg_3_cropped.jpeg', 'k/hand1_k_left_seg_5_cropped.jpeg', 'k/hand2_k_dif_seg_2_cropped.jpeg', 'k/hand2_k_left_seg_5_cropped.jpeg', 'k/hand2_k_right_seg_2_cropped.jpeg', 'k/hand4_k_bot_seg_5_cropped.jpeg', 'k/hand1_k_bot_seg_1_cropped.jpeg', 'k/hand5_k_bot_seg_1_cropped.jpeg', 'k/hand2_k_right_seg_1_cropped.jpeg', 'k/hand2_k_top_seg_3_cropped.jpeg', 'k/hand1_k_dif_seg_2_cropped.jpeg', 'k/hand2_k_bot_seg_3_cropped.jpeg', 'k/hand3_k_dif_seg_5_cropped.jpeg', 'k/hand2_k_left_seg_4_cropped.jpeg', 'k/hand1_k_dif_seg_5_cropped.jpeg', 'k/hand2_k_bot_seg_4_cropped.jpeg', 'k/hand1_k_dif_seg_4_cropped.jpeg', 'k/hand5_k_dif_seg_4_cropped.jpeg', 'k/hand2_k_dif_seg_5_cropped.jpeg', 'k/hand1_k_left_seg_2_cropped.jpeg', 'k/hand5_k_bot_seg_5_cropped.jpeg', 'k/hand1_k_bot_seg_4_cropped.jpeg', 'k/hand5_k_dif_seg_3_cropped.jpeg', 'k/hand5_k_bot_seg_2_cropped.jpeg', 'k/hand1_k_right_seg_4_cropped.jpeg', 'k/hand1_k_top_seg_3_cropped.jpeg', 'k/hand1_k_right_seg_3_cropped.jpeg', 'k/hand2_k_top_seg_4_cropped.jpeg', 'k/hand1_k_left_seg_4_cropped.jpeg', 's/hand2_s_top_seg_5_cropped.jpeg', 's/hand5_s_dif_seg_4_cropped.jpeg', 's/hand1_s_right_seg_2_cropped.jpeg', 's/hand3_s_dif_seg_4_cropped.jpeg', 's/hand2_s_left_seg_2_cropped.jpeg', 's/hand1_s_left_seg_3_cropped.jpeg', 's/hand2_s_dif_seg_4_cropped.jpeg', 's/hand2_s_top_seg_3_cropped.jpeg', 's/hand1_s_left_seg_5_cropped.jpeg', 's/hand2_s_bot_seg_5_cropped.jpeg', 's/hand2_s_bot_seg_3_cropped.jpeg', 's/hand2_s_bot_seg_1_cropped.jpeg', 's/hand1_s_right_seg_1_cropped.jpeg', 's/hand3_s_dif_seg_2_cropped.jpeg', 's/hand2_s_top_seg_2_cropped.jpeg', 's/hand1_s_bot_seg_1_cropped.jpeg', 's/hand3_s_dif_seg_5_cropped.jpeg', 's/hand2_s_left_seg_5_cropped.jpeg', 's/hand2_s_left_seg_1_cropped.jpeg', 's/hand5_s_bot_seg_4_cropped.jpeg', 's/hand1_s_right_seg_4_cropped.jpeg', 's/hand1_s_dif_seg_2_cropped.jpeg', 's/hand2_s_dif_seg_2_cropped.jpeg', 's/hand5_s_dif_seg_2_cropped.jpeg', 's/hand5_s_bot_seg_5_cropped.jpeg', 's/hand2_s_top_seg_4_cropped.jpeg', 's/hand2_s_bot_seg_4_cropped.jpeg', 's/hand2_s_dif_seg_5_cropped.jpeg', 's/hand2_s_right_seg_4_cropped.jpeg', 's/hand5_s_bot_seg_3_cropped.jpeg', 's/hand1_s_left_seg_4_cropped.jpeg', 's/hand4_s_bot_seg_4_cropped.jpeg', 's/hand4_s_bot_seg_3_cropped.jpeg', 's/hand2_s_dif_seg_1_cropped.jpeg', 's/hand5_s_dif_seg_5_cropped.jpeg', 's/hand5_s_bot_seg_1_cropped.jpeg', 's/hand2_s_top_seg_1_cropped.jpeg', 's/hand1_s_top_seg_4_cropped.jpeg', 's/hand4_s_bot_seg_1_cropped.jpeg', 's/hand3_s_dif_seg_1_cropped.jpeg', 's/hand1_s_left_seg_1_cropped.jpeg', 's/hand2_s_left_seg_3_cropped.jpeg', 's/hand1_s_top_seg_3_cropped.jpeg', 's/hand1_s_top_seg_1_cropped.jpeg', 's/hand1_s_dif_seg_5_cropped.jpeg', 's/hand1_s_bot_seg_2_cropped.jpeg', 's/hand5_s_dif_seg_1_cropped.jpeg', 's/hand2_s_bot_seg_2_cropped.jpeg', 's/hand4_s_bot_seg_5_cropped.jpeg', 's/hand1_s_bot_seg_5_cropped.jpeg', 's/hand3_s_dif_seg_3_cropped.jpeg', 's/hand1_s_dif_seg_1_cropped.jpeg', 's/hand1_s_dif_seg_3_cropped.jpeg', 's/hand1_s_top_seg_2_cropped.jpeg', 's/hand1_s_right_seg_5_cropped.jpeg', 's/hand1_s_bot_seg_3_cropped.jpeg', 's/hand1_s_right_seg_3_cropped.jpeg', 's/hand1_s_left_seg_2_cropped.jpeg', 's/hand2_s_right_seg_5_cropped.jpeg', 's/hand2_s_right_seg_2_cropped.jpeg', 's/hand2_s_right_seg_1_cropped.jpeg', 's/hand1_s_dif_seg_4_cropped.jpeg', 's/hand2_s_right_seg_3_cropped.jpeg', 's/hand1_s_top_seg_5_cropped.jpeg', 's/hand2_s_dif_seg_3_cropped.jpeg', 's/hand2_s_left_seg_4_cropped.jpeg', 's/hand4_s_bot_seg_2_cropped.jpeg', 's/hand5_s_dif_seg_3_cropped.jpeg', 's/hand5_s_bot_seg_2_cropped.jpeg', 's/hand1_s_bot_seg_4_cropped.jpeg', 'u/hand2_u_right_seg_4_cropped.jpeg', 'u/hand2_u_bot_seg_2_cropped.jpeg', 'u/hand5_u_dif_seg_2_cropped.jpeg', 'u/hand2_u_dif_seg_3_cropped.jpeg', 'u/hand1_u_right_seg_5_cropped.jpeg', 'u/hand1_u_dif_seg_3_cropped.jpeg', 'u/hand3_u_dif_seg_2_cropped.jpeg', 'u/hand5_u_bot_seg_3_cropped.jpeg', 'u/hand1_u_right_seg_2_cropped.jpeg', 'u/hand5_u_bot_seg_5_cropped.jpeg', 'u/hand1_u_top_seg_3_cropped.jpeg', 'u/hand5_u_dif_seg_4_cropped.jpeg', 'u/hand1_u_dif_seg_1_cropped.jpeg', 'u/hand2_u_dif_seg_2_cropped.jpeg', 'u/hand2_u_bot_seg_4_cropped.jpeg', 'u/hand5_u_bot_seg_1_cropped.jpeg', 'u/hand5_u_dif_seg_3_cropped.jpeg', 'u/hand1_u_bot_seg_2_cropped.jpeg', 'u/hand1_u_dif_seg_4_cropped.jpeg', 'u/hand1_u_left_seg_3_cropped.jpeg', 'u/hand1_u_top_seg_4_cropped.jpeg', 'u/hand1_u_bot_seg_1_cropped.jpeg', 'u/hand1_u_dif_seg_5_cropped.jpeg', 'u/hand2_u_top_seg_5_cropped.jpeg', 'u/hand1_u_left_seg_5_cropped.jpeg', 'u/hand1_u_dif_seg_2_cropped.jpeg', 'u/hand1_u_left_seg_2_cropped.jpeg', 'u/hand1_u_bot_seg_4_cropped.jpeg', 'u/hand2_u_right_seg_2_cropped.jpeg', 'u/hand3_u_dif_seg_5_cropped.jpeg', 'u/hand2_u_top_seg_3_cropped.jpeg', 'u/hand1_u_bot_seg_5_cropped.jpeg', 'u/hand1_u_top_seg_2_cropped.jpeg', 'u/hand1_u_left_seg_1_cropped.jpeg', 'u/hand1_u_right_seg_1_cropped.jpeg', 'u/hand2_u_bot_seg_1_cropped.jpeg', 'u/hand4_u_bot_seg_3_cropped.jpeg', 'u/hand2_u_dif_seg_4_cropped.jpeg', 'u/hand2_u_left_seg_1_cropped.jpeg', 'u/hand2_u_top_seg_2_cropped.jpeg', 'u/hand2_u_left_seg_2_cropped.jpeg', 'u/hand2_u_left_seg_3_cropped.jpeg', 'u/hand1_u_top_seg_5_cropped.jpeg', 'u/hand2_u_bot_seg_3_cropped.jpeg', 'u/hand1_u_left_seg_4_cropped.jpeg', 'u/hand2_u_right_seg_3_cropped.jpeg', 'u/hand4_u_bot_seg_5_cropped.jpeg', 'u/hand2_u_left_seg_4_cropped.jpeg', 'u/hand4_u_bot_seg_4_cropped.jpeg', 'u/hand4_u_bot_seg_2_cropped.jpeg', 'u/hand5_u_dif_seg_5_cropped.jpeg', 'u/hand2_u_dif_seg_5_cropped.jpeg', 'u/hand3_u_dif_seg_4_cropped.jpeg', 'u/hand3_u_dif_seg_3_cropped.jpeg', 'u/hand5_u_bot_seg_4_cropped.jpeg', 'u/hand5_u_bot_seg_2_cropped.jpeg', 'u/hand1_u_right_seg_4_cropped.jpeg', 'u/hand2_u_top_seg_1_cropped.jpeg', 'u/hand5_u_dif_seg_1_cropped.jpeg', 'u/hand4_u_bot_seg_1_cropped.jpeg', 'u/hand1_u_bot_seg_3_cropped.jpeg', 'u/hand2_u_bot_seg_5_cropped.jpeg', 'u/hand2_u_left_seg_5_cropped.jpeg', 'u/hand1_u_top_seg_1_cropped.jpeg', 'u/hand1_u_right_seg_3_cropped.jpeg', 'u/hand3_u_dif_seg_1_cropped.jpeg', 'u/hand2_u_top_seg_4_cropped.jpeg', 'u/hand2_u_right_seg_5_cropped.jpeg', 'u/hand2_u_dif_seg_1_cropped.jpeg', 'u/hand2_u_right_seg_1_cropped.jpeg', 'y/hand1_y_top_seg_1_cropped.jpeg', 'y/hand2_y_right_seg_3_cropped.jpeg', 'y/hand2_y_dif_seg_4_cropped.jpeg', 'y/hand1_y_bot_seg_2_cropped.jpeg', 'y/hand4_y_bot_seg_1_cropped.jpeg', 'y/hand2_y_right_seg_5_cropped.jpeg', 'y/hand2_y_left_seg_1_cropped.jpeg', 'y/hand1_y_right_seg_4_cropped.jpeg', 'y/hand1_y_bot_seg_3_cropped.jpeg', 'y/hand2_y_bot_seg_4_cropped.jpeg', 'y/hand1_y_right_seg_5_cropped.jpeg', 'y/hand3_y_dif_seg_1_cropped.jpeg', 'y/hand1_y_left_seg_4_cropped.jpeg', 'y/hand3_y_dif_seg_4_cropped.jpeg', 'y/hand1_y_right_seg_2_cropped.jpeg', 'y/hand5_y_dif_seg_4_cropped.jpeg', 'y/hand1_y_dif_seg_1_cropped.jpeg', 'y/hand1_y_dif_seg_3_cropped.jpeg', 'y/hand2_y_bot_seg_1_cropped.jpeg', 'y/hand5_y_bot_seg_4_cropped.jpeg', 'y/hand2_y_top_seg_4_cropped.jpeg', 'y/hand2_y_right_seg_1_cropped.jpeg', 'y/hand1_y_bot_seg_5_cropped.jpeg', 'y/hand1_y_dif_seg_2_cropped.jpeg', 'y/hand2_y_top_seg_1_cropped.jpeg', 'y/hand1_y_top_seg_2_cropped.jpeg', 'y/hand2_y_left_seg_5_cropped.jpeg', 'y/hand2_y_right_seg_4_cropped.jpeg', 'y/hand5_y_dif_seg_3_cropped.jpeg', 'y/hand1_y_top_seg_4_cropped.jpeg', 'y/hand1_y_left_seg_2_cropped.jpeg', 'y/hand4_y_bot_seg_2_cropped.jpeg', 'y/hand2_y_dif_seg_3_cropped.jpeg', 'y/hand1_y_bot_seg_1_cropped.jpeg', 'y/hand1_y_left_seg_5_cropped.jpeg', 'y/hand4_y_bot_seg_5_cropped.jpeg', 'y/hand3_y_dif_seg_3_cropped.jpeg', 'y/hand2_y_left_seg_4_cropped.jpeg', 'y/hand5_y_bot_seg_3_cropped.jpeg', 'y/hand1_y_right_seg_1_cropped.jpeg', 'y/hand1_y_top_seg_3_cropped.jpeg', 'y/hand2_y_dif_seg_5_cropped.jpeg', 'y/hand2_y_dif_seg_2_cropped.jpeg', 'y/hand2_y_top_seg_3_cropped.jpeg', 'y/hand5_y_bot_seg_2_cropped.jpeg', 'y/hand5_y_dif_seg_1_cropped.jpeg', 'y/hand5_y_bot_seg_5_cropped.jpeg', 'y/hand3_y_dif_seg_2_cropped.jpeg', 'y/hand1_y_left_seg_1_cropped.jpeg', 'y/hand3_y_dif_seg_5_cropped.jpeg', 'y/hand2_y_dif_seg_1_cropped.jpeg', 'y/hand4_y_bot_seg_3_cropped.jpeg', 'y/hand2_y_bot_seg_5_cropped.jpeg', 'y/hand2_y_top_seg_5_cropped.jpeg', 'y/hand1_y_dif_seg_4_cropped.jpeg', 'y/hand1_y_top_seg_5_cropped.jpeg', 'y/hand2_y_left_seg_3_cropped.jpeg', 'y/hand5_y_dif_seg_5_cropped.jpeg', 'y/hand1_y_right_seg_3_cropped.jpeg', 'y/hand2_y_bot_seg_3_cropped.jpeg', 'y/hand1_y_left_seg_3_cropped.jpeg', 'y/hand5_y_bot_seg_1_cropped.jpeg', 'y/hand1_y_bot_seg_4_cropped.jpeg', 'y/hand2_y_left_seg_2_cropped.jpeg', 'y/hand2_y_top_seg_2_cropped.jpeg', 'y/hand2_y_bot_seg_2_cropped.jpeg', 'y/hand5_y_dif_seg_2_cropped.jpeg', 'y/hand2_y_right_seg_2_cropped.jpeg', 'y/hand4_y_bot_seg_4_cropped.jpeg', 'y/hand1_y_dif_seg_5_cropped.jpeg', 'x/hand3_x_dif_seg_1_cropped.jpeg', 'x/hand5_x_bot_seg_4_cropped.jpeg', 'x/hand1_x_right_seg_5_cropped.jpeg', 'x/hand1_x_dif_seg_5_cropped.jpeg', 'x/hand1_x_left_seg_2_cropped.jpeg', 'x/hand1_x_dif_seg_4_cropped.jpeg', 'x/hand3_x_dif_seg_3_cropped.jpeg', 'x/hand4_x_bot_seg_5_cropped.jpeg', 'x/hand4_x_bot_seg_1_cropped.jpeg', 'x/hand2_x_left_seg_2_cropped.jpeg', 'x/hand2_x_top_seg_5_cropped.jpeg', 'x/hand1_x_left_seg_4_cropped.jpeg', 'x/hand1_x_right_seg_2_cropped.jpeg', 'x/hand3_x_dif_seg_2_cropped.jpeg', 'x/hand2_x_dif_seg_2_cropped.jpeg', 'x/hand1_x_dif_seg_3_cropped.jpeg', 'x/hand2_x_left_seg_1_cropped.jpeg', 'x/hand2_x_right_seg_1_cropped.jpeg', 'x/hand2_x_dif_seg_5_cropped.jpeg', 'x/hand1_x_top_seg_2_cropped.jpeg', 'x/hand5_x_dif_seg_5_cropped.jpeg', 'x/hand1_x_top_seg_5_cropped.jpeg', 'x/hand2_x_top_seg_1_cropped.jpeg', 'x/hand3_x_dif_seg_5_cropped.jpeg', 'x/hand5_x_dif_seg_3_cropped.jpeg', 'x/hand2_x_top_seg_4_cropped.jpeg', 'x/hand3_x_dif_seg_4_cropped.jpeg', 'x/hand2_x_bot_seg_2_cropped.jpeg', 'x/hand1_x_right_seg_3_cropped.jpeg', 'x/hand2_x_bot_seg_1_cropped.jpeg', 'x/hand2_x_top_seg_3_cropped.jpeg', 'x/hand1_x_left_seg_1_cropped.jpeg', 'x/hand1_x_bot_seg_4_cropped.jpeg', 'x/hand2_x_bot_seg_4_cropped.jpeg', 'x/hand2_x_left_seg_5_cropped.jpeg', 'x/hand2_x_top_seg_2_cropped.jpeg', 'x/hand1_x_top_seg_1_cropped.jpeg', 'x/hand2_x_dif_seg_3_cropped.jpeg', 'x/hand2_x_dif_seg_1_cropped.jpeg', 'x/hand2_x_bot_seg_5_cropped.jpeg', 'x/hand1_x_top_seg_4_cropped.jpeg', 'x/hand1_x_right_seg_1_cropped.jpeg', 'x/hand2_x_right_seg_3_cropped.jpeg', 'x/hand1_x_top_seg_3_cropped.jpeg', 'x/hand2_x_left_seg_4_cropped.jpeg', 'x/hand4_x_bot_seg_2_cropped.jpeg', 'x/hand1_x_left_seg_5_cropped.jpeg', 'x/hand1_x_left_seg_3_cropped.jpeg', 'x/hand1_x_dif_seg_1_cropped.jpeg', 'x/hand1_x_dif_seg_2_cropped.jpeg', 'x/hand2_x_left_seg_3_cropped.jpeg', 'x/hand1_x_right_seg_4_cropped.jpeg', 'x/hand2_x_right_seg_5_cropped.jpeg', 'x/hand1_x_bot_seg_5_cropped.jpeg', 'x/hand2_x_dif_seg_4_cropped.jpeg', 'x/hand5_x_dif_seg_4_cropped.jpeg', 'x/hand4_x_bot_seg_3_cropped.jpeg', 'x/hand1_x_bot_seg_1_cropped.jpeg', 'x/hand2_x_bot_seg_3_cropped.jpeg', 'x/hand5_x_dif_seg_1_cropped.jpeg', 'x/hand2_x_right_seg_2_cropped.jpeg', 'x/hand2_x_right_seg_4_cropped.jpeg', 'x/hand5_x_bot_seg_2_cropped.jpeg', 'x/hand5_x_bot_seg_3_cropped.jpeg', 'x/hand5_x_bot_seg_1_cropped.jpeg', 'x/hand5_x_dif_seg_2_cropped.jpeg', 'x/hand1_x_bot_seg_3_cropped.jpeg', 'x/hand5_x_bot_seg_5_cropped.jpeg', 'x/hand4_x_bot_seg_4_cropped.jpeg', 'x/hand1_x_bot_seg_2_cropped.jpeg', 'v/hand5_v_bot_seg_4_cropped.jpeg', 'v/hand2_v_left_seg_5_cropped.jpeg', 'v/hand3_v_dif_seg_5_cropped.jpeg', 'v/hand1_v_dif_seg_1_cropped.jpeg', 'v/hand3_v_dif_seg_3_cropped.jpeg', 'v/hand2_v_right_seg_5_cropped.jpeg', 'v/hand5_v_bot_seg_3_cropped.jpeg', 'v/hand2_v_dif_seg_5_cropped.jpeg', 'v/hand1_v_dif_seg_4_cropped.jpeg', 'v/hand1_v_left_seg_4_cropped.jpeg', 'v/hand1_v_top_seg_3_cropped.jpeg', 'v/hand1_v_left_seg_2_cropped.jpeg', 'v/hand1_v_bot_seg_5_cropped.jpeg', 'v/hand1_v_top_seg_1_cropped.jpeg', 'v/hand4_v_bot_seg_4_cropped.jpeg', 'v/hand2_v_bot_seg_4_cropped.jpeg', 'v/hand3_v_dif_seg_1_cropped.jpeg', 'v/hand2_v_right_seg_4_cropped.jpeg', 'v/hand1_v_left_seg_3_cropped.jpeg', 'v/hand5_v_dif_seg_2_cropped.jpeg', 'v/hand1_v_bot_seg_4_cropped.jpeg', 'v/hand1_v_right_seg_3_cropped.jpeg', 'v/hand5_v_dif_seg_5_cropped.jpeg', 'v/hand2_v_dif_seg_2_cropped.jpeg', 'v/hand1_v_left_seg_5_cropped.jpeg', 'v/hand1_v_right_seg_5_cropped.jpeg', 'v/hand2_v_right_seg_3_cropped.jpeg', 'v/hand5_v_dif_seg_4_cropped.jpeg', 'v/hand1_v_top_seg_5_cropped.jpeg', 'v/hand2_v_dif_seg_1_cropped.jpeg', 'v/hand1_v_top_seg_2_cropped.jpeg', 'v/hand2_v_dif_seg_4_cropped.jpeg', 'v/hand5_v_bot_seg_1_cropped.jpeg', 'v/hand4_v_bot_seg_1_cropped.jpeg', 'v/hand1_v_right_seg_4_cropped.jpeg', 'v/hand4_v_bot_seg_3_cropped.jpeg', 'v/hand2_v_top_seg_5_cropped.jpeg', 'v/hand1_v_right_seg_2_cropped.jpeg', 'v/hand2_v_left_seg_1_cropped.jpeg', 'v/hand5_v_dif_seg_3_cropped.jpeg', 'v/hand2_v_top_seg_1_cropped.jpeg', 'v/hand5_v_dif_seg_1_cropped.jpeg', 'v/hand2_v_top_seg_3_cropped.jpeg', 'v/hand2_v_bot_seg_3_cropped.jpeg', 'v/hand1_v_dif_seg_2_cropped.jpeg', 'v/hand2_v_top_seg_2_cropped.jpeg', 'v/hand3_v_dif_seg_4_cropped.jpeg', 'v/hand2_v_right_seg_2_cropped.jpeg', 'v/hand2_v_dif_seg_3_cropped.jpeg', 'v/hand1_v_top_seg_4_cropped.jpeg', 'v/hand2_v_right_seg_1_cropped.jpeg', 'v/hand2_v_bot_seg_1_cropped.jpeg', 'v/hand1_v_dif_seg_3_cropped.jpeg', 'v/hand1_v_left_seg_1_cropped.jpeg', 'v/hand2_v_top_seg_4_cropped.jpeg', 'v/hand2_v_left_seg_4_cropped.jpeg', 'v/hand1_v_bot_seg_2_cropped.jpeg', 'v/hand1_v_right_seg_1_cropped.jpeg', 'v/hand1_v_dif_seg_5_cropped.jpeg', 'v/hand1_v_bot_seg_1_cropped.jpeg', 'v/hand2_v_bot_seg_5_cropped.jpeg', 'v/hand2_v_left_seg_3_cropped.jpeg', 'v/hand4_v_bot_seg_5_cropped.jpeg', 'v/hand5_v_bot_seg_5_cropped.jpeg', 'v/hand2_v_bot_seg_2_cropped.jpeg', 'v/hand5_v_bot_seg_2_cropped.jpeg', 'v/hand1_v_bot_seg_3_cropped.jpeg', 'v/hand2_v_left_seg_2_cropped.jpeg', 'v/hand3_v_dif_seg_2_cropped.jpeg', 'v/hand4_v_bot_seg_2_cropped.jpeg', 'z/hand1_z_top_seg_4_cropped.jpeg', 'z/hand2_z_left_seg_4_cropped.jpeg', 'z/hand2_z_bot_seg_3_cropped.jpeg', 'z/hand2_z_left_seg_2_cropped.jpeg', 'z/hand1_z_bot_seg_3_cropped.jpeg', 'z/hand2_z_bot_seg_1_cropped.jpeg', 'z/hand1_z_top_seg_5_cropped.jpeg', 'z/hand1_z_right_seg_5_cropped.jpeg', 'z/hand1_z_top_seg_1_cropped.jpeg', 'z/hand2_z_dif_seg_2_cropped.jpeg', 'z/hand1_z_bot_seg_4_cropped.jpeg', 'z/hand2_z_dif_seg_4_cropped.jpeg', 'z/hand1_z_dif_seg_3_cropped.jpeg', 'z/hand1_z_dif_seg_5_cropped.jpeg', 'z/hand1_z_bot_seg_1_cropped.jpeg', 'z/hand1_z_right_seg_1_cropped.jpeg', 'z/hand1_z_right_seg_2_cropped.jpeg', 'z/hand1_z_right_seg_4_cropped.jpeg', 'z/hand1_z_left_seg_2_cropped.jpeg', 'z/hand1_z_left_seg_5_cropped.jpeg', 'z/hand1_z_right_seg_3_cropped.jpeg', 'z/hand2_z_bot_seg_2_cropped.jpeg', 'z/hand1_z_top_seg_3_cropped.jpeg', 'z/hand1_z_dif_seg_4_cropped.jpeg', 'z/hand2_z_dif_seg_5_cropped.jpeg', 'z/hand2_z_left_seg_3_cropped.jpeg', 'z/hand1_z_bot_seg_2_cropped.jpeg', 'z/hand1_z_left_seg_4_cropped.jpeg', 'z/hand2_z_bot_seg_4_cropped.jpeg', 'z/hand2_z_bot_seg_5_cropped.jpeg', 'z/hand1_z_dif_seg_1_cropped.jpeg', 'z/hand1_z_top_seg_2_cropped.jpeg', 'z/hand1_z_left_seg_1_cropped.jpeg', 'z/hand1_z_bot_seg_5_cropped.jpeg', 'z/hand1_z_dif_seg_2_cropped.jpeg', 'z/hand2_z_left_seg_1_cropped.jpeg', 'z/hand2_z_dif_seg_3_cropped.jpeg', 'z/hand1_z_left_seg_3_cropped.jpeg', 'z/hand2_z_dif_seg_1_cropped.jpeg', 'z/hand2_z_left_seg_5_cropped.jpeg', 'z/hand5_z_dif_seg_4_cropped.jpeg', 'z/hand2_z_top_seg_3_cropped.jpeg', 'z/hand5_z_bot_seg_2_cropped.jpeg', 'z/hand2_z_right_seg_1_cropped.jpeg', 'z/hand3_z_dif_seg_2_cropped.jpeg', 'z/hand3_z_dif_seg_5_cropped.jpeg', 'z/hand2_z_right_seg_4_cropped.jpeg', 'z/hand2_z_top_seg_2_cropped.jpeg', 'z/hand2_z_top_seg_4_cropped.jpeg', 'z/hand5_z_dif_seg_2_cropped.jpeg', 'z/hand4_z_bot_seg_4_cropped.jpeg', 'z/hand4_z_bot_seg_5_cropped.jpeg', 'z/hand3_z_dif_seg_4_cropped.jpeg', 'z/hand4_z_bot_seg_3_cropped.jpeg', 'z/hand5_z_bot_seg_4_cropped.jpeg', 'z/hand3_z_dif_seg_3_cropped.jpeg', 'z/hand4_z_bot_seg_2_cropped.jpeg', 'z/hand5_z_bot_seg_1_cropped.jpeg', 'z/hand5_z_bot_seg_3_cropped.jpeg', 'z/hand5_z_dif_seg_5_cropped.jpeg', 'z/hand2_z_right_seg_5_cropped.jpeg', 'z/hand5_z_bot_seg_5_cropped.jpeg', 'z/hand5_z_dif_seg_3_cropped.jpeg', 'z/hand2_z_top_seg_1_cropped.jpeg', 'z/hand4_z_bot_seg_1_cropped.jpeg', 'z/hand3_z_dif_seg_1_cropped.jpeg', 'z/hand2_z_top_seg_5_cropped.jpeg', 'z/hand2_z_right_seg_2_cropped.jpeg', 'z/hand5_z_dif_seg_1_cropped.jpeg', 'z/hand2_z_right_seg_3_cropped.jpeg', 'w/hand5_w_dif_seg_5_cropped.jpeg', 'w/hand2_w_left_seg_3_cropped.jpeg', 'w/hand4_w_bot_seg_4_cropped.jpeg', 'w/hand1_w_dif_seg_1_cropped.jpeg', 'w/hand5_w_dif_seg_3_cropped.jpeg', 'w/hand2_w_top_seg_5_cropped.jpeg', 'w/hand5_w_bot_seg_3_cropped.jpeg', 'w/hand1_w_top_seg_4_cropped.jpeg', 'w/hand2_w_right_seg_2_cropped.jpeg', 'w/hand2_w_right_seg_5_cropped.jpeg', 'w/hand2_w_dif_seg_1_cropped.jpeg', 'w/hand4_w_bot_seg_2_cropped.jpeg', 'w/hand3_w_dif_seg_3_cropped.jpeg', 'w/hand1_w_top_seg_5_cropped.jpeg', 'w/hand1_w_right_seg_5_cropped.jpeg', 'w/hand2_w_dif_seg_4_cropped.jpeg', 'w/hand4_w_bot_seg_1_cropped.jpeg', 'w/hand2_w_top_seg_3_cropped.jpeg', 'w/hand1_w_dif_seg_3_cropped.jpeg', 'w/hand1_w_left_seg_4_cropped.jpeg', 'w/hand1_w_bot_seg_3_cropped.jpeg', 'w/hand2_w_right_seg_3_cropped.jpeg', 'w/hand1_w_left_seg_5_cropped.jpeg', 'w/hand1_w_dif_seg_5_cropped.jpeg', 'w/hand5_w_dif_seg_2_cropped.jpeg', 'w/hand2_w_top_seg_4_cropped.jpeg', 'w/hand2_w_left_seg_5_cropped.jpeg', 'w/hand2_w_dif_seg_3_cropped.jpeg', 'w/hand1_w_bot_seg_1_cropped.jpeg', 'w/hand2_w_right_seg_4_cropped.jpeg', 'w/hand5_w_bot_seg_5_cropped.jpeg', 'w/hand2_w_bot_seg_2_cropped.jpeg', 'w/hand3_w_dif_seg_5_cropped.jpeg', 'w/hand1_w_dif_seg_2_cropped.jpeg', 'w/hand2_w_right_seg_1_cropped.jpeg', 'w/hand5_w_bot_seg_1_cropped.jpeg', 'w/hand2_w_dif_seg_2_cropped.jpeg', 'w/hand1_w_right_seg_2_cropped.jpeg', 'w/hand2_w_bot_seg_5_cropped.jpeg', 'w/hand1_w_top_seg_1_cropped.jpeg', 'w/hand1_w_right_seg_3_cropped.jpeg', 'w/hand1_w_bot_seg_2_cropped.jpeg', 'w/hand3_w_dif_seg_1_cropped.jpeg', 'w/hand2_w_left_seg_2_cropped.jpeg', 'w/hand4_w_bot_seg_3_cropped.jpeg', 'w/hand5_w_dif_seg_1_cropped.jpeg', 'w/hand1_w_left_seg_2_cropped.jpeg', 'w/hand2_w_dif_seg_5_cropped.jpeg', 'w/hand2_w_bot_seg_1_cropped.jpeg', 'w/hand4_w_bot_seg_5_cropped.jpeg', 'w/hand2_w_left_seg_4_cropped.jpeg', 'w/hand2_w_top_seg_1_cropped.jpeg', 'w/hand5_w_dif_seg_4_cropped.jpeg', 'w/hand1_w_left_seg_3_cropped.jpeg', 'w/hand5_w_bot_seg_2_cropped.jpeg', 'w/hand5_w_bot_seg_4_cropped.jpeg', 'w/hand1_w_top_seg_2_cropped.jpeg', 'w/hand1_w_dif_seg_4_cropped.jpeg', 'w/hand1_w_right_seg_1_cropped.jpeg', 'w/hand2_w_bot_seg_3_cropped.jpeg', 'w/hand1_w_left_seg_1_cropped.jpeg', 'w/hand3_w_dif_seg_4_cropped.jpeg', 'w/hand1_w_bot_seg_5_cropped.jpeg', 'w/hand1_w_bot_seg_4_cropped.jpeg', 'w/hand1_w_top_seg_3_cropped.jpeg', 'w/hand3_w_dif_seg_2_cropped.jpeg', 'w/hand2_w_left_seg_1_cropped.jpeg', 'w/hand1_w_right_seg_4_cropped.jpeg', 'w/hand2_w_top_seg_2_cropped.jpeg', 'w/hand2_w_bot_seg_4_cropped.jpeg']\n",
            "['2', '2', '2', '2', '2', '2', '2', '2', '2', '2', '2', '2', '2', '2', '2', '2', '2', '2', '2', '2', '2', '2', '2', '2', '2', '2', '2', '2', '2', '2', '2', '2', '2', '2', '2', '2', '2', '2', '2', '2', '2', '2', '2', '2', '2', '2', '2', '2', '2', '2', '2', '2', '2', '2', '2', '2', '2', '2', '2', '2', '2', '2', '2', '2', '2', '2', '2', '2', '2', '2', '0', '0', '0', '0', '0', '0', '0', '0', '0', '0', '0', '0', '0', '0', '0', '0', '0', '0', '0', '0', '0', '0', '0', '0', '0', '0', '0', '0', '0', '0', '0', '0', '0', '0', '0', '0', '0', '0', '0', '0', '0', '0', '0', '0', '0', '0', '0', '0', '0', '0', '0', '0', '0', '0', '0', '0', '0', '0', '0', '0', '0', '0', '0', '0', '0', '0', '0', '0', '0', '0', '5', '5', '5', '5', '5', '5', '5', '5', '5', '5', '5', '5', '5', '5', '5', '5', '5', '5', '5', '5', '5', '5', '5', '5', '5', '5', '5', '5', '5', '5', '5', '5', '5', '5', '5', '5', '5', '5', '5', '5', '5', '5', '5', '5', '5', '5', '5', '5', '5', '5', '5', '5', '5', '5', '5', '5', '5', '5', '5', '5', '5', '5', '5', '5', '5', '5', '5', '5', '5', '5', '4', '4', '4', '4', '4', '4', '4', '4', '4', '4', '4', '4', '4', '4', '4', '4', '4', '4', '4', '4', '4', '4', '4', '4', '4', '4', '4', '4', '4', '4', '4', '4', '4', '4', '4', '4', '4', '4', '4', '4', '4', '4', '4', '4', '4', '4', '4', '4', '4', '4', '4', '4', '4', '4', '4', '4', '4', '4', '4', '4', '4', '4', '4', '4', '4', '4', '4', '4', '4', '4', '7', '7', '7', '7', '7', '7', '7', '7', '7', '7', '7', '7', '7', '7', '7', '7', '7', '7', '7', '7', '7', '7', '7', '7', '7', '7', '7', '7', '7', '7', '7', '7', '7', '7', '7', '7', '7', '7', '7', '7', '7', '7', '7', '7', '7', '7', '7', '7', '7', '7', '7', '7', '7', '7', '7', '7', '7', '7', '7', '7', '7', '7', '7', '7', '7', '7', '7', '7', '7', '7', '6', '6', '6', '6', '6', '6', '6', '6', '6', '6', '6', '6', '6', '6', '6', '6', '6', '6', '6', '6', '6', '6', '6', '6', '6', '6', '6', '6', '6', '6', '6', '6', '6', '6', '6', '6', '6', '6', '6', '6', '6', '6', '6', '6', '6', '6', '6', '6', '6', '6', '6', '6', '6', '6', '6', '6', '6', '6', '6', '6', '6', '6', '6', '6', '6', '6', '6', '6', '6', '6', '9', '9', '9', '9', '9', '9', '9', '9', '9', '9', '9', '9', '9', '9', '9', '9', '9', '9', '9', '9', '9', '9', '9', '9', '9', '9', '9', '9', '9', '9', '9', '9', '9', '9', '9', '9', '9', '9', '9', '9', '9', '9', '9', '9', '9', '9', '9', '9', '9', '9', '9', '9', '9', '9', '9', '9', '9', '9', '9', '9', '9', '9', '9', '9', '9', '9', '9', '9', '9', '9', '8', '8', '8', '8', '8', '8', '8', '8', '8', '8', '8', '8', '8', '8', '8', '8', '8', '8', '8', '8', '8', '8', '8', '8', '8', '8', '8', '8', '8', '8', '8', '8', '8', '8', '8', '8', '8', '8', '8', '8', '8', '8', '8', '8', '8', '8', '8', '8', '8', '8', '8', '8', '8', '8', '8', '8', '8', '8', '8', '8', '8', '8', '8', '8', '8', '8', '8', '8', '8', '8', '3', '3', '3', '3', '3', '3', '3', '3', '3', '3', '3', '3', '3', '3', '3', '3', '3', '3', '3', '3', '3', '3', '3', '3', '3', '3', '3', '3', '3', '3', '3', '3', '3', '3', '3', '3', '3', '3', '3', '3', '3', '3', '3', '3', '3', '3', '3', '3', '3', '3', '3', '3', '3', '3', '3', '3', '3', '3', '3', '3', '3', '3', '3', '3', '3', '3', '3', '3', '3', '3', '1', '1', '1', '1', '1', '1', '1', '1', '1', '1', '1', '1', '1', '1', '1', '1', '1', '1', '1', '1', '1', '1', '1', '1', '1', '1', '1', '1', '1', '1', '1', '1', '1', '1', '1', '1', '1', '1', '1', '1', '1', '1', '1', '1', '1', '1', '1', '1', '1', '1', '1', '1', '1', '1', '1', '1', '1', '1', '1', '1', '1', '1', '1', '1', '1', '1', '1', '1', '1', '1', 'b', 'b', 'b', 'b', 'b', 'b', 'b', 'b', 'b', 'b', 'b', 'b', 'b', 'b', 'b', 'b', 'b', 'b', 'b', 'b', 'b', 'b', 'b', 'b', 'b', 'b', 'b', 'b', 'b', 'b', 'b', 'b', 'b', 'b', 'b', 'b', 'b', 'b', 'b', 'b', 'b', 'b', 'b', 'b', 'b', 'b', 'b', 'b', 'b', 'b', 'b', 'b', 'b', 'b', 'b', 'b', 'b', 'b', 'b', 'b', 'b', 'b', 'b', 'b', 'b', 'b', 'b', 'b', 'b', 'b', 'd', 'd', 'd', 'd', 'd', 'd', 'd', 'd', 'd', 'd', 'd', 'd', 'd', 'd', 'd', 'd', 'd', 'd', 'd', 'd', 'd', 'd', 'd', 'd', 'd', 'd', 'd', 'd', 'd', 'd', 'd', 'd', 'd', 'd', 'd', 'd', 'd', 'd', 'd', 'd', 'd', 'd', 'd', 'd', 'd', 'd', 'd', 'd', 'd', 'd', 'd', 'd', 'd', 'd', 'd', 'd', 'd', 'd', 'd', 'd', 'd', 'd', 'd', 'd', 'd', 'd', 'd', 'd', 'd', 'd', 'f', 'f', 'f', 'f', 'f', 'f', 'f', 'f', 'f', 'f', 'f', 'f', 'f', 'f', 'f', 'f', 'f', 'f', 'f', 'f', 'f', 'f', 'f', 'f', 'f', 'f', 'f', 'f', 'f', 'f', 'f', 'f', 'f', 'f', 'f', 'f', 'f', 'f', 'f', 'f', 'f', 'f', 'f', 'f', 'f', 'f', 'f', 'f', 'f', 'f', 'f', 'f', 'f', 'f', 'f', 'f', 'f', 'f', 'f', 'f', 'f', 'f', 'f', 'f', 'f', 'f', 'f', 'f', 'f', 'f', 'j', 'j', 'j', 'j', 'j', 'j', 'j', 'j', 'j', 'j', 'j', 'j', 'j', 'j', 'j', 'j', 'j', 'j', 'j', 'j', 'j', 'j', 'j', 'j', 'j', 'j', 'j', 'j', 'j', 'j', 'j', 'j', 'j', 'j', 'j', 'j', 'j', 'j', 'j', 'j', 'j', 'j', 'j', 'j', 'j', 'j', 'j', 'j', 'j', 'j', 'j', 'j', 'j', 'j', 'j', 'j', 'j', 'j', 'j', 'j', 'j', 'j', 'j', 'j', 'j', 'j', 'j', 'j', 'j', 'j', 'i', 'i', 'i', 'i', 'i', 'i', 'i', 'i', 'i', 'i', 'i', 'i', 'i', 'i', 'i', 'i', 'i', 'i', 'i', 'i', 'i', 'i', 'i', 'i', 'i', 'i', 'i', 'i', 'i', 'i', 'i', 'i', 'i', 'i', 'i', 'i', 'i', 'i', 'i', 'i', 'i', 'i', 'i', 'i', 'i', 'i', 'i', 'i', 'i', 'i', 'i', 'i', 'i', 'i', 'i', 'i', 'i', 'i', 'i', 'i', 'i', 'i', 'i', 'i', 'i', 'i', 'i', 'i', 'i', 'i', 'h', 'h', 'h', 'h', 'h', 'h', 'h', 'h', 'h', 'h', 'h', 'h', 'h', 'h', 'h', 'h', 'h', 'h', 'h', 'h', 'h', 'h', 'h', 'h', 'h', 'h', 'h', 'h', 'h', 'h', 'h', 'h', 'h', 'h', 'h', 'h', 'h', 'h', 'h', 'h', 'h', 'h', 'h', 'h', 'h', 'h', 'h', 'h', 'h', 'h', 'h', 'h', 'h', 'h', 'h', 'h', 'h', 'h', 'h', 'h', 'h', 'h', 'h', 'h', 'h', 'h', 'h', 'h', 'h', 'h', 'a', 'a', 'a', 'a', 'a', 'a', 'a', 'a', 'a', 'a', 'a', 'a', 'a', 'a', 'a', 'a', 'a', 'a', 'a', 'a', 'a', 'a', 'a', 'a', 'a', 'a', 'a', 'a', 'a', 'a', 'a', 'a', 'a', 'a', 'a', 'a', 'a', 'a', 'a', 'a', 'a', 'a', 'a', 'a', 'a', 'a', 'a', 'a', 'a', 'a', 'a', 'a', 'a', 'a', 'a', 'a', 'a', 'a', 'a', 'a', 'a', 'a', 'a', 'a', 'a', 'a', 'a', 'a', 'a', 'a', 'e', 'e', 'e', 'e', 'e', 'e', 'e', 'e', 'e', 'e', 'e', 'e', 'e', 'e', 'e', 'e', 'e', 'e', 'e', 'e', 'e', 'e', 'e', 'e', 'e', 'e', 'e', 'e', 'e', 'e', 'e', 'e', 'e', 'e', 'e', 'e', 'e', 'e', 'e', 'e', 'e', 'e', 'e', 'e', 'e', 'e', 'e', 'e', 'e', 'e', 'e', 'e', 'e', 'e', 'e', 'e', 'e', 'e', 'e', 'e', 'e', 'e', 'e', 'e', 'e', 'e', 'e', 'e', 'e', 'e', 'g', 'g', 'g', 'g', 'g', 'g', 'g', 'g', 'g', 'g', 'g', 'g', 'g', 'g', 'g', 'g', 'g', 'g', 'g', 'g', 'g', 'g', 'g', 'g', 'g', 'g', 'g', 'g', 'g', 'g', 'g', 'g', 'g', 'g', 'g', 'g', 'g', 'g', 'g', 'g', 'g', 'g', 'g', 'g', 'g', 'g', 'g', 'g', 'g', 'g', 'g', 'g', 'g', 'g', 'g', 'g', 'g', 'g', 'g', 'g', 'g', 'g', 'g', 'g', 'g', 'g', 'g', 'g', 'g', 'g', 'c', 'c', 'c', 'c', 'c', 'c', 'c', 'c', 'c', 'c', 'c', 'c', 'c', 'c', 'c', 'c', 'c', 'c', 'c', 'c', 'c', 'c', 'c', 'c', 'c', 'c', 'c', 'c', 'c', 'c', 'c', 'c', 'c', 'c', 'c', 'c', 'c', 'c', 'c', 'c', 'c', 'c', 'c', 'c', 'c', 'c', 'c', 'c', 'c', 'c', 'c', 'c', 'c', 'c', 'c', 'c', 'c', 'c', 'c', 'c', 'c', 'c', 'c', 'c', 'c', 'c', 'c', 'c', 'c', 'c', 'm', 'm', 'm', 'm', 'm', 'm', 'm', 'm', 'm', 'm', 'm', 'm', 'm', 'm', 'm', 'm', 'm', 'm', 'm', 'm', 'm', 'm', 'm', 'm', 'm', 'm', 'm', 'm', 'm', 'm', 'm', 'm', 'm', 'm', 'm', 'm', 'm', 'm', 'm', 'm', 'm', 'm', 'm', 'm', 'm', 'm', 'm', 'm', 'm', 'm', 'm', 'm', 'm', 'm', 'm', 'm', 'm', 'm', 'm', 'm', 'm', 'm', 'm', 'm', 'm', 'm', 'm', 'm', 'm', 'm', 'r', 'r', 'r', 'r', 'r', 'r', 'r', 'r', 'r', 'r', 'r', 'r', 'r', 'r', 'r', 'r', 'r', 'r', 'r', 'r', 'r', 'r', 'r', 'r', 'r', 'r', 'r', 'r', 'r', 'r', 'r', 'r', 'r', 'r', 'r', 'r', 'r', 'r', 'r', 'r', 'r', 'r', 'r', 'r', 'r', 'r', 'r', 'r', 'r', 'r', 'r', 'r', 'r', 'r', 'r', 'r', 'r', 'r', 'r', 'r', 'r', 'r', 'r', 'r', 'r', 'r', 'r', 'r', 'r', 'r', 'p', 'p', 'p', 'p', 'p', 'p', 'p', 'p', 'p', 'p', 'p', 'p', 'p', 'p', 'p', 'p', 'p', 'p', 'p', 'p', 'p', 'p', 'p', 'p', 'p', 'p', 'p', 'p', 'p', 'p', 'p', 'p', 'p', 'p', 'p', 'p', 'p', 'p', 'p', 'p', 'p', 'p', 'p', 'p', 'p', 'p', 'p', 'p', 'p', 'p', 'p', 'p', 'p', 'p', 'p', 'p', 'p', 'p', 'p', 'p', 'p', 'p', 'p', 'p', 'p', 'p', 'p', 'p', 'p', 'p', 'o', 'o', 'o', 'o', 'o', 'o', 'o', 'o', 'o', 'o', 'o', 'o', 'o', 'o', 'o', 'o', 'o', 'o', 'o', 'o', 'o', 'o', 'o', 'o', 'o', 'o', 'o', 'o', 'o', 'o', 'o', 'o', 'o', 'o', 'o', 'o', 'o', 'o', 'o', 'o', 'o', 'o', 'o', 'o', 'o', 'o', 'o', 'o', 'o', 'o', 'o', 'o', 'o', 'o', 'o', 'o', 'o', 'o', 'o', 'o', 'o', 'o', 'o', 'o', 'o', 'o', 'o', 'o', 'o', 'o', 'n', 'n', 'n', 'n', 'n', 'n', 'n', 'n', 'n', 'n', 'n', 'n', 'n', 'n', 'n', 'n', 'n', 'n', 'n', 'n', 'n', 'n', 'n', 'n', 'n', 'n', 'n', 'n', 'n', 'n', 'n', 'n', 'n', 'n', 'n', 'n', 'n', 'n', 'n', 'n', 'n', 'n', 'n', 'n', 'n', 'n', 'n', 'n', 'n', 'n', 'n', 'n', 'n', 'n', 'n', 'n', 'n', 'n', 'n', 'n', 'n', 'n', 'n', 'n', 'n', 'n', 'n', 'n', 'n', 'n', 'l', 'l', 'l', 'l', 'l', 'l', 'l', 'l', 'l', 'l', 'l', 'l', 'l', 'l', 'l', 'l', 'l', 'l', 'l', 'l', 'l', 'l', 'l', 'l', 'l', 'l', 'l', 'l', 'l', 'l', 'l', 'l', 'l', 'l', 'l', 'l', 'l', 'l', 'l', 'l', 'l', 'l', 'l', 'l', 'l', 'l', 'l', 'l', 'l', 'l', 'l', 'l', 'l', 'l', 'l', 'l', 'l', 'l', 'l', 'l', 'l', 'l', 'l', 'l', 'l', 'l', 'l', 'l', 'l', 'l', 't', 't', 't', 't', 't', 't', 't', 't', 't', 't', 't', 't', 't', 't', 't', 't', 't', 't', 't', 't', 't', 't', 't', 't', 't', 't', 't', 't', 't', 't', 't', 't', 't', 't', 't', 't', 't', 't', 't', 't', 't', 't', 't', 't', 't', 't', 't', 't', 't', 't', 't', 't', 't', 't', 't', 't', 't', 't', 't', 't', 't', 't', 't', 't', 't', 'q', 'q', 'q', 'q', 'q', 'q', 'q', 'q', 'q', 'q', 'q', 'q', 'q', 'q', 'q', 'q', 'q', 'q', 'q', 'q', 'q', 'q', 'q', 'q', 'q', 'q', 'q', 'q', 'q', 'q', 'q', 'q', 'q', 'q', 'q', 'q', 'q', 'q', 'q', 'q', 'q', 'q', 'q', 'q', 'q', 'q', 'q', 'q', 'q', 'q', 'q', 'q', 'q', 'q', 'q', 'q', 'q', 'q', 'q', 'q', 'q', 'q', 'q', 'q', 'q', 'q', 'q', 'q', 'q', 'q', 'k', 'k', 'k', 'k', 'k', 'k', 'k', 'k', 'k', 'k', 'k', 'k', 'k', 'k', 'k', 'k', 'k', 'k', 'k', 'k', 'k', 'k', 'k', 'k', 'k', 'k', 'k', 'k', 'k', 'k', 'k', 'k', 'k', 'k', 'k', 'k', 'k', 'k', 'k', 'k', 'k', 'k', 'k', 'k', 'k', 'k', 'k', 'k', 'k', 'k', 'k', 'k', 'k', 'k', 'k', 'k', 'k', 'k', 'k', 'k', 'k', 'k', 'k', 'k', 'k', 'k', 'k', 'k', 'k', 'k', 's', 's', 's', 's', 's', 's', 's', 's', 's', 's', 's', 's', 's', 's', 's', 's', 's', 's', 's', 's', 's', 's', 's', 's', 's', 's', 's', 's', 's', 's', 's', 's', 's', 's', 's', 's', 's', 's', 's', 's', 's', 's', 's', 's', 's', 's', 's', 's', 's', 's', 's', 's', 's', 's', 's', 's', 's', 's', 's', 's', 's', 's', 's', 's', 's', 's', 's', 's', 's', 's', 'u', 'u', 'u', 'u', 'u', 'u', 'u', 'u', 'u', 'u', 'u', 'u', 'u', 'u', 'u', 'u', 'u', 'u', 'u', 'u', 'u', 'u', 'u', 'u', 'u', 'u', 'u', 'u', 'u', 'u', 'u', 'u', 'u', 'u', 'u', 'u', 'u', 'u', 'u', 'u', 'u', 'u', 'u', 'u', 'u', 'u', 'u', 'u', 'u', 'u', 'u', 'u', 'u', 'u', 'u', 'u', 'u', 'u', 'u', 'u', 'u', 'u', 'u', 'u', 'u', 'u', 'u', 'u', 'u', 'u', 'y', 'y', 'y', 'y', 'y', 'y', 'y', 'y', 'y', 'y', 'y', 'y', 'y', 'y', 'y', 'y', 'y', 'y', 'y', 'y', 'y', 'y', 'y', 'y', 'y', 'y', 'y', 'y', 'y', 'y', 'y', 'y', 'y', 'y', 'y', 'y', 'y', 'y', 'y', 'y', 'y', 'y', 'y', 'y', 'y', 'y', 'y', 'y', 'y', 'y', 'y', 'y', 'y', 'y', 'y', 'y', 'y', 'y', 'y', 'y', 'y', 'y', 'y', 'y', 'y', 'y', 'y', 'y', 'y', 'y', 'x', 'x', 'x', 'x', 'x', 'x', 'x', 'x', 'x', 'x', 'x', 'x', 'x', 'x', 'x', 'x', 'x', 'x', 'x', 'x', 'x', 'x', 'x', 'x', 'x', 'x', 'x', 'x', 'x', 'x', 'x', 'x', 'x', 'x', 'x', 'x', 'x', 'x', 'x', 'x', 'x', 'x', 'x', 'x', 'x', 'x', 'x', 'x', 'x', 'x', 'x', 'x', 'x', 'x', 'x', 'x', 'x', 'x', 'x', 'x', 'x', 'x', 'x', 'x', 'x', 'x', 'x', 'x', 'x', 'x', 'v', 'v', 'v', 'v', 'v', 'v', 'v', 'v', 'v', 'v', 'v', 'v', 'v', 'v', 'v', 'v', 'v', 'v', 'v', 'v', 'v', 'v', 'v', 'v', 'v', 'v', 'v', 'v', 'v', 'v', 'v', 'v', 'v', 'v', 'v', 'v', 'v', 'v', 'v', 'v', 'v', 'v', 'v', 'v', 'v', 'v', 'v', 'v', 'v', 'v', 'v', 'v', 'v', 'v', 'v', 'v', 'v', 'v', 'v', 'v', 'v', 'v', 'v', 'v', 'v', 'v', 'v', 'v', 'v', 'v', 'z', 'z', 'z', 'z', 'z', 'z', 'z', 'z', 'z', 'z', 'z', 'z', 'z', 'z', 'z', 'z', 'z', 'z', 'z', 'z', 'z', 'z', 'z', 'z', 'z', 'z', 'z', 'z', 'z', 'z', 'z', 'z', 'z', 'z', 'z', 'z', 'z', 'z', 'z', 'z', 'z', 'z', 'z', 'z', 'z', 'z', 'z', 'z', 'z', 'z', 'z', 'z', 'z', 'z', 'z', 'z', 'z', 'z', 'z', 'z', 'z', 'z', 'z', 'z', 'z', 'z', 'z', 'z', 'z', 'z', 'w', 'w', 'w', 'w', 'w', 'w', 'w', 'w', 'w', 'w', 'w', 'w', 'w', 'w', 'w', 'w', 'w', 'w', 'w', 'w', 'w', 'w', 'w', 'w', 'w', 'w', 'w', 'w', 'w', 'w', 'w', 'w', 'w', 'w', 'w', 'w', 'w', 'w', 'w', 'w', 'w', 'w', 'w', 'w', 'w', 'w', 'w', 'w', 'w', 'w', 'w', 'w', 'w', 'w', 'w', 'w', 'w', 'w', 'w', 'w', 'w', 'w', 'w', 'w', 'w', 'w', 'w', 'w', 'w', 'w']\n",
            "time: 5.95 s (started: 2022-06-27 05:21:39 +00:00)\n"
          ]
        }
      ]
    },
    {
      "cell_type": "code",
      "source": [
        "data = {\"filename\" : filename, \n",
        "        \"label\": label \n",
        "        }\n",
        "df = pd.DataFrame(data=data)\n",
        "\n",
        "df_shuffled = df.sample(frac=1)\n",
        "dataset = df_shuffled\n",
        "dataset"
      ],
      "metadata": {
        "colab": {
          "base_uri": "https://localhost:8080/",
          "height": 441
        },
        "id": "fHTo5yzPL_Xt",
        "outputId": "7f97e0b3-251a-4385-a9db-a5be4b6de77b"
      },
      "execution_count": 6,
      "outputs": [
        {
          "output_type": "execute_result",
          "data": {
            "text/plain": [
              "                                filename label\n",
              "98      0/hand2_0_bot_seg_3_cropped.jpeg     0\n",
              "1260    g/hand1_g_bot_seg_1_cropped.jpeg     g\n",
              "1160    a/hand2_a_top_seg_5_cropped.jpeg     a\n",
              "989    i/hand2_i_left_seg_1_cropped.jpeg     i\n",
              "2405    z/hand1_z_dif_seg_1_cropped.jpeg     z\n",
              "...                                  ...   ...\n",
              "2261    x/hand3_x_dif_seg_4_cropped.jpeg     x\n",
              "386     6/hand5_6_bot_seg_4_cropped.jpeg     6\n",
              "409     6/hand1_6_dif_seg_4_cropped.jpeg     6\n",
              "991   i/hand1_i_right_seg_1_cropped.jpeg     i\n",
              "1502    r/hand1_r_top_seg_1_cropped.jpeg     r\n",
              "\n",
              "[2515 rows x 2 columns]"
            ],
            "text/html": [
              "\n",
              "  <div id=\"df-e79cfd87-549a-4510-ac32-425ac786881e\">\n",
              "    <div class=\"colab-df-container\">\n",
              "      <div>\n",
              "<style scoped>\n",
              "    .dataframe tbody tr th:only-of-type {\n",
              "        vertical-align: middle;\n",
              "    }\n",
              "\n",
              "    .dataframe tbody tr th {\n",
              "        vertical-align: top;\n",
              "    }\n",
              "\n",
              "    .dataframe thead th {\n",
              "        text-align: right;\n",
              "    }\n",
              "</style>\n",
              "<table border=\"1\" class=\"dataframe\">\n",
              "  <thead>\n",
              "    <tr style=\"text-align: right;\">\n",
              "      <th></th>\n",
              "      <th>filename</th>\n",
              "      <th>label</th>\n",
              "    </tr>\n",
              "  </thead>\n",
              "  <tbody>\n",
              "    <tr>\n",
              "      <th>98</th>\n",
              "      <td>0/hand2_0_bot_seg_3_cropped.jpeg</td>\n",
              "      <td>0</td>\n",
              "    </tr>\n",
              "    <tr>\n",
              "      <th>1260</th>\n",
              "      <td>g/hand1_g_bot_seg_1_cropped.jpeg</td>\n",
              "      <td>g</td>\n",
              "    </tr>\n",
              "    <tr>\n",
              "      <th>1160</th>\n",
              "      <td>a/hand2_a_top_seg_5_cropped.jpeg</td>\n",
              "      <td>a</td>\n",
              "    </tr>\n",
              "    <tr>\n",
              "      <th>989</th>\n",
              "      <td>i/hand2_i_left_seg_1_cropped.jpeg</td>\n",
              "      <td>i</td>\n",
              "    </tr>\n",
              "    <tr>\n",
              "      <th>2405</th>\n",
              "      <td>z/hand1_z_dif_seg_1_cropped.jpeg</td>\n",
              "      <td>z</td>\n",
              "    </tr>\n",
              "    <tr>\n",
              "      <th>...</th>\n",
              "      <td>...</td>\n",
              "      <td>...</td>\n",
              "    </tr>\n",
              "    <tr>\n",
              "      <th>2261</th>\n",
              "      <td>x/hand3_x_dif_seg_4_cropped.jpeg</td>\n",
              "      <td>x</td>\n",
              "    </tr>\n",
              "    <tr>\n",
              "      <th>386</th>\n",
              "      <td>6/hand5_6_bot_seg_4_cropped.jpeg</td>\n",
              "      <td>6</td>\n",
              "    </tr>\n",
              "    <tr>\n",
              "      <th>409</th>\n",
              "      <td>6/hand1_6_dif_seg_4_cropped.jpeg</td>\n",
              "      <td>6</td>\n",
              "    </tr>\n",
              "    <tr>\n",
              "      <th>991</th>\n",
              "      <td>i/hand1_i_right_seg_1_cropped.jpeg</td>\n",
              "      <td>i</td>\n",
              "    </tr>\n",
              "    <tr>\n",
              "      <th>1502</th>\n",
              "      <td>r/hand1_r_top_seg_1_cropped.jpeg</td>\n",
              "      <td>r</td>\n",
              "    </tr>\n",
              "  </tbody>\n",
              "</table>\n",
              "<p>2515 rows × 2 columns</p>\n",
              "</div>\n",
              "      <button class=\"colab-df-convert\" onclick=\"convertToInteractive('df-e79cfd87-549a-4510-ac32-425ac786881e')\"\n",
              "              title=\"Convert this dataframe to an interactive table.\"\n",
              "              style=\"display:none;\">\n",
              "        \n",
              "  <svg xmlns=\"http://www.w3.org/2000/svg\" height=\"24px\"viewBox=\"0 0 24 24\"\n",
              "       width=\"24px\">\n",
              "    <path d=\"M0 0h24v24H0V0z\" fill=\"none\"/>\n",
              "    <path d=\"M18.56 5.44l.94 2.06.94-2.06 2.06-.94-2.06-.94-.94-2.06-.94 2.06-2.06.94zm-11 1L8.5 8.5l.94-2.06 2.06-.94-2.06-.94L8.5 2.5l-.94 2.06-2.06.94zm10 10l.94 2.06.94-2.06 2.06-.94-2.06-.94-.94-2.06-.94 2.06-2.06.94z\"/><path d=\"M17.41 7.96l-1.37-1.37c-.4-.4-.92-.59-1.43-.59-.52 0-1.04.2-1.43.59L10.3 9.45l-7.72 7.72c-.78.78-.78 2.05 0 2.83L4 21.41c.39.39.9.59 1.41.59.51 0 1.02-.2 1.41-.59l7.78-7.78 2.81-2.81c.8-.78.8-2.07 0-2.86zM5.41 20L4 18.59l7.72-7.72 1.47 1.35L5.41 20z\"/>\n",
              "  </svg>\n",
              "      </button>\n",
              "      \n",
              "  <style>\n",
              "    .colab-df-container {\n",
              "      display:flex;\n",
              "      flex-wrap:wrap;\n",
              "      gap: 12px;\n",
              "    }\n",
              "\n",
              "    .colab-df-convert {\n",
              "      background-color: #E8F0FE;\n",
              "      border: none;\n",
              "      border-radius: 50%;\n",
              "      cursor: pointer;\n",
              "      display: none;\n",
              "      fill: #1967D2;\n",
              "      height: 32px;\n",
              "      padding: 0 0 0 0;\n",
              "      width: 32px;\n",
              "    }\n",
              "\n",
              "    .colab-df-convert:hover {\n",
              "      background-color: #E2EBFA;\n",
              "      box-shadow: 0px 1px 2px rgba(60, 64, 67, 0.3), 0px 1px 3px 1px rgba(60, 64, 67, 0.15);\n",
              "      fill: #174EA6;\n",
              "    }\n",
              "\n",
              "    [theme=dark] .colab-df-convert {\n",
              "      background-color: #3B4455;\n",
              "      fill: #D2E3FC;\n",
              "    }\n",
              "\n",
              "    [theme=dark] .colab-df-convert:hover {\n",
              "      background-color: #434B5C;\n",
              "      box-shadow: 0px 1px 3px 1px rgba(0, 0, 0, 0.15);\n",
              "      filter: drop-shadow(0px 1px 2px rgba(0, 0, 0, 0.3));\n",
              "      fill: #FFFFFF;\n",
              "    }\n",
              "  </style>\n",
              "\n",
              "      <script>\n",
              "        const buttonEl =\n",
              "          document.querySelector('#df-e79cfd87-549a-4510-ac32-425ac786881e button.colab-df-convert');\n",
              "        buttonEl.style.display =\n",
              "          google.colab.kernel.accessAllowed ? 'block' : 'none';\n",
              "\n",
              "        async function convertToInteractive(key) {\n",
              "          const element = document.querySelector('#df-e79cfd87-549a-4510-ac32-425ac786881e');\n",
              "          const dataTable =\n",
              "            await google.colab.kernel.invokeFunction('convertToInteractive',\n",
              "                                                     [key], {});\n",
              "          if (!dataTable) return;\n",
              "\n",
              "          const docLinkHtml = 'Like what you see? Visit the ' +\n",
              "            '<a target=\"_blank\" href=https://colab.research.google.com/notebooks/data_table.ipynb>data table notebook</a>'\n",
              "            + ' to learn more about interactive tables.';\n",
              "          element.innerHTML = '';\n",
              "          dataTable['output_type'] = 'display_data';\n",
              "          await google.colab.output.renderOutput(dataTable, element);\n",
              "          const docLink = document.createElement('div');\n",
              "          docLink.innerHTML = docLinkHtml;\n",
              "          element.appendChild(docLink);\n",
              "        }\n",
              "      </script>\n",
              "    </div>\n",
              "  </div>\n",
              "  "
            ]
          },
          "metadata": {},
          "execution_count": 6
        },
        {
          "output_type": "stream",
          "name": "stdout",
          "text": [
            "time: 39.2 ms (started: 2022-06-27 05:21:45 +00:00)\n"
          ]
        }
      ]
    },
    {
      "cell_type": "markdown",
      "source": [
        "#Image Preprocessing"
      ],
      "metadata": {
        "id": "Eblhm1cbQ7cw"
      }
    },
    {
      "cell_type": "code",
      "source": [
        "# baca data dengan opencv (ditampilkan gambar)\n",
        "\n",
        "def load_images_files(train_data):\n",
        "  # definisikan 2 list kosong\n",
        "  images = []\n",
        "  Y = []\n",
        "\n",
        "  for obj in train_data.values:\n",
        "    # index 0 ([0]) adalah kolom filename, (tidak menggunakan label karena untuk cv2 baca lewat lokasi nya)\n",
        "    img = cv2.imread(obj[0])\n",
        "    # smoothing\n",
        "    img_pred = cv2.GaussianBlur(img, (5, 5), 0)\n",
        "    # sharpening\n",
        "    kernel = np.array([[-1,-1,-1], \n",
        "                       [-1,9,-1], \n",
        "                       [-1,-1,-1]])\n",
        "    img_pred = cv2.filter2D(img_pred, -1, kernel)\n",
        "    # resize\n",
        "    img_pred = cv2.resize(img, (128, 128), interpolation = cv2.INTER_AREA)\n",
        "    # ubah rentang pixel yang awalnya 0 - 255 menjadi 0 - 1\n",
        "    img_pred = img_pred / 255\n",
        "    # algoritma nearest neighbour bekerja pada 1 dimensi\n",
        "    # ada 3 perkalian karena gambar berwarna, punya 3 channel rgb\n",
        "    img_pred = img_pred.reshape(img_pred.shape[0] * img_pred.shape[1] * img_pred.shape[2])\n",
        "    \n",
        "    # masukkan ke list images\n",
        "    images.append(img_pred)\n",
        "    # tiap row yang ada di Y merepresentasikan label yang ada di images\n",
        "    Y.append(obj[1])\n",
        "    \n",
        "  X = np.array(images)\n",
        "  Y = np.array(Y)\n",
        "  \n",
        "  return X, Y"
      ],
      "metadata": {
        "id": "rSOnJA2PRBZe",
        "colab": {
          "base_uri": "https://localhost:8080/"
        },
        "outputId": "9d1f2f73-42ff-454e-8480-c9bb3bfc4699"
      },
      "execution_count": 7,
      "outputs": [
        {
          "output_type": "stream",
          "name": "stdout",
          "text": [
            "time: 29 ms (started: 2022-06-27 05:21:45 +00:00)\n"
          ]
        }
      ]
    },
    {
      "cell_type": "code",
      "source": [
        "# Split into training and testing data\n",
        "X, y = load_images_files(dataset)\n",
        "\n",
        "X_train, X_test, y_train, y_test = train_test_split(X, y, random_state = 21, test_size = 0.3) #test size = 30% untuk testing, 70% untuk training\n",
        "\n",
        "print(\"Data shape: \", X.shape)\n",
        "print(y.shape)\n",
        "print(\"X_train: \", X_train.shape) #70% dari data shape\n",
        "print(\"y_train: \", y_train.shape)\n",
        "print(\"X_test: \", X_test.shape) #30% dari data shape\n",
        "print(\"y_test: \", y_test.shape)"
      ],
      "metadata": {
        "colab": {
          "base_uri": "https://localhost:8080/"
        },
        "id": "Y4rzb6HIYx93",
        "outputId": "83efc933-8c5c-43f0-c4ae-6b7e220e365b"
      },
      "execution_count": 8,
      "outputs": [
        {
          "output_type": "stream",
          "name": "stdout",
          "text": [
            "Data shape:  (2515, 49152)\n",
            "(2515,)\n",
            "X_train:  (1760, 49152)\n",
            "y_train:  (1760,)\n",
            "X_test:  (755, 49152)\n",
            "y_test:  (755,)\n",
            "time: 6min 51s (started: 2022-06-27 05:21:45 +00:00)\n"
          ]
        }
      ]
    },
    {
      "cell_type": "markdown",
      "source": [
        "# Method"
      ],
      "metadata": {
        "id": "7OvaMqIkf9el"
      }
    },
    {
      "cell_type": "markdown",
      "source": [
        "## Gaussian Naive Bayes"
      ],
      "metadata": {
        "id": "4m7LKeAHgCkV"
      }
    },
    {
      "cell_type": "code",
      "source": [
        "# training the model on training set\n",
        "from sklearn.naive_bayes import GaussianNB\n",
        "gnb = GaussianNB()\n",
        "gnb.fit(X_train, y_train)\n",
        "\n",
        "# making predictions on the testing set\n",
        "y_pred = gnb.predict(X_test)\n",
        "\n",
        "# comparing actual response values (y_test) with predicted response values (y_pred)\n",
        "from sklearn import metrics\n",
        "GNBVal = metrics.accuracy_score(y_test, y_pred)*100\n",
        "print(\"Gaussian Naive Bayes model accuracy(in %):\", GNBVal)\n",
        "print(\"\")\n",
        "\n",
        "CM = confusion_matrix(y_pred, y_test)\n",
        "print(\"Confusion Matrix\")\n",
        "print(CM)\n",
        "print(\"\")"
      ],
      "metadata": {
        "colab": {
          "base_uri": "https://localhost:8080/"
        },
        "id": "BL5FO52kfw-u",
        "outputId": "8edf85e3-2136-4c5f-9e3d-a67a49f67e1e"
      },
      "execution_count": 9,
      "outputs": [
        {
          "output_type": "stream",
          "name": "stdout",
          "text": [
            "Gaussian Naive Bayes model accuracy(in %): 65.82781456953643\n",
            "\n",
            "Confusion Matrix\n",
            "[[10  0  0 ...  0  0  0]\n",
            " [ 0  9  0 ...  0  0  2]\n",
            " [ 0  0  8 ...  0  0  0]\n",
            " ...\n",
            " [ 0  1  0 ...  8  0  0]\n",
            " [ 0  0  0 ...  0 21  0]\n",
            " [ 0  0  0 ...  0  0 21]]\n",
            "\n",
            "time: 7.23 s (started: 2022-06-27 05:28:37 +00:00)\n"
          ]
        }
      ]
    },
    {
      "cell_type": "code",
      "source": [
        "FP = CM[0][1] \n",
        "FN = CM[1][0]\n",
        "TP = CM[1][1]\n",
        "TN = CM[0][0]\n",
        "# Overall accuracy\n",
        "ACC = (TP+TN)/(TP+FP+FN+TN)\n",
        "# Precision\n",
        "PR = (TP)/(TP+FP)\n",
        "# Recall\n",
        "RE = (TP)/(TP+FN)\n",
        "# F1 Score\n",
        "F1 = (PR*RE)/(PR+RE)\n",
        "\n",
        "print(\"Jumlah False Positive = \" + str(FP))\n",
        "print(\"Jumlah False Negative = \" + str(FN))\n",
        "print(\"Jumlah True Positive = \" + str(TP))\n",
        "print(\"Jumlah True Negative = \" + str(TN))\n",
        "print(\"\")\n",
        "print(\"Accuracy : \" + str(round(ACC,2)))\n",
        "print(\"Precision : \" + str(round(PR,2)))\n",
        "print(\"Recall : \" + str(round(RE,2)))\n",
        "print(\"F1 Score : \" + str(round(F1,2)))\n",
        "print(\"\")"
      ],
      "metadata": {
        "colab": {
          "base_uri": "https://localhost:8080/"
        },
        "id": "Lym6HVg7SoFs",
        "outputId": "0f437b97-23d6-4391-f362-7761f8b8f311"
      },
      "execution_count": 10,
      "outputs": [
        {
          "output_type": "stream",
          "name": "stdout",
          "text": [
            "Jumlah False Positive = 0\n",
            "Jumlah False Negative = 0\n",
            "Jumlah True Positive = 9\n",
            "Jumlah True Negative = 10\n",
            "\n",
            "Accuracy : 1.0\n",
            "Precision : 1.0\n",
            "Recall : 1.0\n",
            "F1 Score : 0.5\n",
            "\n",
            "time: 10.2 ms (started: 2022-06-27 05:28:44 +00:00)\n"
          ]
        }
      ]
    },
    {
      "cell_type": "markdown",
      "source": [
        "##Random Forest"
      ],
      "metadata": {
        "id": "kLQlDAnPoL8X"
      }
    },
    {
      "cell_type": "code",
      "source": [
        "from sklearn import ensemble\n",
        "from sklearn.metrics import accuracy_score\n",
        "\n",
        "rf = ensemble.RandomForestClassifier(n_estimators=500)\n",
        "\n",
        "# Train the model on training data\n",
        "rf.fit(X_train, y_train)\n",
        "# Use the forest's predict method on the test data\n",
        "y_pred = rf.predict(X_test)\n",
        "RFVal = accuracy_score(y_test, y_pred)*100\n",
        "print(\"Random Forest model accuracy(in %):\", RFVal)\n",
        "print(\"\")\n",
        "\n",
        "CM = confusion_matrix(y_pred, y_test)\n",
        "print(\"Confusion Matrix\")\n",
        "print(CM)\n",
        "print(\"\")"
      ],
      "metadata": {
        "colab": {
          "base_uri": "https://localhost:8080/"
        },
        "id": "3hSMse8xhUaS",
        "outputId": "aa357b52-b33a-49f5-b79b-732423e6de73"
      },
      "execution_count": 28,
      "outputs": [
        {
          "output_type": "stream",
          "name": "stdout",
          "text": [
            "Random Forest model accuracy(in %): 96.68874172185431\n",
            "\n",
            "Confusion Matrix\n",
            "[[27  0  0 ...  0  0  0]\n",
            " [ 0 26  0 ...  0  0  1]\n",
            " [ 0  0 19 ...  0  0  0]\n",
            " ...\n",
            " [ 0  0  0 ... 16  0  0]\n",
            " [ 0  0  0 ...  0 21  0]\n",
            " [ 0  0  0 ...  0  0 27]]\n",
            "\n",
            "time: 1min 21s (started: 2022-06-27 06:38:47 +00:00)\n"
          ]
        }
      ]
    },
    {
      "cell_type": "code",
      "source": [
        "FP = CM[0][1] \n",
        "FN = CM[1][0]\n",
        "TP = CM[1][1]\n",
        "TN = CM[0][0]\n",
        "# Overall accuracy\n",
        "ACC = (TP+TN)/(TP+FP+FN+TN)\n",
        "# Precision\n",
        "PR = (TP)/(TP+FP)\n",
        "# Recall\n",
        "RE = (TP)/(TP+FN)\n",
        "# F1 Score\n",
        "F1 = (PR*RE)/(PR+RE)\n",
        "\n",
        "print(\"Jumlah False Positive = \" + str(FP))\n",
        "print(\"Jumlah False Negative = \" + str(FN))\n",
        "print(\"Jumlah True Positive = \" + str(TP))\n",
        "print(\"Jumlah True Negative = \" + str(TN))\n",
        "print(\"\")\n",
        "print(\"Accuracy : \" + str(round(ACC,2)))\n",
        "print(\"Precision : \" + str(round(PR,2)))\n",
        "print(\"Recall : \" + str(round(RE,2)))\n",
        "print(\"F1 Score : \" + str(round(F1,2)))\n",
        "print(\"\")"
      ],
      "metadata": {
        "colab": {
          "base_uri": "https://localhost:8080/"
        },
        "id": "dTUTylW3Su3P",
        "outputId": "ba274d1b-54e2-4993-cf50-bd1b2d26e333"
      },
      "execution_count": 12,
      "outputs": [
        {
          "output_type": "stream",
          "name": "stdout",
          "text": [
            "Jumlah False Positive = 0\n",
            "Jumlah False Negative = 0\n",
            "Jumlah True Positive = 26\n",
            "Jumlah True Negative = 27\n",
            "\n",
            "Accuracy : 1.0\n",
            "Precision : 1.0\n",
            "Recall : 1.0\n",
            "F1 Score : 0.5\n",
            "\n",
            "time: 8.11 ms (started: 2022-06-27 05:29:50 +00:00)\n"
          ]
        }
      ]
    },
    {
      "cell_type": "markdown",
      "source": [
        "##Decision Tree"
      ],
      "metadata": {
        "id": "hc_gjRTHqMuY"
      }
    },
    {
      "cell_type": "code",
      "source": [
        "# Importing the required packages\n",
        "import numpy as np\n",
        "import pandas as pd\n",
        "from sklearn.metrics import confusion_matrix\n",
        "from sklearn.model_selection import train_test_split\n",
        "from sklearn.tree import DecisionTreeClassifier\n",
        "from sklearn.metrics import accuracy_score\n",
        "from sklearn.metrics import classification_report\n",
        "\n",
        "# Function to perform training with giniIndex.\n",
        "def train_using_gini(X_train, X_test, y_train):\n",
        "  \n",
        "    # Creating the classifier object\n",
        "    clf_gini = DecisionTreeClassifier(\n",
        "        criterion = \"gini\", random_state = 100, \n",
        "        max_depth = 5, min_samples_leaf = 5)\n",
        "  \n",
        "    # Performing training\n",
        "    clf_gini.fit(X_train, y_train)\n",
        "    return clf_gini\n",
        "      \n",
        "# Function to perform training with entropy.\n",
        "def tarin_using_entropy(X_train, X_test, y_train):\n",
        "  \n",
        "    # Decision tree with entropy\n",
        "    clf_entropy = DecisionTreeClassifier(\n",
        "        criterion = \"entropy\", random_state = 100,\n",
        "        max_depth = 5, min_samples_leaf = 5)\n",
        "  \n",
        "    # Performing training\n",
        "    clf_entropy.fit(X_train, y_train)\n",
        "    return clf_entropy\n",
        "  \n",
        "# Function to make predictions\n",
        "def DTprediction(X_test, clf_object):\n",
        "  \n",
        "    # Predicton on test with giniIndex\n",
        "    y_pred = clf_object.predict(X_test)\n",
        "    #print(\"Predicted values:\")\n",
        "    #print(y_pred)\n",
        "    return y_pred\n",
        "      \n",
        "# Building Phase\n",
        "clf_gini = train_using_gini(X_train, X_test, y_train)\n",
        "clf_entropy = tarin_using_entropy(X_train, X_test, y_train)\n",
        "  \n",
        "# Prediction using gini\n",
        "y_pred_gini = DTprediction(X_test, clf_gini)\n",
        "DTVal =accuracy_score(y_test,y_pred)*100\n",
        "print(\"Decision Tree model accuracy(in %):\",DTVal)\n",
        "print(\"\")\n",
        "\n",
        "CM = confusion_matrix(y_pred, y_test)\n",
        "print(\"Confusion Matrix\")\n",
        "print(CM)\n",
        "print(\"\")"
      ],
      "metadata": {
        "colab": {
          "base_uri": "https://localhost:8080/"
        },
        "id": "r0OBgrVDqkw2",
        "outputId": "1fc4b967-94c4-4e30-d801-7718d5ccf113"
      },
      "execution_count": 30,
      "outputs": [
        {
          "output_type": "stream",
          "name": "stdout",
          "text": [
            "Decision Tree model accuracy(in %): 96.68874172185431\n",
            "\n",
            "Confusion Matrix\n",
            "[[27  0  0 ...  0  0  0]\n",
            " [ 0 26  0 ...  0  0  1]\n",
            " [ 0  0 19 ...  0  0  0]\n",
            " ...\n",
            " [ 0  0  0 ... 16  0  0]\n",
            " [ 0  0  0 ...  0 21  0]\n",
            " [ 0  0  0 ...  0  0 27]]\n",
            "\n",
            "time: 1min 40s (started: 2022-06-27 06:42:40 +00:00)\n"
          ]
        }
      ]
    },
    {
      "cell_type": "code",
      "source": [
        "FP = CM[0][1] \n",
        "FN = CM[1][0]\n",
        "TP = CM[1][1]\n",
        "TN = CM[0][0]\n",
        "# Overall accuracy\n",
        "ACC = (TP+TN)/(TP+FP+FN+TN)\n",
        "# Precision\n",
        "PR = (TP)/(TP+FP)\n",
        "# Recall\n",
        "RE = (TP)/(TP+FN)\n",
        "# F1 Score\n",
        "F1 = (PR*RE)/(PR+RE)\n",
        "\n",
        "print(\"Jumlah False Positive = \" + str(FP))\n",
        "print(\"Jumlah False Negative = \" + str(FN))\n",
        "print(\"Jumlah True Positive = \" + str(TP))\n",
        "print(\"Jumlah True Negative = \" + str(TN))\n",
        "print(\"\")\n",
        "print(\"Accuracy : \" + str(round(ACC,2)))\n",
        "print(\"Precision : \" + str(round(PR,2)))\n",
        "print(\"Recall : \" + str(round(RE,2)))\n",
        "print(\"F1 Score : \" + str(round(F1,2)))\n",
        "print(\"\")"
      ],
      "metadata": {
        "colab": {
          "base_uri": "https://localhost:8080/"
        },
        "id": "hrnX7ygITA4r",
        "outputId": "e11fde23-e4a7-4a06-ee7b-41ad623330f8"
      },
      "execution_count": 14,
      "outputs": [
        {
          "output_type": "stream",
          "name": "stdout",
          "text": [
            "Jumlah False Positive = 0\n",
            "Jumlah False Negative = 0\n",
            "Jumlah True Positive = 26\n",
            "Jumlah True Negative = 27\n",
            "\n",
            "Accuracy : 1.0\n",
            "Precision : 1.0\n",
            "Recall : 1.0\n",
            "F1 Score : 0.5\n",
            "\n",
            "time: 10 ms (started: 2022-06-27 05:30:42 +00:00)\n"
          ]
        }
      ]
    },
    {
      "cell_type": "markdown",
      "source": [
        "##K-Nearest Neighbors"
      ],
      "metadata": {
        "id": "kCno7Ybmp2QO"
      }
    },
    {
      "cell_type": "code",
      "source": [
        "from sklearn.neighbors import KNeighborsClassifier\n",
        "\n",
        "KNNVal = 0\n",
        "\n",
        "for i in range(1, 16):\n",
        "  knn = KNeighborsClassifier(n_neighbors=i, metric='manhattan')\n",
        "  knn.fit(X_train, y_train)\n",
        "  y_pred = knn.predict(X_test)\n",
        "  KNNVal = accuracy_score(y_test, y_pred)*100\n",
        "  print('K=', i, 'Accuracy Score(in %):', KNNVal)\n",
        "\n",
        "print(\"\")\n",
        "\n",
        "knn = KNeighborsClassifier(n_neighbors=1, metric='manhattan')\n",
        "knn.fit(X_train, y_train)\n",
        "y_pred = knn.predict(X_test)\n",
        "\n",
        "CM = confusion_matrix(y_pred, y_test)\n",
        "print(\"Confusion Matrix\")\n",
        "print(CM)\n",
        "print(\"\")"
      ],
      "metadata": {
        "colab": {
          "base_uri": "https://localhost:8080/"
        },
        "id": "XgGmRjFHs-D3",
        "outputId": "a46837d0-7959-42a2-b33b-aeb997a0d296"
      },
      "execution_count": 15,
      "outputs": [
        {
          "output_type": "stream",
          "name": "stdout",
          "text": [
            "K= 1 Accuracy Score(in %): 98.1456953642384\n",
            "K= 2 Accuracy Score(in %): 95.09933774834437\n",
            "K= 3 Accuracy Score(in %): 93.24503311258279\n",
            "K= 4 Accuracy Score(in %): 92.8476821192053\n",
            "K= 5 Accuracy Score(in %): 90.19867549668874\n",
            "K= 6 Accuracy Score(in %): 89.93377483443709\n",
            "K= 7 Accuracy Score(in %): 88.0794701986755\n",
            "K= 8 Accuracy Score(in %): 87.41721854304636\n",
            "K= 9 Accuracy Score(in %): 86.35761589403972\n",
            "K= 10 Accuracy Score(in %): 84.10596026490066\n",
            "K= 11 Accuracy Score(in %): 84.63576158940397\n",
            "K= 12 Accuracy Score(in %): 84.90066225165563\n",
            "K= 13 Accuracy Score(in %): 84.37086092715231\n",
            "K= 14 Accuracy Score(in %): 83.3112582781457\n",
            "K= 15 Accuracy Score(in %): 83.57615894039735\n",
            "\n",
            "Confusion Matrix\n",
            "[[29  0  0 ...  0  0  0]\n",
            " [ 0 25  0 ...  0  0  0]\n",
            " [ 0  0 19 ...  0  0  0]\n",
            " ...\n",
            " [ 0  0  0 ... 17  0  0]\n",
            " [ 0  0  0 ...  0 21  0]\n",
            " [ 0  1  0 ...  0  0 28]]\n",
            "\n",
            "time: 16min 42s (started: 2022-06-27 05:30:42 +00:00)\n"
          ]
        }
      ]
    },
    {
      "cell_type": "code",
      "source": [
        "FP = CM[0][1] \n",
        "FN = CM[1][0]\n",
        "TP = CM[1][1]\n",
        "TN = CM[0][0]\n",
        "# Overall accuracy\n",
        "ACC = (TP+TN)/(TP+FP+FN+TN)\n",
        "# Precision\n",
        "PR = (TP)/(TP+FP)\n",
        "# Recall\n",
        "RE = (TP)/(TP+FN)\n",
        "# F1 Score\n",
        "F1 = (PR*RE)/(PR+RE)\n",
        "\n",
        "print(\"Jumlah False Positive = \" + str(FP))\n",
        "print(\"Jumlah False Negative = \" + str(FN))\n",
        "print(\"Jumlah True Positive = \" + str(TP))\n",
        "print(\"Jumlah True Negative = \" + str(TN))\n",
        "print(\"\")\n",
        "print(\"Accuracy : \" + str(round(ACC,2)))\n",
        "print(\"Precision : \" + str(round(PR,2)))\n",
        "print(\"Recall : \" + str(round(RE,2)))\n",
        "print(\"F1 Score : \" + str(round(F1,2)))\n",
        "print(\"\")"
      ],
      "metadata": {
        "colab": {
          "base_uri": "https://localhost:8080/"
        },
        "id": "AouHHsAPTrfu",
        "outputId": "fce7c6e5-3fbd-4597-f927-0feb59e99ad5"
      },
      "execution_count": 16,
      "outputs": [
        {
          "output_type": "stream",
          "name": "stdout",
          "text": [
            "Jumlah False Positive = 0\n",
            "Jumlah False Negative = 0\n",
            "Jumlah True Positive = 25\n",
            "Jumlah True Negative = 29\n",
            "\n",
            "Accuracy : 1.0\n",
            "Precision : 1.0\n",
            "Recall : 1.0\n",
            "F1 Score : 0.5\n",
            "\n",
            "time: 11.3 ms (started: 2022-06-27 05:47:24 +00:00)\n"
          ]
        }
      ]
    },
    {
      "cell_type": "markdown",
      "source": [
        "##SVM"
      ],
      "metadata": {
        "id": "VpgoBfykuMRW"
      }
    },
    {
      "cell_type": "code",
      "source": [
        "#Classify the image using SVM Classifier\n",
        "from sklearn import svm\n",
        "#Createasvm Classifier\n",
        "clf=svm.SVC(kernel='linear')#Linear Kernel\n",
        "#Train the model using the training sets\n",
        "clf.fit(X_train,y_train)\n",
        "#Predict the response for test dataset\n",
        "y_pred=clf.predict(X_test)\n",
        "\n",
        "SVMVal = accuracy_score(y_test,y_pred)*100\n",
        "print(\"Accuracy Score (in %):\", SVMVal)\n",
        "print(\"\")\n",
        "\n",
        "CM = confusion_matrix(y_pred, y_test)\n",
        "print(\"Confusion Matrix\")\n",
        "print(CM)\n",
        "print(\"\")"
      ],
      "metadata": {
        "colab": {
          "base_uri": "https://localhost:8080/"
        },
        "id": "tsXE4XvkBbl8",
        "outputId": "82045cbb-0be1-43f3-d4c3-c90513163b1f"
      },
      "execution_count": 17,
      "outputs": [
        {
          "output_type": "stream",
          "name": "stdout",
          "text": [
            "Accuracy Score (in %): 98.01324503311258\n",
            "\n",
            "Confusion Matrix\n",
            "[[29  0  0 ...  0  0  0]\n",
            " [ 0 26  0 ...  0  0  0]\n",
            " [ 0  0 19 ...  0  0  0]\n",
            " ...\n",
            " [ 0  0  0 ... 17  0  0]\n",
            " [ 0  0  0 ...  0 21  0]\n",
            " [ 0  0  0 ...  0  0 28]]\n",
            "\n",
            "time: 1min 30s (started: 2022-06-27 05:47:24 +00:00)\n"
          ]
        }
      ]
    },
    {
      "cell_type": "code",
      "source": [
        "FP = CM[0][1] \n",
        "FN = CM[1][0]\n",
        "TP = CM[1][1]\n",
        "TN = CM[0][0]\n",
        "# Overall accuracy\n",
        "ACC = (TP+TN)/(TP+FP+FN+TN)\n",
        "# Precision\n",
        "PR = (TP)/(TP+FP)\n",
        "# Recall\n",
        "RE = (TP)/(TP+FN)\n",
        "# F1 Score\n",
        "F1 = (PR*RE)/(PR+RE)\n",
        "\n",
        "print(\"Jumlah False Positive = \" + str(FP))\n",
        "print(\"Jumlah False Negative = \" + str(FN))\n",
        "print(\"Jumlah True Positive = \" + str(TP))\n",
        "print(\"Jumlah True Negative = \" + str(TN))\n",
        "print(\"\")\n",
        "print(\"Accuracy : \" + str(round(ACC,2)))\n",
        "print(\"Precision : \" + str(round(PR,2)))\n",
        "print(\"Recall : \" + str(round(RE,2)))\n",
        "print(\"F1 Score : \" + str(round(F1,2)))\n",
        "print(\"\")"
      ],
      "metadata": {
        "colab": {
          "base_uri": "https://localhost:8080/"
        },
        "id": "CVeVx-KsuTMU",
        "outputId": "798d3be1-a560-442f-d986-fbad812227ac"
      },
      "execution_count": 18,
      "outputs": [
        {
          "output_type": "stream",
          "name": "stdout",
          "text": [
            "Jumlah False Positive = 0\n",
            "Jumlah False Negative = 0\n",
            "Jumlah True Positive = 26\n",
            "Jumlah True Negative = 29\n",
            "\n",
            "Accuracy : 1.0\n",
            "Precision : 1.0\n",
            "Recall : 1.0\n",
            "F1 Score : 0.5\n",
            "\n",
            "time: 31.6 ms (started: 2022-06-27 05:48:55 +00:00)\n"
          ]
        }
      ]
    },
    {
      "cell_type": "markdown",
      "source": [
        "##K-Fold Cross Validation\n"
      ],
      "metadata": {
        "id": "nPMqn1hyw5bb"
      }
    },
    {
      "cell_type": "code",
      "source": [
        "from sklearn.model_selection import cross_val_score\n",
        "from sklearn import tree\n",
        "\n",
        "dt = tree.DecisionTreeClassifier(max_depth=3) #build\n",
        "dt_cvs = cross_val_score(dt, X, y, cv=5).mean()\n",
        "print(dt_cvs)"
      ],
      "metadata": {
        "colab": {
          "base_uri": "https://localhost:8080/"
        },
        "id": "O2R690mcuxeC",
        "outputId": "fb39a2fd-9614-408c-910c-4ef5150defda"
      },
      "execution_count": 19,
      "outputs": [
        {
          "output_type": "stream",
          "name": "stdout",
          "text": [
            "0.12246520874751492\n",
            "time: 1min 17s (started: 2022-06-27 05:48:55 +00:00)\n"
          ]
        }
      ]
    },
    {
      "cell_type": "code",
      "source": [
        "from sklearn import ensemble\n",
        "\n",
        "rf = ensemble.RandomForestClassifier(n_estimators=100)\n",
        "rf_cvs = cross_val_score(rf, X, y, cv=5).mean()\n",
        "print(rf_cvs)"
      ],
      "metadata": {
        "colab": {
          "base_uri": "https://localhost:8080/"
        },
        "id": "4_CwN38Mux2a",
        "outputId": "1ea5a38a-1515-42da-a9f1-98df5cf9f5f4"
      },
      "execution_count": 20,
      "outputs": [
        {
          "output_type": "stream",
          "name": "stdout",
          "text": [
            "0.9634194831013916\n",
            "time: 1min 31s (started: 2022-06-27 05:50:12 +00:00)\n"
          ]
        }
      ]
    },
    {
      "cell_type": "code",
      "source": [
        "from sklearn.naive_bayes import GaussianNB\n",
        "nb = GaussianNB()\n",
        "nb_cvs = cross_val_score(nb, X, y, cv=5).mean()\n",
        "print(nb_cvs)"
      ],
      "metadata": {
        "colab": {
          "base_uri": "https://localhost:8080/"
        },
        "id": "NRPKQzL2ux5v",
        "outputId": "27c4f177-cfa2-4516-d989-a9967fce80da"
      },
      "execution_count": 21,
      "outputs": [
        {
          "output_type": "stream",
          "name": "stdout",
          "text": [
            "0.6508946322067595\n",
            "time: 31.2 s (started: 2022-06-27 05:51:44 +00:00)\n"
          ]
        }
      ]
    },
    {
      "cell_type": "code",
      "source": [
        "from sklearn.neighbors import KNeighborsClassifier\n",
        "\n",
        "knn1 = KNeighborsClassifier(n_neighbors=1, metric='manhattan') #0.9809145129224653\n",
        "# knn2 = KNeighborsClassifier(n_neighbors=1, metric='euclidean') #0.9801192842942346\n",
        "# knn3 = KNeighborsClassifier(n_neighbors=1, metric='minkowski') #0.9801192842942346\n",
        "# knn4 = KNeighborsClassifier(n_neighbors=1, metric='chebyshev') #0.7797216699801193\n",
        "knn_cvs1 = cross_val_score(knn1, X, y, cv=5).mean()\n",
        "# knn_cvs2 = cross_val_score(knn2, X, y, cv=5).mean()\n",
        "# knn_cvs3 = cross_val_score(knn3, X, y, cv=5).mean()\n",
        "# knn_cvs4 = cross_val_score(knn4, X, y, cv=5).mean()\n",
        "print(knn_cvs1)\n",
        "#print(knn_cvs2)\n",
        "#print(knn_cvs3)\n",
        "#print(knn_cvs4)"
      ],
      "metadata": {
        "colab": {
          "base_uri": "https://localhost:8080/"
        },
        "id": "xARS4pgnuyN2",
        "outputId": "eab22c58-c960-4d91-8ef6-8bf6c685c704"
      },
      "execution_count": 22,
      "outputs": [
        {
          "output_type": "stream",
          "name": "stdout",
          "text": [
            "0.9809145129224653\n",
            "time: 4min 41s (started: 2022-06-27 05:52:15 +00:00)\n"
          ]
        }
      ]
    },
    {
      "cell_type": "code",
      "source": [
        "from sklearn import svm\n",
        "\n",
        "#svm1 = svm.SVC(kernel='rbf') #0.9487077534791253\n",
        "#svm2 = svm.SVC(kernel='poly') #0.9685884691848907\n",
        "svm3 = svm.SVC(kernel='linear') #0.9765407554671969\n",
        "#svm4 = svm.SVC(kernel='sigmoid') #0.8011928429423459\n",
        "\n",
        "#svm_cvs1 = cross_val_score(svm1, X, y, cv=5).mean()\n",
        "#svm_cvs2 = cross_val_score(svm2, X, y, cv=5).mean()\n",
        "svm_cvs3 = cross_val_score(svm3, X, y, cv=5).mean()\n",
        "#svm_cvs4 = cross_val_score(svm4, X, y, cv=5).mean()\n",
        "#print(svm_cvs1)\n",
        "#print(svm_cvs2)\n",
        "print(svm_cvs3)\n",
        "#print(svm_cvs4)"
      ],
      "metadata": {
        "colab": {
          "base_uri": "https://localhost:8080/"
        },
        "id": "xiCZdyd8vcLh",
        "outputId": "6bc10ed2-772a-4db2-de32-1baad701981d"
      },
      "execution_count": 23,
      "outputs": [
        {
          "output_type": "stream",
          "name": "stdout",
          "text": [
            "0.9765407554671967\n",
            "time: 7min 41s (started: 2022-06-27 05:56:56 +00:00)\n"
          ]
        }
      ]
    },
    {
      "cell_type": "code",
      "source": [
        "import matplotlib.pyplot as plt\n",
        "\n",
        "# labels for bars\n",
        "x = ['GNB', 'RF', 'DT', 'KNN', 'SVM']\n",
        "\n",
        "# heights of bars\n",
        "y = [round(nb_cvs,3), round(rf_cvs,3), round(dt_cvs,3), round(knn_cvs1,3), round(svm_cvs3,3)]\n",
        " \n",
        "# plotting a bar chart\n",
        "plt.bar(x, y)\n",
        "\n",
        "# add value labels\n",
        "for i in range(len(x)):\n",
        "  plt.text(i, y[i], y[i], ha=\"center\", va=\"bottom\")\n",
        "\n",
        "# plot title\n",
        "# plt.title('Perbandingan Cross Validation Score untuk tiap jenis Classifier', fontsize=14)\n",
        "# naming the x-axis\n",
        "plt.xlabel('Jenis Classifier', fontsize=14)\n",
        "# naming the y-axis\n",
        "plt.ylabel('Cross Validation Score', fontsize=14)\n",
        "\n",
        "plt.ylim(0,1)\n",
        "\n",
        "plt.grid(True)\n",
        "# function to show the plot\n",
        "plt.show()"
      ],
      "metadata": {
        "colab": {
          "base_uri": "https://localhost:8080/",
          "height": 306
        },
        "id": "FdqwtNLhw_-m",
        "outputId": "6d7e7dff-36c1-4a58-ffdb-5aef00d3b908"
      },
      "execution_count": 24,
      "outputs": [
        {
          "output_type": "display_data",
          "data": {
            "text/plain": [
              "<Figure size 432x288 with 1 Axes>"
            ],
            "image/png": "[encoded data removed]"
          },
          "metadata": {
            "needs_background": "light"
          }
        },
        {
          "output_type": "stream",
          "name": "stdout",
          "text": [
            "time: 204 ms (started: 2022-06-27 06:04:37 +00:00)\n"
          ]
        }
      ]
    },
    {
      "cell_type": "markdown",
      "source": [
        "#Testing"
      ],
      "metadata": {
        "id": "auNOiBWZpzEC"
      }
    },
    {
      "cell_type": "code",
      "source": [
        "def load_single_image_files(path):\n",
        "    images = []\n",
        "    img = cv2.imread(path)\n",
        "    # smoothing\n",
        "    img_pred = cv2.GaussianBlur(img, (5, 5), 0)\n",
        "    # sharpening\n",
        "    kernel = np.array([[-1,-1,-1], \n",
        "                       [-1,9,-1], \n",
        "                       [-1,-1,-1]])\n",
        "    img_pred = cv2.filter2D(img_pred, -1, kernel)\n",
        "    # resize\n",
        "    img_pred = cv2.resize(img, (128, 128), interpolation = cv2.INTER_AREA)\n",
        "    # ubah rentang pixel yang awalnya 0 - 255 menjadi 0 - 1 (tidak dilakukan juga gapapa)\n",
        "    img_pred = img_pred / 255\n",
        "    # algoritma nearest neighbour bekerja pada 1 dimensi\n",
        "    # ada 3 perkalian karena gambar berwarna, punya 3 channel rgb\n",
        "    img_pred = img_pred.reshape(img_pred.shape[0] * img_pred.shape[1] * img_pred.shape[2])\n",
        "    \n",
        "    # masukkan ke list images\n",
        "    images.append(img_pred)\n",
        "    \n",
        "    X = np.array(images)\n",
        "    return X"
      ],
      "metadata": {
        "id": "2PryUghWvt4G",
        "colab": {
          "base_uri": "https://localhost:8080/"
        },
        "outputId": "0b4cde31-e758-4d70-a231-a2c882092c6d"
      },
      "execution_count": 25,
      "outputs": [
        {
          "output_type": "stream",
          "name": "stdout",
          "text": [
            "time: 13.4 ms (started: 2022-06-27 06:04:38 +00:00)\n"
          ]
        }
      ]
    },
    {
      "cell_type": "code",
      "source": [
        "from matplotlib import image\n",
        "from google.colab import files\n",
        "uploaded = files.upload()\n",
        "\n",
        "for fn in uploaded.keys():\n",
        "  #Predicting images\n",
        "  path = fn\n",
        "\n",
        "  X_single = load_single_image_files(path)\n",
        "\n",
        "  img =  cv2.imread(path)\n",
        "  imgshow = cv2.cvtColor(img, cv2.COLOR_BGR2RGB)\n",
        "  imgplot = plt.imshow(imgshow)\n",
        "\n",
        "  print(\"\")\n",
        "\n",
        "  nb_pred_single = gnb.predict(X_single)\n",
        "  print(\"Prediksi menggunakan Gaussian Naive Bayes\")\n",
        "  print(nb_pred_single)\n",
        "\n",
        "  print(\"\")\n",
        "\n",
        "  rf_pred_single = rf.predict(X_single)\n",
        "  print(\"Prediksi menggunakan Random Forest\")\n",
        "  print(rf_pred_single)\n",
        "\n",
        "  print(\"\")\n",
        "  \n",
        "  dt_pred_single = DTprediction(X_single, clf_gini)\n",
        "  print(\"Prediksi menggunakan DT (Decission Tree) Classifier\")\n",
        "  print(dt_pred_single)\n",
        "\n",
        "  print(\"\")\n",
        "\n",
        "  knn_pred_single = knn.predict(X_single)\n",
        "  print(\"Prediksi menggunakan K-Nearest Neighbor\")\n",
        "  print(knn_pred_single)\n",
        "\n",
        "  print(\"\")\n",
        "\n",
        "  svm_pred_single = clf.predict(X_single)\n",
        "  print(\"Prediksi menggunakan SVM (Support Vector Machine) Classifier\")\n",
        "  print(svm_pred_single)\n",
        "\n",
        "  print(\"\")"
      ],
      "metadata": {
        "colab": {
          "resources": {
            "http://localhost:8080/nbextensions/google.colab/files.js": {
              "data": "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",
              "ok": true,
              "headers": [
                [
                  "content-type",
                  "application/javascript"
                ]
              ],
              "status": 200,
              "status_text": ""
            }
          },
          "base_uri": "https://localhost:8080/",
          "height": 620
        },
        "id": "jkKWlEtxprsS",
        "outputId": "19acdbd6-b748-4523-b7c9-3d7c0a5ead8e"
      },
      "execution_count": 37,
      "outputs": [
        {
          "output_type": "display_data",
          "data": {
            "text/plain": [
              "<IPython.core.display.HTML object>"
            ],
            "text/html": [
              "\n",
              "     <input type=\"file\" id=\"files-5f2f719d-3a70-4259-a3ff-f1cbf63e8802\" name=\"files[]\" multiple disabled\n",
              "        style=\"border:none\" />\n",
              "     <output id=\"result-5f2f719d-3a70-4259-a3ff-f1cbf63e8802\">\n",
              "      Upload widget is only available when the cell has been executed in the\n",
              "      current browser session. Please rerun this cell to enable.\n",
              "      </output>\n",
              "      <script src=\"/nbextensions/google.colab/files.js\"></script> "
            ]
          },
          "metadata": {}
        },
        {
          "output_type": "stream",
          "name": "stdout",
          "text": [
            "Saving hand1_9_bot_seg_1_cropped.jpeg to hand1_9_bot_seg_1_cropped.jpeg\n",
            "\n",
            "Prediksi menggunakan Gaussian Naive Bayes\n",
            "['9']\n",
            "\n",
            "Prediksi menggunakan Random Forest\n",
            "['9']\n",
            "\n",
            "Prediksi menggunakan DT (Decission Tree) Classifier\n",
            "['9']\n",
            "\n",
            "Prediksi menggunakan K-Nearest Neighbor\n",
            "['9']\n",
            "\n",
            "Prediksi menggunakan SVM (Support Vector Machine) Classifier\n",
            "['9']\n",
            "\n"
          ]
        },
        {
          "output_type": "display_data",
          "data": {
            "text/plain": [
              "<Figure size 432x288 with 1 Axes>"
            ],
            "image/png": "[encoded data removed]"
          },
          "metadata": {
            "needs_background": "light"
          }
        },
        {
          "output_type": "stream",
          "name": "stdout",
          "text": [
            "time: 17.2 s (started: 2022-06-27 06:49:38 +00:00)\n"
          ]
        }
      ]
    }
  ]
}